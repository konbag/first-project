{
 "cells": [
  {
   "cell_type": "markdown",
   "metadata": {
    "id": "sIfNaMOxgFyK"
   },
   "source": [
    "## Исследование данных о российском кинопрокате\n",
    "\n"
   ]
  },
  {
   "cell_type": "markdown",
   "metadata": {},
   "source": [
    "<div class=\"alert alert-warning\">\n",
    "    \n",
    "<b> Комментарий от ревьюера</b>\n",
    "    \n",
    "В начале работы стоит добавить описание проекта, чтобы твои коллеги понимали цели исследования. Это поможет и тебе, если ты вернешься к проекту спустя время.\n",
    "    \n",
    "Еще сюда можно добавить описание данных и оглавление. Описание поможет быстрее разобраться, что у нас лежит в датафрейме, а оглавление позволит понять охваченные вопросы и поможет сразу перейти к нужному разделу.\n",
    "</div>\n"
   ]
  },
  {
   "cell_type": "markdown",
   "metadata": {},
   "source": [
    "Заказчик этого исследования — Министерство культуры Российской Федерации.\n",
    "Вам нужно изучить рынок российского кинопроката и выявить текущие тренды. Уделите внимание фильмам, которые получили государственную поддержку. Попробуйте ответить на вопрос, насколько такие фильмы интересны зрителю.\n",
    "Вы будете работать с данными, опубликованными на портале открытых данных Министерства культуры. Набор данных содержит информацию о прокатных удостоверениях, сборах и государственной поддержке фильмов, а также информацию с сайта КиноПоиск.\n",
    "\n",
    "Datasets are^\n",
    "mkrf_movies.csv — данные о прокатных удостоверениях.\n",
    "mkrf_shows.csv — данные о прокате в российских кинотеатрах.\n",
    "\n",
    "\n",
    "Datasets description\n",
    "\n",
    "Таблица mkrf_movies содержит информацию из реестра прокатных удостоверений. У одного фильма может быть несколько прокатных удостоверений.\n",
    "\n",
    "  - `title` — название фильма\n",
    "  - `puNumber` — номер прокатного удостоверения\n",
    "  - `show_start_date` — дата премьеры фильма\n",
    "  - `type` — тип фильма\n",
    "  - `film_studio` — студия-производитель\n",
    "  - `production_country` — страна-производитель\n",
    "  - `director` — режиссёр\n",
    "  - `producer` — продюсер\n",
    "  - `age_restriction` — возрастная категория\n",
    "  - `refundable_support` — объём возвратных средств государственной поддержки\n",
    "  - `nonrefundable_support` — объём невозвратных средств государственной поддержки\n",
    "  - `financing_source` — источник государственного финансирования\n",
    "  - `budget` — общий бюджет фильма\n",
    "  - `ratings` — рейтинг фильма на КиноПоиске\n",
    "  - `genres` — жанр фильма\n",
    "\n",
    "Обратите внимание, что столбец budget уже включает в себя полный объём государственной поддержки. Данные в этом столбце указаны только для тех фильмов, которые получили государственную поддержку.\n",
    "\n",
    "Таблица mkrf_shows содержит сведения о показах фильмов в российских кинотеатрах.\n",
    "\n",
    "  - `puNumber` — номер прокатного удостоверения\n",
    "  - `box_office` — сборы в рублях"
   ]
  },
  {
   "cell_type": "markdown",
   "metadata": {
    "id": "3bSlkCsbgFyL"
   },
   "source": [
    "### Шаг 1. Opening files with data and merging them\n",
    "\n",
    "Объедините данные таким образом, чтобы все объекты из датасета `mkrf_movies` обязательно вошли в получившийся датафрейм. \n"
   ]
  },
  {
   "cell_type": "code",
   "execution_count": 1,
   "metadata": {
    "id": "dw87FlzMgFyM"
   },
   "outputs": [],
   "source": [
    "import pandas as pd\n",
    "import matplotlib.pyplot as plt"
   ]
  },
  {
   "cell_type": "markdown",
   "metadata": {},
   "source": [
    "Импортируем данные о прокатных удостоверениях фильмов и о сборах в российских кинотеатрах. После предварительного анализа данных в этих файлах объединим данные в один датасет таким образом, чтобы все данные о прокатных удостоверениях присутствовали."
   ]
  },
  {
   "cell_type": "code",
   "execution_count": 2,
   "metadata": {},
   "outputs": [],
   "source": [
    "data_movies = pd.read_csv('/datasets/mkrf_movies.csv')"
   ]
  },
  {
   "cell_type": "code",
   "execution_count": 3,
   "metadata": {
    "scrolled": true
   },
   "outputs": [
    {
     "data": {
      "text/html": [
       "<div>\n",
       "<style scoped>\n",
       "    .dataframe tbody tr th:only-of-type {\n",
       "        vertical-align: middle;\n",
       "    }\n",
       "\n",
       "    .dataframe tbody tr th {\n",
       "        vertical-align: top;\n",
       "    }\n",
       "\n",
       "    .dataframe thead th {\n",
       "        text-align: right;\n",
       "    }\n",
       "</style>\n",
       "<table border=\"1\" class=\"dataframe\">\n",
       "  <thead>\n",
       "    <tr style=\"text-align: right;\">\n",
       "      <th></th>\n",
       "      <th>title</th>\n",
       "      <th>puNumber</th>\n",
       "      <th>show_start_date</th>\n",
       "      <th>type</th>\n",
       "      <th>film_studio</th>\n",
       "      <th>production_country</th>\n",
       "      <th>director</th>\n",
       "      <th>producer</th>\n",
       "      <th>age_restriction</th>\n",
       "      <th>refundable_support</th>\n",
       "      <th>nonrefundable_support</th>\n",
       "      <th>budget</th>\n",
       "      <th>financing_source</th>\n",
       "      <th>ratings</th>\n",
       "      <th>genres</th>\n",
       "    </tr>\n",
       "  </thead>\n",
       "  <tbody>\n",
       "    <tr>\n",
       "      <th>0</th>\n",
       "      <td>Открытый простор</td>\n",
       "      <td>221048915</td>\n",
       "      <td>2015-11-27T12:00:00.000Z</td>\n",
       "      <td>Художественный</td>\n",
       "      <td>Тачстоун Пикчерз, Кобальт Пикчерз, Бикон Пикче...</td>\n",
       "      <td>США</td>\n",
       "      <td>Кевин Костнер</td>\n",
       "      <td>Дэвид Валдес, Кевин Костнер, Джейк Эбертс</td>\n",
       "      <td>«18+» - запрещено для детей</td>\n",
       "      <td>NaN</td>\n",
       "      <td>NaN</td>\n",
       "      <td>NaN</td>\n",
       "      <td>NaN</td>\n",
       "      <td>7.2</td>\n",
       "      <td>боевик,драма,мелодрама</td>\n",
       "    </tr>\n",
       "    <tr>\n",
       "      <th>1</th>\n",
       "      <td>Особо важное задание</td>\n",
       "      <td>111013716</td>\n",
       "      <td>2016-09-13T12:00:00.000Z</td>\n",
       "      <td>Художественный</td>\n",
       "      <td>Киностудия \"Мосфильм\"</td>\n",
       "      <td>СССР</td>\n",
       "      <td>Е.Матвеев</td>\n",
       "      <td>NaN</td>\n",
       "      <td>«6+» - для детей старше 6 лет</td>\n",
       "      <td>NaN</td>\n",
       "      <td>NaN</td>\n",
       "      <td>NaN</td>\n",
       "      <td>NaN</td>\n",
       "      <td>6.6</td>\n",
       "      <td>драма,военный</td>\n",
       "    </tr>\n",
       "  </tbody>\n",
       "</table>\n",
       "</div>"
      ],
      "text/plain": [
       "                  title   puNumber           show_start_date            type  \\\n",
       "0      Открытый простор  221048915  2015-11-27T12:00:00.000Z  Художественный   \n",
       "1  Особо важное задание  111013716  2016-09-13T12:00:00.000Z  Художественный   \n",
       "\n",
       "                                         film_studio production_country  \\\n",
       "0  Тачстоун Пикчерз, Кобальт Пикчерз, Бикон Пикче...                США   \n",
       "1                              Киностудия \"Мосфильм\"               СССР   \n",
       "\n",
       "        director                                   producer  \\\n",
       "0  Кевин Костнер  Дэвид Валдес, Кевин Костнер, Джейк Эбертс   \n",
       "1      Е.Матвеев                                        NaN   \n",
       "\n",
       "                 age_restriction  refundable_support  nonrefundable_support  \\\n",
       "0    «18+» - запрещено для детей                 NaN                    NaN   \n",
       "1  «6+» - для детей старше 6 лет                 NaN                    NaN   \n",
       "\n",
       "   budget financing_source ratings                  genres  \n",
       "0     NaN              NaN     7.2  боевик,драма,мелодрама  \n",
       "1     NaN              NaN     6.6           драма,военный  "
      ]
     },
     "execution_count": 3,
     "metadata": {},
     "output_type": "execute_result"
    }
   ],
   "source": [
    "data_movies.head(2)"
   ]
  },
  {
   "cell_type": "code",
   "execution_count": 4,
   "metadata": {},
   "outputs": [
    {
     "name": "stdout",
     "output_type": "stream",
     "text": [
      "<class 'pandas.core.frame.DataFrame'>\n",
      "RangeIndex: 7486 entries, 0 to 7485\n",
      "Data columns (total 15 columns):\n",
      " #   Column                 Non-Null Count  Dtype  \n",
      "---  ------                 --------------  -----  \n",
      " 0   title                  7486 non-null   object \n",
      " 1   puNumber               7486 non-null   object \n",
      " 2   show_start_date        7486 non-null   object \n",
      " 3   type                   7486 non-null   object \n",
      " 4   film_studio            7468 non-null   object \n",
      " 5   production_country     7484 non-null   object \n",
      " 6   director               7477 non-null   object \n",
      " 7   producer               6918 non-null   object \n",
      " 8   age_restriction        7486 non-null   object \n",
      " 9   refundable_support     332 non-null    float64\n",
      " 10  nonrefundable_support  332 non-null    float64\n",
      " 11  budget                 332 non-null    float64\n",
      " 12  financing_source       332 non-null    object \n",
      " 13  ratings                6519 non-null   object \n",
      " 14  genres                 6510 non-null   object \n",
      "dtypes: float64(3), object(12)\n",
      "memory usage: 877.4+ KB\n"
     ]
    }
   ],
   "source": [
    "data_movies.info()"
   ]
  },
  {
   "cell_type": "markdown",
   "metadata": {},
   "source": [
    "Total number of recods is 7486. В полях *Студия, выпустившая фильм*, *страна*, *режиссер*, *продюсер*, *рейтинг* и *жанр* есть незначительные пропуски значений.\n",
    "Значительные пропуски данных наблюдаются в разделах, касающихся финансовых показателей (объем и вид господдержки, бюджет фильма).\n",
    "\n",
    "Посмотрим на показатели проката в российских кинотеатрах"
   ]
  },
  {
   "cell_type": "code",
   "execution_count": 5,
   "metadata": {},
   "outputs": [],
   "source": [
    "data_shows = pd.read_csv('/datasets/mkrf_shows.csv')"
   ]
  },
  {
   "cell_type": "code",
   "execution_count": 6,
   "metadata": {},
   "outputs": [
    {
     "data": {
      "text/html": [
       "<div>\n",
       "<style scoped>\n",
       "    .dataframe tbody tr th:only-of-type {\n",
       "        vertical-align: middle;\n",
       "    }\n",
       "\n",
       "    .dataframe tbody tr th {\n",
       "        vertical-align: top;\n",
       "    }\n",
       "\n",
       "    .dataframe thead th {\n",
       "        text-align: right;\n",
       "    }\n",
       "</style>\n",
       "<table border=\"1\" class=\"dataframe\">\n",
       "  <thead>\n",
       "    <tr style=\"text-align: right;\">\n",
       "      <th></th>\n",
       "      <th>puNumber</th>\n",
       "      <th>box_office</th>\n",
       "    </tr>\n",
       "  </thead>\n",
       "  <tbody>\n",
       "    <tr>\n",
       "      <th>0</th>\n",
       "      <td>111000113</td>\n",
       "      <td>2.450000e+03</td>\n",
       "    </tr>\n",
       "    <tr>\n",
       "      <th>1</th>\n",
       "      <td>111000115</td>\n",
       "      <td>6.104000e+04</td>\n",
       "    </tr>\n",
       "    <tr>\n",
       "      <th>2</th>\n",
       "      <td>111000116</td>\n",
       "      <td>1.530300e+08</td>\n",
       "    </tr>\n",
       "    <tr>\n",
       "      <th>3</th>\n",
       "      <td>111000117</td>\n",
       "      <td>1.226096e+07</td>\n",
       "    </tr>\n",
       "    <tr>\n",
       "      <th>4</th>\n",
       "      <td>111000118</td>\n",
       "      <td>1.636841e+08</td>\n",
       "    </tr>\n",
       "  </tbody>\n",
       "</table>\n",
       "</div>"
      ],
      "text/plain": [
       "    puNumber    box_office\n",
       "0  111000113  2.450000e+03\n",
       "1  111000115  6.104000e+04\n",
       "2  111000116  1.530300e+08\n",
       "3  111000117  1.226096e+07\n",
       "4  111000118  1.636841e+08"
      ]
     },
     "execution_count": 6,
     "metadata": {},
     "output_type": "execute_result"
    }
   ],
   "source": [
    "data_shows.head()"
   ]
  },
  {
   "cell_type": "code",
   "execution_count": 7,
   "metadata": {},
   "outputs": [
    {
     "name": "stdout",
     "output_type": "stream",
     "text": [
      "<class 'pandas.core.frame.DataFrame'>\n",
      "RangeIndex: 3158 entries, 0 to 3157\n",
      "Data columns (total 2 columns):\n",
      " #   Column      Non-Null Count  Dtype  \n",
      "---  ------      --------------  -----  \n",
      " 0   puNumber    3158 non-null   int64  \n",
      " 1   box_office  3158 non-null   float64\n",
      "dtypes: float64(1), int64(1)\n",
      "memory usage: 49.5 KB\n"
     ]
    }
   ],
   "source": [
    "data_shows.info()"
   ]
  },
  {
   "cell_type": "markdown",
   "metadata": {},
   "source": [
    "В данном наборе данных присутствет всего 3158 строк, что более чем в 2 раза меньше чем количество строк в наборе данных о прокатных удостоверениях.\n",
    "\n",
    "Объединим данные из двух датасетов в один."
   ]
  },
  {
   "cell_type": "markdown",
   "metadata": {},
   "source": [
    "<div class=\"alert alert-success\">\n",
    "    \n",
    "<b> Комментарий от ревьюера ✔️</b>\n",
    "    \n",
    "Здорово, что рассмотрел загруженные данные! Теперь мы уверены, что при импорте не возникло ошибок\n",
    "\n",
    "</div>"
   ]
  },
  {
   "cell_type": "markdown",
   "metadata": {},
   "source": [
    "Слияние будем проводить по данным столбца `puNumber`. Чтобы объединение было возможно, тип данных этого столбца в разных таблицах должен быть одинаковым. Для этого изменим тип данных в столбце `puNumber` набора данных data_movies с `obiect` на `int`\n",
    "\n",
    "Среди значений в столбце `puNumber` встречается значение `нет`. Посмотрим, сколько таких строк."
   ]
  },
  {
   "cell_type": "code",
   "execution_count": 8,
   "metadata": {},
   "outputs": [
    {
     "data": {
      "text/html": [
       "<div>\n",
       "<style scoped>\n",
       "    .dataframe tbody tr th:only-of-type {\n",
       "        vertical-align: middle;\n",
       "    }\n",
       "\n",
       "    .dataframe tbody tr th {\n",
       "        vertical-align: top;\n",
       "    }\n",
       "\n",
       "    .dataframe thead th {\n",
       "        text-align: right;\n",
       "    }\n",
       "</style>\n",
       "<table border=\"1\" class=\"dataframe\">\n",
       "  <thead>\n",
       "    <tr style=\"text-align: right;\">\n",
       "      <th></th>\n",
       "      <th>title</th>\n",
       "      <th>puNumber</th>\n",
       "      <th>show_start_date</th>\n",
       "      <th>type</th>\n",
       "      <th>film_studio</th>\n",
       "      <th>production_country</th>\n",
       "      <th>director</th>\n",
       "      <th>producer</th>\n",
       "      <th>age_restriction</th>\n",
       "      <th>refundable_support</th>\n",
       "      <th>nonrefundable_support</th>\n",
       "      <th>budget</th>\n",
       "      <th>financing_source</th>\n",
       "      <th>ratings</th>\n",
       "      <th>genres</th>\n",
       "    </tr>\n",
       "  </thead>\n",
       "  <tbody>\n",
       "    <tr>\n",
       "      <th>1797</th>\n",
       "      <td>Курбан-роман. (История с жертвой)</td>\n",
       "      <td>нет</td>\n",
       "      <td>2014-05-15T12:00:00.000Z</td>\n",
       "      <td>Художественный</td>\n",
       "      <td>ФОНД \"ИННОВАЦИЯ\"</td>\n",
       "      <td>Россия</td>\n",
       "      <td>С.Юзеев</td>\n",
       "      <td>М.Галицкая</td>\n",
       "      <td>«12+» - для детей старше 12 лет</td>\n",
       "      <td>NaN</td>\n",
       "      <td>NaN</td>\n",
       "      <td>NaN</td>\n",
       "      <td>NaN</td>\n",
       "      <td>NaN</td>\n",
       "      <td>NaN</td>\n",
       "    </tr>\n",
       "  </tbody>\n",
       "</table>\n",
       "</div>"
      ],
      "text/plain": [
       "                                  title puNumber           show_start_date  \\\n",
       "1797  Курбан-роман. (История с жертвой)      нет  2014-05-15T12:00:00.000Z   \n",
       "\n",
       "                type       film_studio production_country director  \\\n",
       "1797  Художественный  ФОНД \"ИННОВАЦИЯ\"             Россия  С.Юзеев   \n",
       "\n",
       "        producer                  age_restriction  refundable_support  \\\n",
       "1797  М.Галицкая  «12+» - для детей старше 12 лет                 NaN   \n",
       "\n",
       "      nonrefundable_support  budget financing_source ratings genres  \n",
       "1797                    NaN     NaN              NaN     NaN    NaN  "
      ]
     },
     "execution_count": 8,
     "metadata": {},
     "output_type": "execute_result"
    }
   ],
   "source": [
    "data_movies[data_movies['puNumber'] == 'нет']"
   ]
  },
  {
   "cell_type": "markdown",
   "metadata": {},
   "source": [
    "Это одна строка. Поскольку для данного фильма государственное финансирование не выделялось, для целей дальнейшего анализа данная строчка не важна и ее можно удалить."
   ]
  },
  {
   "cell_type": "markdown",
   "metadata": {},
   "source": [
    "<div class=\"alert alert-success\">\n",
    "    \n",
    "<b> Комментарий от ревьюера ✔️</b>\n",
    "    \n",
    "Мы ведь исследуем не только фильмы с гос.поддержкой, а в этой строке есть другая полезная информация (например, год выпуска, жанр или возрастной рейтинг). Одно строку можем удалить, но если бы их было больше, то стоило бы оставить в таблице.\n",
    "</div>"
   ]
  },
  {
   "cell_type": "markdown",
   "metadata": {},
   "source": [
    "<div class=\"alert alert-info\">\n",
    "\n",
    "Если бы фильмов было больше, надо было бы серьезно думать, как их помечать. Но по данному фильму у нас не много информации, кроме того, что такой фильм есть. Нет суммы кассовых сборов, во всяком случае мы на основании данного набора данных идентифицировать его не сможем. Нет ни бюджета, ни определения жанра (хотя это, конечно, мелкая проблема), ни рейтинга. Мне сложно представить анализ, в котором участвовала бы эта запись.\n",
    "\n",
    "</div>"
   ]
  },
  {
   "cell_type": "markdown",
   "metadata": {},
   "source": [
    "<div class=\"alert alert-success\">\n",
    "    \n",
    "<b> Комментарий от ревьюера 2 ✔️</b>\n",
    "\n",
    "👍\n",
    "\n",
    "</div>"
   ]
  },
  {
   "cell_type": "code",
   "execution_count": 9,
   "metadata": {},
   "outputs": [],
   "source": [
    "data_movies = data_movies.drop(index=(data_movies[data_movies['puNumber'] == 'нет'].index))"
   ]
  },
  {
   "cell_type": "code",
   "execution_count": 10,
   "metadata": {},
   "outputs": [],
   "source": [
    "data_movies.reset_index(drop=True, inplace=True) "
   ]
  },
  {
   "cell_type": "code",
   "execution_count": 11,
   "metadata": {},
   "outputs": [],
   "source": [
    "data_movies['puNumber'] = data_movies['puNumber'].astype('int')"
   ]
  },
  {
   "cell_type": "markdown",
   "metadata": {},
   "source": [
    "Прежде чем объединять два набора данных по ключу `puNumber` проверим не дублируется ли он где-то."
   ]
  },
  {
   "cell_type": "code",
   "execution_count": 12,
   "metadata": {},
   "outputs": [
    {
     "data": {
      "text/html": [
       "<div>\n",
       "<style scoped>\n",
       "    .dataframe tbody tr th:only-of-type {\n",
       "        vertical-align: middle;\n",
       "    }\n",
       "\n",
       "    .dataframe tbody tr th {\n",
       "        vertical-align: top;\n",
       "    }\n",
       "\n",
       "    .dataframe thead th {\n",
       "        text-align: right;\n",
       "    }\n",
       "</style>\n",
       "<table border=\"1\" class=\"dataframe\">\n",
       "  <thead>\n",
       "    <tr style=\"text-align: right;\">\n",
       "      <th></th>\n",
       "      <th>title</th>\n",
       "      <th>puNumber</th>\n",
       "      <th>show_start_date</th>\n",
       "      <th>type</th>\n",
       "      <th>film_studio</th>\n",
       "      <th>production_country</th>\n",
       "      <th>director</th>\n",
       "      <th>producer</th>\n",
       "      <th>age_restriction</th>\n",
       "      <th>refundable_support</th>\n",
       "      <th>nonrefundable_support</th>\n",
       "      <th>budget</th>\n",
       "      <th>financing_source</th>\n",
       "      <th>ratings</th>\n",
       "      <th>genres</th>\n",
       "    </tr>\n",
       "  </thead>\n",
       "  <tbody>\n",
       "    <tr>\n",
       "      <th>4637</th>\n",
       "      <td>Как жениться и остаться холостым</td>\n",
       "      <td>221154310</td>\n",
       "      <td>2010-12-17T12:00:00.000Z</td>\n",
       "      <td>Художественный</td>\n",
       "      <td>Ше Вам, Скрипт Ассосье, Тэ Фэ 1 Фильм Продюксь...</td>\n",
       "      <td>Франция</td>\n",
       "      <td>Эрик Лартиго</td>\n",
       "      <td>Амандин Било, Алан Шаба</td>\n",
       "      <td>«16+» - для детей старше 16 лет</td>\n",
       "      <td>NaN</td>\n",
       "      <td>NaN</td>\n",
       "      <td>NaN</td>\n",
       "      <td>NaN</td>\n",
       "      <td>7.0</td>\n",
       "      <td>мелодрама,комедия</td>\n",
       "    </tr>\n",
       "    <tr>\n",
       "      <th>4638</th>\n",
       "      <td>Иоанна - женщина на папском престоле /По роман...</td>\n",
       "      <td>221154310</td>\n",
       "      <td>2010-12-17T12:00:00.000Z</td>\n",
       "      <td>Художественный</td>\n",
       "      <td>Константин Фильм, А Эр Ди Дегето Фильм, Дюне ...</td>\n",
       "      <td>Германия - Великобритания - Италия - Испания</td>\n",
       "      <td>Зенке Вортманн</td>\n",
       "      <td>Оливер Бербен, Дорис Д.Хайнце, Фарук Элтан</td>\n",
       "      <td>«16+» - для детей старше 16 лет</td>\n",
       "      <td>NaN</td>\n",
       "      <td>NaN</td>\n",
       "      <td>NaN</td>\n",
       "      <td>NaN</td>\n",
       "      <td>7.6</td>\n",
       "      <td>драма,мелодрама,история</td>\n",
       "    </tr>\n",
       "    <tr>\n",
       "      <th>5066</th>\n",
       "      <td>Анализируй это!</td>\n",
       "      <td>221054410</td>\n",
       "      <td>2010-05-25T12:00:00.000Z</td>\n",
       "      <td>Художественный</td>\n",
       "      <td>Уорнер Бразерс, Вилладж Роудшоу Филмз ЛТД</td>\n",
       "      <td>США-Австралия</td>\n",
       "      <td>ХЭрольд Рэмис</td>\n",
       "      <td>Джейн Розенталь, Пола Уейнстейн</td>\n",
       "      <td>«16+» - для детей старше 16 лет</td>\n",
       "      <td>NaN</td>\n",
       "      <td>NaN</td>\n",
       "      <td>NaN</td>\n",
       "      <td>NaN</td>\n",
       "      <td>7.4</td>\n",
       "      <td>комедия,криминал</td>\n",
       "    </tr>\n",
       "    <tr>\n",
       "      <th>5067</th>\n",
       "      <td>Анализируй то!</td>\n",
       "      <td>221054410</td>\n",
       "      <td>2010-05-25T12:00:00.000Z</td>\n",
       "      <td>Художественный</td>\n",
       "      <td>Уорнер Бразерс, Виллидж Роадшоу Пикчерз, Эн-Пи...</td>\n",
       "      <td>США</td>\n",
       "      <td>Гарольд Реймис</td>\n",
       "      <td>Джейн Розенталь, Паул Уэйнстейн</td>\n",
       "      <td>«12+» - для детей старше 12 лет</td>\n",
       "      <td>NaN</td>\n",
       "      <td>NaN</td>\n",
       "      <td>NaN</td>\n",
       "      <td>NaN</td>\n",
       "      <td>6.8</td>\n",
       "      <td>комедия,криминал</td>\n",
       "    </tr>\n",
       "  </tbody>\n",
       "</table>\n",
       "</div>"
      ],
      "text/plain": [
       "                                                  title   puNumber  \\\n",
       "4637                   Как жениться и остаться холостым  221154310   \n",
       "4638  Иоанна - женщина на папском престоле /По роман...  221154310   \n",
       "5066                                    Анализируй это!  221054410   \n",
       "5067                                     Анализируй то!  221054410   \n",
       "\n",
       "               show_start_date            type  \\\n",
       "4637  2010-12-17T12:00:00.000Z  Художественный   \n",
       "4638  2010-12-17T12:00:00.000Z  Художественный   \n",
       "5066  2010-05-25T12:00:00.000Z  Художественный   \n",
       "5067  2010-05-25T12:00:00.000Z  Художественный   \n",
       "\n",
       "                                            film_studio  \\\n",
       "4637  Ше Вам, Скрипт Ассосье, Тэ Фэ 1 Фильм Продюксь...   \n",
       "4638   Константин Фильм, А Эр Ди Дегето Фильм, Дюне ...   \n",
       "5066          Уорнер Бразерс, Вилладж Роудшоу Филмз ЛТД   \n",
       "5067  Уорнер Бразерс, Виллидж Роадшоу Пикчерз, Эн-Пи...   \n",
       "\n",
       "                                production_country        director  \\\n",
       "4637                                       Франция    Эрик Лартиго   \n",
       "4638  Германия - Великобритания - Италия - Испания  Зенке Вортманн   \n",
       "5066                                 США-Австралия   ХЭрольд Рэмис   \n",
       "5067                                           США  Гарольд Реймис   \n",
       "\n",
       "                                        producer  \\\n",
       "4637                     Амандин Било, Алан Шаба   \n",
       "4638  Оливер Бербен, Дорис Д.Хайнце, Фарук Элтан   \n",
       "5066             Джейн Розенталь, Пола Уейнстейн   \n",
       "5067             Джейн Розенталь, Паул Уэйнстейн   \n",
       "\n",
       "                      age_restriction  refundable_support  \\\n",
       "4637  «16+» - для детей старше 16 лет                 NaN   \n",
       "4638  «16+» - для детей старше 16 лет                 NaN   \n",
       "5066  «16+» - для детей старше 16 лет                 NaN   \n",
       "5067  «12+» - для детей старше 12 лет                 NaN   \n",
       "\n",
       "      nonrefundable_support  budget financing_source ratings  \\\n",
       "4637                    NaN     NaN              NaN     7.0   \n",
       "4638                    NaN     NaN              NaN     7.6   \n",
       "5066                    NaN     NaN              NaN     7.4   \n",
       "5067                    NaN     NaN              NaN     6.8   \n",
       "\n",
       "                       genres  \n",
       "4637        мелодрама,комедия  \n",
       "4638  драма,мелодрама,история  \n",
       "5066         комедия,криминал  \n",
       "5067         комедия,криминал  "
      ]
     },
     "execution_count": 12,
     "metadata": {},
     "output_type": "execute_result"
    }
   ],
   "source": [
    "data_movies[data_movies['puNumber'].duplicated(keep=False)]"
   ]
  },
  {
   "cell_type": "code",
   "execution_count": 13,
   "metadata": {},
   "outputs": [
    {
     "data": {
      "text/html": [
       "<div>\n",
       "<style scoped>\n",
       "    .dataframe tbody tr th:only-of-type {\n",
       "        vertical-align: middle;\n",
       "    }\n",
       "\n",
       "    .dataframe tbody tr th {\n",
       "        vertical-align: top;\n",
       "    }\n",
       "\n",
       "    .dataframe thead th {\n",
       "        text-align: right;\n",
       "    }\n",
       "</style>\n",
       "<table border=\"1\" class=\"dataframe\">\n",
       "  <thead>\n",
       "    <tr style=\"text-align: right;\">\n",
       "      <th></th>\n",
       "      <th>puNumber</th>\n",
       "      <th>box_office</th>\n",
       "    </tr>\n",
       "  </thead>\n",
       "  <tbody>\n",
       "  </tbody>\n",
       "</table>\n",
       "</div>"
      ],
      "text/plain": [
       "Empty DataFrame\n",
       "Columns: [puNumber, box_office]\n",
       "Index: []"
      ]
     },
     "execution_count": 13,
     "metadata": {},
     "output_type": "execute_result"
    }
   ],
   "source": [
    "data_shows[data_shows['puNumber'] == 221154310]"
   ]
  },
  {
   "cell_type": "code",
   "execution_count": 14,
   "metadata": {},
   "outputs": [
    {
     "data": {
      "text/html": [
       "<div>\n",
       "<style scoped>\n",
       "    .dataframe tbody tr th:only-of-type {\n",
       "        vertical-align: middle;\n",
       "    }\n",
       "\n",
       "    .dataframe tbody tr th {\n",
       "        vertical-align: top;\n",
       "    }\n",
       "\n",
       "    .dataframe thead th {\n",
       "        text-align: right;\n",
       "    }\n",
       "</style>\n",
       "<table border=\"1\" class=\"dataframe\">\n",
       "  <thead>\n",
       "    <tr style=\"text-align: right;\">\n",
       "      <th></th>\n",
       "      <th>puNumber</th>\n",
       "      <th>box_office</th>\n",
       "    </tr>\n",
       "  </thead>\n",
       "  <tbody>\n",
       "  </tbody>\n",
       "</table>\n",
       "</div>"
      ],
      "text/plain": [
       "Empty DataFrame\n",
       "Columns: [puNumber, box_office]\n",
       "Index: []"
      ]
     },
     "execution_count": 14,
     "metadata": {},
     "output_type": "execute_result"
    }
   ],
   "source": [
    "data_shows[data_shows['puNumber'] == 221054410]"
   ]
  },
  {
   "cell_type": "markdown",
   "metadata": {},
   "source": [
    "Т.е. у нас есть два разных фильма, которые имеют один номер прокатного удостоверения и по которым у нас нет данных о кассовых сборах. Можем ничего пока с этими филмами не делать, поскольку на наш дальнейший анализ они не повлияют."
   ]
  },
  {
   "cell_type": "markdown",
   "metadata": {},
   "source": [
    "<div class=\"alert alert-danger\">\n",
    "    \n",
    "<b> Комментарий от ревьюера ❗</b>\n",
    "    \n",
    "Обрати внимание, что в таблице выше две строки с разными puNumber. Чтобы посмотреть все повторяющиеся строки нужно передать параметр keep=False в метод duplicated\n",
    "    \n",
    "Изучи, пожалуйста, второй puNumber по аналогии с первым\n",
    "</div>"
   ]
  },
  {
   "cell_type": "markdown",
   "metadata": {},
   "source": [
    "<div class=\"alert alert-info\">\n",
    "\n",
    "Согласен. Спасибо за подсказку про дополнительный параметр. Это действительно экономит время. Я смотрел какие именно фильмы имеют один и тот же номер прокатного удостоверения, но потом по ошибке стер.\n",
    "\n",
    "</div>"
   ]
  },
  {
   "cell_type": "markdown",
   "metadata": {},
   "source": [
    "<div class=\"alert alert-success\">\n",
    "    \n",
    "<b> Комментарий от ревьюера 2 ✔️</b>\n",
    "\n",
    "Здорово, что дополнил исследование\n",
    "\n",
    "</div>"
   ]
  },
  {
   "cell_type": "code",
   "execution_count": 15,
   "metadata": {},
   "outputs": [],
   "source": [
    "data = data_movies.merge(data_shows, on='puNumber', how='left')"
   ]
  },
  {
   "cell_type": "code",
   "execution_count": 16,
   "metadata": {},
   "outputs": [
    {
     "data": {
      "text/html": [
       "<div>\n",
       "<style scoped>\n",
       "    .dataframe tbody tr th:only-of-type {\n",
       "        vertical-align: middle;\n",
       "    }\n",
       "\n",
       "    .dataframe tbody tr th {\n",
       "        vertical-align: top;\n",
       "    }\n",
       "\n",
       "    .dataframe thead th {\n",
       "        text-align: right;\n",
       "    }\n",
       "</style>\n",
       "<table border=\"1\" class=\"dataframe\">\n",
       "  <thead>\n",
       "    <tr style=\"text-align: right;\">\n",
       "      <th></th>\n",
       "      <th>title</th>\n",
       "      <th>puNumber</th>\n",
       "      <th>show_start_date</th>\n",
       "      <th>type</th>\n",
       "      <th>film_studio</th>\n",
       "      <th>production_country</th>\n",
       "      <th>director</th>\n",
       "      <th>producer</th>\n",
       "      <th>age_restriction</th>\n",
       "      <th>refundable_support</th>\n",
       "      <th>nonrefundable_support</th>\n",
       "      <th>budget</th>\n",
       "      <th>financing_source</th>\n",
       "      <th>ratings</th>\n",
       "      <th>genres</th>\n",
       "      <th>box_office</th>\n",
       "    </tr>\n",
       "  </thead>\n",
       "  <tbody>\n",
       "    <tr>\n",
       "      <th>0</th>\n",
       "      <td>Открытый простор</td>\n",
       "      <td>221048915</td>\n",
       "      <td>2015-11-27T12:00:00.000Z</td>\n",
       "      <td>Художественный</td>\n",
       "      <td>Тачстоун Пикчерз, Кобальт Пикчерз, Бикон Пикче...</td>\n",
       "      <td>США</td>\n",
       "      <td>Кевин Костнер</td>\n",
       "      <td>Дэвид Валдес, Кевин Костнер, Джейк Эбертс</td>\n",
       "      <td>«18+» - запрещено для детей</td>\n",
       "      <td>NaN</td>\n",
       "      <td>NaN</td>\n",
       "      <td>NaN</td>\n",
       "      <td>NaN</td>\n",
       "      <td>7.2</td>\n",
       "      <td>боевик,драма,мелодрама</td>\n",
       "      <td>NaN</td>\n",
       "    </tr>\n",
       "    <tr>\n",
       "      <th>1</th>\n",
       "      <td>Особо важное задание</td>\n",
       "      <td>111013716</td>\n",
       "      <td>2016-09-13T12:00:00.000Z</td>\n",
       "      <td>Художественный</td>\n",
       "      <td>Киностудия \"Мосфильм\"</td>\n",
       "      <td>СССР</td>\n",
       "      <td>Е.Матвеев</td>\n",
       "      <td>NaN</td>\n",
       "      <td>«6+» - для детей старше 6 лет</td>\n",
       "      <td>NaN</td>\n",
       "      <td>NaN</td>\n",
       "      <td>NaN</td>\n",
       "      <td>NaN</td>\n",
       "      <td>6.6</td>\n",
       "      <td>драма,военный</td>\n",
       "      <td>NaN</td>\n",
       "    </tr>\n",
       "  </tbody>\n",
       "</table>\n",
       "</div>"
      ],
      "text/plain": [
       "                  title   puNumber           show_start_date            type  \\\n",
       "0      Открытый простор  221048915  2015-11-27T12:00:00.000Z  Художественный   \n",
       "1  Особо важное задание  111013716  2016-09-13T12:00:00.000Z  Художественный   \n",
       "\n",
       "                                         film_studio production_country  \\\n",
       "0  Тачстоун Пикчерз, Кобальт Пикчерз, Бикон Пикче...                США   \n",
       "1                              Киностудия \"Мосфильм\"               СССР   \n",
       "\n",
       "        director                                   producer  \\\n",
       "0  Кевин Костнер  Дэвид Валдес, Кевин Костнер, Джейк Эбертс   \n",
       "1      Е.Матвеев                                        NaN   \n",
       "\n",
       "                 age_restriction  refundable_support  nonrefundable_support  \\\n",
       "0    «18+» - запрещено для детей                 NaN                    NaN   \n",
       "1  «6+» - для детей старше 6 лет                 NaN                    NaN   \n",
       "\n",
       "   budget financing_source ratings                  genres  box_office  \n",
       "0     NaN              NaN     7.2  боевик,драма,мелодрама         NaN  \n",
       "1     NaN              NaN     6.6           драма,военный         NaN  "
      ]
     },
     "execution_count": 16,
     "metadata": {},
     "output_type": "execute_result"
    }
   ],
   "source": [
    "data.head(2)"
   ]
  },
  {
   "cell_type": "code",
   "execution_count": 17,
   "metadata": {},
   "outputs": [
    {
     "name": "stdout",
     "output_type": "stream",
     "text": [
      "<class 'pandas.core.frame.DataFrame'>\n",
      "Int64Index: 7485 entries, 0 to 7484\n",
      "Data columns (total 16 columns):\n",
      " #   Column                 Non-Null Count  Dtype  \n",
      "---  ------                 --------------  -----  \n",
      " 0   title                  7485 non-null   object \n",
      " 1   puNumber               7485 non-null   int64  \n",
      " 2   show_start_date        7485 non-null   object \n",
      " 3   type                   7485 non-null   object \n",
      " 4   film_studio            7467 non-null   object \n",
      " 5   production_country     7483 non-null   object \n",
      " 6   director               7476 non-null   object \n",
      " 7   producer               6917 non-null   object \n",
      " 8   age_restriction        7485 non-null   object \n",
      " 9   refundable_support     332 non-null    float64\n",
      " 10  nonrefundable_support  332 non-null    float64\n",
      " 11  budget                 332 non-null    float64\n",
      " 12  financing_source       332 non-null    object \n",
      " 13  ratings                6519 non-null   object \n",
      " 14  genres                 6510 non-null   object \n",
      " 15  box_office             3158 non-null   float64\n",
      "dtypes: float64(4), int64(1), object(11)\n",
      "memory usage: 994.1+ KB\n"
     ]
    }
   ],
   "source": [
    "data.info()"
   ]
  },
  {
   "cell_type": "markdown",
   "metadata": {},
   "source": [
    "Видно, что все строки из первого набора данных вошли в итоговый и что количество ненулевых значений в новой колонке совпадает с количеством строк во втором наборе данных. Т.е. мы получили рабочий набор данных."
   ]
  },
  {
   "cell_type": "markdown",
   "metadata": {},
   "source": [
    "<div class=\"alert alert-success\">\n",
    "    \n",
    "<b> Комментарий от ревьюера ✔️</b>\n",
    "    \n",
    "С объединением таблиц все замечательно!\n",
    "\n",
    "</div>\n"
   ]
  },
  {
   "cell_type": "markdown",
   "metadata": {
    "id": "KLDGpPG0gFyM"
   },
   "source": [
    "### Шаг 2. Предобработка данных"
   ]
  },
  {
   "cell_type": "markdown",
   "metadata": {
    "id": "ssWwKXsxgFyO"
   },
   "source": [
    "#### Шаг 2.1. Проверьте типы данных\n",
    "\n",
    "- Проверьте типы данных в датафрейме и преобразуйте их там, где это необходимо."
   ]
  },
  {
   "cell_type": "markdown",
   "metadata": {
    "id": "kVGSplJOgFyO"
   },
   "source": [
    "Из общей информации о рабочем наборе данных мы можем сделать заключение, что удобно было бы, чтобы колонка рейтинга имела тип `float` и колонка с датой показа имела типа `datetime`.\n",
    "В колонке с данными о возрастном ограничении удобно было бы хранить данные в виде целых чисел, но для этого необходимо сделать замену. Чтобы не потерять данные, создадим дополнительную колонку, где будем хранить нижнюю границу возрастного ограничения.\n",
    "\n",
    "##### Исследование значений рейтинга и изменение типа данных"
   ]
  },
  {
   "cell_type": "code",
   "execution_count": 18,
   "metadata": {},
   "outputs": [
    {
     "data": {
      "text/plain": [
       "array(['7.2', '6.6', '6.8', '7.7', '8.3', '8.0', '7.8', '8.1', '7.1',\n",
       "       '6.0', '7.4', '5.8', '8.7', '6.3', '6.9', '5.0', '4.3', '7.3',\n",
       "       '7.0', '6.4', nan, '8.2', '7.5', '6.7', '7.9', '5.9', '6.2', '5.6',\n",
       "       '6.5', '2.4', '7.6', '6.1', '8.6', '8.5', '8.8', '5.5', '5.1',\n",
       "       '5.7', '5.4', '99%', '4.4', '4.5', '5.3', '4.1', '8.4', '2.6',\n",
       "       '3.8', '4.6', '4.8', '4.0', '3.0', '1.6', '4.2', '5.2', '4.7',\n",
       "       '4.9', '3.9', '2.7', '3.3', '2.9', '28%', '3.7', '1.4', '3.1',\n",
       "       '97%', '3.5', '3.2', '2.8', '1.5', '2.1', '2.5', '9.2', '3.4',\n",
       "       '1.1', '3.6', '83%', '64%', '91%', '94%', '62%', '79%', '90%',\n",
       "       '19%', '88%', '1.0', '89%', '1.3', '1.9', '1.8', '1.2', '1.7',\n",
       "       '9.0', '98%', '8.9', '9.1'], dtype=object)"
      ]
     },
     "execution_count": 18,
     "metadata": {},
     "output_type": "execute_result"
    }
   ],
   "source": [
    "data['ratings'].unique()"
   ]
  },
  {
   "cell_type": "markdown",
   "metadata": {},
   "source": [
    "Поскольку максимальный рейтинг равен 10, то логично предположить, что чтобы перевести рейтинг, выраженный в процентах, в обычный рейтинг, необходимо значение процентов разделить на 10. \n",
    "Для этого удалим символ `%`, сменим тип переменной на `float` и значения более 10 разделим на 10.\n",
    "\n",
    "Отсутствующее значение рейтинга заменим на `0`. "
   ]
  },
  {
   "cell_type": "code",
   "execution_count": 19,
   "metadata": {},
   "outputs": [],
   "source": [
    "data['ratings'] = data['ratings'].str.replace('%', '')"
   ]
  },
  {
   "cell_type": "code",
   "execution_count": 20,
   "metadata": {},
   "outputs": [],
   "source": [
    "data['ratings'] = data['ratings'].astype('float')"
   ]
  },
  {
   "cell_type": "code",
   "execution_count": 21,
   "metadata": {},
   "outputs": [],
   "source": [
    "data['ratings'] = data['ratings'].fillna(0)"
   ]
  },
  {
   "cell_type": "code",
   "execution_count": 22,
   "metadata": {},
   "outputs": [],
   "source": [
    "data.loc[data['ratings'].gt(10), 'ratings']  = data[data['ratings'].gt(10)]['ratings'] / 10"
   ]
  },
  {
   "cell_type": "code",
   "execution_count": 23,
   "metadata": {},
   "outputs": [
    {
     "data": {
      "text/plain": [
       "array([7.2, 6.6, 6.8, 7.7, 8.3, 8. , 7.8, 8.1, 7.1, 6. , 7.4, 5.8, 8.7,\n",
       "       6.3, 6.9, 5. , 4.3, 7.3, 7. , 6.4, 0. , 8.2, 7.5, 6.7, 7.9, 5.9,\n",
       "       6.2, 5.6, 6.5, 2.4, 7.6, 6.1, 8.6, 8.5, 8.8, 5.5, 5.1, 5.7, 5.4,\n",
       "       9.9, 4.4, 4.5, 5.3, 4.1, 8.4, 2.6, 3.8, 4.6, 4.8, 4. , 3. , 1.6,\n",
       "       4.2, 5.2, 4.7, 4.9, 3.9, 2.7, 3.3, 2.9, 2.8, 3.7, 1.4, 3.1, 9.7,\n",
       "       3.5, 3.2, 1.5, 2.1, 2.5, 9.2, 3.4, 1.1, 3.6, 9.1, 9.4, 9. , 1.9,\n",
       "       1. , 8.9, 1.3, 1.8, 1.2, 1.7, 9.8])"
      ]
     },
     "execution_count": 23,
     "metadata": {},
     "output_type": "execute_result"
    }
   ],
   "source": [
    "data['ratings'].unique()"
   ]
  },
  {
   "cell_type": "markdown",
   "metadata": {},
   "source": [
    "<div class=\"alert alert-success\">\n",
    "    \n",
    "<b> Комментарий от ревьюера ✔️</b>\n",
    "    \n",
    "Хорошее решение, но может быть было лучше заменить значения с \"%\" на nan. Мы ведь не уверены, что эти два вида значений в ratings равноценны\n",
    "\n",
    "</div>\n"
   ]
  },
  {
   "cell_type": "markdown",
   "metadata": {},
   "source": [
    "Все значения рейтинга исправлены.\n",
    "\n",
    "##### Исследование колонки с датой начала проката"
   ]
  },
  {
   "cell_type": "code",
   "execution_count": 24,
   "metadata": {},
   "outputs": [
    {
     "data": {
      "text/plain": [
       "0    2015-11-27T12:00:00.000Z\n",
       "1    2016-09-13T12:00:00.000Z\n",
       "2    2016-10-10T12:00:00.000Z\n",
       "3    2016-06-10T12:00:00.000Z\n",
       "4    2015-07-29T12:00:00.000Z\n",
       "Name: show_start_date, dtype: object"
      ]
     },
     "execution_count": 24,
     "metadata": {},
     "output_type": "execute_result"
    }
   ],
   "source": [
    "data['show_start_date'].head()"
   ]
  },
  {
   "cell_type": "code",
   "execution_count": 25,
   "metadata": {},
   "outputs": [],
   "source": [
    "data['show_start_date'] = pd.to_datetime(data['show_start_date'], format='%Y-%m-%dT%H:%M:%S')"
   ]
  },
  {
   "cell_type": "code",
   "execution_count": 26,
   "metadata": {},
   "outputs": [
    {
     "data": {
      "text/plain": [
       "0   2015-11-27 12:00:00+00:00\n",
       "1   2016-09-13 12:00:00+00:00\n",
       "2   2016-10-10 12:00:00+00:00\n",
       "3   2016-06-10 12:00:00+00:00\n",
       "4   2015-07-29 12:00:00+00:00\n",
       "Name: show_start_date, dtype: datetime64[ns, UTC]"
      ]
     },
     "execution_count": 26,
     "metadata": {},
     "output_type": "execute_result"
    }
   ],
   "source": [
    "data['show_start_date'].head()"
   ]
  },
  {
   "cell_type": "markdown",
   "metadata": {},
   "source": [
    "Данные в колонке `дата начала проката` изменены.\n",
    "\n",
    "##### Возрастные ограничения"
   ]
  },
  {
   "cell_type": "code",
   "execution_count": 27,
   "metadata": {},
   "outputs": [
    {
     "data": {
      "text/plain": [
       "array(['«18+» - запрещено для детей', '«6+» - для детей старше 6 лет',\n",
       "       '«12+» - для детей старше 12 лет',\n",
       "       '«16+» - для детей старше 16 лет',\n",
       "       '«0+» - для любой зрительской аудитории'], dtype=object)"
      ]
     },
     "execution_count": 27,
     "metadata": {},
     "output_type": "execute_result"
    }
   ],
   "source": [
    "data['age_restriction'].unique()"
   ]
  },
  {
   "cell_type": "markdown",
   "metadata": {},
   "source": [
    "Создадим колонку `age_restr` где будем хранить нижнюю границу возраста (0/6/12/16/18). Туда запишем соответствующее значение."
   ]
  },
  {
   "cell_type": "code",
   "execution_count": 28,
   "metadata": {},
   "outputs": [],
   "source": [
    "data.loc[data.mask(data['age_restriction'].str.find('0+').ge(0))['age_restriction'].isna(),'age_restr'] = 0"
   ]
  },
  {
   "cell_type": "code",
   "execution_count": 29,
   "metadata": {},
   "outputs": [],
   "source": [
    "data.loc[data.mask(data['age_restriction'].str.find('6+').ge(0))['age_restriction'].isna(),'age_restr'] = 6"
   ]
  },
  {
   "cell_type": "code",
   "execution_count": 30,
   "metadata": {},
   "outputs": [],
   "source": [
    "data.loc[data.mask(data['age_restriction'].str.find('12+').ge(0))['age_restriction'].isna(),'age_restr'] = 12"
   ]
  },
  {
   "cell_type": "code",
   "execution_count": 31,
   "metadata": {},
   "outputs": [],
   "source": [
    "data.loc[data.mask(data['age_restriction'].str.find('16+').ge(0))['age_restriction'].isna(),'age_restr'] = 16"
   ]
  },
  {
   "cell_type": "code",
   "execution_count": 32,
   "metadata": {},
   "outputs": [],
   "source": [
    "data.loc[data.mask(data['age_restriction'].str.find('18+').ge(0))['age_restriction'].isna(),'age_restr'] = 18"
   ]
  },
  {
   "cell_type": "code",
   "execution_count": 33,
   "metadata": {},
   "outputs": [],
   "source": [
    "data['age_restr'] = data['age_restr'].astype('int')"
   ]
  },
  {
   "cell_type": "code",
   "execution_count": 34,
   "metadata": {},
   "outputs": [
    {
     "data": {
      "text/plain": [
       "array([18,  6, 12, 16,  0])"
      ]
     },
     "execution_count": 34,
     "metadata": {},
     "output_type": "execute_result"
    }
   ],
   "source": [
    "data['age_restr'].unique()"
   ]
  },
  {
   "cell_type": "markdown",
   "metadata": {},
   "source": [
    "<div class=\"alert alert-success\">\n",
    "    \n",
    "<b> Комментарий от ревьюера ✔️</b>\n",
    "    \n",
    "Сейчас с типами данных все замечательно\n",
    "\n",
    "</div>\n"
   ]
  },
  {
   "cell_type": "markdown",
   "metadata": {
    "id": "i0MOLbF-gFyP"
   },
   "source": [
    "#### Шаг 2.2. Изучите пропуски в датафрейме\n",
    "\n",
    "- Объясните, почему заполнили пропуски определённым образом или почему не стали этого делать."
   ]
  },
  {
   "cell_type": "markdown",
   "metadata": {
    "id": "8MJD_lkngFyP"
   },
   "source": [
    "Ранее, при изменении типа данных в столбце `рейтинг` мы заполнили отсутствующие данные значением *0*. Поскольку мы не знаем, каков алгоритм присвоения рейтинга фильму. Однако если для дальнейшего анализа нам потребуется узнать рейтинг фильма, мы можем взять его на сторонних сервисах, таких как IMDB, Кинопоиск и т.п.\n",
    "\n",
    "Сейчас посмотрим, гдеи какие данные отсутствуют.\n"
   ]
  },
  {
   "cell_type": "code",
   "execution_count": 35,
   "metadata": {},
   "outputs": [
    {
     "name": "stdout",
     "output_type": "stream",
     "text": [
      "<class 'pandas.core.frame.DataFrame'>\n",
      "Int64Index: 7485 entries, 0 to 7484\n",
      "Data columns (total 17 columns):\n",
      " #   Column                 Non-Null Count  Dtype              \n",
      "---  ------                 --------------  -----              \n",
      " 0   title                  7485 non-null   object             \n",
      " 1   puNumber               7485 non-null   int64              \n",
      " 2   show_start_date        7485 non-null   datetime64[ns, UTC]\n",
      " 3   type                   7485 non-null   object             \n",
      " 4   film_studio            7467 non-null   object             \n",
      " 5   production_country     7483 non-null   object             \n",
      " 6   director               7476 non-null   object             \n",
      " 7   producer               6917 non-null   object             \n",
      " 8   age_restriction        7485 non-null   object             \n",
      " 9   refundable_support     332 non-null    float64            \n",
      " 10  nonrefundable_support  332 non-null    float64            \n",
      " 11  budget                 332 non-null    float64            \n",
      " 12  financing_source       332 non-null    object             \n",
      " 13  ratings                7485 non-null   float64            \n",
      " 14  genres                 6510 non-null   object             \n",
      " 15  box_office             3158 non-null   float64            \n",
      " 16  age_restr              7485 non-null   int64              \n",
      "dtypes: datetime64[ns, UTC](1), float64(5), int64(2), object(9)\n",
      "memory usage: 1.0+ MB\n"
     ]
    }
   ],
   "source": [
    "data.info()"
   ]
  },
  {
   "cell_type": "code",
   "execution_count": 36,
   "metadata": {},
   "outputs": [
    {
     "data": {
      "text/plain": [
       "18"
      ]
     },
     "execution_count": 36,
     "metadata": {},
     "output_type": "execute_result"
    }
   ],
   "source": [
    "data[data['film_studio'].isna()]['title'].count()"
   ]
  },
  {
   "cell_type": "code",
   "execution_count": 37,
   "metadata": {},
   "outputs": [
    {
     "data": {
      "text/plain": [
       "2"
      ]
     },
     "execution_count": 37,
     "metadata": {},
     "output_type": "execute_result"
    }
   ],
   "source": [
    "data[data['production_country'].isna()]['title'].count()"
   ]
  },
  {
   "cell_type": "code",
   "execution_count": 38,
   "metadata": {},
   "outputs": [
    {
     "data": {
      "text/plain": [
       "9"
      ]
     },
     "execution_count": 38,
     "metadata": {},
     "output_type": "execute_result"
    }
   ],
   "source": [
    "data[data['director'].isna()]['title'].count()"
   ]
  },
  {
   "cell_type": "code",
   "execution_count": 39,
   "metadata": {},
   "outputs": [
    {
     "data": {
      "text/plain": [
       "568"
      ]
     },
     "execution_count": 39,
     "metadata": {},
     "output_type": "execute_result"
    }
   ],
   "source": [
    "data[data['producer'].isna()]['title'].count()"
   ]
  },
  {
   "cell_type": "code",
   "execution_count": 40,
   "metadata": {},
   "outputs": [
    {
     "data": {
      "text/plain": [
       "975"
      ]
     },
     "execution_count": 40,
     "metadata": {},
     "output_type": "execute_result"
    }
   ],
   "source": [
    "data[data['genres'].isna()]['title'].count()"
   ]
  },
  {
   "cell_type": "code",
   "execution_count": 41,
   "metadata": {},
   "outputs": [
    {
     "data": {
      "text/plain": [
       "4327"
      ]
     },
     "execution_count": 41,
     "metadata": {},
     "output_type": "execute_result"
    }
   ],
   "source": [
    "data[data['box_office'].isna()]['title'].count()"
   ]
  },
  {
   "cell_type": "markdown",
   "metadata": {},
   "source": [
    "<div class=\"alert alert-warning\">\n",
    "    \n",
    "<b> Комментарий от ревьюера ⚠️</b>\n",
    "    \n",
    "Можно посмотреть количество пропусков сразу во всех признаках таблицы `data.isna().sum()`. Так мы точно не пропустим никакой признак.\n",
    "</div>"
   ]
  },
  {
   "cell_type": "markdown",
   "metadata": {},
   "source": [
    "<div class=\"alert alert-info\">\n",
    "\n",
    "Согласен. Но в данном случае я осознанно смотрел признаки отдельно. Мне было интересно именно отдельные пропуски, чтобы понять что и как стоит заполнять. Потом, если здесь пропуски не заполнить, при обработке столбцов появляются ошибки. И мне важны были только эти столбцы.\n",
    "\n",
    "Если бы я мог сразу получить разбивку по конкретным столюбцам. Что-то типа перечня - \"название столбца\" - \"количество пропусков\" - \"тип данных в столбце\". Но не могу сообразить, как можно было бы такой перечень получить.\n",
    "\n",
    "</div>"
   ]
  },
  {
   "cell_type": "markdown",
   "metadata": {},
   "source": [
    "<div class=\"alert alert-success\">\n",
    "    \n",
    "<b> Комментарий от ревьюера 2 ✔️</b>\n",
    "\n",
    "Это что-то очень близкое к методу info. Не знаю метод, который поможет сделать такую таблицу, но можно использовать такое решение\n",
    "    \n",
    "`pd.DataFrame([data.dtypes, data.isna().sum()]).T`\n",
    "\n",
    "</div>"
   ]
  },
  {
   "cell_type": "markdown",
   "metadata": {},
   "source": [
    "Анализ информации о рабочем наборе данных показывает, что неполные данные в следующих столбцах:\n",
    "\n",
    "`студия, выпустившая фильм` - 18 пропусков\n",
    "`страна производитель` - 2 пропуска\n",
    "`режиссер` - 9 пропусков\n",
    "`продюсер` - 568 пропусков\n",
    "`жанр` - 975 пропусков\n",
    "\n",
    "Для этих данных заполним пропуски, вставив слово *другое*.\n",
    "\n",
    "`сборы в России` - 4327 пропусков\n",
    "\n",
    "что объясняется, что далеко не все фильмы демонстрируются в кинотеатрах. Здесь отсутствующие данные можно заполнить значением *0*. \n",
    "\n",
    "Данные, относящиеся к государственному финансированию, заплнены менее чем на 5%, что объясняется, что только 332 фильма получили господдержку в том или ином виде. Отсутствующие данные также можно заполнить значением *0*, за исключением поля `источник финансирования`, где информация должна быть в строкового типа и пока мы существующие пропуски оставим. \n",
    "\n",
    "(****комментарий для ревьювера**** - вообще говоря прежде чем заменять отсутствующие значения на *0* стоит убедиться, что имеющиеся значения принадлежат одним строкам, потому что после заполнения **NaN** на **0** мы потеряем информацию о том, в каких именно строках изначально был **0** а где **NaN**. Но поскольку исследуя данные о господдержке я провел эту проверку, то здесь не стал добавлять код, который по смыслу нового ничего не даст и только усложнит восприятие)"
   ]
  },
  {
   "cell_type": "markdown",
   "metadata": {},
   "source": [
    "<div class=\"alert alert-success\">\n",
    "    \n",
    "<b> Комментарий от ревьюера ✔️</b>\n",
    "    \n",
    "Здорово, что провел проверку!\n",
    "    \n",
    "Думаю, можно не заполнять пропуски, если они не влияют на ход работы. Например, заполнив пропуски в box_office нулями, мы усложнили себе жизнь, потому что теперь не можем просто посчитать медиану или среднее по этому признаку, так как наше значение-заглушка (0) будет влиять на результаты. Теперь нам нужно фильтровать признак перед расчетом статистик.\n",
    "    \n",
    "Но в целом с обработкой пропусков все замечательно\n",
    "\n",
    "</div>"
   ]
  },
  {
   "cell_type": "code",
   "execution_count": 42,
   "metadata": {},
   "outputs": [],
   "source": [
    "data['box_office'] = data['box_office'].fillna(0)"
   ]
  },
  {
   "cell_type": "code",
   "execution_count": 43,
   "metadata": {},
   "outputs": [],
   "source": [
    "data['refundable_support'] = data['refundable_support'].fillna(0) "
   ]
  },
  {
   "cell_type": "code",
   "execution_count": 44,
   "metadata": {},
   "outputs": [],
   "source": [
    "data['nonrefundable_support'] = data['nonrefundable_support'].fillna(0) "
   ]
  },
  {
   "cell_type": "code",
   "execution_count": 45,
   "metadata": {},
   "outputs": [],
   "source": [
    "data['film_studio'] = data['film_studio'].fillna('другое') "
   ]
  },
  {
   "cell_type": "code",
   "execution_count": 46,
   "metadata": {},
   "outputs": [],
   "source": [
    "data['production_country'] = data['production_country'].fillna('другое') "
   ]
  },
  {
   "cell_type": "code",
   "execution_count": 47,
   "metadata": {},
   "outputs": [],
   "source": [
    "data['director'] = data['director'].fillna('другое') "
   ]
  },
  {
   "cell_type": "code",
   "execution_count": 48,
   "metadata": {},
   "outputs": [],
   "source": [
    "data['producer'] = data['producer'].fillna('другое') "
   ]
  },
  {
   "cell_type": "code",
   "execution_count": 49,
   "metadata": {},
   "outputs": [],
   "source": [
    "data['genres'] = data['genres'].fillna('другое') "
   ]
  },
  {
   "cell_type": "markdown",
   "metadata": {
    "id": "4c6k1t9ygFyQ"
   },
   "source": [
    "#### Шаг 2.3. Изучите дубликаты в датафрейме\n",
    "- Проверьте, есть ли в данных дубликаты. Опишите причины, которые могли повлиять на появление дублей."
   ]
  },
  {
   "cell_type": "markdown",
   "metadata": {
    "id": "aKck8RIdgFyQ"
   },
   "source": [
    "проверим наличие в рабочем наборе данных явных дубликатов"
   ]
  },
  {
   "cell_type": "code",
   "execution_count": 50,
   "metadata": {},
   "outputs": [
    {
     "data": {
      "text/plain": [
       "0"
      ]
     },
     "execution_count": 50,
     "metadata": {},
     "output_type": "execute_result"
    }
   ],
   "source": [
    "data[data.duplicated()]['title'].count()"
   ]
  },
  {
   "cell_type": "markdown",
   "metadata": {},
   "source": [
    "Явных полных дублей система не выявляет. Посмотрим, есть ли дубликаты в названиях фильмов"
   ]
  },
  {
   "cell_type": "code",
   "execution_count": 51,
   "metadata": {},
   "outputs": [
    {
     "data": {
      "text/plain": [
       "714"
      ]
     },
     "execution_count": 51,
     "metadata": {},
     "output_type": "execute_result"
    }
   ],
   "source": [
    "data[data['title'].duplicated()]['title'].count()"
   ]
  },
  {
   "cell_type": "code",
   "execution_count": 52,
   "metadata": {},
   "outputs": [
    {
     "data": {
      "text/plain": [
       "558"
      ]
     },
     "execution_count": 52,
     "metadata": {},
     "output_type": "execute_result"
    }
   ],
   "source": [
    "len(data[data['title'].duplicated()]['title'].unique())"
   ]
  },
  {
   "cell_type": "code",
   "execution_count": 53,
   "metadata": {},
   "outputs": [
    {
     "data": {
      "text/plain": [
       "array(['Особо опасен', 'Алекс и Эмма',\n",
       "       'Гарри Поттер и орден Феникса /По роману Дж.К.Ролинг/',\n",
       "       'Гарри Поттер и узник Азкабана /По роману Дж.К.Ролинг/',\n",
       "       'Гарри Поттер и кубок огня /По роману Дж.К.Ролинг/',\n",
       "       'Джейн Эйр /По одноименному роману Шарлотты Бронте/',\n",
       "       'Кинг Конг _', 'Пуленепробиваемый.',\n",
       "       'Рапунцель: Запутанная история', 'Дом грёз',\n",
       "       'Папаши без вредных привычек', 'Моя маленькая принцесса',\n",
       "       'Все любят китов', 'Немножко женаты', 'Белоснежка и охотник',\n",
       "       'Лиссабонские тайны /По роману Камилу Каштелу Бранку/',\n",
       "       '100 миллионов евро', 'Код доступа \"Кейптаун\"', 'Король Лев',\n",
       "       'Отважная Лифи', 'Папаши 2', 'Учитель на замену', 'Мадагаскар 3',\n",
       "       'МЫ. Верим в любовь', 'Схватка _', 'Веселые каникулы',\n",
       "       'Железная леди', 'Морской бой.', 'Маппеты', 'Мачо и ботан',\n",
       "       'Мрачные тени', 'Укрытие.',\n",
       "       'Люди в черном 3 /По комиксу Лоуэлла Каннингема/',\n",
       "       'Чего ждать, когда ждешь ребенка', 'Секса много не бывает',\n",
       "       'Экстрасенс_',\n",
       "       'Лоракс /По одноименной книге доктора Сьюсса (Теодора Гейзеля)/',\n",
       "       'Клятва _', 'Вышибала.', 'Мистер Ганджубас',\n",
       "       'Как украсть небоскреб', 'Американский пирог: Все в сборе',\n",
       "       'Дети сексу не помеха', 'Гнев титанов', 'Искусство любить.',\n",
       "       'Контрабанда.', 'Свадебный разгром', 'Пираты: Банда неудачников',\n",
       "       'Эпик /По произведению Уильяма Джойса/', 'Форсаж 6',\n",
       "       'Отверженные /По одноименному произведению Виктора Гюго/',\n",
       "       'Сейчас самое время', 'Неудержимые 2', 'Барбара.', 'Суперстар.',\n",
       "       'Любовь на кончиках пальцев', 'Гавана, я люблю тебя',\n",
       "       'Весенние надежды', 'Новый человек-паук',\n",
       "       'Вспомнить все /По произведению Ф.Дика/', 'Родительский беспредел',\n",
       "       'Арктика 3D', 'Гадкий Я 2', 'Волшебная страна.',\n",
       "       'Большой Лебовски.', 'Маньяк_', 'Переполох на районе',\n",
       "       'Клин клином',\n",
       "       'Призрачный патруль /По мотивам одноименного комикса Питера М.Ленкова/',\n",
       "       'Страх и ненависть в Лас-Вегасе /По роману Хантера С.Томпсона/.',\n",
       "       'ТотКтоПрошелСквозьОгонь', 'Ищу друга на конец света', 'Слова',\n",
       "       'Чувственная математика', 'Монстры на острове', 'Боб Марли',\n",
       "       'Папа - досвидос', 'Пришелец из космоса_', 'Третий лишний _',\n",
       "       'Крошка Молли', 'Жизнь Пи /По произведению Янна Мартела/',\n",
       "       'Хватай и беги.', 'Шаг вперед 4',\n",
       "       'Крепкий орешек. Хороший день, чтобы умереть', 'Париж-Манхэттен',\n",
       "       'Золушка: Полный вперед!', 'Обитель зла: Возмездие',\n",
       "       'Средь бела дня', 'Сэмми 2: Шевели ластами (Шевели ластами 2)',\n",
       "       'Джек - покоритель великанов', 'Как приручить зомби',\n",
       "       'Самый пьяный округ в мире /По книге Мэтта Бондуранта \"Самое мокрое место в мире\"/',\n",
       "       'Покорители волн', 'Пушистые против зубастых 3D', 'Аэротачки',\n",
       "       'Обещание /По произведению Стефана Цвейга/', 'Смешанные',\n",
       "       'Советник', 'Эпидемия_', 'Гангста Love', 'Голгофа.',\n",
       "       'Двойник /По повести Ф.М.Достоевского \"Двойник. Петербургская поэма\"/',\n",
       "       'Геракл: Начало легенды', 'Спасти Санту', 'Курьер из \"Рая\"',\n",
       "       'Копы в юбках', 'Самолеты', 'Мизерере', 'Час призраков', 'Она',\n",
       "       'Забойный реванш', 'Джобс. Империя соблазна', 'Вулкан страстей',\n",
       "       'Джастин Бибер: Believe', 'Оторвы',\n",
       "       '13-й район: Кирпичные особняки', 'Принцесса и нищий_',\n",
       "       'Спецагенты на отдыхе', 'Джо', 'Секретный эксперимент',\n",
       "       'Долгое падение.', 'Убойный уикенд',\n",
       "       'Анатомия любви /По произведению Скотта Спенсера/',\n",
       "       'Мачо и ботан 2', 'Планета обезьян: Революция', 'Годзилла.',\n",
       "       'Лесной патруль', 'Королевы ринга', 'Лимб',\n",
       "       '9 месяцев строгого режима', 'Любовь по рецепту',\n",
       "       'Перси Джексон и море чудовищ /По произведению Рик Риордан/',\n",
       "       'Много шума из ничего /По одноименной пьесе Уильма Шекспира/',\n",
       "       'Я, снова я и мама', 'Последний рубеж._', 'Ворона-проказница',\n",
       "       'Астрал. Глава 2',\n",
       "       'Пиноккио /По мотивам сказки Карло Коллоди \"Приключения Пиноккио\"/',\n",
       "       'Опасная иллюзия', 'Этим утром в Нью-Йорке',\n",
       "       'Машина Джейн Мэнсфилд', 'Вечное возвращение.', 'Хроника падения',\n",
       "       'Машина времени в джакузи 2', 'Если твоя девушка - зомби',\n",
       "       'Если я останусь /По одноименному произведению Гейл Форман/',\n",
       "       'История дельфина - 2', 'Тропы', 'Необитаемый',\n",
       "       'Остров лемуров: Мадагаскар 3D', 'Еще одна комедия',\n",
       "       'Кокни против зомби', 'Феи: Легенда о чудовище',\n",
       "       'Исчезнувшая /По произведению Гиллиан Флинн/', 'Общак',\n",
       "       'Александр и ужасный, кошмарный, нехороший, очень плохой день',\n",
       "       'Форсаж 7', 'Шальная карта.', 'Операция \"Мертвый снег\" 2',\n",
       "       'Большая афера', 'Волки / Wolves', 'Красотки в Париже',\n",
       "       'Почтальон Пэт 3D', 'Последние пять лет.', 'Неупокоенная',\n",
       "       'Одержимость / Whiplash', 'Добро пожаловать в Нью-Йорк', 'Люси',\n",
       "       'Бегущий в лабиринте /По произведению Джеймса Дашнера/',\n",
       "       'З/Л/О: Новый вирус', 'За тридевять земель.',\n",
       "       'Париж. Город мертвых', 'Судная ночь 2',\n",
       "       'Любовь с первого взгляда / Two Night Stand',\n",
       "       '300 спартанцев: Расцвет империи /По произведению Фрэнка Миллера \"Ксеркс\"/ (на английском языке)',\n",
       "       'Прощай, речь 3D', 'Джими Хендрикс', 'Два дня, одна ночь',\n",
       "       'Чем дальше в лес', 'Фокус', 'Соседи. На тропе войны',\n",
       "       'Медведи-соседи.', 'Час призраков 2', 'Оставленные',\n",
       "       'Красотки в бегах', 'Новейший завет',\n",
       "       'Идеальный голос 2 /По произведению Мики Рэпкина/',\n",
       "       'Девушка без комплексов', 'Упс... Ной уплыл!', 'Багровый пик',\n",
       "       'Визит (2015)', 'Переполох в джунглях',\n",
       "       'Бегущий в лабиринте: Испытание огнем /По произведению Джеймса Дашнера/',\n",
       "       'Хитмэн: Агент 47', 'Миссия невыполнима: Племя изгоев',\n",
       "       'Песнь моря', 'Дом для русалок', 'Монстры 2: Темный континент',\n",
       "       'Уиджи: Доска дьявола', 'Пингвиненок Пороро: Большие гонки',\n",
       "       'Скауты против зомби', 'Паранормальное явление 5: Призраки в 3 D',\n",
       "       'Голос улиц', 'В одну сторону (2006)', 'Перед дождем', 'Дэдпул',\n",
       "       'Зверополис', 'Да здравствует Цезарь!', 'Лунный флаг',\n",
       "       'Миссия в Майами', 'Белоснежка и Охотник 2',\n",
       "       'Книга джунглей (2016)',\n",
       "       'Машкины Страшилки. Серия \"Чудовищная правда о том, как страшно быть маленьким\"',\n",
       "       'Кунг-фу Панда 3', 'Кловерфилд, 10', 'Черепашки-ниндзя 2',\n",
       "       'Эдди \"Орёл\"', 'Виктор Франкенштейн', 'Любовь без обязательств',\n",
       "       'Стив Джобс', 'Крампус', 'Снупи и мелочь пузатая в кино',\n",
       "       'Театр призраков', 'Анархисты', 'Образцовый самец 2',\n",
       "       'Здравствуй, папа, Новый год', 'Звёздные войны: Пробуждение силы',\n",
       "       'Форсаж 7.', 'И грянул шторм', 'Игра на понижение',\n",
       "       '13 часов: Тайные солдаты Бенгази', 'Выживший (2015)',\n",
       "       'Элвин и бурундуки: Грандиозное бурундуключение',\n",
       "       'Девушка из Дании', 'Сёстры (2015)', 'Лазурный берег', 'Мухаммад',\n",
       "       'Стартрек: Бесконечность', 'Джек Ричер 2: Никогда не возвращайся',\n",
       "       'Полтора шпиона', 'Джейсон Борн', 'Бен-Гур (2016)',\n",
       "       'Судная ночь 3',\n",
       "       'Не брать живым /По книге Раджива Чандрасекарана/', 'Механик_',\n",
       "       'Шерлок Холмс',\n",
       "       'Белая мгла /По комиксу Грега Рукка и Стива Либера/',\n",
       "       'Неудержимые.',\n",
       "       'Алиса в стране чудес /По книгам Льюиса Кэрролла \"Алиса в стране чудес\" и \"Алиса в Зазеркалье\"/',\n",
       "       'Аватар_', 'Телохранитель _', 'Супруги Морган в бегах',\n",
       "       'Дориан Грей /По роману Оскара Уайльда/', 'История одного вампира',\n",
       "       'День святого Валентина_', 'Четвертый вид', 'Врата 3D',\n",
       "       'Дорога /По новелле Кормака МкКарфи/', 'Серьезный человек',\n",
       "       'Бугай',\n",
       "       'Легион_.(Фильм содержит сцены ужасов, насилия и жестокости)',\n",
       "       'Казнены на рассвете...', 'Дневники нимфоманки', 'Таймер',\n",
       "       'Любовь и прочие обстоятельства',\n",
       "       'Жена путешественника во времени',\n",
       "       'Формула любви для узников брака', 'Серфинг на Таити 3D',\n",
       "       'Дитя тьмы', 'Господин Никто', 'Город воров',\n",
       "       'Социальная сеть /По книге Бена Мезрича/',\n",
       "       'Союз зверей /По книге Эрика Кастнера/',\n",
       "       'Кошмар на улице Вязов /Фильм ужасов/', 'Мармадюк',\n",
       "       'Хищники /Фильм содержит сцены жестокости/',\n",
       "       'Принц Персии: Пески времени', 'Загнанный',\n",
       "       'Двенадцать друзей Оушена',\n",
       "       'Золотой компас /По мотивам книги Филипа Пуллмана/',\n",
       "       'Тринадцать друзей Оушена',\n",
       "       'Гарри Поттер и философский камень /По роману Дж.К.Ролинг/',\n",
       "       'Гарри Поттер и Дары Смерти - Часть 1/По роману Дж.К.Ролинг/',\n",
       "       'Телохранители и убийцы', 'Каратэ-пацан', 'Одноклассники .',\n",
       "       'Солт', 'План Б.', 'Остров проклятых', 'Ученик Чародея',\n",
       "       'Снова ты', 'Сердцеед_', 'Игла Ремикс', 'Секс в большом городе 2',\n",
       "       'Робин Гуд (Robin Hood)', 'Непокоренный.', 'Стачка',\n",
       "       'Ешь, молись, люби /По книге Элизабет Гилберт/',\n",
       "       'Копы в глубоком запасе', '13.', 'Майкл Джексон: Вот и всё',\n",
       "       'Однажды в Риме', 'Химера', 'Красавчик', 'Красавчик-2',\n",
       "       'Железный человек 2 (по комиксам Стэна Ли)', 'Побег из Вегаса',\n",
       "       'Сезон охоты 3', 'Мальчики-налетчики',\n",
       "       'Отличница легкого поведения', 'Стоун',\n",
       "       'Морские динозавры 3D: Путешествие в доисторический мир',\n",
       "       'Безумцы', 'Вероника решает умереть', 'Рыцарь дня', 'Баария',\n",
       "       'Центурион', 'Слишком крута для тебя', 'Другой мужчина',\n",
       "       'Властелин колец: Братство кольца /По произведению Джона Рональда Руэла Толкиена \"Властелин колец: Хранители\"/',\n",
       "       'Властелин колец: Возвращение короля /По произведению Джона Рональда Руэла Толкиена \"Властелин колец: Возвращение государя\"/',\n",
       "       'Властелин колец: Две крепости /По произведению Джона Рональда Руэла Толкиена \"Властелин колец: Две твердыни\"/',\n",
       "       'Гарри Поттер и Принц-полукровка /По роману Дж.К.Ролинг/',\n",
       "       'Гарри Поттер и тайная комната /По роману Дж.К.Ролинг/', 'Катись!',\n",
       "       'Отправь их в ад, Мэлоун',\n",
       "       'Моя ужасная няня 2 /По книге Кристианны Брэнд/', 'Сердцеедки',\n",
       "       'Буду помнить', 'Гадкий Я',\n",
       "       'Суини Тодд, демон-парикмахер с Флит-стрит', 'Четыре Рождества',\n",
       "       'Я ненавижу день святого Валентина',\n",
       "       'Сумерки. Сага. Новолуние /По произведению Стефани Майер/',\n",
       "       'Разумное сомнение', 'Воображариум доктора Парнаса',\n",
       "       'Иоанна - женщина на папском престоле /По роману Донны Вулфольк Кросс/',\n",
       "       'Трезор', 'Шаг вперед 3D',\n",
       "       'Сумерки. Сага. Затмение /По произведению Стефани Майер/',\n",
       "       'Книга крови /По мотивам рассказов Клайва Баркера \"Книга крови\" и \"На улице Иерусалима\"/. Фильм ужасов',\n",
       "       'Жизнь, как она есть',\n",
       "       'Легенды ночных стражей /По мотивам произведений Кэтрин Ласки \"Ночные стражи\"/',\n",
       "       'На расстоянии любви', 'Впритык', 'Дом у озера', 'Кровавый алмаз',\n",
       "       'Пока не сыграл в ящик', 'Человек-волк.', 'Шрэк навсегда',\n",
       "       'Долгая помолвка /По роману Себастьяна Жапризо/',\n",
       "       'Три дня на побег', 'Отчаянная домохозяйка',\n",
       "       'Кошки против собак: Месть Китти Галор', 'Посейдон', 'Продавец',\n",
       "       'Знакомство с Марком', 'Молчи в тряпочку',\n",
       "       'И грянул гром /По рассказу Рэя Брэдберри/', 'Глаз.',\n",
       "       'Мисс Поттер',\n",
       "       'Малышка на миллион /По мотивам рассказов Ф.Х.Тула из сборника \"Клейма от канатов\"/',\n",
       "       'Эскадрилья \"Лафайет\"', 'Повелитель бури', 'Оружейный барон',\n",
       "       'Леденец', 'Зак и Мири снимают порно',\n",
       "       'Здесь курят /По книге Кристофера Бакли/',\n",
       "       'Стан Хельсинг /Пародия/', 'Как жениться и остаться холостым',\n",
       "       'Девушка из Джерси', 'Геймер.', 'Волшебная страна', 'Перелом',\n",
       "       'Уолл-Стрит. Деньги не спят', 'Начало_', 'Медведь Йоги',\n",
       "       'Чужая /По мотивам одноименного произведения Владимира \"Адольфыча\" Нестеренко/',\n",
       "       'Слепота.', 'Битва титанов.',\n",
       "       'Спуск 2 /фильм содержит сцены жестокости и насилия/',\n",
       "       'Там, где живут чудовища', 'История игрушек: Большой побег',\n",
       "       'Повелитель стихий', 'Двойная жизнь Чарли Сан-Клауда', 'Дьявол',\n",
       "       'Скотт Пилигрим против всех', 'Призраки бывших подружек',\n",
       "       'Сириана', 'Золото дураков', 'Трон: Наследие.',\n",
       "       'Воспитание чувств /По мемуарам Линн Барбер/',\n",
       "       'Потрошители /По книге Э.Гарсиа/', 'Охотник за головами',\n",
       "       'Как приручить дракона', 'Простые сложности', 'Мне бы в небо',\n",
       "       'Паранормальное явление', 'Напряги извилины',\n",
       "       'Если свекровь - монстр',\n",
       "       'Ниндзя-убийца /Фильм содержит сцены насилия и жестокости/',\n",
       "       'Дневник памяти /По роману Николаса Спракса/', 'Двойной копец',\n",
       "       'Хроники Нарнии: Покоритель Зари /По произведению Клайва Стейплза Льюиса/',\n",
       "       'Неуправляемый.', 'Лузеры', 'Бурлеск', 'Зеленый шершень',\n",
       "       'Как знать...', 'Турист', 'Прошлой ночью в Нью-Йорке', 'Палата',\n",
       "       'Любовь с риском для жизни',\n",
       "       'Гарри Поттер и Дары Смерти - Часть 2 /По роману Дж.К.Ролинг/',\n",
       "       'Красный дракон /По одноименному роману Томаса Гарриса/',\n",
       "       'Гангстер.', 'Знакомьтесь, Джо Блэк',\n",
       "       'Полиция Майами: Отдел нравов', 'Королевство.',\n",
       "       'Знакомство с Факерами 2.', 'Мегамозг', 'Чудаки 3D',\n",
       "       'Пол: Секретный материальчик',\n",
       "       'Меняющие реальность /По произведению Филиппа К.Дика/', 'Ранго',\n",
       "       'Бунт ушастых', 'Паранормальное явление 3',\n",
       "       'Паранормальные явления 2', 'Мой парень из зоопарка',\n",
       "       'Секс по дружбе', 'Смурфики',\n",
       "       'Шпион, выйди вон! /По мотивам романа Джона Ле Карре/',\n",
       "       'Король говорит!', 'Красная шапочка __',\n",
       "       'Секс и Дзен 3D: Экстремальный экстаз',\n",
       "       'Агент Джонни Инглиш: Перезагрузка',\n",
       "       'Сумерки. Сага: Рассвет - Часть 1 /По произведению Стефани Майер/',\n",
       "       '7 дней и ночей с Мэрилин', 'Счастье мое',\n",
       "       'Пингвины мистера Поппера', 'Очень плохая училка', 'Драйв.',\n",
       "       'Нечто /По произведению Джона Кемпбелла младшего/', 'Красный штат',\n",
       "       'Храбрые перцем', 'Хочу как ты', 'Черный лебедь.',\n",
       "       'Путешествия Гулливера /По книге Джонатана Свифта/',\n",
       "       'Не отпускай меня /По роману Кадзуо Исигуро/', '127 часов',\n",
       "       'Милые кости', 'Анализируй это!', 'Мисс Конгениальность',\n",
       "       'Зеленый фонарь', 'Под ветвями боярышника', 'Соблазнитель.',\n",
       "       'Страшно красив', 'То лето страсти', 'Аполлон 18', 'Бладрейн',\n",
       "       'Крик 4', 'Предел риска', 'Железная хватка', 'Доброе Утро',\n",
       "       'Больше чем секс', 'Форсаж 5',\n",
       "       'Приключения Тинтина: Тайна Единорога /По серии комиксов Эрже \"Приключения Тинтина\"/',\n",
       "       'Время.', 'Как заняться любовью с женщиной',\n",
       "       'Буря /По одноименной пьесе У.Шекспира/', 'Не сдавайся',\n",
       "       'Успеть за 30 минут', 'Человек, который изменил всё',\n",
       "       'Запрещенный прием', 'Безбрачная неделя',\n",
       "       'Пастырь /По серии графических рассказов Мин-Ву Хуна/',\n",
       "       'Мальчишник - 2: Из Вегаса в Бангкок',\n",
       "       'Восстание планеты обезьян /По произведению Пьера Булля/',\n",
       "       'Ариэтти из страны лилипутов', 'Девичник в Вегасе',\n",
       "       'Охотники за головами', 'Хаббл 3D', 'Неприкасаемые.',\n",
       "       'Рожденные на воле 3D', 'Однажды в Ирландии', 'Выбор киллера',\n",
       "       'Проклятая школа', 'Футбольные гладиаторы',\n",
       "       'Такие разные близнецы', 'Очень опасная штучка',\n",
       "       'Мелодия для шарманки', 'Как выйти замуж за миллиардера',\n",
       "       'Расплата_', 'Ева: Искусственный разум', 'Сфера колдовства',\n",
       "       'Инопланетное вторжение: Битва за Лос-Анджелес',\n",
       "       'Притворись моей женой', 'Отряд особого назначения.',\n",
       "       'Крылатые монстры 3D', 'ИГРА', 'Троя', 'Бедная богатая девочка',\n",
       "       'Искусственный разум /По мотивам рассказа Брайана Олдисса \"Суперроботы живут всё лето\"/',\n",
       "       'Смертельное оружие 4',\n",
       "       'Одиннадцать друзей Оушена /По мотивам пьесы Гарри Брауна и Чарльза Ледерера, рассказа Джорджа Клейтона Джонсона и Джека Голдена Рассела/',\n",
       "       'Черное золото', 'Неизвестный', 'Аноним', 'Соломенные псы_',\n",
       "       'Девушка с татуировкой дракона /По роману Стига Ларссона/.',\n",
       "       'Кунг-фу Панда 2.', 'Прощание', 'Нет', 'Успех',\n",
       "       'Забытые войны России', 'Великие битвы России', 'Кастинг',\n",
       "       'Профессионал', 'На колесах', 'Пина: Танец страсти в 3D',\n",
       "       'Догвилль', 'Прощаться не будем', 'Ян Антонышев', 'Зоя',\n",
       "       'Полицейский с рублевки. Новогодний беспредел', 'Аниматор',\n",
       "       'Большая игра', 'Город грехов', 'Три сестры', 'Квадрат',\n",
       "       'Любовницы', 'Мечтатели', 'Супергерои', 'Клык', 'Ложные признания',\n",
       "       'Шпион по соседству', 'Мысленный волк', 'Валентина',\n",
       "       'Зип и Зап. Клуб стеклянных шариков', 'Выше неба',\n",
       "       'Принцесса Мононоке', 'Мученицы', 'Доброе утро',\n",
       "       'Джастин и рыцари доблести', 'Гладиаторы Рима',\n",
       "       'Красная шапка против зла', 'Морская бригада',\n",
       "       'Руби и повелитель воды',\n",
       "       'Альдабра: Путешествие по таинственному острову', 'Матрица',\n",
       "       'Игра с огнем', 'Ночь живых мертвецов',\n",
       "       'Безумный Макс: Дорога ярости', 'Невиновен',\n",
       "       'Отель \"Гранд Будапешт\"', 'Зверь', 'В тихом омуте', 'Вторжение'],\n",
       "      dtype=object)"
      ]
     },
     "execution_count": 53,
     "metadata": {},
     "output_type": "execute_result"
    }
   ],
   "source": [
    "data[data['title'].duplicated()]['title'].unique()"
   ]
  },
  {
   "cell_type": "code",
   "execution_count": 54,
   "metadata": {},
   "outputs": [
    {
     "data": {
      "text/html": [
       "<div>\n",
       "<style scoped>\n",
       "    .dataframe tbody tr th:only-of-type {\n",
       "        vertical-align: middle;\n",
       "    }\n",
       "\n",
       "    .dataframe tbody tr th {\n",
       "        vertical-align: top;\n",
       "    }\n",
       "\n",
       "    .dataframe thead th {\n",
       "        text-align: right;\n",
       "    }\n",
       "</style>\n",
       "<table border=\"1\" class=\"dataframe\">\n",
       "  <thead>\n",
       "    <tr style=\"text-align: right;\">\n",
       "      <th></th>\n",
       "      <th>title</th>\n",
       "      <th>puNumber</th>\n",
       "      <th>show_start_date</th>\n",
       "      <th>type</th>\n",
       "      <th>film_studio</th>\n",
       "      <th>production_country</th>\n",
       "      <th>director</th>\n",
       "      <th>producer</th>\n",
       "      <th>age_restriction</th>\n",
       "      <th>refundable_support</th>\n",
       "      <th>nonrefundable_support</th>\n",
       "      <th>budget</th>\n",
       "      <th>financing_source</th>\n",
       "      <th>ratings</th>\n",
       "      <th>genres</th>\n",
       "      <th>box_office</th>\n",
       "      <th>age_restr</th>\n",
       "    </tr>\n",
       "  </thead>\n",
       "  <tbody>\n",
       "    <tr>\n",
       "      <th>2</th>\n",
       "      <td>Особо опасен</td>\n",
       "      <td>221038416</td>\n",
       "      <td>2016-10-10 12:00:00+00:00</td>\n",
       "      <td>Художественный</td>\n",
       "      <td>Юниверсал Пикчерз, Кикстарт Продакшнз, Марк Пл...</td>\n",
       "      <td>США</td>\n",
       "      <td>Тимур Бекмамбетов</td>\n",
       "      <td>Джим Лемли, Джейсон Нетер, Марк Е.Платт, Яйн Смит</td>\n",
       "      <td>«18+» - запрещено для детей</td>\n",
       "      <td>0.0</td>\n",
       "      <td>0.0</td>\n",
       "      <td>NaN</td>\n",
       "      <td>NaN</td>\n",
       "      <td>6.8</td>\n",
       "      <td>фантастика,боевик,триллер</td>\n",
       "      <td>0.0</td>\n",
       "      <td>18</td>\n",
       "    </tr>\n",
       "    <tr>\n",
       "      <th>3</th>\n",
       "      <td>Особо опасен</td>\n",
       "      <td>221026916</td>\n",
       "      <td>2016-06-10 12:00:00+00:00</td>\n",
       "      <td>Художественный</td>\n",
       "      <td>Юниверсал Пикчерз, Кикстарт Продакшнз, Марк Пл...</td>\n",
       "      <td>США</td>\n",
       "      <td>Тимур Бекмамбетов</td>\n",
       "      <td>Джим Лемли, Джейсон Нетер, Марк Е.Платт, Яйн Смит</td>\n",
       "      <td>«18+» - запрещено для детей</td>\n",
       "      <td>0.0</td>\n",
       "      <td>0.0</td>\n",
       "      <td>NaN</td>\n",
       "      <td>NaN</td>\n",
       "      <td>6.8</td>\n",
       "      <td>фантастика,боевик,триллер</td>\n",
       "      <td>0.0</td>\n",
       "      <td>18</td>\n",
       "    </tr>\n",
       "    <tr>\n",
       "      <th>4</th>\n",
       "      <td>Особо опасен</td>\n",
       "      <td>221030815</td>\n",
       "      <td>2015-07-29 12:00:00+00:00</td>\n",
       "      <td>Художественный</td>\n",
       "      <td>Юниверсал Пикчерз, Кикстарт Продакшнз, Марк Пл...</td>\n",
       "      <td>США</td>\n",
       "      <td>Тимур Бекмамбетов</td>\n",
       "      <td>Джим Лемли, Джейсон Нетер, Марк Е.Платт, Яйн Смит</td>\n",
       "      <td>«18+» - запрещено для детей</td>\n",
       "      <td>0.0</td>\n",
       "      <td>0.0</td>\n",
       "      <td>NaN</td>\n",
       "      <td>NaN</td>\n",
       "      <td>6.8</td>\n",
       "      <td>фантастика,боевик,триллер</td>\n",
       "      <td>0.0</td>\n",
       "      <td>18</td>\n",
       "    </tr>\n",
       "  </tbody>\n",
       "</table>\n",
       "</div>"
      ],
      "text/plain": [
       "          title   puNumber           show_start_date            type  \\\n",
       "2  Особо опасен  221038416 2016-10-10 12:00:00+00:00  Художественный   \n",
       "3  Особо опасен  221026916 2016-06-10 12:00:00+00:00  Художественный   \n",
       "4  Особо опасен  221030815 2015-07-29 12:00:00+00:00  Художественный   \n",
       "\n",
       "                                         film_studio production_country  \\\n",
       "2  Юниверсал Пикчерз, Кикстарт Продакшнз, Марк Пл...                США   \n",
       "3  Юниверсал Пикчерз, Кикстарт Продакшнз, Марк Пл...                США   \n",
       "4  Юниверсал Пикчерз, Кикстарт Продакшнз, Марк Пл...                США   \n",
       "\n",
       "            director                                           producer  \\\n",
       "2  Тимур Бекмамбетов  Джим Лемли, Джейсон Нетер, Марк Е.Платт, Яйн Смит   \n",
       "3  Тимур Бекмамбетов  Джим Лемли, Джейсон Нетер, Марк Е.Платт, Яйн Смит   \n",
       "4  Тимур Бекмамбетов  Джим Лемли, Джейсон Нетер, Марк Е.Платт, Яйн Смит   \n",
       "\n",
       "               age_restriction  refundable_support  nonrefundable_support  \\\n",
       "2  «18+» - запрещено для детей                 0.0                    0.0   \n",
       "3  «18+» - запрещено для детей                 0.0                    0.0   \n",
       "4  «18+» - запрещено для детей                 0.0                    0.0   \n",
       "\n",
       "   budget financing_source  ratings                     genres  box_office  \\\n",
       "2     NaN              NaN      6.8  фантастика,боевик,триллер         0.0   \n",
       "3     NaN              NaN      6.8  фантастика,боевик,триллер         0.0   \n",
       "4     NaN              NaN      6.8  фантастика,боевик,триллер         0.0   \n",
       "\n",
       "   age_restr  \n",
       "2         18  \n",
       "3         18  \n",
       "4         18  "
      ]
     },
     "execution_count": 54,
     "metadata": {},
     "output_type": "execute_result"
    }
   ],
   "source": [
    "data[data['title'] == 'Особо опасен']"
   ]
  },
  {
   "cell_type": "code",
   "execution_count": 55,
   "metadata": {},
   "outputs": [
    {
     "data": {
      "text/html": [
       "<div>\n",
       "<style scoped>\n",
       "    .dataframe tbody tr th:only-of-type {\n",
       "        vertical-align: middle;\n",
       "    }\n",
       "\n",
       "    .dataframe tbody tr th {\n",
       "        vertical-align: top;\n",
       "    }\n",
       "\n",
       "    .dataframe thead th {\n",
       "        text-align: right;\n",
       "    }\n",
       "</style>\n",
       "<table border=\"1\" class=\"dataframe\">\n",
       "  <thead>\n",
       "    <tr style=\"text-align: right;\">\n",
       "      <th></th>\n",
       "      <th>title</th>\n",
       "      <th>puNumber</th>\n",
       "      <th>show_start_date</th>\n",
       "      <th>type</th>\n",
       "      <th>film_studio</th>\n",
       "      <th>production_country</th>\n",
       "      <th>director</th>\n",
       "      <th>producer</th>\n",
       "      <th>age_restriction</th>\n",
       "      <th>refundable_support</th>\n",
       "      <th>nonrefundable_support</th>\n",
       "      <th>budget</th>\n",
       "      <th>financing_source</th>\n",
       "      <th>ratings</th>\n",
       "      <th>genres</th>\n",
       "      <th>box_office</th>\n",
       "      <th>age_restr</th>\n",
       "    </tr>\n",
       "  </thead>\n",
       "  <tbody>\n",
       "    <tr>\n",
       "      <th>109</th>\n",
       "      <td>Гарри Поттер и орден Феникса /По роману Дж.К.Р...</td>\n",
       "      <td>221004916</td>\n",
       "      <td>2016-02-09 12:00:00+00:00</td>\n",
       "      <td>Художественный</td>\n",
       "      <td>Уорнер Бразерс, Хэйдей Филмз</td>\n",
       "      <td>США - Великобритания</td>\n",
       "      <td>Дэвид Йетс</td>\n",
       "      <td>Дэйвид Баррон, Дэйвид Хейман</td>\n",
       "      <td>«16+» - для детей старше 16 лет</td>\n",
       "      <td>0.0</td>\n",
       "      <td>0.0</td>\n",
       "      <td>NaN</td>\n",
       "      <td>NaN</td>\n",
       "      <td>7.7</td>\n",
       "      <td>фэнтези,приключения,семейный</td>\n",
       "      <td>0.0</td>\n",
       "      <td>16</td>\n",
       "    </tr>\n",
       "    <tr>\n",
       "      <th>110</th>\n",
       "      <td>Гарри Поттер и орден Феникса /По роману Дж.К.Р...</td>\n",
       "      <td>121026316</td>\n",
       "      <td>2016-09-23 12:00:00+00:00</td>\n",
       "      <td>Художественный</td>\n",
       "      <td>Уорнер Бразерс, Хэйдей Филмз</td>\n",
       "      <td>США - Великобритания</td>\n",
       "      <td>Дэвид Йетс</td>\n",
       "      <td>Дэйвид Баррон, Дэйвид Хейман</td>\n",
       "      <td>«16+» - для детей старше 16 лет</td>\n",
       "      <td>0.0</td>\n",
       "      <td>0.0</td>\n",
       "      <td>NaN</td>\n",
       "      <td>NaN</td>\n",
       "      <td>7.7</td>\n",
       "      <td>фэнтези,приключения,семейный</td>\n",
       "      <td>759526.0</td>\n",
       "      <td>16</td>\n",
       "    </tr>\n",
       "    <tr>\n",
       "      <th>4426</th>\n",
       "      <td>Гарри Поттер и орден Феникса /По роману Дж.К.Р...</td>\n",
       "      <td>221134510</td>\n",
       "      <td>2010-11-29 12:00:00+00:00</td>\n",
       "      <td>Художественный</td>\n",
       "      <td>Уорнер Бразерс, Хэйдей Филмз</td>\n",
       "      <td>США - Великобритания</td>\n",
       "      <td>Дэвид Йетс</td>\n",
       "      <td>Дэйвид Баррон, Дэйвид Хейман</td>\n",
       "      <td>«16+» - для детей старше 16 лет</td>\n",
       "      <td>0.0</td>\n",
       "      <td>0.0</td>\n",
       "      <td>NaN</td>\n",
       "      <td>NaN</td>\n",
       "      <td>7.7</td>\n",
       "      <td>фэнтези,приключения,семейный</td>\n",
       "      <td>0.0</td>\n",
       "      <td>16</td>\n",
       "    </tr>\n",
       "  </tbody>\n",
       "</table>\n",
       "</div>"
      ],
      "text/plain": [
       "                                                  title   puNumber  \\\n",
       "109   Гарри Поттер и орден Феникса /По роману Дж.К.Р...  221004916   \n",
       "110   Гарри Поттер и орден Феникса /По роману Дж.К.Р...  121026316   \n",
       "4426  Гарри Поттер и орден Феникса /По роману Дж.К.Р...  221134510   \n",
       "\n",
       "               show_start_date            type                   film_studio  \\\n",
       "109  2016-02-09 12:00:00+00:00  Художественный  Уорнер Бразерс, Хэйдей Филмз   \n",
       "110  2016-09-23 12:00:00+00:00  Художественный  Уорнер Бразерс, Хэйдей Филмз   \n",
       "4426 2010-11-29 12:00:00+00:00  Художественный  Уорнер Бразерс, Хэйдей Филмз   \n",
       "\n",
       "        production_country    director                      producer  \\\n",
       "109   США - Великобритания  Дэвид Йетс  Дэйвид Баррон, Дэйвид Хейман   \n",
       "110   США - Великобритания  Дэвид Йетс  Дэйвид Баррон, Дэйвид Хейман   \n",
       "4426  США - Великобритания  Дэвид Йетс  Дэйвид Баррон, Дэйвид Хейман   \n",
       "\n",
       "                      age_restriction  refundable_support  \\\n",
       "109   «16+» - для детей старше 16 лет                 0.0   \n",
       "110   «16+» - для детей старше 16 лет                 0.0   \n",
       "4426  «16+» - для детей старше 16 лет                 0.0   \n",
       "\n",
       "      nonrefundable_support  budget financing_source  ratings  \\\n",
       "109                     0.0     NaN              NaN      7.7   \n",
       "110                     0.0     NaN              NaN      7.7   \n",
       "4426                    0.0     NaN              NaN      7.7   \n",
       "\n",
       "                            genres  box_office  age_restr  \n",
       "109   фэнтези,приключения,семейный         0.0         16  \n",
       "110   фэнтези,приключения,семейный    759526.0         16  \n",
       "4426  фэнтези,приключения,семейный         0.0         16  "
      ]
     },
     "execution_count": 55,
     "metadata": {},
     "output_type": "execute_result"
    }
   ],
   "source": [
    "data[data['title'] == 'Гарри Поттер и орден Феникса /По роману Дж.К.Ролинг/']"
   ]
  },
  {
   "cell_type": "code",
   "execution_count": 56,
   "metadata": {},
   "outputs": [
    {
     "data": {
      "text/html": [
       "<div>\n",
       "<style scoped>\n",
       "    .dataframe tbody tr th:only-of-type {\n",
       "        vertical-align: middle;\n",
       "    }\n",
       "\n",
       "    .dataframe tbody tr th {\n",
       "        vertical-align: top;\n",
       "    }\n",
       "\n",
       "    .dataframe thead th {\n",
       "        text-align: right;\n",
       "    }\n",
       "</style>\n",
       "<table border=\"1\" class=\"dataframe\">\n",
       "  <thead>\n",
       "    <tr style=\"text-align: right;\">\n",
       "      <th></th>\n",
       "      <th>title</th>\n",
       "      <th>puNumber</th>\n",
       "      <th>show_start_date</th>\n",
       "      <th>type</th>\n",
       "      <th>film_studio</th>\n",
       "      <th>production_country</th>\n",
       "      <th>director</th>\n",
       "      <th>producer</th>\n",
       "      <th>age_restriction</th>\n",
       "      <th>refundable_support</th>\n",
       "      <th>nonrefundable_support</th>\n",
       "      <th>budget</th>\n",
       "      <th>financing_source</th>\n",
       "      <th>ratings</th>\n",
       "      <th>genres</th>\n",
       "      <th>box_office</th>\n",
       "      <th>age_restr</th>\n",
       "    </tr>\n",
       "  </thead>\n",
       "  <tbody>\n",
       "    <tr>\n",
       "      <th>1283</th>\n",
       "      <td>Советник</td>\n",
       "      <td>221012114</td>\n",
       "      <td>2014-03-27 12:00:00+00:00</td>\n",
       "      <td>Художественный</td>\n",
       "      <td>Чокстоун Пикчерз, Канзаман, Ник Уайшесьер Прод...</td>\n",
       "      <td>США</td>\n",
       "      <td>Ридли Скотт</td>\n",
       "      <td>Ридли Скотт, Пола Мэй Шварц, Стив Шварц</td>\n",
       "      <td>«16+» - для детей старше 16 лет</td>\n",
       "      <td>0.0</td>\n",
       "      <td>0.0</td>\n",
       "      <td>NaN</td>\n",
       "      <td>NaN</td>\n",
       "      <td>5.6</td>\n",
       "      <td>триллер,драма,криминал</td>\n",
       "      <td>0.0</td>\n",
       "      <td>16</td>\n",
       "    </tr>\n",
       "    <tr>\n",
       "      <th>1284</th>\n",
       "      <td>Советник</td>\n",
       "      <td>121026413</td>\n",
       "      <td>2013-10-15 12:00:00+00:00</td>\n",
       "      <td>Художественный</td>\n",
       "      <td>Чокстоун Пикчерз, Канзаман, Ник Уайшесьер Прод...</td>\n",
       "      <td>США</td>\n",
       "      <td>Ридли Скотт</td>\n",
       "      <td>Ридли Скотт, Пола Мэй Шварц, Стив Шварц</td>\n",
       "      <td>«16+» - для детей старше 16 лет</td>\n",
       "      <td>0.0</td>\n",
       "      <td>0.0</td>\n",
       "      <td>NaN</td>\n",
       "      <td>NaN</td>\n",
       "      <td>5.6</td>\n",
       "      <td>триллер,драма,криминал</td>\n",
       "      <td>0.0</td>\n",
       "      <td>16</td>\n",
       "    </tr>\n",
       "  </tbody>\n",
       "</table>\n",
       "</div>"
      ],
      "text/plain": [
       "         title   puNumber           show_start_date            type  \\\n",
       "1283  Советник  221012114 2014-03-27 12:00:00+00:00  Художественный   \n",
       "1284  Советник  121026413 2013-10-15 12:00:00+00:00  Художественный   \n",
       "\n",
       "                                            film_studio production_country  \\\n",
       "1283  Чокстоун Пикчерз, Канзаман, Ник Уайшесьер Прод...                США   \n",
       "1284  Чокстоун Пикчерз, Канзаман, Ник Уайшесьер Прод...                США   \n",
       "\n",
       "         director                                 producer  \\\n",
       "1283  Ридли Скотт  Ридли Скотт, Пола Мэй Шварц, Стив Шварц   \n",
       "1284  Ридли Скотт  Ридли Скотт, Пола Мэй Шварц, Стив Шварц   \n",
       "\n",
       "                      age_restriction  refundable_support  \\\n",
       "1283  «16+» - для детей старше 16 лет                 0.0   \n",
       "1284  «16+» - для детей старше 16 лет                 0.0   \n",
       "\n",
       "      nonrefundable_support  budget financing_source  ratings  \\\n",
       "1283                    0.0     NaN              NaN      5.6   \n",
       "1284                    0.0     NaN              NaN      5.6   \n",
       "\n",
       "                      genres  box_office  age_restr  \n",
       "1283  триллер,драма,криминал         0.0         16  \n",
       "1284  триллер,драма,криминал         0.0         16  "
      ]
     },
     "execution_count": 56,
     "metadata": {},
     "output_type": "execute_result"
    }
   ],
   "source": [
    "data[data['title'] == 'Советник']"
   ]
  },
  {
   "cell_type": "code",
   "execution_count": 57,
   "metadata": {},
   "outputs": [
    {
     "data": {
      "text/html": [
       "<div>\n",
       "<style scoped>\n",
       "    .dataframe tbody tr th:only-of-type {\n",
       "        vertical-align: middle;\n",
       "    }\n",
       "\n",
       "    .dataframe tbody tr th {\n",
       "        vertical-align: top;\n",
       "    }\n",
       "\n",
       "    .dataframe thead th {\n",
       "        text-align: right;\n",
       "    }\n",
       "</style>\n",
       "<table border=\"1\" class=\"dataframe\">\n",
       "  <thead>\n",
       "    <tr style=\"text-align: right;\">\n",
       "      <th></th>\n",
       "      <th>title</th>\n",
       "      <th>puNumber</th>\n",
       "      <th>show_start_date</th>\n",
       "      <th>type</th>\n",
       "      <th>film_studio</th>\n",
       "      <th>production_country</th>\n",
       "      <th>director</th>\n",
       "      <th>producer</th>\n",
       "      <th>age_restriction</th>\n",
       "      <th>refundable_support</th>\n",
       "      <th>nonrefundable_support</th>\n",
       "      <th>budget</th>\n",
       "      <th>financing_source</th>\n",
       "      <th>ratings</th>\n",
       "      <th>genres</th>\n",
       "      <th>box_office</th>\n",
       "      <th>age_restr</th>\n",
       "    </tr>\n",
       "  </thead>\n",
       "  <tbody>\n",
       "    <tr>\n",
       "      <th>2018</th>\n",
       "      <td>Еще одна комедия</td>\n",
       "      <td>121015816</td>\n",
       "      <td>2016-06-07 12:00:00+00:00</td>\n",
       "      <td>Художественный</td>\n",
       "      <td>Колор Грин Филмз, Инстинкт Продакшнз</td>\n",
       "      <td>США</td>\n",
       "      <td>Дэвид Мерфи</td>\n",
       "      <td>другое</td>\n",
       "      <td>«18+» - запрещено для детей</td>\n",
       "      <td>0.0</td>\n",
       "      <td>0.0</td>\n",
       "      <td>NaN</td>\n",
       "      <td>NaN</td>\n",
       "      <td>2.4</td>\n",
       "      <td>комедия</td>\n",
       "      <td>0.0</td>\n",
       "      <td>18</td>\n",
       "    </tr>\n",
       "    <tr>\n",
       "      <th>2019</th>\n",
       "      <td>Еще одна комедия</td>\n",
       "      <td>221004114</td>\n",
       "      <td>2014-03-17 12:00:00+00:00</td>\n",
       "      <td>Художественный</td>\n",
       "      <td>Колор Грин Филмз, Инстинкт Продакшнз</td>\n",
       "      <td>США</td>\n",
       "      <td>Дэвид Мерфи</td>\n",
       "      <td>другое</td>\n",
       "      <td>«18+» - запрещено для детей</td>\n",
       "      <td>0.0</td>\n",
       "      <td>0.0</td>\n",
       "      <td>NaN</td>\n",
       "      <td>NaN</td>\n",
       "      <td>2.4</td>\n",
       "      <td>комедия</td>\n",
       "      <td>0.0</td>\n",
       "      <td>18</td>\n",
       "    </tr>\n",
       "  </tbody>\n",
       "</table>\n",
       "</div>"
      ],
      "text/plain": [
       "                 title   puNumber           show_start_date            type  \\\n",
       "2018  Еще одна комедия  121015816 2016-06-07 12:00:00+00:00  Художественный   \n",
       "2019  Еще одна комедия  221004114 2014-03-17 12:00:00+00:00  Художественный   \n",
       "\n",
       "                               film_studio production_country     director  \\\n",
       "2018  Колор Грин Филмз, Инстинкт Продакшнз                США  Дэвид Мерфи   \n",
       "2019  Колор Грин Филмз, Инстинкт Продакшнз                США  Дэвид Мерфи   \n",
       "\n",
       "     producer              age_restriction  refundable_support  \\\n",
       "2018   другое  «18+» - запрещено для детей                 0.0   \n",
       "2019   другое  «18+» - запрещено для детей                 0.0   \n",
       "\n",
       "      nonrefundable_support  budget financing_source  ratings   genres  \\\n",
       "2018                    0.0     NaN              NaN      2.4  комедия   \n",
       "2019                    0.0     NaN              NaN      2.4  комедия   \n",
       "\n",
       "      box_office  age_restr  \n",
       "2018         0.0         18  \n",
       "2019         0.0         18  "
      ]
     },
     "execution_count": 57,
     "metadata": {},
     "output_type": "execute_result"
    }
   ],
   "source": [
    "data[data['title'] == 'Еще одна комедия']"
   ]
  },
  {
   "cell_type": "code",
   "execution_count": 58,
   "metadata": {},
   "outputs": [
    {
     "data": {
      "text/plain": [
       "0"
      ]
     },
     "execution_count": 58,
     "metadata": {},
     "output_type": "execute_result"
    }
   ],
   "source": [
    "data[data.loc[:,['title','puNumber']].duplicated()]['title'].count()"
   ]
  },
  {
   "cell_type": "markdown",
   "metadata": {},
   "source": [
    "Таким образом у нас фиксируется 1272 дубликатов в части названий фильмов. Для всех этих записей присвоен свой собственный номер прокатного удостоверения. При этом для некоторых из них не указан объем сборов в кинотеатрах РФ, и не указаны данные о государственной поддержке (что логично, поскольку многие из этих фильмов зарубежного производства).\n",
    "\n",
    "Посмотрим в скольких фильмах, которые являются дубликатами по названию, указано государственное финансирование и сумма кассовых сбором."
   ]
  },
  {
   "cell_type": "code",
   "execution_count": 59,
   "metadata": {},
   "outputs": [
    {
     "data": {
      "text/html": [
       "<div>\n",
       "<style scoped>\n",
       "    .dataframe tbody tr th:only-of-type {\n",
       "        vertical-align: middle;\n",
       "    }\n",
       "\n",
       "    .dataframe tbody tr th {\n",
       "        vertical-align: top;\n",
       "    }\n",
       "\n",
       "    .dataframe thead th {\n",
       "        text-align: right;\n",
       "    }\n",
       "</style>\n",
       "<table border=\"1\" class=\"dataframe\">\n",
       "  <thead>\n",
       "    <tr style=\"text-align: right;\">\n",
       "      <th></th>\n",
       "      <th>title</th>\n",
       "      <th>puNumber</th>\n",
       "      <th>show_start_date</th>\n",
       "      <th>type</th>\n",
       "      <th>film_studio</th>\n",
       "      <th>production_country</th>\n",
       "      <th>director</th>\n",
       "      <th>producer</th>\n",
       "      <th>age_restriction</th>\n",
       "      <th>refundable_support</th>\n",
       "      <th>nonrefundable_support</th>\n",
       "      <th>budget</th>\n",
       "      <th>financing_source</th>\n",
       "      <th>ratings</th>\n",
       "      <th>genres</th>\n",
       "      <th>box_office</th>\n",
       "      <th>age_restr</th>\n",
       "    </tr>\n",
       "  </thead>\n",
       "  <tbody>\n",
       "    <tr>\n",
       "      <th>7321</th>\n",
       "      <td>Успех</td>\n",
       "      <td>111018519</td>\n",
       "      <td>2019-11-04 12:00:00+00:00</td>\n",
       "      <td>Художественный</td>\n",
       "      <td>ООО \"Кинодом\"</td>\n",
       "      <td>Россия</td>\n",
       "      <td>П.Руминов</td>\n",
       "      <td>С.Бобза, Г.Малков, В.Поляков, М.Кучмент</td>\n",
       "      <td>«12+» - для детей старше 12 лет</td>\n",
       "      <td>5000000.0</td>\n",
       "      <td>20000000.0</td>\n",
       "      <td>75000000.0</td>\n",
       "      <td>Фонд кино</td>\n",
       "      <td>7.8</td>\n",
       "      <td>драма</td>\n",
       "      <td>3181218.0</td>\n",
       "      <td>12</td>\n",
       "    </tr>\n",
       "    <tr>\n",
       "      <th>7473</th>\n",
       "      <td>Вторжение</td>\n",
       "      <td>111022519</td>\n",
       "      <td>2019-12-23 12:00:00+00:00</td>\n",
       "      <td>Художественный</td>\n",
       "      <td>ООО \"Арт Пикчерс Студия\", ООО \"Водород 2011\"</td>\n",
       "      <td>Россия</td>\n",
       "      <td>Ф.Бондарчук</td>\n",
       "      <td>Ф.Бондарчук, М.Врубель, А.Андрющенко, Д.Рудовский</td>\n",
       "      <td>«12+» - для детей старше 12 лет</td>\n",
       "      <td>100000000.0</td>\n",
       "      <td>400000000.0</td>\n",
       "      <td>944000000.0</td>\n",
       "      <td>Фонд кино</td>\n",
       "      <td>5.7</td>\n",
       "      <td>фантастика,боевик</td>\n",
       "      <td>0.0</td>\n",
       "      <td>12</td>\n",
       "    </tr>\n",
       "  </tbody>\n",
       "</table>\n",
       "</div>"
      ],
      "text/plain": [
       "          title   puNumber           show_start_date             type  \\\n",
       "7321      Успех  111018519 2019-11-04 12:00:00+00:00   Художественный   \n",
       "7473  Вторжение  111022519 2019-12-23 12:00:00+00:00   Художественный   \n",
       "\n",
       "                                       film_studio production_country  \\\n",
       "7321                                 ООО \"Кинодом\"             Россия   \n",
       "7473  ООО \"Арт Пикчерс Студия\", ООО \"Водород 2011\"             Россия   \n",
       "\n",
       "          director                                           producer  \\\n",
       "7321     П.Руминов            С.Бобза, Г.Малков, В.Поляков, М.Кучмент   \n",
       "7473   Ф.Бондарчук  Ф.Бондарчук, М.Врубель, А.Андрющенко, Д.Рудовский   \n",
       "\n",
       "                      age_restriction  refundable_support  \\\n",
       "7321  «12+» - для детей старше 12 лет           5000000.0   \n",
       "7473  «12+» - для детей старше 12 лет         100000000.0   \n",
       "\n",
       "      nonrefundable_support       budget financing_source  ratings  \\\n",
       "7321             20000000.0   75000000.0        Фонд кино      7.8   \n",
       "7473            400000000.0  944000000.0        Фонд кино      5.7   \n",
       "\n",
       "                 genres  box_office  age_restr  \n",
       "7321              драма   3181218.0         12  \n",
       "7473  фантастика,боевик         0.0         12  "
      ]
     },
     "execution_count": 59,
     "metadata": {},
     "output_type": "execute_result"
    }
   ],
   "source": [
    "data[data['title'].isin(data[data['title'].duplicated()]['title'].unique())].query(('box_office > 0') \\\n",
    "                                                    and (('refundable_support > 0') or ('nonrefundable_support > 0')) )"
   ]
  },
  {
   "cell_type": "markdown",
   "metadata": {},
   "source": [
    "Таких фильмов всего два.\n",
    "\n",
    "Посмотрим, сколько фильмов с дублирующимися названиями, где указаны либо кассовые сборы, либо объем государственного финансирования"
   ]
  },
  {
   "cell_type": "code",
   "execution_count": 60,
   "metadata": {},
   "outputs": [
    {
     "data": {
      "text/html": [
       "<div>\n",
       "<style scoped>\n",
       "    .dataframe tbody tr th:only-of-type {\n",
       "        vertical-align: middle;\n",
       "    }\n",
       "\n",
       "    .dataframe tbody tr th {\n",
       "        vertical-align: top;\n",
       "    }\n",
       "\n",
       "    .dataframe thead th {\n",
       "        text-align: right;\n",
       "    }\n",
       "</style>\n",
       "<table border=\"1\" class=\"dataframe\">\n",
       "  <thead>\n",
       "    <tr style=\"text-align: right;\">\n",
       "      <th></th>\n",
       "      <th>title</th>\n",
       "      <th>puNumber</th>\n",
       "      <th>show_start_date</th>\n",
       "      <th>type</th>\n",
       "      <th>film_studio</th>\n",
       "      <th>production_country</th>\n",
       "      <th>director</th>\n",
       "      <th>producer</th>\n",
       "      <th>age_restriction</th>\n",
       "      <th>refundable_support</th>\n",
       "      <th>nonrefundable_support</th>\n",
       "      <th>budget</th>\n",
       "      <th>financing_source</th>\n",
       "      <th>ratings</th>\n",
       "      <th>genres</th>\n",
       "      <th>box_office</th>\n",
       "      <th>age_restr</th>\n",
       "    </tr>\n",
       "  </thead>\n",
       "  <tbody>\n",
       "    <tr>\n",
       "      <th>110</th>\n",
       "      <td>Гарри Поттер и орден Феникса /По роману Дж.К.Р...</td>\n",
       "      <td>121026316</td>\n",
       "      <td>2016-09-23 12:00:00+00:00</td>\n",
       "      <td>Художественный</td>\n",
       "      <td>Уорнер Бразерс, Хэйдей Филмз</td>\n",
       "      <td>США - Великобритания</td>\n",
       "      <td>Дэвид Йетс</td>\n",
       "      <td>Дэйвид Баррон, Дэйвид Хейман</td>\n",
       "      <td>«16+» - для детей старше 16 лет</td>\n",
       "      <td>0.0</td>\n",
       "      <td>0.0</td>\n",
       "      <td>NaN</td>\n",
       "      <td>NaN</td>\n",
       "      <td>7.7</td>\n",
       "      <td>фэнтези,приключения,семейный</td>\n",
       "      <td>759526.00</td>\n",
       "      <td>16</td>\n",
       "    </tr>\n",
       "    <tr>\n",
       "      <th>111</th>\n",
       "      <td>Гарри Поттер и тайная комната /По роману Дж.К....</td>\n",
       "      <td>121026016</td>\n",
       "      <td>2016-09-23 12:00:00+00:00</td>\n",
       "      <td>Художественный</td>\n",
       "      <td>Уорнер Бразерс, Хедэй Филмз/1492 Пикчерз</td>\n",
       "      <td>США</td>\n",
       "      <td>Крис Коламбус</td>\n",
       "      <td>Дейвид Хейман</td>\n",
       "      <td>«12+» - для детей старше 12 лет</td>\n",
       "      <td>0.0</td>\n",
       "      <td>0.0</td>\n",
       "      <td>NaN</td>\n",
       "      <td>NaN</td>\n",
       "      <td>8.0</td>\n",
       "      <td>фэнтези,приключения,семейный</td>\n",
       "      <td>1093810.00</td>\n",
       "      <td>12</td>\n",
       "    </tr>\n",
       "    <tr>\n",
       "      <th>113</th>\n",
       "      <td>Гарри Поттер и узник Азкабана /По роману Дж.К....</td>\n",
       "      <td>121026116</td>\n",
       "      <td>2016-09-23 12:00:00+00:00</td>\n",
       "      <td>Художественный</td>\n",
       "      <td>Хэйдей Филмз, 1492 Пикчерз, Уорнер Бразерс</td>\n",
       "      <td>США</td>\n",
       "      <td>Альфонсо Куарон</td>\n",
       "      <td>Майкл Барната</td>\n",
       "      <td>«12+» - для детей старше 12 лет</td>\n",
       "      <td>0.0</td>\n",
       "      <td>0.0</td>\n",
       "      <td>NaN</td>\n",
       "      <td>NaN</td>\n",
       "      <td>8.2</td>\n",
       "      <td>фэнтези,приключения,семейный</td>\n",
       "      <td>1125302.00</td>\n",
       "      <td>12</td>\n",
       "    </tr>\n",
       "    <tr>\n",
       "      <th>114</th>\n",
       "      <td>Гарри Поттер и философский камень /По роману Д...</td>\n",
       "      <td>121025916</td>\n",
       "      <td>2016-09-23 12:00:00+00:00</td>\n",
       "      <td>Художественный</td>\n",
       "      <td>Уорнер Бразерс, Хэйдэй Филмз/1492 Пикчерз/Данк...</td>\n",
       "      <td>США</td>\n",
       "      <td>Крис Коламбус</td>\n",
       "      <td>Дейвид Хейман</td>\n",
       "      <td>«12+» - для детей старше 12 лет</td>\n",
       "      <td>0.0</td>\n",
       "      <td>0.0</td>\n",
       "      <td>NaN</td>\n",
       "      <td>NaN</td>\n",
       "      <td>8.2</td>\n",
       "      <td>фэнтези,приключения,семейный</td>\n",
       "      <td>1948760.00</td>\n",
       "      <td>12</td>\n",
       "    </tr>\n",
       "    <tr>\n",
       "      <th>122</th>\n",
       "      <td>Гарри Поттер и кубок огня /По роману Дж.К.Ролинг/</td>\n",
       "      <td>121026216</td>\n",
       "      <td>2016-09-23 12:00:00+00:00</td>\n",
       "      <td>Художественный</td>\n",
       "      <td>Уорнер Бразерс, Хэйдэй Филмз</td>\n",
       "      <td>США - Великобритания</td>\n",
       "      <td>Майк Ньюэлл</td>\n",
       "      <td>Дэйвид Хейман</td>\n",
       "      <td>«16+» - для детей старше 16 лет</td>\n",
       "      <td>0.0</td>\n",
       "      <td>0.0</td>\n",
       "      <td>NaN</td>\n",
       "      <td>NaN</td>\n",
       "      <td>7.9</td>\n",
       "      <td>фэнтези,приключения,семейный</td>\n",
       "      <td>843310.00</td>\n",
       "      <td>16</td>\n",
       "    </tr>\n",
       "    <tr>\n",
       "      <th>...</th>\n",
       "      <td>...</td>\n",
       "      <td>...</td>\n",
       "      <td>...</td>\n",
       "      <td>...</td>\n",
       "      <td>...</td>\n",
       "      <td>...</td>\n",
       "      <td>...</td>\n",
       "      <td>...</td>\n",
       "      <td>...</td>\n",
       "      <td>...</td>\n",
       "      <td>...</td>\n",
       "      <td>...</td>\n",
       "      <td>...</td>\n",
       "      <td>...</td>\n",
       "      <td>...</td>\n",
       "      <td>...</td>\n",
       "      <td>...</td>\n",
       "    </tr>\n",
       "    <tr>\n",
       "      <th>6917</th>\n",
       "      <td>Дитя тьмы</td>\n",
       "      <td>121010819</td>\n",
       "      <td>2019-05-23 12:00:00+00:00</td>\n",
       "      <td>Художественный</td>\n",
       "      <td>Брокен Миррор Фильм</td>\n",
       "      <td>Канада</td>\n",
       "      <td>Джереми Люттер</td>\n",
       "      <td>Джереми Люттер, Жослин Расселл, Робин Чан</td>\n",
       "      <td>«18+» - запрещено для детей</td>\n",
       "      <td>0.0</td>\n",
       "      <td>0.0</td>\n",
       "      <td>NaN</td>\n",
       "      <td>NaN</td>\n",
       "      <td>6.9</td>\n",
       "      <td>ужасы,триллер,детектив</td>\n",
       "      <td>2276644.94</td>\n",
       "      <td>18</td>\n",
       "    </tr>\n",
       "    <tr>\n",
       "      <th>7280</th>\n",
       "      <td>Прощание</td>\n",
       "      <td>121028719</td>\n",
       "      <td>2019-10-07 12:00:00+00:00</td>\n",
       "      <td>Художественный</td>\n",
       "      <td>Биг Бич Филмз, Депз оф Филд, Киндред Спирит</td>\n",
       "      <td>США</td>\n",
       "      <td>Лулу Ванг</td>\n",
       "      <td>Анита Го, Даниэль Тейт Мелиа, Эндрю Миано</td>\n",
       "      <td>«16+» - для детей старше 16 лет</td>\n",
       "      <td>0.0</td>\n",
       "      <td>0.0</td>\n",
       "      <td>NaN</td>\n",
       "      <td>NaN</td>\n",
       "      <td>7.2</td>\n",
       "      <td>драма</td>\n",
       "      <td>2617932.50</td>\n",
       "      <td>16</td>\n",
       "    </tr>\n",
       "    <tr>\n",
       "      <th>7288</th>\n",
       "      <td>Игра с огнем</td>\n",
       "      <td>121029319</td>\n",
       "      <td>2019-10-10 12:00:00+00:00</td>\n",
       "      <td>Художественный</td>\n",
       "      <td>Йал Продакшнз, Хопскоч Пикчерз, Фильм Моуд Инт...</td>\n",
       "      <td>США</td>\n",
       "      <td>Майк Ган</td>\n",
       "      <td>Джордан Бекман, Суки Чю</td>\n",
       "      <td>«18+» - запрещено для детей</td>\n",
       "      <td>0.0</td>\n",
       "      <td>0.0</td>\n",
       "      <td>NaN</td>\n",
       "      <td>NaN</td>\n",
       "      <td>5.6</td>\n",
       "      <td>триллер</td>\n",
       "      <td>281077.00</td>\n",
       "      <td>18</td>\n",
       "    </tr>\n",
       "    <tr>\n",
       "      <th>7321</th>\n",
       "      <td>Успех</td>\n",
       "      <td>111018519</td>\n",
       "      <td>2019-11-04 12:00:00+00:00</td>\n",
       "      <td>Художественный</td>\n",
       "      <td>ООО \"Кинодом\"</td>\n",
       "      <td>Россия</td>\n",
       "      <td>П.Руминов</td>\n",
       "      <td>С.Бобза, Г.Малков, В.Поляков, М.Кучмент</td>\n",
       "      <td>«12+» - для детей старше 12 лет</td>\n",
       "      <td>5000000.0</td>\n",
       "      <td>20000000.0</td>\n",
       "      <td>75000000.0</td>\n",
       "      <td>Фонд кино</td>\n",
       "      <td>7.8</td>\n",
       "      <td>драма</td>\n",
       "      <td>3181218.00</td>\n",
       "      <td>12</td>\n",
       "    </tr>\n",
       "    <tr>\n",
       "      <th>7437</th>\n",
       "      <td>Зверь</td>\n",
       "      <td>121035919</td>\n",
       "      <td>2019-12-05 12:00:00+00:00</td>\n",
       "      <td>Художественный</td>\n",
       "      <td>Студио энд Нью</td>\n",
       "      <td>Южная Корея</td>\n",
       "      <td>Ли Джон-хо</td>\n",
       "      <td>Чан Гён-ик, Чон Джи-хун, Пэк Кён сук</td>\n",
       "      <td>«18+» - запрещено для детей</td>\n",
       "      <td>0.0</td>\n",
       "      <td>0.0</td>\n",
       "      <td>NaN</td>\n",
       "      <td>NaN</td>\n",
       "      <td>6.5</td>\n",
       "      <td>триллер,драма</td>\n",
       "      <td>175003.51</td>\n",
       "      <td>18</td>\n",
       "    </tr>\n",
       "  </tbody>\n",
       "</table>\n",
       "<p>228 rows × 17 columns</p>\n",
       "</div>"
      ],
      "text/plain": [
       "                                                  title   puNumber  \\\n",
       "110   Гарри Поттер и орден Феникса /По роману Дж.К.Р...  121026316   \n",
       "111   Гарри Поттер и тайная комната /По роману Дж.К....  121026016   \n",
       "113   Гарри Поттер и узник Азкабана /По роману Дж.К....  121026116   \n",
       "114   Гарри Поттер и философский камень /По роману Д...  121025916   \n",
       "122   Гарри Поттер и кубок огня /По роману Дж.К.Ролинг/  121026216   \n",
       "...                                                 ...        ...   \n",
       "6917                                          Дитя тьмы  121010819   \n",
       "7280                                           Прощание  121028719   \n",
       "7288                                       Игра с огнем  121029319   \n",
       "7321                                              Успех  111018519   \n",
       "7437                                              Зверь  121035919   \n",
       "\n",
       "               show_start_date             type  \\\n",
       "110  2016-09-23 12:00:00+00:00   Художественный   \n",
       "111  2016-09-23 12:00:00+00:00   Художественный   \n",
       "113  2016-09-23 12:00:00+00:00   Художественный   \n",
       "114  2016-09-23 12:00:00+00:00   Художественный   \n",
       "122  2016-09-23 12:00:00+00:00   Художественный   \n",
       "...                        ...              ...   \n",
       "6917 2019-05-23 12:00:00+00:00   Художественный   \n",
       "7280 2019-10-07 12:00:00+00:00   Художественный   \n",
       "7288 2019-10-10 12:00:00+00:00   Художественный   \n",
       "7321 2019-11-04 12:00:00+00:00   Художественный   \n",
       "7437 2019-12-05 12:00:00+00:00   Художественный   \n",
       "\n",
       "                                            film_studio    production_country  \\\n",
       "110                        Уорнер Бразерс, Хэйдей Филмз  США - Великобритания   \n",
       "111            Уорнер Бразерс, Хедэй Филмз/1492 Пикчерз                   США   \n",
       "113          Хэйдей Филмз, 1492 Пикчерз, Уорнер Бразерс                   США   \n",
       "114   Уорнер Бразерс, Хэйдэй Филмз/1492 Пикчерз/Данк...                   США   \n",
       "122                        Уорнер Бразерс, Хэйдэй Филмз  США - Великобритания   \n",
       "...                                                 ...                   ...   \n",
       "6917                                Брокен Миррор Фильм                Канада   \n",
       "7280        Биг Бич Филмз, Депз оф Филд, Киндред Спирит                   США   \n",
       "7288  Йал Продакшнз, Хопскоч Пикчерз, Фильм Моуд Инт...                   США   \n",
       "7321                                      ООО \"Кинодом\"                Россия   \n",
       "7437                                     Студио энд Нью           Южная Корея   \n",
       "\n",
       "             director                                   producer  \\\n",
       "110        Дэвид Йетс               Дэйвид Баррон, Дэйвид Хейман   \n",
       "111     Крис Коламбус                              Дейвид Хейман   \n",
       "113   Альфонсо Куарон                              Майкл Барната   \n",
       "114     Крис Коламбус                              Дейвид Хейман   \n",
       "122       Майк Ньюэлл                              Дэйвид Хейман   \n",
       "...               ...                                        ...   \n",
       "6917   Джереми Люттер  Джереми Люттер, Жослин Расселл, Робин Чан   \n",
       "7280        Лулу Ванг  Анита Го, Даниэль Тейт Мелиа, Эндрю Миано   \n",
       "7288         Майк Ган                    Джордан Бекман, Суки Чю   \n",
       "7321        П.Руминов    С.Бобза, Г.Малков, В.Поляков, М.Кучмент   \n",
       "7437       Ли Джон-хо       Чан Гён-ик, Чон Джи-хун, Пэк Кён сук   \n",
       "\n",
       "                      age_restriction  refundable_support  \\\n",
       "110   «16+» - для детей старше 16 лет                 0.0   \n",
       "111   «12+» - для детей старше 12 лет                 0.0   \n",
       "113   «12+» - для детей старше 12 лет                 0.0   \n",
       "114   «12+» - для детей старше 12 лет                 0.0   \n",
       "122   «16+» - для детей старше 16 лет                 0.0   \n",
       "...                               ...                 ...   \n",
       "6917      «18+» - запрещено для детей                 0.0   \n",
       "7280  «16+» - для детей старше 16 лет                 0.0   \n",
       "7288      «18+» - запрещено для детей                 0.0   \n",
       "7321  «12+» - для детей старше 12 лет           5000000.0   \n",
       "7437      «18+» - запрещено для детей                 0.0   \n",
       "\n",
       "      nonrefundable_support      budget financing_source  ratings  \\\n",
       "110                     0.0         NaN              NaN      7.7   \n",
       "111                     0.0         NaN              NaN      8.0   \n",
       "113                     0.0         NaN              NaN      8.2   \n",
       "114                     0.0         NaN              NaN      8.2   \n",
       "122                     0.0         NaN              NaN      7.9   \n",
       "...                     ...         ...              ...      ...   \n",
       "6917                    0.0         NaN              NaN      6.9   \n",
       "7280                    0.0         NaN              NaN      7.2   \n",
       "7288                    0.0         NaN              NaN      5.6   \n",
       "7321             20000000.0  75000000.0        Фонд кино      7.8   \n",
       "7437                    0.0         NaN              NaN      6.5   \n",
       "\n",
       "                            genres  box_office  age_restr  \n",
       "110   фэнтези,приключения,семейный   759526.00         16  \n",
       "111   фэнтези,приключения,семейный  1093810.00         12  \n",
       "113   фэнтези,приключения,семейный  1125302.00         12  \n",
       "114   фэнтези,приключения,семейный  1948760.00         12  \n",
       "122   фэнтези,приключения,семейный   843310.00         16  \n",
       "...                            ...         ...        ...  \n",
       "6917        ужасы,триллер,детектив  2276644.94         18  \n",
       "7280                         драма  2617932.50         16  \n",
       "7288                       триллер   281077.00         18  \n",
       "7321                         драма  3181218.00         12  \n",
       "7437                 триллер,драма   175003.51         18  \n",
       "\n",
       "[228 rows x 17 columns]"
      ]
     },
     "execution_count": 60,
     "metadata": {},
     "output_type": "execute_result"
    }
   ],
   "source": [
    "data[data['title'].isin(data[data['title'].duplicated()]['title'].unique())].query(('box_office > 0'))"
   ]
  },
  {
   "cell_type": "code",
   "execution_count": 61,
   "metadata": {},
   "outputs": [
    {
     "data": {
      "text/html": [
       "<div>\n",
       "<style scoped>\n",
       "    .dataframe tbody tr th:only-of-type {\n",
       "        vertical-align: middle;\n",
       "    }\n",
       "\n",
       "    .dataframe tbody tr th {\n",
       "        vertical-align: top;\n",
       "    }\n",
       "\n",
       "    .dataframe thead th {\n",
       "        text-align: right;\n",
       "    }\n",
       "</style>\n",
       "<table border=\"1\" class=\"dataframe\">\n",
       "  <thead>\n",
       "    <tr style=\"text-align: right;\">\n",
       "      <th></th>\n",
       "      <th>title</th>\n",
       "      <th>puNumber</th>\n",
       "      <th>show_start_date</th>\n",
       "      <th>type</th>\n",
       "      <th>film_studio</th>\n",
       "      <th>production_country</th>\n",
       "      <th>director</th>\n",
       "      <th>producer</th>\n",
       "      <th>age_restriction</th>\n",
       "      <th>refundable_support</th>\n",
       "      <th>nonrefundable_support</th>\n",
       "      <th>budget</th>\n",
       "      <th>financing_source</th>\n",
       "      <th>ratings</th>\n",
       "      <th>genres</th>\n",
       "      <th>box_office</th>\n",
       "      <th>age_restr</th>\n",
       "    </tr>\n",
       "  </thead>\n",
       "  <tbody>\n",
       "    <tr>\n",
       "      <th>7321</th>\n",
       "      <td>Успех</td>\n",
       "      <td>111018519</td>\n",
       "      <td>2019-11-04 12:00:00+00:00</td>\n",
       "      <td>Художественный</td>\n",
       "      <td>ООО \"Кинодом\"</td>\n",
       "      <td>Россия</td>\n",
       "      <td>П.Руминов</td>\n",
       "      <td>С.Бобза, Г.Малков, В.Поляков, М.Кучмент</td>\n",
       "      <td>«12+» - для детей старше 12 лет</td>\n",
       "      <td>5000000.0</td>\n",
       "      <td>20000000.0</td>\n",
       "      <td>75000000.0</td>\n",
       "      <td>Фонд кино</td>\n",
       "      <td>7.8</td>\n",
       "      <td>драма</td>\n",
       "      <td>3181218.0</td>\n",
       "      <td>12</td>\n",
       "    </tr>\n",
       "    <tr>\n",
       "      <th>7473</th>\n",
       "      <td>Вторжение</td>\n",
       "      <td>111022519</td>\n",
       "      <td>2019-12-23 12:00:00+00:00</td>\n",
       "      <td>Художественный</td>\n",
       "      <td>ООО \"Арт Пикчерс Студия\", ООО \"Водород 2011\"</td>\n",
       "      <td>Россия</td>\n",
       "      <td>Ф.Бондарчук</td>\n",
       "      <td>Ф.Бондарчук, М.Врубель, А.Андрющенко, Д.Рудовский</td>\n",
       "      <td>«12+» - для детей старше 12 лет</td>\n",
       "      <td>100000000.0</td>\n",
       "      <td>400000000.0</td>\n",
       "      <td>944000000.0</td>\n",
       "      <td>Фонд кино</td>\n",
       "      <td>5.7</td>\n",
       "      <td>фантастика,боевик</td>\n",
       "      <td>0.0</td>\n",
       "      <td>12</td>\n",
       "    </tr>\n",
       "  </tbody>\n",
       "</table>\n",
       "</div>"
      ],
      "text/plain": [
       "          title   puNumber           show_start_date             type  \\\n",
       "7321      Успех  111018519 2019-11-04 12:00:00+00:00   Художественный   \n",
       "7473  Вторжение  111022519 2019-12-23 12:00:00+00:00   Художественный   \n",
       "\n",
       "                                       film_studio production_country  \\\n",
       "7321                                 ООО \"Кинодом\"             Россия   \n",
       "7473  ООО \"Арт Пикчерс Студия\", ООО \"Водород 2011\"             Россия   \n",
       "\n",
       "          director                                           producer  \\\n",
       "7321     П.Руминов            С.Бобза, Г.Малков, В.Поляков, М.Кучмент   \n",
       "7473   Ф.Бондарчук  Ф.Бондарчук, М.Врубель, А.Андрющенко, Д.Рудовский   \n",
       "\n",
       "                      age_restriction  refundable_support  \\\n",
       "7321  «12+» - для детей старше 12 лет           5000000.0   \n",
       "7473  «12+» - для детей старше 12 лет         100000000.0   \n",
       "\n",
       "      nonrefundable_support       budget financing_source  ratings  \\\n",
       "7321             20000000.0   75000000.0        Фонд кино      7.8   \n",
       "7473            400000000.0  944000000.0        Фонд кино      5.7   \n",
       "\n",
       "                 genres  box_office  age_restr  \n",
       "7321              драма   3181218.0         12  \n",
       "7473  фантастика,боевик         0.0         12  "
      ]
     },
     "execution_count": 61,
     "metadata": {},
     "output_type": "execute_result"
    }
   ],
   "source": [
    "data[data['title'].isin(data[data['title'].duplicated()]['title'].unique())].query((('refundable_support > 0') \\\n",
    "                                                                                    or ('nonrefundable_support > 0')) )"
   ]
  },
  {
   "cell_type": "markdown",
   "metadata": {},
   "source": [
    "Для фильмов, дублирующихся по названию, только для 228-ми указана величина кассовых сборов, и только для двух указана велична государственного финансирования. \n",
    "\n",
    "Посмотрим, нет ли среди выбранных 228 фильмов в свою очередь дубликотов по названию."
   ]
  },
  {
   "cell_type": "code",
   "execution_count": 62,
   "metadata": {},
   "outputs": [
    {
     "data": {
      "text/plain": [
       "30"
      ]
     },
     "execution_count": 62,
     "metadata": {},
     "output_type": "execute_result"
    }
   ],
   "source": [
    "data[data['title'].isin(data[data['title'].duplicated()]['title'].unique())].query(('box_office > 0'))['title']\\\n",
    "      .duplicated().sum()"
   ]
  },
  {
   "cell_type": "code",
   "execution_count": 63,
   "metadata": {},
   "outputs": [
    {
     "data": {
      "text/html": [
       "<div>\n",
       "<style scoped>\n",
       "    .dataframe tbody tr th:only-of-type {\n",
       "        vertical-align: middle;\n",
       "    }\n",
       "\n",
       "    .dataframe tbody tr th {\n",
       "        vertical-align: top;\n",
       "    }\n",
       "\n",
       "    .dataframe thead th {\n",
       "        text-align: right;\n",
       "    }\n",
       "</style>\n",
       "<table border=\"1\" class=\"dataframe\">\n",
       "  <thead>\n",
       "    <tr style=\"text-align: right;\">\n",
       "      <th></th>\n",
       "      <th>title</th>\n",
       "      <th>puNumber</th>\n",
       "      <th>show_start_date</th>\n",
       "      <th>type</th>\n",
       "      <th>film_studio</th>\n",
       "      <th>production_country</th>\n",
       "      <th>director</th>\n",
       "      <th>producer</th>\n",
       "      <th>age_restriction</th>\n",
       "      <th>refundable_support</th>\n",
       "      <th>nonrefundable_support</th>\n",
       "      <th>budget</th>\n",
       "      <th>financing_source</th>\n",
       "      <th>ratings</th>\n",
       "      <th>genres</th>\n",
       "      <th>box_office</th>\n",
       "      <th>age_restr</th>\n",
       "    </tr>\n",
       "  </thead>\n",
       "  <tbody>\n",
       "    <tr>\n",
       "      <th>309</th>\n",
       "      <td>Успех</td>\n",
       "      <td>111027414</td>\n",
       "      <td>2014-12-24 12:00:00+00:00</td>\n",
       "      <td>Художественный</td>\n",
       "      <td>Киностудия \"Мосфильм\"</td>\n",
       "      <td>СССР</td>\n",
       "      <td>К.Худяков</td>\n",
       "      <td>другое</td>\n",
       "      <td>«12+» - для детей старше 12 лет</td>\n",
       "      <td>0.0</td>\n",
       "      <td>0.0</td>\n",
       "      <td>NaN</td>\n",
       "      <td>NaN</td>\n",
       "      <td>7.8</td>\n",
       "      <td>драма</td>\n",
       "      <td>0.0</td>\n",
       "      <td>12</td>\n",
       "    </tr>\n",
       "    <tr>\n",
       "      <th>5936</th>\n",
       "      <td>Успех</td>\n",
       "      <td>111008418</td>\n",
       "      <td>2018-06-14 12:00:00+00:00</td>\n",
       "      <td>Художественный</td>\n",
       "      <td>Сунцов Валентин Валерьевич</td>\n",
       "      <td>Россия</td>\n",
       "      <td>В.Сунцов</td>\n",
       "      <td>В.Сунцов</td>\n",
       "      <td>«12+» - для детей старше 12 лет</td>\n",
       "      <td>0.0</td>\n",
       "      <td>0.0</td>\n",
       "      <td>NaN</td>\n",
       "      <td>NaN</td>\n",
       "      <td>7.8</td>\n",
       "      <td>драма</td>\n",
       "      <td>0.0</td>\n",
       "      <td>12</td>\n",
       "    </tr>\n",
       "    <tr>\n",
       "      <th>7321</th>\n",
       "      <td>Успех</td>\n",
       "      <td>111018519</td>\n",
       "      <td>2019-11-04 12:00:00+00:00</td>\n",
       "      <td>Художественный</td>\n",
       "      <td>ООО \"Кинодом\"</td>\n",
       "      <td>Россия</td>\n",
       "      <td>П.Руминов</td>\n",
       "      <td>С.Бобза, Г.Малков, В.Поляков, М.Кучмент</td>\n",
       "      <td>«12+» - для детей старше 12 лет</td>\n",
       "      <td>5000000.0</td>\n",
       "      <td>20000000.0</td>\n",
       "      <td>75000000.0</td>\n",
       "      <td>Фонд кино</td>\n",
       "      <td>7.8</td>\n",
       "      <td>драма</td>\n",
       "      <td>3181218.0</td>\n",
       "      <td>12</td>\n",
       "    </tr>\n",
       "  </tbody>\n",
       "</table>\n",
       "</div>"
      ],
      "text/plain": [
       "      title   puNumber           show_start_date             type  \\\n",
       "309   Успех  111027414 2014-12-24 12:00:00+00:00   Художественный   \n",
       "5936  Успех  111008418 2018-06-14 12:00:00+00:00   Художественный   \n",
       "7321  Успех  111018519 2019-11-04 12:00:00+00:00   Художественный   \n",
       "\n",
       "                     film_studio production_country   director  \\\n",
       "309        Киностудия \"Мосфильм\"               СССР  К.Худяков   \n",
       "5936  Сунцов Валентин Валерьевич             Россия   В.Сунцов   \n",
       "7321               ООО \"Кинодом\"             Россия  П.Руминов   \n",
       "\n",
       "                                     producer  \\\n",
       "309                                    другое   \n",
       "5936                                 В.Сунцов   \n",
       "7321  С.Бобза, Г.Малков, В.Поляков, М.Кучмент   \n",
       "\n",
       "                      age_restriction  refundable_support  \\\n",
       "309   «12+» - для детей старше 12 лет                 0.0   \n",
       "5936  «12+» - для детей старше 12 лет                 0.0   \n",
       "7321  «12+» - для детей старше 12 лет           5000000.0   \n",
       "\n",
       "      nonrefundable_support      budget financing_source  ratings genres  \\\n",
       "309                     0.0         NaN              NaN      7.8  драма   \n",
       "5936                    0.0         NaN              NaN      7.8  драма   \n",
       "7321             20000000.0  75000000.0        Фонд кино      7.8  драма   \n",
       "\n",
       "      box_office  age_restr  \n",
       "309          0.0         12  \n",
       "5936         0.0         12  \n",
       "7321   3181218.0         12  "
      ]
     },
     "execution_count": 63,
     "metadata": {},
     "output_type": "execute_result"
    }
   ],
   "source": [
    "data[data['title']=='Успех']"
   ]
  },
  {
   "cell_type": "code",
   "execution_count": 64,
   "metadata": {},
   "outputs": [
    {
     "data": {
      "text/html": [
       "<div>\n",
       "<style scoped>\n",
       "    .dataframe tbody tr th:only-of-type {\n",
       "        vertical-align: middle;\n",
       "    }\n",
       "\n",
       "    .dataframe tbody tr th {\n",
       "        vertical-align: top;\n",
       "    }\n",
       "\n",
       "    .dataframe thead th {\n",
       "        text-align: right;\n",
       "    }\n",
       "</style>\n",
       "<table border=\"1\" class=\"dataframe\">\n",
       "  <thead>\n",
       "    <tr style=\"text-align: right;\">\n",
       "      <th></th>\n",
       "      <th>title</th>\n",
       "      <th>puNumber</th>\n",
       "      <th>show_start_date</th>\n",
       "      <th>type</th>\n",
       "      <th>film_studio</th>\n",
       "      <th>production_country</th>\n",
       "      <th>director</th>\n",
       "      <th>producer</th>\n",
       "      <th>age_restriction</th>\n",
       "      <th>refundable_support</th>\n",
       "      <th>nonrefundable_support</th>\n",
       "      <th>budget</th>\n",
       "      <th>financing_source</th>\n",
       "      <th>ratings</th>\n",
       "      <th>genres</th>\n",
       "      <th>box_office</th>\n",
       "      <th>age_restr</th>\n",
       "    </tr>\n",
       "  </thead>\n",
       "  <tbody>\n",
       "    <tr>\n",
       "      <th>5429</th>\n",
       "      <td>Вторжение</td>\n",
       "      <td>124002417</td>\n",
       "      <td>2017-08-01 12:00:00+00:00</td>\n",
       "      <td>Анимационный</td>\n",
       "      <td>Баобаб Студиос</td>\n",
       "      <td>США</td>\n",
       "      <td>Эрик Дарнелл</td>\n",
       "      <td>другое</td>\n",
       "      <td>«6+» - для детей старше 6 лет</td>\n",
       "      <td>0.0</td>\n",
       "      <td>0.0</td>\n",
       "      <td>NaN</td>\n",
       "      <td>NaN</td>\n",
       "      <td>5.7</td>\n",
       "      <td>фантастика,боевик</td>\n",
       "      <td>0.0</td>\n",
       "      <td>6</td>\n",
       "    </tr>\n",
       "    <tr>\n",
       "      <th>7473</th>\n",
       "      <td>Вторжение</td>\n",
       "      <td>111022519</td>\n",
       "      <td>2019-12-23 12:00:00+00:00</td>\n",
       "      <td>Художественный</td>\n",
       "      <td>ООО \"Арт Пикчерс Студия\", ООО \"Водород 2011\"</td>\n",
       "      <td>Россия</td>\n",
       "      <td>Ф.Бондарчук</td>\n",
       "      <td>Ф.Бондарчук, М.Врубель, А.Андрющенко, Д.Рудовский</td>\n",
       "      <td>«12+» - для детей старше 12 лет</td>\n",
       "      <td>100000000.0</td>\n",
       "      <td>400000000.0</td>\n",
       "      <td>944000000.0</td>\n",
       "      <td>Фонд кино</td>\n",
       "      <td>5.7</td>\n",
       "      <td>фантастика,боевик</td>\n",
       "      <td>0.0</td>\n",
       "      <td>12</td>\n",
       "    </tr>\n",
       "  </tbody>\n",
       "</table>\n",
       "</div>"
      ],
      "text/plain": [
       "          title   puNumber           show_start_date             type  \\\n",
       "5429  Вторжение  124002417 2017-08-01 12:00:00+00:00     Анимационный   \n",
       "7473  Вторжение  111022519 2019-12-23 12:00:00+00:00   Художественный   \n",
       "\n",
       "                                       film_studio production_country  \\\n",
       "5429                                Баобаб Студиос                США   \n",
       "7473  ООО \"Арт Пикчерс Студия\", ООО \"Водород 2011\"             Россия   \n",
       "\n",
       "          director                                           producer  \\\n",
       "5429  Эрик Дарнелл                                             другое   \n",
       "7473   Ф.Бондарчук  Ф.Бондарчук, М.Врубель, А.Андрющенко, Д.Рудовский   \n",
       "\n",
       "                      age_restriction  refundable_support  \\\n",
       "5429    «6+» - для детей старше 6 лет                 0.0   \n",
       "7473  «12+» - для детей старше 12 лет         100000000.0   \n",
       "\n",
       "      nonrefundable_support       budget financing_source  ratings  \\\n",
       "5429                    0.0          NaN              NaN      5.7   \n",
       "7473            400000000.0  944000000.0        Фонд кино      5.7   \n",
       "\n",
       "                 genres  box_office  age_restr  \n",
       "5429  фантастика,боевик         0.0          6  \n",
       "7473  фантастика,боевик         0.0         12  "
      ]
     },
     "execution_count": 64,
     "metadata": {},
     "output_type": "execute_result"
    }
   ],
   "source": [
    "data[data['title']=='Вторжение']"
   ]
  },
  {
   "cell_type": "markdown",
   "metadata": {},
   "source": [
    "По крайней мере для 30 фильмов у нас есть несколько записей с ненулевой величиной касоовых сборов в кинотеатрах. В случае анализа величины кассовых сборов необходимо учитывать, что для одного и того же фильма может быть несколько записей с разными прокатными удостоверениями, где указаны свои величины кассовых сборов.\n",
    "\n",
    "Для фильмов, где указано госфинансирование, информация о бюджетах и сборах приводится только в одной из строк, поэтому сложностей при анализе финансовой эффективности возникнуть не должно."
   ]
  },
  {
   "cell_type": "markdown",
   "metadata": {},
   "source": [
    "<div class=\"alert alert-success\">\n",
    "    \n",
    "<b> Комментарий от ревьюера ✔️</b>\n",
    "    \n",
    "Здорово, что так подробно изучил дубликаты! Тут все отлично \n",
    "\n",
    "</div>"
   ]
  },
  {
   "cell_type": "markdown",
   "metadata": {
    "id": "52fOPrEBgFyQ"
   },
   "source": [
    "#### Шаг 2.4. Изучите категориальные значения\n",
    "\n",
    "- Посмотрите, какая общая проблема встречается почти во всех категориальных столбцах;\n",
    "- Исправьте проблемные значения в поле `type`.\n",
    "\n",
    "<div id=\"accordion\">\n",
    "    <div class=\"card\">\n",
    "        <div class=\"card-header\" id=\"headingThree\">\n",
    "            <button class=\"btn btn-link collapsed\" data-toggle=\"collapse\" data-target=\"#collapseHint_1\" aria-expanded=\"false\" aria-controls=\"collapseHint_1\">Подсказка</button>\n",
    "        </div>\n",
    "        <div id=\"collapseHint_1\" class=\"collapse\" aria-labelledby=\"headingThree\" data-parent=\"#accordion\">\n",
    "            <div class=\"card-body\">\n",
    "В поле <code>type</code> есть несколько значений, у которых появился пробел в начале строки. Самый простой способ их «починить» -- использовать метод <a href=\"https://pandas.pydata.org/docs/reference/api/pandas.Series.str.strip.html#pandas.Series.str.strip\">.str.strip</a>. Этот метод удаляет все пробелы, которые встречаются в начале и в конце строки. Применяют его таким образом:<br>\n",
    "<code>df['type'].str.strip()</code>\n",
    "            </div>\n",
    "        </div>\n",
    "    </div>\n",
    "</div>"
   ]
  },
  {
   "cell_type": "markdown",
   "metadata": {
    "id": "PnXKIVdFgFyR"
   },
   "source": [
    "Проанализируем занчения в таких категориальных столбцах, как\n",
    "`type`, `production_country`, `financing_source` и `genres`"
   ]
  },
  {
   "cell_type": "code",
   "execution_count": 65,
   "metadata": {},
   "outputs": [
    {
     "data": {
      "text/plain": [
       "array(['Художественный', 'Анимационный', 'Прочие', 'Документальный',\n",
       "       'Научно-популярный', ' Художественный', ' Анимационный',\n",
       "       'Музыкально-развлекательный'], dtype=object)"
      ]
     },
     "execution_count": 65,
     "metadata": {},
     "output_type": "execute_result"
    }
   ],
   "source": [
    "data['type'].unique()"
   ]
  },
  {
   "cell_type": "markdown",
   "metadata": {},
   "source": [
    "Видно, что в целом написание типа фильма одинаковое, однако в некоторых местах встречаются пробелы перед наименованием категории. Удалим эти пробелы."
   ]
  },
  {
   "cell_type": "code",
   "execution_count": 66,
   "metadata": {},
   "outputs": [],
   "source": [
    "data['type'] = data['type'].str.strip()"
   ]
  },
  {
   "cell_type": "code",
   "execution_count": 67,
   "metadata": {},
   "outputs": [
    {
     "data": {
      "text/plain": [
       "array(['Художественный', 'Анимационный', 'Прочие', 'Документальный',\n",
       "       'Научно-популярный', 'Музыкально-развлекательный'], dtype=object)"
      ]
     },
     "execution_count": 67,
     "metadata": {},
     "output_type": "execute_result"
    }
   ],
   "source": [
    "data['type'].unique()"
   ]
  },
  {
   "cell_type": "markdown",
   "metadata": {},
   "source": [
    "<div class=\"alert alert-success\">\n",
    "    \n",
    "<b> Комментарий от ревьюера ✔️</b>\n",
    "    \n",
    "Все верно \n",
    "\n",
    "</div>"
   ]
  },
  {
   "cell_type": "code",
   "execution_count": 68,
   "metadata": {},
   "outputs": [
    {
     "data": {
      "text/plain": [
       "array(['США', 'СССР', 'Франция', 'СССР, Венгрия',\n",
       "       'Германия-Великобритания', 'Великобритания - Италия',\n",
       "       'Чехословакия', 'США - Франция - Турция', 'Новая Зеландия',\n",
       "       'Канада - Франция - Испания', 'США-Германия',\n",
       "       'США - Великобритания', 'Великобритания', 'США - Германия',\n",
       "       'Франция - Мексика - США', 'Россия, Казахстан, США',\n",
       "       'СССР, Швеция', 'СССР, Франция, Англия, Куба, ГДР', 'Германия',\n",
       "       'Великобритания-США-Германия-КНР',\n",
       "       'СССР, ЧССР, Западный Берлин, ПНР', 'СССР, Италия', 'Гонконг, КНР',\n",
       "       'США - Франция', 'США - Япония - Франция - Великобритания',\n",
       "       'Гонконг - Сингапур - Таиланд - Великобритания', 'США-Канада',\n",
       "       'Франция - Италия - Великобритания - США', 'Франция - США',\n",
       "       'Ирландия-Великобритания-Германия', 'Чехия', 'США-Австралия',\n",
       "       'СССР, Финляндия', 'США-Франция-Великобритания-Австрия',\n",
       "       'США - Бельгия', 'США - Ирландия - Великобритания',\n",
       "       'Великобритания - США',\n",
       "       'Люксембург - Нидерланды - Испания - Великобритания - США - Италия',\n",
       "       'Великобритания - Франция - США', 'Новая Зеландия - США',\n",
       "       'США - Великобритания - Чехия',\n",
       "       'Канада - Франция - Великобритания', 'Ирландия',\n",
       "       'Великобритания - Германия - США',\n",
       "       'США - Франция - Великобритания', 'Япония', 'СССР, Польша',\n",
       "       'Франция - Испания', 'Канада-Франция', 'Германия - Италия - США',\n",
       "       'Аргентина - Бразилия', 'Дания - Швейцария - Бельгия - Франция',\n",
       "       'США - Испания', 'Германия - США',\n",
       "       'Франция - Австрия - Германия - Италия - США', 'Австрия',\n",
       "       'США - Канада - Германия', 'США - Канада',\n",
       "       'СССР - Швейцария - Франция', 'Россия - Казахстан', 'Гонконг',\n",
       "       'Италия', 'США - ОАЭ', 'Россия',\n",
       "       'США - Франция - Испания - Великобритания',\n",
       "       'Великобритания - Франция', 'США-Италия-Испания-Аргентина',\n",
       "       'Франция-Великобритания', 'КНР - Гонконг',\n",
       "       'Франция - Италия - Швейцария', 'США - Новая Зеландия',\n",
       "       'Франция - Бельгия', 'КНР', 'Германия - Великобритания - Австрия',\n",
       "       'Великобритания - Израиль - Франция - Япония - США', 'Швеция',\n",
       "       'Испания', 'Дания', 'Франция - Бельгия - Люксембург',\n",
       "       'США - Индия - ОАЭ',\n",
       "       'Германия-Канада-Великобритания-Швейцария-Франция',\n",
       "       'Мексика - Чили', 'Аргентина', 'Бразилия', 'Чили', 'Австралия',\n",
       "       'Португалия - Франция', 'США - ЮАР', 'Исландия-Ирландия-Германия',\n",
       "       'США-Индонезия', 'Южная Корея', 'Мексика - Испания - Дания - США',\n",
       "       'Великобритания-США', 'Франция - Италия', 'США-Франция',\n",
       "       'США - Венгрия - Великобритания', 'Бельгия-Франция-Италия',\n",
       "       'Чехия - Германия', 'Германия - Франция', 'США-Нидерланды',\n",
       "       'Украина', 'Великобритания - Германия', 'Франция-Бельгия',\n",
       "       'США-Франция-Испания', 'Италия - Франция', 'Канада',\n",
       "       'Швеция-Франция-Дания', 'Германия-Франция-Польша',\n",
       "       'Франция-Великобритания - Германия',\n",
       "       'США - Бразилия - Франция - Австралия - Великобритания - Германия',\n",
       "       'Германия-Австрия', 'Германия-Италия- Шри-Ланка',\n",
       "       'Великобритания - Испания',\n",
       "       'США - Великобритания - Канада - Швеция',\n",
       "       'Босния и Герцеговина - Франция - Великобритания - Германия - Словения - Бельгия - Сербия',\n",
       "       'Великобритания - Франция - Италия - США', 'США-ОАЭ',\n",
       "       'Испания - Франция', 'США-Великобритания', 'США-ЮАР',\n",
       "       'Великобритания-Австралия - США',\n",
       "       'Норвегия - Швеция - Дания - Германия', 'Норвегия', 'Швейцария',\n",
       "       'Греция - Германия - Франция', 'Норвения', 'Южная Корея - США',\n",
       "       'Чили - Франция - США', 'Австрия - Германия - Франция',\n",
       "       'Швеция - Дания', 'Великобритания - Франция - Бельгия - Италия',\n",
       "       'Франция - Германия', 'Грузия - Франция - Люксембург',\n",
       "       'США - Франция - Великобритания - Бразилия ', 'США - КНР',\n",
       "       'Мексика - Франция', 'США - Германия - Гонконг - Сингапур',\n",
       "       'Финляндия - Австрия - Россия', 'Испания - Куба',\n",
       "       'Великобритания - ЮАР', 'Великобритания - Ирландия', 'Израиль',\n",
       "       'Бразилия - Германия - Порртугалия - Франция ',\n",
       "       'Франция - Канада - Бельгия', 'Франция-Испания',\n",
       "       'Испания - Канада - Япония', 'Иран', 'Швеция-Куба',\n",
       "       'США-Великобритания-Ирландия', 'Гонконг - КНР', 'Нидерланды',\n",
       "       'Испания - Канада', 'Япония-Великобритания',\n",
       "       'Великобритания - Норвегия - Дания - Германия',\n",
       "       'Финляндия - Франция - Германия',\n",
       "       'Мексика - Франция - Нидерланды - Германия', 'США - Индия',\n",
       "       'США-Великобритания-Индия', 'США-Канада-Бельгия',\n",
       "       'Республика Узбекистан', 'Италия ', 'Турция',\n",
       "       'Сербия - Словения - Хорватия - Черногория - Македония',\n",
       "       'Киргизия', 'Германия - Нидерланды - Беларусь - Россия - Латвия',\n",
       "       'Индия', 'Нидерланды - Россия - Германия',\n",
       "       'Великобритания - Нидерланды - Франция - Хорватия',\n",
       "       'Канада - Южная Корея',\n",
       "       'Великобритания - Польша - КНР - Индия - Норвегия',\n",
       "       'Япония - Франция - США - Южная Корея - Турция',\n",
       "       'Мексика - Аргентина - Великобритания', 'Израиль - Франция',\n",
       "       'Польша - Португалия - Франция - Великобритания',\n",
       "       'Австралия - США', 'США - Великобритания ',\n",
       "       'Франция - Люксембург - Бельгия', 'Армения',\n",
       "       'Бельгия - Люксембург - Франция - Швейцария',\n",
       "       'США - Великобритания - Канада', 'Норвегия - Швеция',\n",
       "       'Канада - Франция', 'КНР - Гонконг - США',\n",
       "       'США - Сингапур - Малайзия - Индонезия', 'Германия - Россия',\n",
       "       'Япония - Канада', 'Финляндия - Дания - Германия - Ирландия',\n",
       "       'Франция - Люксембург - Германия - Бельгия - Швейцария - Великобритания ',\n",
       "       'Канада - США', 'США-Италия-Испания', 'США-Испания',\n",
       "       'США - Швейцария - Франция', 'Испания - США - Колумбия',\n",
       "       'Канада-ЮАР', 'Франция - Россия',\n",
       "       'Германия - Финляндия - Австралия', 'Дания - Швеция', 'Бельгия',\n",
       "       'Германия - Франция - Австрия', 'Франция-Индия', 'ЮАР',\n",
       "       'Франция-Перу', 'Франция - Канада', 'Республика Беларусь',\n",
       "       'Великобритания - Австрия - Франция - США',\n",
       "       'Австрия-Германия-Франция', 'США-Россия', 'Германия-США',\n",
       "       'США - Южная Корея', 'Канада - КНР',\n",
       "       'Дания - Швеция - Италия - Франция - Германия',\n",
       "       'Франция-Италия-Испания-Венгрия', 'Франция - Германия - Бельгия',\n",
       "       'Франция-Великобритания-Чехия', 'Румыния - Франция - Бельгия',\n",
       "       'Болгария - Франция - Изриль',\n",
       "       'Израиль - Германия - Польша - Бельгия - Франция - Люксембург',\n",
       "       'Россия, Германия, Франция, Бельгия', 'Индонезия',\n",
       "       'Франция - Португалия', 'Великобритания - Пуэрто-Рико',\n",
       "       'СССР, ФРГ, Западный Берлин', 'Россия, Республика Беларусь',\n",
       "       'США, Великобритания', 'Франция - Австрия', 'Бельгия-Нидерланды',\n",
       "       'Великобритания - США - Индия', 'США - Великобритания - Австралия',\n",
       "       'Канада - Франция - США - ОАЭ - Великобритания',\n",
       "       'США - Австралия - Франция',\n",
       "       'Дания-Франция-Бельгия-Германия-Великобритания',\n",
       "       'Испания - Аргентина', 'Исландия - Финляндия',\n",
       "       'Россия-Польша-Голландия-Словакия', 'Дания - Германия - Швеция',\n",
       "       'Южная Корея - США - Канада', 'Таиланд', 'США-Мальта',\n",
       "       'США -Германия',\n",
       "       'Великобритания - Германия - Франция - Кипр - США', 'Мексика',\n",
       "       'США - Великобритания - Ирландия', 'США - Украина',\n",
       "       'США - Финляндия - Испания - Великобритания - Франция',\n",
       "       'Австралия-Великобритания',\n",
       "       'США - Канада - Афганистан - Бельгия - Франция',\n",
       "       'США - Великобритания - Германия - Новая Зеландия - Бельгия - Франция',\n",
       "       'Франция-Канада',\n",
       "       'Ирландия - Финляндия - Бельгия - Великобритания - США - Швейцария',\n",
       "       'Малайзия - США', 'Германия - Италия',\n",
       "       'США - Франция - Бельгия - Италия', 'Франция - Ирландия - Швеция',\n",
       "       'Азербайджан-Россия', 'Великобритания - Италия - Швейцария',\n",
       "       'США - Германия - Великобритания',\n",
       "       'Германия - Бельгия - США -Франция', 'США-Китай', 'Чили - Испания',\n",
       "       'Франция - Швейцария', 'Канада - Испания',\n",
       "       'США - Румыния - Великобритания', 'США - Япония',\n",
       "       'США - Россия - Франция', 'Франция-США', 'Парагвай',\n",
       "       'Германия - Канада', 'США - Канада - Великобритания',\n",
       "       'Финляндия - Канада', 'Уругвай-Мексика-Германия ', 'США - Чили',\n",
       "       'Германия - Аргентина - Нидерланды - Чили',\n",
       "       'США - Канада - Индонезия', 'Армения - Казахстан', 'Финляндия',\n",
       "       'Испания - Италия - Франция',\n",
       "       'Бельгия - Испания - Канада - Нидерланды',\n",
       "       'Великобритания - Франция - Швеция - Бельгия',\n",
       "       'Мексика - Эквадор - Канада - США - Франция - Малайзия - Италия - Аргентина - Германия - Индия  ',\n",
       "       'Франция - Бенльгия', 'Индия - Великобритания',\n",
       "       'Япония - Великобритания - Франция',\n",
       "       'Испания - Уругвай - Аргентина',\n",
       "       'Франция - Италия - Бельгия - Люксембург',\n",
       "       'Франция - Украина - Грузия - Армения',\n",
       "       'Сербия - Германия - Венгрия', 'Франция-Польша', 'Франция ',\n",
       "       'Румыния-США', 'Россия-Азербайджан',\n",
       "       'США - Нидерланды - Бельгия - Венгрия - Греция - Канада',\n",
       "       'Германия - Франция - Люксембург', 'США - Россия',\n",
       "       'Великобритания - США - Франция', 'США - Австралия - Дания',\n",
       "       'Бельгия-Франция', 'США-Мексика',\n",
       "       'Норвегия - Азербайджан - Россия - Колумбия - Великобритания - Венгрия - Румыния - Франция - Грузия',\n",
       "       'СЩА', 'Бразилия - Испания', 'Россия, Франция, Латвия',\n",
       "       'Нидерланды - США - Германия - Канада - Франция - Ирландия - Великобритания',\n",
       "       'Уругвай - Колумбия', 'США - Испания - Болгария',\n",
       "       'Армения - Германия', 'США - Великобритания- Франция - Швеция',\n",
       "       'США - Мексика', 'Австралия-Турция-США', 'Швеция - Германия',\n",
       "       'Польша - Италия - Россия', 'Франция - Бразилия',\n",
       "       'США - Канада - КНР', 'СССР, Венгрия, ЧССР, ГДР',\n",
       "       'Бельгия - Германия - Люксембург', 'СССР  ', 'СССР ', ' СССР ',\n",
       "       'США - Австралия', 'Бразилия - США',\n",
       "       'США - Великобритания - Канада - КНР', 'Франция - Чили',\n",
       "       'Франция - США - Великобритания - Колумбия - Бельгия - Россия',\n",
       "       'Дания - Великобритания - ЮАР', 'СССР   ',\n",
       "       'Россия-США-Канада-Люксембург', 'Россия - Республика Кипр',\n",
       "       'Германия - США - Швеция - Франция',\n",
       "       'Великобритания-Германия-Канада-ЮАР', ' СССР   ', 'СССР     ',\n",
       "       'Ирландия, Канада',\n",
       "       'Япония - Великобритания - Швейцария - Ирландия - Дания - Франция - Польша - Австралия - Канада  ',\n",
       "       'Великобритания, Канада', 'Бельгия - США',\n",
       "       'Великобритания - США - Россия', 'Россия-Украина',\n",
       "       'Германия - США - Великобритания - Израиль', 'Канада - Германия',\n",
       "       'США- Ю.Корея', 'Индия - Мексика',\n",
       "       'Великобритания - Франция - Республика Кипр - Швейцария - США - Сербия',\n",
       "       'Испания - Аргентина - Индия - США',\n",
       "       'Норвегия - Исландия - США - Великобритания ',\n",
       "       'Турция - Германя - Франция', 'Германия - Великобритания',\n",
       "       'Австралия - Германия', 'Мексика - Испания',\n",
       "       'Великобритания - США - Германия - Бельгия',\n",
       "       'США - Чехия - Франция', 'Россия - Италия', 'Франция-Россия',\n",
       "       'Норвегия - Дания - Швеция', 'Франция - Швейцария - Германия',\n",
       "       'Грузия - Украина', 'Россия - Эстония - Финляндия - Беларусь',\n",
       "       'США - Франция - ЮАР', 'Великобритания - США - Швейцария',\n",
       "       'Канада-США', 'Мексика - Нидерланды - Германия - Франция',\n",
       "       'США - Испания - Франция', 'США - Великобритания - КНР',\n",
       "       'США-Франция-Канада',\n",
       "       'Япония, Великобритания, Австрия, Германия, Ю.Корея',\n",
       "       'Великобритания - Ирландия - США', 'Бельгия - Италия - Франция ',\n",
       "       'Швейцария-Германия-ЮАР', 'Великобритания - США - Германия',\n",
       "       'Германия - Исландия', 'Испания - США', 'СССР    ', 'Хорватия',\n",
       "       'Финляндия - Исландия - Швеция',\n",
       "       'Канада - США - Германия - Франция',\n",
       "       'США - Великобритания - Испания', 'Ирландия-Великобритания',\n",
       "       'Аргентина - Испания', 'Австрия - Германия', ' СССР',\n",
       "       'Германия - Швейцария - Франция - Южная Корея - США',\n",
       "       'Украина - Нидерланды', 'Венгрия - Германия - Швеция',\n",
       "       'Германия - Франция -  Польша - Турция - Канада - Италия - Россия ',\n",
       "       'СССР, Афганистан', 'СССР, Монголия', 'Россия-Кипр',\n",
       "       'Россия, Грузия, Испания',\n",
       "       'Великобритания - Нидерланды - Германия - Франция - Бельгия - Австрия ',\n",
       "       'Испания - Великобритания - Франция',\n",
       "       'Дания - Норвегия - Великобритания',\n",
       "       'Бельгия - Франция - Люксембург',\n",
       "       'Италия - Франция - Швейцария - Великобритания',\n",
       "       'Франция - Бельгия - Великобритания - Испания - Германия - США',\n",
       "       'Швейцария - Израиль - Франция - Великобритания',\n",
       "       'Великобритания - США - Канада - Нидерланды - Франция',\n",
       "       'Россия, Италия', 'СССР, Албания',\n",
       "       'Россия, Украина, Республика Беларусь, Литва',\n",
       "       'Финляндия - Великобритания - Германия', 'Россия, Украина, Польша',\n",
       "       'Франция - Италия - Бельгия - КНР',\n",
       "       'Германия - Бельгия - Люксембург - Ирландия', 'КНР - Сингапур',\n",
       "       'Франция - Бельгия - Великобритания - США - Нидерланды - Канада',\n",
       "       'США - Россия - Польша - Германия - Пуэрто Рико',\n",
       "       'Франция - Бельгия - Канада', 'США ', 'Мексика - США',\n",
       "       'США - Гонконг - КНР ', 'Греция - Россия',\n",
       "       'Ирландия - Дания - Бельгия - Люксембург - Франция',\n",
       "       'Эстония - Россия',\n",
       "       'Великобритания - Исландия - Испания - Швейцария - США',\n",
       "       'Австралия - Великобритания - Бельгия - Индия',\n",
       "       'Швеция - Германия - Франция - Норвегия',\n",
       "       'Нидерланды - Бельгия - Германия - Ирландия',\n",
       "       'Нидерланды - Великобритания - Бельгия',\n",
       "       'США - Колумбия - Испания', 'Франция-Испания-Бельгия-Панама',\n",
       "       'США-Великобритания-Чехия-Румыния',\n",
       "       'Аргентина - Уругвай - Россия - Германия - Франция - Нидерланды',\n",
       "       'Швеция - Франция - Норвегия - Дания',\n",
       "       'Италия-Франция-Великобритания', 'Великобритания, Франция',\n",
       "       'Австралия, США', 'Венесуэла',\n",
       "       'Великобритания - США - Австралия - Ирландия - Германия - Куба - Канада',\n",
       "       'Южная Корея - КНР',\n",
       "       'Аргентина - Мексика - Бразилия - Франция - США', 'Швеция - США',\n",
       "       'Франция - Германия - Турция - Катар', 'Франция-Китай',\n",
       "       'Россия, Германия, Великобритания',\n",
       "       'Великобритания - Италия - Испания', 'Италия - Россия',\n",
       "       'Япония - КНР - Южная Корея', 'Россия, Германия',\n",
       "       'Россия-Ирландия', 'Македония - Франция - Великобритания',\n",
       "       'Франция - Бразилия - Италия', 'Россия-США', 'Армения-Россия',\n",
       "       'Россия, Румыния', 'Франция -  Бельгия', 'Грузия-Франция',\n",
       "       'ЮАР - США', 'Великобритания-США-Франция',\n",
       "       'Великобритания - США - Германия - Канада - Австралия',\n",
       "       'США-Ирландия', 'Россия, Республика Кипр',\n",
       "       'Германия - Люксембург - Франция', 'Россия-Франция',\n",
       "       'США - Нидерланды - Финляндия - Великобритания - Италия',\n",
       "       'Республика Кипр', 'Венгрия', 'Франция - США - Норвегия - Дания',\n",
       "       'Германия - Австрия - Ирландия', 'США - Финляндия',\n",
       "       'Италия-Великобритания', 'Россия, Испания',\n",
       "       'США - Великобритания - Болгария', 'Великобритания - Люксембург',\n",
       "       'Индия - США', 'США - Канада - Россия - Франция - Чили - Ирландия',\n",
       "       'Грузия-Россия',\n",
       "       'Дания - Австрия - Ирландия - Финляндия - Норвегия - Швеция - Нидерланды',\n",
       "       'США-КНР', 'Грузия', 'Австралия - Ирландия',\n",
       "       'Великобритания - Канада', 'Италия - Аргентина - Словения ',\n",
       "       'Испания - Франция - Нидерланды - Германия - Бельгия - Великобритания - Канада',\n",
       "       'Франция - Чехия - Бельгия',\n",
       "       'Великобритания - Франция - Германия - США',\n",
       "       'Ирландия - Великобритания - Франция - США - Германия - Нидерланды',\n",
       "       'США - Канада - Япония - КНР', 'Италия-Франция',\n",
       "       'США - Великобритания - Исландия', 'Великобритания-Франция',\n",
       "       'Франция - Германия - Нидерланды', 'Иран ',\n",
       "       'Франция - Германия - Швеция - США - Чехия - Словакия - Великобритания - Нидерланды',\n",
       "       'Франция - Канада - Н.Зеландия - США - Нидерланды - Германия - Швеция - Россия',\n",
       "       'Турция - США',\n",
       "       'Великобритания - США - Канада - Бельгия - Нидерланды - Австрия - Германия',\n",
       "       'Израиль - Франция - Германия - Палестина - США - Австрия - Великобритания',\n",
       "       'Аргентина - Франция - Испания', 'СССР, Россия',\n",
       "       'Великобритания - Франция - Италия - Индия - Дания - КНР - Бангладеш - Камбоджа - Гаити - Уганда',\n",
       "       'Италия - Франция - Швейцария',\n",
       "       'Ирландия - Великобритания - Канада', 'Перу', 'США - Норвегия',\n",
       "       'Испания-Канада', 'Китай-Гонконг', 'США - Германия - КНР',\n",
       "       'Великобритания - Новая Зеландия',\n",
       "       'Франция - Дания - Швеция - КНР',\n",
       "       'США - Великобритания - Германия - Бельгия - Дания',\n",
       "       'США - Франция - Канада - Германия - Австралия - Индия', 'другое',\n",
       "       'СССР, Румыния, Франция', 'СССР, ГДР', 'Австралия-Ирландия',\n",
       "       'США - Китай', 'Великобритания - Франция - Австрия - Швеция',\n",
       "       'Россия, Таджикистан', 'Нидерланды - Бельгия - Болгария',\n",
       "       'Великобритания - Канада - США', 'Франция - Бельгия - Испания',\n",
       "       'Китай-Гонконг-США', 'Франция - Великобритания', 'США - Вьетнам',\n",
       "       'США - Германия - Франция', 'Германия - Франция - Бельгия',\n",
       "       'США - Италия',\n",
       "       'Германия - Дания - Испания - Швеция - Канада - Эстония - Франция',\n",
       "       'Княжество Андорра - Украина', 'Германия - Люксембург - Бельгия',\n",
       "       'Великобритания - Россия - Украина - США',\n",
       "       'Германия - Бельгия - Люксембург - Норвегия',\n",
       "       'США - Австралия - Новая Зеландия - Великобритания',\n",
       "       'США - Франция - Канада - Великобритания', 'Испания-Колумбия',\n",
       "       'Великобритания - Чехия - Франция', 'Россия, Украина', 'Исландия',\n",
       "       'Великобритания - Франция - Венгрия',\n",
       "       'Россия, Франция, Германия, Бельгия', 'Франция - Македония',\n",
       "       'Нидерланды - Франция - Германия - Бельгия - Швеция - Великобритания',\n",
       "       'Испания - США - Великобритания - Канада', 'Германия - Австрия',\n",
       "       'Республика Казахстан',\n",
       "       'Франция - Испания - Дания - Венгрия - Швейцария', 'Франция-КНР',\n",
       "       'США - Пуэрто-Рико - Франция ', 'Мексика - Тайвань - США',\n",
       "       'Великобритания - Испания - Непал - Индия - Венгрия - Гонконг - Германия - Дания - Бахрейн',\n",
       "       'Великобритания - Аргентина - США - Франция - Россия - Испания',\n",
       "       'КНР - США', 'Италия - США', 'Финляндия - Швеция - Германия',\n",
       "       'Канада- Испания', 'Франция - Бельгия - Чехия',\n",
       "       'Франция-Бельгия-Канада', 'Франция - Германия - США',\n",
       "       'США - Дания', 'Индия - КНР', 'Чехия-Великобритания-США',\n",
       "       'США-ФРГ-Россия', 'Ирландия-Нидерланды-Франция-США-Великобритания',\n",
       "       'Россия, Грузия, Хорватия, Испания',\n",
       "       'Финляндия - Швеция - Норвегия', 'Сербия - Великобритания - США',\n",
       "       'США - Великобритания - Франция - Гонконг', 'Швейцария - Франция',\n",
       "       'Швейцария - Великобритания', 'ОАЭ - США',\n",
       "       'США - Франция - Германия - Канада - Австралия ',\n",
       "       'Германия - Австралия', 'Иран, Франция',\n",
       "       'США - Великобритания - Новая Зеландия', 'США-Колумбия',\n",
       "       'США-Франция-Ирландия', 'Великобритания - Франция - Бельгия',\n",
       "       'США - Великобритания - Япония', 'США - Франция - Германия',\n",
       "       'Польша - Ирландия', 'Ирландия - Великобритания - Франция - США',\n",
       "       'США - Бельгия - Великобритания', 'СССР, ВНР',\n",
       "       'Испания - Франция - США - Великобритания - Бельгия',\n",
       "       'Франция - Дания - США', 'США - Гонконг', 'Бразилия - К;анада',\n",
       "       'Франция-Германия', 'США - Колумбия',\n",
       "       'США - Ирландия - Великобритания - Франция',\n",
       "       'Великобритания - США - Канада', 'Польша - Франция',\n",
       "       'Канада - США - Нидерланды - Великобритания - Аргентина',\n",
       "       'Великобритания - Дания', 'Франция - Бельгия - Япония',\n",
       "       'Россия,  Испания', 'Франция -Бельгия',\n",
       "       'США - Канада - Германия - Франция', 'США-Канада-Франция',\n",
       "       'Россия - Германия', 'Россия-Италия', 'Китай - Гонконг',\n",
       "       'Германия-Австрия-Франция-Италия', 'США-Япония',\n",
       "       'США - Германия - Канада', 'Испания-Мексика',\n",
       "       'США - Япония - Канада - Великобритания - Германия - Франция',\n",
       "       'США -Великобритания - Австралия', 'Россия-Украина-Германия',\n",
       "       'Израиль - Франция - Великобритания - Германия', 'Корея',\n",
       "       'Россия - Болгария', 'США-Индия',\n",
       "       'Германия-Канада-Франция-Бельгия', 'Германия-Кения',\n",
       "       'Франция - Монако', 'Франция-Испания-Швейцария',\n",
       "       'Австрия-Франция-Германия', 'Румыния',\n",
       "       'США-Великобритания-Франция', 'Канада-Великобритания',\n",
       "       'Канада-Бразилия-Япония', 'Германия - Дания - Норвегия',\n",
       "       'Дания - Германия', 'СССР - Италия',\n",
       "       'СССР - ГДР - Польша - Италия',\n",
       "       'США - Испания - Франция - Великобритания', 'Китай',\n",
       "       'Мексика-Аргентина',\n",
       "       'Германия - Великобритания - Италия - Испания',\n",
       "       'Франция-Германия-Великобритания', 'Россия - Германия - Швейцария',\n",
       "       'Франция-Австралия', 'Голландия', 'Швейцария-Франция',\n",
       "       'Россия-Белоруссия', 'Франция - Испания - Тайвань',\n",
       "       'США-Южная Корея-Новая Зеландия', 'Великобритания-Венгрия',\n",
       "       'Россия-Германия', 'Великобритания-Франция-Германия',\n",
       "       'Франция-Германия-Италия', 'Швеция-Финляндия-Франция-Норвегия',\n",
       "       'Франция-Италия', 'Германия-Израиль',\n",
       "       'Швеция - Германия - Дания - Норвегия', 'США-Бельгия',\n",
       "       'Франция-Гонконг-Ирландия', 'Эстония', 'Литва-Россия-Украина',\n",
       "       'Германия - Италия - Франция',\n",
       "       'Великобритания - Австрия - Германия', 'Бельгия - Франция',\n",
       "       'Россия-Казахстан', 'Испания - Мальта',\n",
       "       'Франция-Россия-Румыния-Италия-Бельгия', 'Россия - Польша',\n",
       "       'Испания - Мексика', 'США-Аргентина', 'Великобритания ',\n",
       "       'Израиль-США-Франция', 'США - Новая Зеландия - Япония',\n",
       "       'Франция - Чехия - Великобритания', 'Россия-Польша',\n",
       "       'Германия-Франция-Великобритания', 'США-Германия-Канада',\n",
       "       'США-Гонконг-Китай', 'США - Великобритания - Германия',\n",
       "       'США-Канада-Австралия', 'Япония-США-Франция',\n",
       "       'Франция-Испания-Германия', 'США - Хорватия - Босния-Герцеговина',\n",
       "       'Великобритания - Чехия - Франция - Италия',\n",
       "       'США - Германия - Нидерланды', 'Германия - Франция - Канада',\n",
       "       'Франция-Грузия-Германия-Россия-Украина-Бельгия',\n",
       "       'Великобритания - Франция - Италия', 'Россия - США',\n",
       "       'Франция - Италия - Иран', 'Россия - Азербайджан', 'Греция',\n",
       "       'Дания - США', 'США-Великобритания-Новая Зеландия',\n",
       "       'США-Германия-Австралия', 'США-Канада-Италия',\n",
       "       'США - Япония - Германия', 'Австралия-США',\n",
       "       'Франция - Великобритания - Багамские острова - США',\n",
       "       'Швейцария - Люксембург', 'Швейцария - Австрия',\n",
       "       'Германия - Швейцария', 'Дания-Швеция-Франция-Германия', 'Польша',\n",
       "       'Швейцария-Австрия', 'Бразилия - Канада - США',\n",
       "       'Нидерланды - Россия', 'Португалия', 'Франция-Аргентина',\n",
       "       'Швеция-Франция', 'Франция-Украина', 'Германия-Украина-Нидерланды',\n",
       "       'Италия-Швейцария', 'США-Германия-Великобритания',\n",
       "       'Латвия - Россия', 'Германия-Франция-Великобритания-США',\n",
       "       'Канада - Италия', 'США - Объединенные Арабские Эмираты',\n",
       "       'США-Венгрия', 'Малайзия', 'Россия - Германия - Украина',\n",
       "       'США - Австралия - Мексика', 'Литва - Венгрия', 'Германия - Китай',\n",
       "       'Казахстан', 'Республика Корея',\n",
       "       'США - Германия - Франция - Великобритания - Канада ',\n",
       "       'Бельгия - Германия - Люксембург - Франция', 'Франция - Греция',\n",
       "       'Италия - Канада', 'США - Великобритания - Франция',\n",
       "       'США-Италия-Греция', 'Германия - США - Великобритания - Ирландия',\n",
       "       'Великобритания - Франция - Германия',\n",
       "       'Германия - Нидерланды - ЮАР',\n",
       "       'США-Япония-Германия-Великобритания-Нидерланды',\n",
       "       'США-Япония-Германия-Великобритания',\n",
       "       'Германия - Франция - Польша',\n",
       "       'Таиланд-Великобритания-Франция-Германия-Испания-Нидерланды',\n",
       "       'Германия-Италия-Швейцария',\n",
       "       'Дания - Швеция - Великобритания - Франция - Германия - Нидерланды - Норвегия - Финляндия',\n",
       "       'Франция - Великобритания - Нидерланды - Люксембург',\n",
       "       'Нидерланды-Великобритания-Франция-Италия-Япония',\n",
       "       'Финляндия-Дания-Германия-Ирландия', 'Испания-Аргентина',\n",
       "       'Великобритания - Нидерланды - Франция - США', 'Канада - Мексика',\n",
       "       'США, Франция', 'Канада-Южная Корея-США',\n",
       "       'Великобритания - Франция - Бельгия - США', 'КНР - Канада - США',\n",
       "       'Италия - Франция - Германия',\n",
       "       'Швеция - Германия - Франция - Дания', 'Франция - США - Бельгия',\n",
       "       'Украина - Германия - Латвия - Эстония', 'Австрия - Люксембург',\n",
       "       'Великобритания - КНР', 'Монголия', 'Франция - Дания',\n",
       "       'Швеция - Дания - Финляндия',\n",
       "       'Сингапур - Великобритания - Индонезия - Канада - США',\n",
       "       'США - Германия - Япония', 'Таиланд - США', 'Франция - Нидерланды',\n",
       "       'Великобритания - Румыния', 'США - Мальта',\n",
       "       'Великобритания - Германия - Нидерланды - Дания',\n",
       "       'Франция - Германия - Литва - Нидерланды - Россия',\n",
       "       'США - ЮАР - Гонконг', 'Австралия - Колумбия',\n",
       "       'Великобритания - Польша', 'США - Великобритания - Швеция',\n",
       "       'Франция - Швеция - Дания - Норвегия', 'Болгария - США',\n",
       "       'СССР, ФРГ', 'Бельгия - Нидерланды - Франция',\n",
       "       'Финляндия - Германия', 'Болгария',\n",
       "       'Грузия - Россия - Украина - Хорватия - Германия',\n",
       "       'Франция - Люксембург', 'Франция - Германия - Австрия',\n",
       "       'Норвегия - США', 'Германия-Швеция', 'Франция - Германия - Италия',\n",
       "       'Франция-Германия-Австрия', 'КНР-США',\n",
       "       'Великобритания - Ирландия - США ',\n",
       "       'Дания - Латвия - Россия - США', 'Финляндия - Польша',\n",
       "       'Германия - Бельгия', 'Германия - США - Франция - Испания',\n",
       "       'Бельгия-Германия-Канада-Франция-США-Великобритания',\n",
       "       'Нидерланды - Бельгия - Люксембург', 'Канада-Германия',\n",
       "       'Люксембург - Бельгия - Франция', 'США-Великобритания-Австралия',\n",
       "       'Великобритания, Новая Зеландия', 'Бельгия, Великобритания, США',\n",
       "       'Великобритания, Австралия', 'Исландия, Бельгия',\n",
       "       'Испания - Швейцария - Великобритания - Германия - Новая Зеландия - Нидерланды - Канада',\n",
       "       'Франция, Бельгия', 'Великобритания, США', 'Киргизия-Россия',\n",
       "       'Германия, США', 'Великобритания, США, Испания',\n",
       "       'Италия - Швейцария - Германия', 'Россия, Армения',\n",
       "       'Франция, Германия', 'Китай, Канада, США', 'Германия, Австралия',\n",
       "       'КНР, США', 'США, Великобритания, Люксембург',\n",
       "       'Испания, Ирландия, Бельгия, Франция',\n",
       "       'Великобритания - Гонконг - Венгрия - США - Ирландия',\n",
       "       'США - Пуэрто Рико', 'Аргентина - Испания - Уругвай',\n",
       "       'Израиль - Германия - Франция - Швейцария',\n",
       "       'Великобритания - Мексика - США', 'Испания - Болгария - США',\n",
       "       'Россия-Словакия-Чехия',\n",
       "       'Швейцария - КНР - США - Россия - Республика Корея - Великобритания',\n",
       "       'Россия, Нидерланды, Финляндия',\n",
       "       'Испания - Бельгия - Франция - Португалия - Великобритания',\n",
       "       'Бразилия - Португалия - Франция', 'Швеция - Норвегия',\n",
       "       'Франция - Польша - Бельгия', 'CША', 'Китай, США',\n",
       "       'Италия, Франция, Германия', 'Германия - Австрия - Франция',\n",
       "       'Чехия - Словакия - Хорватия', 'Россия, Польша, Финляндия',\n",
       "       'Россия, Латвия, Чешская Республика',\n",
       "       'Франция - Великобритания - Камбоджа - США - КНР',\n",
       "       'Чехия - Испания - США', 'Германия - Люксембург - Дания',\n",
       "       'Великобритания - Испания - Германия', 'Дания - Исландия',\n",
       "       'Германия, Франция, Великобритания',\n",
       "       'Великобритания - Испания - Италия - Латвия - Франция - Эстония',\n",
       "       'Дания, Швеция, Великобритания, Франция, Германия, Норвегия, Финляндия, Нидерланды, Италия',\n",
       "       'Польша - Франция - Великобритания',\n",
       "       'Дания, Норвегия, Венгрия, Чехия',\n",
       "       'Дания - Франция - Германия - Швеция',\n",
       "       'Великобритания, Швеция, США',\n",
       "       'Канада, Франция, Италия, Швейцария, США', 'США, Индия',\n",
       "       'США - Великобритания - Германия - - Швеция - Канада',\n",
       "       'Италия, Франция', 'Республика Беларусь, Германия, США, Россия',\n",
       "       'Италия-Швейцария-Франция-Германия ',\n",
       "       'Россия - Франция - Великобритания - Латвия', 'Россия-Беларусь',\n",
       "       'Франция - Испания - Румыния - США - Бельгия', 'Италия-США',\n",
       "       'Россия, Австрия', 'Ирландия - Великобритания - США',\n",
       "       'Швейцария, Великобритания, Франция, США, Ирландия',\n",
       "       'Мексика, Франция, Германия, Дания, Швеция', 'Нидерланды, Бельгия',\n",
       "       'Швеция, Норвегия, Финляндия, Франция', 'Испания, Франция, Италия',\n",
       "       'Испания-Франция-Греция-Индия-США-Россия-Великобритания',\n",
       "       'Великобритания - Япония - США',\n",
       "       'Дания, Канада, Норвегия, Австралия, США', 'Аргентина, Испания',\n",
       "       'Россия, Германия, Казахстан, Польша, Китай',\n",
       "       'Португалия, Франция, Польша, США', 'США - Канада - Аргентина',\n",
       "       'Ливан-США', 'Япония - США', 'США, Гонконг ',\n",
       "       'Франция - Россия - Швейцария - Румыния - Венгрия',\n",
       "       'Аргентина-Испания', 'Россия, Сербия', 'США - Болгария - Мексика',\n",
       "       'США - Великобритания - Швейцария - Франция',\n",
       "       'Таиланд - КНР - США',\n",
       "       'Великобритания, Нидерланды, Польша, Швейцария, Франция',\n",
       "       'Ирландия - США',\n",
       "       'Германия - Франция - Великобритания - Польша - США',\n",
       "       'Великобритания-Франция-Италия', 'США - Австралия - Индия',\n",
       "       'Франция - КНР', 'Великобритания - Израиль',\n",
       "       'Великобритания - Норвегия - Кения - Хорватия',\n",
       "       'США - Бразилия - Великобритания - Канада', 'Германия, Бельгия',\n",
       "       'Австралия, Канада', 'США, Великобритания, Франция',\n",
       "       'Кения, Германия', 'Нидерланды, Бельгия, Люксембург', 'Колумбия',\n",
       "       'Латвия - Франция', 'Ирландия, Великобритания',\n",
       "       'Франция - Израиль - Германия', 'Швеция, Франция, Великобритания',\n",
       "       'Бельгия - Люксембург', 'Германия - Бельгия - Великобритания',\n",
       "       'Испания, Франция, Великобритания, Дания, Бельгия, Германия',\n",
       "       'Румыния, ЮАР, Иран, Франция, Канада, Великобритания',\n",
       "       'Германия, Франция', 'США, Япония',\n",
       "       'США, Великобритания, Ирландия, Люксембург', 'Республика Армения',\n",
       "       'США, Франция, Япония', 'Япония, США', 'Канада, США',\n",
       "       'Республика Кипр - Россия',\n",
       "       'Дания - Франция - Италия - Бельгия - Нидерланды',\n",
       "       'Россия - Грузия', 'Италия, Германия', 'Норвегия, Швеция, Дания',\n",
       "       'Республика Кипр, Россия', 'КНР, Индия, Гонконг, США',\n",
       "       'Израиль, Украина', 'США, Россия', 'США - КНР - Индия - Ю.Корея',\n",
       "       'США - Швеция', 'Франция, Канада', 'Россия-Китай',\n",
       "       'Канада, Великобритания', 'США, Германия',\n",
       "       'Канада, США, Каймановы острова',\n",
       "       'Бразилия, Уругвай, Дания, Норвегия, Чили, Швеция',\n",
       "       'Пуэрто-Рико, Великобритания, США',\n",
       "       'Уругвай - Аргентина - Испания',\n",
       "       'США - Великобритания - Италия - Израиль - Сербия - Индия',\n",
       "       'США - Канада - Франция - Индия', 'Великобритания - Россия - КНР',\n",
       "       'Франция, Новая Зеландия', 'Франция, Люксембург, Бельгия',\n",
       "       'Канада, США, Норвегия', 'Италия, Испания',\n",
       "       'Испания - Германия - Нидерланды', 'Бразилия - США - КНР ',\n",
       "       'Великобритания, Германия, Дания, США', '2019',\n",
       "       'Италия - Фрация - Бразилия - Германия',\n",
       "       'Норвегия - Швеция - Россия', 'Великобритания, Япония, США',\n",
       "       'Сша, Канада', 'Бельгия, Канада',\n",
       "       'Великобритания - Австралия - США', 'США, Канада', 'КНР - США ',\n",
       "       'Франция - Финляндия', 'Колумбия - США',\n",
       "       'Великобритания, Франция, Бельгия', 'Норвегия - Нидерланды',\n",
       "       'Великобритания, Канада, США', 'Япония, Великобритания',\n",
       "       'Италия - Бельгия - Франция', 'Россия, Бельгия, Финляндия',\n",
       "       'США, Украина', 'Франция, Норвегия',\n",
       "       'Великобритания, Южная Корея, Канада, США, Индия, Китай, Япония',\n",
       "       'Канада - Норвегия', 'Республика Кипр-Россия', 'Германия, Россия',\n",
       "       'Польша - Франция - Испания - Бразилия - Швеция',\n",
       "       'Австрия, Великобритания, Германия', 'Франция - Сенегал - Бельгия',\n",
       "       'Франция, Бельгия, Люксембург', 'Финляндия, Латвия', 'Пакистан',\n",
       "       'Германия, Франция, США', 'Германия - Великобритания - США',\n",
       "       'КНР - Франция', 'Дания, Норвегия, Швеция, Исландия',\n",
       "       'Республика Кипр, США, Россия', 'Новая Зеландия - КНР',\n",
       "       'Дания - Канада - Швеция - Франция - Германия - Великобритания - США'],\n",
       "      dtype=object)"
      ]
     },
     "execution_count": 68,
     "metadata": {},
     "output_type": "execute_result"
    }
   ],
   "source": [
    "data['production_country'].unique()"
   ]
  },
  {
   "cell_type": "code",
   "execution_count": 69,
   "metadata": {},
   "outputs": [
    {
     "data": {
      "text/plain": [
       "951"
      ]
     },
     "execution_count": 69,
     "metadata": {},
     "output_type": "execute_result"
    }
   ],
   "source": [
    "data['production_country'].nunique()"
   ]
  },
  {
   "cell_type": "markdown",
   "metadata": {},
   "source": [
    "В данной категории очень много значений, где входит много стран. Причем часть из них записывается через дефис, с использованием пробелов и без них, а часть перечислена просто через запятую. Чтобы уменьшить количество вариаций одного и того же наименования, удалим сперва все пробелы, а потом заменим запятые внутри наименований категорий на дефис."
   ]
  },
  {
   "cell_type": "code",
   "execution_count": 70,
   "metadata": {},
   "outputs": [],
   "source": [
    "data['production_country'] = data['production_country'].str.strip()"
   ]
  },
  {
   "cell_type": "code",
   "execution_count": 71,
   "metadata": {},
   "outputs": [],
   "source": [
    "data['production_country'] = data['production_country'].str.replace(' ','')"
   ]
  },
  {
   "cell_type": "code",
   "execution_count": 72,
   "metadata": {},
   "outputs": [],
   "source": [
    "data['production_country'] = data['production_country'].str.replace(',','-')"
   ]
  },
  {
   "cell_type": "code",
   "execution_count": 73,
   "metadata": {},
   "outputs": [
    {
     "data": {
      "text/plain": [
       "array(['США', 'СССР', 'Франция', 'СССР-Венгрия',\n",
       "       'Германия-Великобритания', 'Великобритания-Италия', 'Чехословакия',\n",
       "       'США-Франция-Турция', 'НоваяЗеландия', 'Канада-Франция-Испания',\n",
       "       'США-Германия', 'США-Великобритания', 'Великобритания',\n",
       "       'Франция-Мексика-США', 'Россия-Казахстан-США', 'СССР-Швеция',\n",
       "       'СССР-Франция-Англия-Куба-ГДР', 'Германия',\n",
       "       'Великобритания-США-Германия-КНР', 'СССР-ЧССР-ЗападныйБерлин-ПНР',\n",
       "       'СССР-Италия', 'Гонконг-КНР', 'США-Франция',\n",
       "       'США-Япония-Франция-Великобритания',\n",
       "       'Гонконг-Сингапур-Таиланд-Великобритания', 'США-Канада',\n",
       "       'Франция-Италия-Великобритания-США', 'Франция-США',\n",
       "       'Ирландия-Великобритания-Германия', 'Чехия', 'США-Австралия',\n",
       "       'СССР-Финляндия', 'США-Франция-Великобритания-Австрия',\n",
       "       'США-Бельгия', 'США-Ирландия-Великобритания', 'Великобритания-США',\n",
       "       'Люксембург-Нидерланды-Испания-Великобритания-США-Италия',\n",
       "       'Великобритания-Франция-США', 'НоваяЗеландия-США',\n",
       "       'США-Великобритания-Чехия', 'Канада-Франция-Великобритания',\n",
       "       'Ирландия', 'Великобритания-Германия-США',\n",
       "       'США-Франция-Великобритания', 'Япония', 'СССР-Польша',\n",
       "       'Франция-Испания', 'Канада-Франция', 'Германия-Италия-США',\n",
       "       'Аргентина-Бразилия', 'Дания-Швейцария-Бельгия-Франция',\n",
       "       'США-Испания', 'Германия-США',\n",
       "       'Франция-Австрия-Германия-Италия-США', 'Австрия',\n",
       "       'США-Канада-Германия', 'СССР-Швейцария-Франция',\n",
       "       'Россия-Казахстан', 'Гонконг', 'Италия', 'США-ОАЭ', 'Россия',\n",
       "       'США-Франция-Испания-Великобритания', 'Великобритания-Франция',\n",
       "       'США-Италия-Испания-Аргентина', 'Франция-Великобритания',\n",
       "       'КНР-Гонконг', 'Франция-Италия-Швейцария', 'США-НоваяЗеландия',\n",
       "       'Франция-Бельгия', 'КНР', 'Германия-Великобритания-Австрия',\n",
       "       'Великобритания-Израиль-Франция-Япония-США', 'Швеция', 'Испания',\n",
       "       'Дания', 'Франция-Бельгия-Люксембург', 'США-Индия-ОАЭ',\n",
       "       'Германия-Канада-Великобритания-Швейцария-Франция', 'Мексика-Чили',\n",
       "       'Аргентина', 'Бразилия', 'Чили', 'Австралия', 'Португалия-Франция',\n",
       "       'США-ЮАР', 'Исландия-Ирландия-Германия', 'США-Индонезия',\n",
       "       'ЮжнаяКорея', 'Мексика-Испания-Дания-США', 'Франция-Италия',\n",
       "       'США-Венгрия-Великобритания', 'Бельгия-Франция-Италия',\n",
       "       'Чехия-Германия', 'Германия-Франция', 'США-Нидерланды', 'Украина',\n",
       "       'Великобритания-Германия', 'США-Франция-Испания', 'Италия-Франция',\n",
       "       'Канада', 'Швеция-Франция-Дания', 'Германия-Франция-Польша',\n",
       "       'Франция-Великобритания-Германия',\n",
       "       'США-Бразилия-Франция-Австралия-Великобритания-Германия',\n",
       "       'Германия-Австрия', 'Германия-Италия-Шри-Ланка',\n",
       "       'Великобритания-Испания', 'США-Великобритания-Канада-Швеция',\n",
       "       'БоснияиГерцеговина-Франция-Великобритания-Германия-Словения-Бельгия-Сербия',\n",
       "       'Великобритания-Франция-Италия-США', 'Испания-Франция',\n",
       "       'Великобритания-Австралия-США', 'Норвегия-Швеция-Дания-Германия',\n",
       "       'Норвегия', 'Швейцария', 'Греция-Германия-Франция', 'Норвения',\n",
       "       'ЮжнаяКорея-США', 'Чили-Франция-США', 'Австрия-Германия-Франция',\n",
       "       'Швеция-Дания', 'Великобритания-Франция-Бельгия-Италия',\n",
       "       'Франция-Германия', 'Грузия-Франция-Люксембург',\n",
       "       'США-Франция-Великобритания-Бразилия', 'США-КНР',\n",
       "       'Мексика-Франция', 'США-Германия-Гонконг-Сингапур',\n",
       "       'Финляндия-Австрия-Россия', 'Испания-Куба', 'Великобритания-ЮАР',\n",
       "       'Великобритания-Ирландия', 'Израиль',\n",
       "       'Бразилия-Германия-Порртугалия-Франция', 'Франция-Канада-Бельгия',\n",
       "       'Испания-Канада-Япония', 'Иран', 'Швеция-Куба',\n",
       "       'США-Великобритания-Ирландия', 'Нидерланды', 'Испания-Канада',\n",
       "       'Япония-Великобритания', 'Великобритания-Норвегия-Дания-Германия',\n",
       "       'Финляндия-Франция-Германия',\n",
       "       'Мексика-Франция-Нидерланды-Германия', 'США-Индия',\n",
       "       'США-Великобритания-Индия', 'США-Канада-Бельгия',\n",
       "       'РеспубликаУзбекистан', 'Турция',\n",
       "       'Сербия-Словения-Хорватия-Черногория-Македония', 'Киргизия',\n",
       "       'Германия-Нидерланды-Беларусь-Россия-Латвия', 'Индия',\n",
       "       'Нидерланды-Россия-Германия',\n",
       "       'Великобритания-Нидерланды-Франция-Хорватия', 'Канада-ЮжнаяКорея',\n",
       "       'Великобритания-Польша-КНР-Индия-Норвегия',\n",
       "       'Япония-Франция-США-ЮжнаяКорея-Турция',\n",
       "       'Мексика-Аргентина-Великобритания', 'Израиль-Франция',\n",
       "       'Польша-Португалия-Франция-Великобритания', 'Австралия-США',\n",
       "       'Франция-Люксембург-Бельгия', 'Армения',\n",
       "       'Бельгия-Люксембург-Франция-Швейцария',\n",
       "       'США-Великобритания-Канада', 'Норвегия-Швеция', 'КНР-Гонконг-США',\n",
       "       'США-Сингапур-Малайзия-Индонезия', 'Германия-Россия',\n",
       "       'Япония-Канада', 'Финляндия-Дания-Германия-Ирландия',\n",
       "       'Франция-Люксембург-Германия-Бельгия-Швейцария-Великобритания',\n",
       "       'Канада-США', 'США-Италия-Испания', 'США-Швейцария-Франция',\n",
       "       'Испания-США-Колумбия', 'Канада-ЮАР', 'Франция-Россия',\n",
       "       'Германия-Финляндия-Австралия', 'Дания-Швеция', 'Бельгия',\n",
       "       'Германия-Франция-Австрия', 'Франция-Индия', 'ЮАР', 'Франция-Перу',\n",
       "       'Франция-Канада', 'РеспубликаБеларусь',\n",
       "       'Великобритания-Австрия-Франция-США', 'США-Россия',\n",
       "       'США-ЮжнаяКорея', 'Канада-КНР',\n",
       "       'Дания-Швеция-Италия-Франция-Германия',\n",
       "       'Франция-Италия-Испания-Венгрия', 'Франция-Германия-Бельгия',\n",
       "       'Франция-Великобритания-Чехия', 'Румыния-Франция-Бельгия',\n",
       "       'Болгария-Франция-Изриль',\n",
       "       'Израиль-Германия-Польша-Бельгия-Франция-Люксембург',\n",
       "       'Россия-Германия-Франция-Бельгия', 'Индонезия',\n",
       "       'Франция-Португалия', 'Великобритания-Пуэрто-Рико',\n",
       "       'СССР-ФРГ-ЗападныйБерлин', 'Россия-РеспубликаБеларусь',\n",
       "       'Франция-Австрия', 'Бельгия-Нидерланды',\n",
       "       'Великобритания-США-Индия', 'США-Великобритания-Австралия',\n",
       "       'Канада-Франция-США-ОАЭ-Великобритания', 'США-Австралия-Франция',\n",
       "       'Дания-Франция-Бельгия-Германия-Великобритания',\n",
       "       'Испания-Аргентина', 'Исландия-Финляндия',\n",
       "       'Россия-Польша-Голландия-Словакия', 'Дания-Германия-Швеция',\n",
       "       'ЮжнаяКорея-США-Канада', 'Таиланд', 'США-Мальта',\n",
       "       'Великобритания-Германия-Франция-Кипр-США', 'Мексика',\n",
       "       'США-Украина', 'США-Финляндия-Испания-Великобритания-Франция',\n",
       "       'Австралия-Великобритания',\n",
       "       'США-Канада-Афганистан-Бельгия-Франция',\n",
       "       'США-Великобритания-Германия-НоваяЗеландия-Бельгия-Франция',\n",
       "       'Ирландия-Финляндия-Бельгия-Великобритания-США-Швейцария',\n",
       "       'Малайзия-США', 'Германия-Италия', 'США-Франция-Бельгия-Италия',\n",
       "       'Франция-Ирландия-Швеция', 'Азербайджан-Россия',\n",
       "       'Великобритания-Италия-Швейцария', 'США-Германия-Великобритания',\n",
       "       'Германия-Бельгия-США-Франция', 'США-Китай', 'Чили-Испания',\n",
       "       'Франция-Швейцария', 'Канада-Испания',\n",
       "       'США-Румыния-Великобритания', 'США-Япония', 'США-Россия-Франция',\n",
       "       'Парагвай', 'Германия-Канада', 'США-Канада-Великобритания',\n",
       "       'Финляндия-Канада', 'Уругвай-Мексика-Германия', 'США-Чили',\n",
       "       'Германия-Аргентина-Нидерланды-Чили', 'США-Канада-Индонезия',\n",
       "       'Армения-Казахстан', 'Финляндия', 'Испания-Италия-Франция',\n",
       "       'Бельгия-Испания-Канада-Нидерланды',\n",
       "       'Великобритания-Франция-Швеция-Бельгия',\n",
       "       'Мексика-Эквадор-Канада-США-Франция-Малайзия-Италия-Аргентина-Германия-Индия',\n",
       "       'Франция-Бенльгия', 'Индия-Великобритания',\n",
       "       'Япония-Великобритания-Франция', 'Испания-Уругвай-Аргентина',\n",
       "       'Франция-Италия-Бельгия-Люксембург',\n",
       "       'Франция-Украина-Грузия-Армения', 'Сербия-Германия-Венгрия',\n",
       "       'Франция-Польша', 'Румыния-США', 'Россия-Азербайджан',\n",
       "       'США-Нидерланды-Бельгия-Венгрия-Греция-Канада',\n",
       "       'Германия-Франция-Люксембург', 'Великобритания-США-Франция',\n",
       "       'США-Австралия-Дания', 'Бельгия-Франция', 'США-Мексика',\n",
       "       'Норвегия-Азербайджан-Россия-Колумбия-Великобритания-Венгрия-Румыния-Франция-Грузия',\n",
       "       'СЩА', 'Бразилия-Испания', 'Россия-Франция-Латвия',\n",
       "       'Нидерланды-США-Германия-Канада-Франция-Ирландия-Великобритания',\n",
       "       'Уругвай-Колумбия', 'США-Испания-Болгария', 'Армения-Германия',\n",
       "       'США-Великобритания-Франция-Швеция', 'Австралия-Турция-США',\n",
       "       'Швеция-Германия', 'Польша-Италия-Россия', 'Франция-Бразилия',\n",
       "       'США-Канада-КНР', 'СССР-Венгрия-ЧССР-ГДР',\n",
       "       'Бельгия-Германия-Люксембург', 'Бразилия-США',\n",
       "       'США-Великобритания-Канада-КНР', 'Франция-Чили',\n",
       "       'Франция-США-Великобритания-Колумбия-Бельгия-Россия',\n",
       "       'Дания-Великобритания-ЮАР', 'Россия-США-Канада-Люксембург',\n",
       "       'Россия-РеспубликаКипр', 'Германия-США-Швеция-Франция',\n",
       "       'Великобритания-Германия-Канада-ЮАР', 'Ирландия-Канада',\n",
       "       'Япония-Великобритания-Швейцария-Ирландия-Дания-Франция-Польша-Австралия-Канада',\n",
       "       'Великобритания-Канада', 'Бельгия-США',\n",
       "       'Великобритания-США-Россия', 'Россия-Украина',\n",
       "       'Германия-США-Великобритания-Израиль', 'Канада-Германия',\n",
       "       'США-Ю.Корея', 'Индия-Мексика',\n",
       "       'Великобритания-Франция-РеспубликаКипр-Швейцария-США-Сербия',\n",
       "       'Испания-Аргентина-Индия-США',\n",
       "       'Норвегия-Исландия-США-Великобритания', 'Турция-Германя-Франция',\n",
       "       'Австралия-Германия', 'Мексика-Испания',\n",
       "       'Великобритания-США-Германия-Бельгия', 'США-Чехия-Франция',\n",
       "       'Россия-Италия', 'Норвегия-Дания-Швеция',\n",
       "       'Франция-Швейцария-Германия', 'Грузия-Украина',\n",
       "       'Россия-Эстония-Финляндия-Беларусь', 'США-Франция-ЮАР',\n",
       "       'Великобритания-США-Швейцария',\n",
       "       'Мексика-Нидерланды-Германия-Франция', 'США-Испания-Франция',\n",
       "       'США-Великобритания-КНР', 'США-Франция-Канада',\n",
       "       'Япония-Великобритания-Австрия-Германия-Ю.Корея',\n",
       "       'Великобритания-Ирландия-США', 'Бельгия-Италия-Франция',\n",
       "       'Швейцария-Германия-ЮАР', 'Великобритания-США-Германия',\n",
       "       'Германия-Исландия', 'Испания-США', 'Хорватия',\n",
       "       'Финляндия-Исландия-Швеция', 'Канада-США-Германия-Франция',\n",
       "       'США-Великобритания-Испания', 'Ирландия-Великобритания',\n",
       "       'Аргентина-Испания', 'Австрия-Германия',\n",
       "       'Германия-Швейцария-Франция-ЮжнаяКорея-США', 'Украина-Нидерланды',\n",
       "       'Венгрия-Германия-Швеция',\n",
       "       'Германия-Франция-Польша-Турция-Канада-Италия-Россия',\n",
       "       'СССР-Афганистан', 'СССР-Монголия', 'Россия-Кипр',\n",
       "       'Россия-Грузия-Испания',\n",
       "       'Великобритания-Нидерланды-Германия-Франция-Бельгия-Австрия',\n",
       "       'Испания-Великобритания-Франция', 'Дания-Норвегия-Великобритания',\n",
       "       'Бельгия-Франция-Люксембург',\n",
       "       'Италия-Франция-Швейцария-Великобритания',\n",
       "       'Франция-Бельгия-Великобритания-Испания-Германия-США',\n",
       "       'Швейцария-Израиль-Франция-Великобритания',\n",
       "       'Великобритания-США-Канада-Нидерланды-Франция', 'СССР-Албания',\n",
       "       'Россия-Украина-РеспубликаБеларусь-Литва',\n",
       "       'Финляндия-Великобритания-Германия', 'Россия-Украина-Польша',\n",
       "       'Франция-Италия-Бельгия-КНР',\n",
       "       'Германия-Бельгия-Люксембург-Ирландия', 'КНР-Сингапур',\n",
       "       'Франция-Бельгия-Великобритания-США-Нидерланды-Канада',\n",
       "       'США-Россия-Польша-Германия-ПуэртоРико', 'Франция-Бельгия-Канада',\n",
       "       'Мексика-США', 'США-Гонконг-КНР', 'Греция-Россия',\n",
       "       'Ирландия-Дания-Бельгия-Люксембург-Франция', 'Эстония-Россия',\n",
       "       'Великобритания-Исландия-Испания-Швейцария-США',\n",
       "       'Австралия-Великобритания-Бельгия-Индия',\n",
       "       'Швеция-Германия-Франция-Норвегия',\n",
       "       'Нидерланды-Бельгия-Германия-Ирландия',\n",
       "       'Нидерланды-Великобритания-Бельгия', 'США-Колумбия-Испания',\n",
       "       'Франция-Испания-Бельгия-Панама',\n",
       "       'США-Великобритания-Чехия-Румыния',\n",
       "       'Аргентина-Уругвай-Россия-Германия-Франция-Нидерланды',\n",
       "       'Швеция-Франция-Норвегия-Дания', 'Италия-Франция-Великобритания',\n",
       "       'Венесуэла',\n",
       "       'Великобритания-США-Австралия-Ирландия-Германия-Куба-Канада',\n",
       "       'ЮжнаяКорея-КНР', 'Аргентина-Мексика-Бразилия-Франция-США',\n",
       "       'Швеция-США', 'Франция-Германия-Турция-Катар', 'Франция-Китай',\n",
       "       'Россия-Германия-Великобритания', 'Великобритания-Италия-Испания',\n",
       "       'Италия-Россия', 'Япония-КНР-ЮжнаяКорея', 'Россия-Германия',\n",
       "       'Россия-Ирландия', 'Македония-Франция-Великобритания',\n",
       "       'Франция-Бразилия-Италия', 'Россия-США', 'Армения-Россия',\n",
       "       'Россия-Румыния', 'Грузия-Франция', 'ЮАР-США',\n",
       "       'Великобритания-США-Германия-Канада-Австралия', 'США-Ирландия',\n",
       "       'Германия-Люксембург-Франция', 'Россия-Франция',\n",
       "       'США-Нидерланды-Финляндия-Великобритания-Италия', 'РеспубликаКипр',\n",
       "       'Венгрия', 'Франция-США-Норвегия-Дания',\n",
       "       'Германия-Австрия-Ирландия', 'США-Финляндия',\n",
       "       'Италия-Великобритания', 'Россия-Испания',\n",
       "       'США-Великобритания-Болгария', 'Великобритания-Люксембург',\n",
       "       'Индия-США', 'США-Канада-Россия-Франция-Чили-Ирландия',\n",
       "       'Грузия-Россия',\n",
       "       'Дания-Австрия-Ирландия-Финляндия-Норвегия-Швеция-Нидерланды',\n",
       "       'Грузия', 'Австралия-Ирландия', 'Италия-Аргентина-Словения',\n",
       "       'Испания-Франция-Нидерланды-Германия-Бельгия-Великобритания-Канада',\n",
       "       'Франция-Чехия-Бельгия', 'Великобритания-Франция-Германия-США',\n",
       "       'Ирландия-Великобритания-Франция-США-Германия-Нидерланды',\n",
       "       'США-Канада-Япония-КНР', 'США-Великобритания-Исландия',\n",
       "       'Франция-Германия-Нидерланды',\n",
       "       'Франция-Германия-Швеция-США-Чехия-Словакия-Великобритания-Нидерланды',\n",
       "       'Франция-Канада-Н.Зеландия-США-Нидерланды-Германия-Швеция-Россия',\n",
       "       'Турция-США',\n",
       "       'Великобритания-США-Канада-Бельгия-Нидерланды-Австрия-Германия',\n",
       "       'Израиль-Франция-Германия-Палестина-США-Австрия-Великобритания',\n",
       "       'Аргентина-Франция-Испания', 'СССР-Россия',\n",
       "       'Великобритания-Франция-Италия-Индия-Дания-КНР-Бангладеш-Камбоджа-Гаити-Уганда',\n",
       "       'Италия-Франция-Швейцария', 'Ирландия-Великобритания-Канада',\n",
       "       'Перу', 'США-Норвегия', 'Китай-Гонконг', 'США-Германия-КНР',\n",
       "       'Великобритания-НоваяЗеландия', 'Франция-Дания-Швеция-КНР',\n",
       "       'США-Великобритания-Германия-Бельгия-Дания',\n",
       "       'США-Франция-Канада-Германия-Австралия-Индия', 'другое',\n",
       "       'СССР-Румыния-Франция', 'СССР-ГДР',\n",
       "       'Великобритания-Франция-Австрия-Швеция', 'Россия-Таджикистан',\n",
       "       'Нидерланды-Бельгия-Болгария', 'Великобритания-Канада-США',\n",
       "       'Франция-Бельгия-Испания', 'Китай-Гонконг-США', 'США-Вьетнам',\n",
       "       'США-Германия-Франция', 'Германия-Франция-Бельгия', 'США-Италия',\n",
       "       'Германия-Дания-Испания-Швеция-Канада-Эстония-Франция',\n",
       "       'КняжествоАндорра-Украина', 'Германия-Люксембург-Бельгия',\n",
       "       'Великобритания-Россия-Украина-США',\n",
       "       'Германия-Бельгия-Люксембург-Норвегия',\n",
       "       'США-Австралия-НоваяЗеландия-Великобритания',\n",
       "       'США-Франция-Канада-Великобритания', 'Испания-Колумбия',\n",
       "       'Великобритания-Чехия-Франция', 'Исландия',\n",
       "       'Великобритания-Франция-Венгрия',\n",
       "       'Россия-Франция-Германия-Бельгия', 'Франция-Македония',\n",
       "       'Нидерланды-Франция-Германия-Бельгия-Швеция-Великобритания',\n",
       "       'Испания-США-Великобритания-Канада', 'РеспубликаКазахстан',\n",
       "       'Франция-Испания-Дания-Венгрия-Швейцария', 'Франция-КНР',\n",
       "       'США-Пуэрто-Рико-Франция', 'Мексика-Тайвань-США',\n",
       "       'Великобритания-Испания-Непал-Индия-Венгрия-Гонконг-Германия-Дания-Бахрейн',\n",
       "       'Великобритания-Аргентина-США-Франция-Россия-Испания', 'КНР-США',\n",
       "       'Италия-США', 'Финляндия-Швеция-Германия', 'Франция-Бельгия-Чехия',\n",
       "       'Франция-Германия-США', 'США-Дания', 'Индия-КНР',\n",
       "       'Чехия-Великобритания-США', 'США-ФРГ-Россия',\n",
       "       'Ирландия-Нидерланды-Франция-США-Великобритания',\n",
       "       'Россия-Грузия-Хорватия-Испания', 'Финляндия-Швеция-Норвегия',\n",
       "       'Сербия-Великобритания-США', 'США-Великобритания-Франция-Гонконг',\n",
       "       'Швейцария-Франция', 'Швейцария-Великобритания', 'ОАЭ-США',\n",
       "       'США-Франция-Германия-Канада-Австралия', 'Германия-Австралия',\n",
       "       'Иран-Франция', 'США-Великобритания-НоваяЗеландия', 'США-Колумбия',\n",
       "       'США-Франция-Ирландия', 'Великобритания-Франция-Бельгия',\n",
       "       'США-Великобритания-Япония', 'США-Франция-Германия',\n",
       "       'Польша-Ирландия', 'Ирландия-Великобритания-Франция-США',\n",
       "       'США-Бельгия-Великобритания', 'СССР-ВНР',\n",
       "       'Испания-Франция-США-Великобритания-Бельгия', 'Франция-Дания-США',\n",
       "       'США-Гонконг', 'Бразилия-К;анада',\n",
       "       'США-Ирландия-Великобритания-Франция', 'Великобритания-США-Канада',\n",
       "       'Польша-Франция', 'Канада-США-Нидерланды-Великобритания-Аргентина',\n",
       "       'Великобритания-Дания', 'Франция-Бельгия-Япония',\n",
       "       'США-Канада-Германия-Франция', 'США-Канада-Франция',\n",
       "       'Германия-Австрия-Франция-Италия', 'США-Германия-Канада',\n",
       "       'Испания-Мексика',\n",
       "       'США-Япония-Канада-Великобритания-Германия-Франция',\n",
       "       'Россия-Украина-Германия',\n",
       "       'Израиль-Франция-Великобритания-Германия', 'Корея',\n",
       "       'Россия-Болгария', 'Германия-Канада-Франция-Бельгия',\n",
       "       'Германия-Кения', 'Франция-Монако', 'Франция-Испания-Швейцария',\n",
       "       'Австрия-Франция-Германия', 'Румыния',\n",
       "       'США-Великобритания-Франция', 'Канада-Великобритания',\n",
       "       'Канада-Бразилия-Япония', 'Германия-Дания-Норвегия',\n",
       "       'Дания-Германия', 'СССР-ГДР-Польша-Италия',\n",
       "       'США-Испания-Франция-Великобритания', 'Китай', 'Мексика-Аргентина',\n",
       "       'Германия-Великобритания-Италия-Испания',\n",
       "       'Франция-Германия-Великобритания', 'Россия-Германия-Швейцария',\n",
       "       'Франция-Австралия', 'Голландия', 'Россия-Белоруссия',\n",
       "       'Франция-Испания-Тайвань', 'США-ЮжнаяКорея-НоваяЗеландия',\n",
       "       'Великобритания-Венгрия', 'Великобритания-Франция-Германия',\n",
       "       'Франция-Германия-Италия', 'Швеция-Финляндия-Франция-Норвегия',\n",
       "       'Германия-Израиль', 'Швеция-Германия-Дания-Норвегия',\n",
       "       'Франция-Гонконг-Ирландия', 'Эстония', 'Литва-Россия-Украина',\n",
       "       'Германия-Италия-Франция', 'Великобритания-Австрия-Германия',\n",
       "       'Испания-Мальта', 'Франция-Россия-Румыния-Италия-Бельгия',\n",
       "       'Россия-Польша', 'США-Аргентина', 'Израиль-США-Франция',\n",
       "       'США-НоваяЗеландия-Япония', 'Франция-Чехия-Великобритания',\n",
       "       'Германия-Франция-Великобритания', 'США-Гонконг-Китай',\n",
       "       'США-Великобритания-Германия', 'США-Канада-Австралия',\n",
       "       'Япония-США-Франция', 'Франция-Испания-Германия',\n",
       "       'США-Хорватия-Босния-Герцеговина',\n",
       "       'Великобритания-Чехия-Франция-Италия', 'США-Германия-Нидерланды',\n",
       "       'Германия-Франция-Канада',\n",
       "       'Франция-Грузия-Германия-Россия-Украина-Бельгия',\n",
       "       'Великобритания-Франция-Италия', 'Франция-Италия-Иран', 'Греция',\n",
       "       'Дания-США', 'США-Германия-Австралия', 'США-Канада-Италия',\n",
       "       'США-Япония-Германия',\n",
       "       'Франция-Великобритания-Багамскиеострова-США',\n",
       "       'Швейцария-Люксембург', 'Швейцария-Австрия', 'Германия-Швейцария',\n",
       "       'Дания-Швеция-Франция-Германия', 'Польша', 'Бразилия-Канада-США',\n",
       "       'Нидерланды-Россия', 'Португалия', 'Франция-Аргентина',\n",
       "       'Швеция-Франция', 'Франция-Украина', 'Германия-Украина-Нидерланды',\n",
       "       'Италия-Швейцария', 'Латвия-Россия',\n",
       "       'Германия-Франция-Великобритания-США', 'Канада-Италия',\n",
       "       'США-ОбъединенныеАрабскиеЭмираты', 'США-Венгрия', 'Малайзия',\n",
       "       'Россия-Германия-Украина', 'США-Австралия-Мексика',\n",
       "       'Литва-Венгрия', 'Германия-Китай', 'Казахстан', 'РеспубликаКорея',\n",
       "       'США-Германия-Франция-Великобритания-Канада',\n",
       "       'Бельгия-Германия-Люксембург-Франция', 'Франция-Греция',\n",
       "       'Италия-Канада', 'США-Италия-Греция',\n",
       "       'Германия-США-Великобритания-Ирландия', 'Германия-Нидерланды-ЮАР',\n",
       "       'США-Япония-Германия-Великобритания-Нидерланды',\n",
       "       'США-Япония-Германия-Великобритания',\n",
       "       'Таиланд-Великобритания-Франция-Германия-Испания-Нидерланды',\n",
       "       'Германия-Италия-Швейцария',\n",
       "       'Дания-Швеция-Великобритания-Франция-Германия-Нидерланды-Норвегия-Финляндия',\n",
       "       'Франция-Великобритания-Нидерланды-Люксембург',\n",
       "       'Нидерланды-Великобритания-Франция-Италия-Япония',\n",
       "       'Великобритания-Нидерланды-Франция-США', 'Канада-Мексика',\n",
       "       'Канада-ЮжнаяКорея-США', 'Великобритания-Франция-Бельгия-США',\n",
       "       'КНР-Канада-США', 'Италия-Франция-Германия',\n",
       "       'Швеция-Германия-Франция-Дания', 'Франция-США-Бельгия',\n",
       "       'Украина-Германия-Латвия-Эстония', 'Австрия-Люксембург',\n",
       "       'Великобритания-КНР', 'Монголия', 'Франция-Дания',\n",
       "       'Швеция-Дания-Финляндия',\n",
       "       'Сингапур-Великобритания-Индонезия-Канада-США',\n",
       "       'США-Германия-Япония', 'Таиланд-США', 'Франция-Нидерланды',\n",
       "       'Великобритания-Румыния',\n",
       "       'Великобритания-Германия-Нидерланды-Дания',\n",
       "       'Франция-Германия-Литва-Нидерланды-Россия', 'США-ЮАР-Гонконг',\n",
       "       'Австралия-Колумбия', 'Великобритания-Польша',\n",
       "       'США-Великобритания-Швеция', 'Франция-Швеция-Дания-Норвегия',\n",
       "       'Болгария-США', 'СССР-ФРГ', 'Бельгия-Нидерланды-Франция',\n",
       "       'Финляндия-Германия', 'Болгария',\n",
       "       'Грузия-Россия-Украина-Хорватия-Германия', 'Франция-Люксембург',\n",
       "       'Франция-Германия-Австрия', 'Норвегия-США', 'Германия-Швеция',\n",
       "       'Дания-Латвия-Россия-США', 'Финляндия-Польша', 'Германия-Бельгия',\n",
       "       'Германия-США-Франция-Испания',\n",
       "       'Бельгия-Германия-Канада-Франция-США-Великобритания',\n",
       "       'Нидерланды-Бельгия-Люксембург', 'Люксембург-Бельгия-Франция',\n",
       "       'Бельгия-Великобритания-США', 'Великобритания-Австралия',\n",
       "       'Исландия-Бельгия',\n",
       "       'Испания-Швейцария-Великобритания-Германия-НоваяЗеландия-Нидерланды-Канада',\n",
       "       'Киргизия-Россия', 'Великобритания-США-Испания',\n",
       "       'Италия-Швейцария-Германия', 'Россия-Армения', 'Китай-Канада-США',\n",
       "       'США-Великобритания-Люксембург',\n",
       "       'Испания-Ирландия-Бельгия-Франция',\n",
       "       'Великобритания-Гонконг-Венгрия-США-Ирландия', 'США-ПуэртоРико',\n",
       "       'Аргентина-Испания-Уругвай', 'Израиль-Германия-Франция-Швейцария',\n",
       "       'Великобритания-Мексика-США', 'Испания-Болгария-США',\n",
       "       'Россия-Словакия-Чехия',\n",
       "       'Швейцария-КНР-США-Россия-РеспубликаКорея-Великобритания',\n",
       "       'Россия-Нидерланды-Финляндия',\n",
       "       'Испания-Бельгия-Франция-Португалия-Великобритания',\n",
       "       'Бразилия-Португалия-Франция', 'Швеция-Норвегия',\n",
       "       'Франция-Польша-Бельгия', 'CША', 'Китай-США',\n",
       "       'Германия-Австрия-Франция', 'Чехия-Словакия-Хорватия',\n",
       "       'Россия-Польша-Финляндия', 'Россия-Латвия-ЧешскаяРеспублика',\n",
       "       'Франция-Великобритания-Камбоджа-США-КНР', 'Чехия-Испания-США',\n",
       "       'Германия-Люксембург-Дания', 'Великобритания-Испания-Германия',\n",
       "       'Дания-Исландия',\n",
       "       'Великобритания-Испания-Италия-Латвия-Франция-Эстония',\n",
       "       'Дания-Швеция-Великобритания-Франция-Германия-Норвегия-Финляндия-Нидерланды-Италия',\n",
       "       'Польша-Франция-Великобритания', 'Дания-Норвегия-Венгрия-Чехия',\n",
       "       'Дания-Франция-Германия-Швеция', 'Великобритания-Швеция-США',\n",
       "       'Канада-Франция-Италия-Швейцария-США',\n",
       "       'США-Великобритания-Германия--Швеция-Канада',\n",
       "       'РеспубликаБеларусь-Германия-США-Россия',\n",
       "       'Италия-Швейцария-Франция-Германия',\n",
       "       'Россия-Франция-Великобритания-Латвия', 'Россия-Беларусь',\n",
       "       'Франция-Испания-Румыния-США-Бельгия', 'Россия-Австрия',\n",
       "       'Ирландия-Великобритания-США',\n",
       "       'Швейцария-Великобритания-Франция-США-Ирландия',\n",
       "       'Мексика-Франция-Германия-Дания-Швеция', 'Нидерланды-Бельгия',\n",
       "       'Швеция-Норвегия-Финляндия-Франция', 'Испания-Франция-Италия',\n",
       "       'Испания-Франция-Греция-Индия-США-Россия-Великобритания',\n",
       "       'Великобритания-Япония-США', 'Дания-Канада-Норвегия-Австралия-США',\n",
       "       'Россия-Германия-Казахстан-Польша-Китай',\n",
       "       'Португалия-Франция-Польша-США', 'США-Канада-Аргентина',\n",
       "       'Ливан-США', 'Япония-США',\n",
       "       'Франция-Россия-Швейцария-Румыния-Венгрия', 'Россия-Сербия',\n",
       "       'США-Болгария-Мексика', 'США-Великобритания-Швейцария-Франция',\n",
       "       'Таиланд-КНР-США',\n",
       "       'Великобритания-Нидерланды-Польша-Швейцария-Франция',\n",
       "       'Ирландия-США', 'Германия-Франция-Великобритания-Польша-США',\n",
       "       'США-Австралия-Индия', 'Великобритания-Израиль',\n",
       "       'Великобритания-Норвегия-Кения-Хорватия',\n",
       "       'США-Бразилия-Великобритания-Канада', 'Австралия-Канада',\n",
       "       'Кения-Германия', 'Колумбия', 'Латвия-Франция',\n",
       "       'Франция-Израиль-Германия', 'Швеция-Франция-Великобритания',\n",
       "       'Бельгия-Люксембург', 'Германия-Бельгия-Великобритания',\n",
       "       'Испания-Франция-Великобритания-Дания-Бельгия-Германия',\n",
       "       'Румыния-ЮАР-Иран-Франция-Канада-Великобритания',\n",
       "       'США-Великобритания-Ирландия-Люксембург', 'РеспубликаАрмения',\n",
       "       'США-Франция-Япония', 'РеспубликаКипр-Россия',\n",
       "       'Дания-Франция-Италия-Бельгия-Нидерланды', 'Россия-Грузия',\n",
       "       'Италия-Германия', 'Норвегия-Швеция-Дания',\n",
       "       'КНР-Индия-Гонконг-США', 'Израиль-Украина',\n",
       "       'США-КНР-Индия-Ю.Корея', 'США-Швеция', 'Россия-Китай',\n",
       "       'Канада-США-Каймановыострова',\n",
       "       'Бразилия-Уругвай-Дания-Норвегия-Чили-Швеция',\n",
       "       'Пуэрто-Рико-Великобритания-США', 'Уругвай-Аргентина-Испания',\n",
       "       'США-Великобритания-Италия-Израиль-Сербия-Индия',\n",
       "       'США-Канада-Франция-Индия', 'Великобритания-Россия-КНР',\n",
       "       'Франция-НоваяЗеландия', 'Канада-США-Норвегия', 'Италия-Испания',\n",
       "       'Испания-Германия-Нидерланды', 'Бразилия-США-КНР',\n",
       "       'Великобритания-Германия-Дания-США', '2019',\n",
       "       'Италия-Фрация-Бразилия-Германия', 'Норвегия-Швеция-Россия',\n",
       "       'Сша-Канада', 'Бельгия-Канада', 'Франция-Финляндия',\n",
       "       'Колумбия-США', 'Норвегия-Нидерланды', 'Италия-Бельгия-Франция',\n",
       "       'Россия-Бельгия-Финляндия', 'Франция-Норвегия',\n",
       "       'Великобритания-ЮжнаяКорея-Канада-США-Индия-Китай-Япония',\n",
       "       'Канада-Норвегия', 'Польша-Франция-Испания-Бразилия-Швеция',\n",
       "       'Австрия-Великобритания-Германия', 'Франция-Сенегал-Бельгия',\n",
       "       'Финляндия-Латвия', 'Пакистан', 'Германия-Франция-США',\n",
       "       'Германия-Великобритания-США', 'КНР-Франция',\n",
       "       'Дания-Норвегия-Швеция-Исландия', 'РеспубликаКипр-США-Россия',\n",
       "       'НоваяЗеландия-КНР',\n",
       "       'Дания-Канада-Швеция-Франция-Германия-Великобритания-США'],\n",
       "      dtype=object)"
      ]
     },
     "execution_count": 73,
     "metadata": {},
     "output_type": "execute_result"
    }
   ],
   "source": [
    "data['production_country'].unique()"
   ]
  },
  {
   "cell_type": "code",
   "execution_count": 74,
   "metadata": {},
   "outputs": [
    {
     "data": {
      "text/plain": [
       "813"
      ]
     },
     "execution_count": 74,
     "metadata": {},
     "output_type": "execute_result"
    }
   ],
   "source": [
    "data['production_country'].nunique()"
   ]
  },
  {
   "cell_type": "markdown",
   "metadata": {},
   "source": [
    "Видно, что категория страны производителя стала более однородной. Из-за удаления всех пробелов некоторые названия стран слолись в одно слово (например, вместо *Новая Зеландия* теперь *НоваяЗеландия*), что не влияет на проводимый анализ. Кроме того у нас появился дополнительный критерий - количество стран-участниц в производстве фильма - чем больше дефисов в названии, тем больше стран. Если потребется, мы сможем использовать этот признак для дальнейшего анализа.\n",
    "\n"
   ]
  },
  {
   "cell_type": "code",
   "execution_count": 75,
   "metadata": {},
   "outputs": [
    {
     "data": {
      "text/plain": [
       "array([nan, 'Министерство культуры', 'Фонд кино',\n",
       "       'Министерство культуры, Фонд кино'], dtype=object)"
      ]
     },
     "execution_count": 75,
     "metadata": {},
     "output_type": "execute_result"
    }
   ],
   "source": [
    "data['financing_source'].unique()"
   ]
  },
  {
   "cell_type": "markdown",
   "metadata": {},
   "source": [
    "В категориях *источник финансирования* проблем не наблюдается. Неявных дублей здесь нет."
   ]
  },
  {
   "cell_type": "code",
   "execution_count": 76,
   "metadata": {},
   "outputs": [
    {
     "data": {
      "text/plain": [
       "array(['боевик,драма,мелодрама', 'драма,военный',\n",
       "       'фантастика,боевик,триллер', 'драма', 'мелодрама,комедия',\n",
       "       'мюзикл,мелодрама,комедия', 'комедия,криминал',\n",
       "       'боевик,триллер,детектив', 'боевик,драма,приключения',\n",
       "       'драма,спорт', 'триллер,драма,мелодрама', 'комедия,мелодрама',\n",
       "       'драма,мелодрама,комедия', 'драма,мелодрама', 'драма,история',\n",
       "       'драма,мелодрама,семейный', 'комедия,мелодрама,криминал',\n",
       "       'комедия', 'боевик,драма,криминал', 'драма,комедия',\n",
       "       'ужасы,фантастика,комедия', 'мультфильм,короткометражка,мелодрама',\n",
       "       'драма,криминал', 'мультфильм,фантастика,фэнтези',\n",
       "       'триллер,драма,криминал', 'драма,мелодрама,биография',\n",
       "       'драма,комедия,военный', 'фантастика,драма,детектив',\n",
       "       'мюзикл,семейный', 'другое', 'военный,приключения,драма',\n",
       "       'документальный,драма', 'драма,биография,история',\n",
       "       'боевик,триллер,драма', 'фэнтези,боевик',\n",
       "       'боевик,комедия,криминал', 'мюзикл,комедия,детский',\n",
       "       'комедия,мелодрама,драма', 'мультфильм,фэнтези,комедия',\n",
       "       'комедия,история', 'мелодрама', 'драма,биография,музыка',\n",
       "       'фэнтези,драма,мелодрама', 'триллер,военный',\n",
       "       'драма,мелодрама,военный', 'мюзикл,драма,мелодрама',\n",
       "       'мюзикл,комедия', 'мультфильм,приключения,семейный',\n",
       "       'ужасы,триллер', 'боевик,драма,военный', 'драма,боевик',\n",
       "       'мультфильм,драма,комедия', 'триллер,криминал',\n",
       "       'военный,биография,драма', 'комедия,семейный', 'военный',\n",
       "       'драма,семейный,биография', 'фэнтези,приключения,семейный',\n",
       "       'драма,криминал,биография', 'ужасы,триллер,детектив',\n",
       "       'боевик,история,драма', 'ужасы,триллер,драма',\n",
       "       'драма,криминал,спорт', 'документальный,короткометражка',\n",
       "       'триллер,драма', 'криминал,детектив,приключения',\n",
       "       'драма,комедия,криминал', 'драма,комедия,вестерн',\n",
       "       'драма,мелодрама,детектив', 'мелодрама,биография',\n",
       "       'фэнтези,мелодрама,драма', 'драма,мелодрама,история',\n",
       "       'комедия,приключения,история', 'приключения', 'драма,семейный',\n",
       "       'криминал,детектив', 'мультфильм,короткометражка,ужасы',\n",
       "       'фантастика,триллер,драма', 'фэнтези,мелодрама,комедия',\n",
       "       'драма,биография', 'комедия,криминал,история',\n",
       "       'триллер,драма,детектив', 'фантастика,комедия,приключения',\n",
       "       'фэнтези,семейный', 'ужасы,фантастика,боевик',\n",
       "       'мелодрама,криминал', 'комедия,приключения,мелодрама',\n",
       "       'боевик,триллер,приключения', 'боевик,приключения',\n",
       "       'боевик,триллер,криминал', 'документальный,военный,история',\n",
       "       'драма,музыка', 'боевик,драма', 'приключения,боевик',\n",
       "       'драма,военный,биография', 'триллер,драма,приключения',\n",
       "       'аниме,мультфильм,фэнтези', 'триллер,детектив,драма',\n",
       "       'боевик,триллер,мелодрама', 'боевик,история',\n",
       "       'приключения,история', 'драма,комедия,приключения',\n",
       "       'фэнтези,комедия,приключения', 'драма,вестерн',\n",
       "       'документальный,музыка', 'мелодрама,драма',\n",
       "       'триллер,криминал,детектив', 'ужасы', 'боевик,комедия,приключения',\n",
       "       'мультфильм,фэнтези,боевик', 'боевик,фэнтези,драма',\n",
       "       'фэнтези,драма', 'фэнтези,боевик,комедия',\n",
       "       'приключения,детский,комедия', 'документальный',\n",
       "       'боевик,триллер,комедия', 'мелодрама,комедия,криминал',\n",
       "       'драма,детектив', 'мюзикл,ужасы,триллер', 'детектив,триллер,ужасы',\n",
       "       'ужасы,фэнтези', 'ужасы,фэнтези,триллер', 'мультфильм,драма',\n",
       "       'ужасы,боевик,фантастика', 'боевик', 'фантастика,боевик',\n",
       "       'мелодрама,комедия,приключения', 'триллер,детектив',\n",
       "       'мюзикл,мелодрама,фэнтези', 'криминал', 'триллер,комедия,криминал',\n",
       "       'боевик,приключения,триллер', 'триллер,драма,военный',\n",
       "       'комедия,семейный,музыка', 'комедия,фантастика,мелодрама',\n",
       "       'фантастика,триллер,криминал', 'комедия,драма', 'боевик,военный',\n",
       "       'ужасы,фантастика,триллер', 'фантастика,драма,мелодрама',\n",
       "       'фэнтези,драма,детектив', 'боевик,триллер', 'боевик,драма,история',\n",
       "       'мультфильм,мюзикл,фэнтези', 'для взрослых,драма,мелодрама',\n",
       "       'мультфильм,боевик,детектив', 'фантастика,мелодрама,боевик',\n",
       "       'ужасы,фантастика,детектив', 'фантастика,боевик,приключения',\n",
       "       'мелодрама,комедия,спорт', 'комедия,боевик,приключения',\n",
       "       'документальный,приключения', 'мультфильм,короткометражка,детский',\n",
       "       'комедия,приключения', 'ужасы,драма', 'ужасы,фэнтези,боевик',\n",
       "       'мультфильм,фэнтези,детский', 'мюзикл,боевик,драма',\n",
       "       'семейный,комедия,драма', 'концерт,музыка', 'фэнтези,боевик,драма',\n",
       "       'драма,комедия,музыка', 'фантастика,фэнтези,боевик',\n",
       "       'фэнтези,комедия,семейный', 'фэнтези,драма,комедия',\n",
       "       'мультфильм,мюзикл,драма', 'триллер', 'боевик,криминал,триллер',\n",
       "       'мультфильм,приключения,драма', 'мелодрама,музыка',\n",
       "       'документальный,музыка,концерт', 'мультфильм,семейный',\n",
       "       'мультфильм,комедия,приключения', 'мультфильм,комедия,семейный',\n",
       "       'фантастика,драма', 'фэнтези,боевик,приключения',\n",
       "       'мультфильм,приключения', 'драма,военный,история', 'история',\n",
       "       'драма,приключения,военный',\n",
       "       'документальный,короткометражка,семейный',\n",
       "       'мелодрама,история,триллер', 'ужасы,детектив',\n",
       "       'мюзикл,комедия,приключения', 'драма,спорт,биография',\n",
       "       'фантастика,боевик,комедия', 'фантастика,приключения,детектив',\n",
       "       'короткометражка,драма,военный', 'драма,мультфильм',\n",
       "       'приключения,семейный', 'детектив', 'триллер,приключения',\n",
       "       'аниме,мультфильм,боевик', 'драма,комедия,биография',\n",
       "       'драма,комедия,спорт', 'боевик,мелодрама,комедия',\n",
       "       'семейный,комедия', 'фэнтези,боевик,триллер',\n",
       "       'документальный,фэнтези,семейный', 'фантастика,фэнтези,драма',\n",
       "       'ужасы,комедия,фэнтези', 'документальный,биография,музыка',\n",
       "       'фантастика,боевик,фэнтези', 'ужасы,боевик,триллер',\n",
       "       'комедия,криминал,семейный', 'приключения,драма',\n",
       "       'криминал,драма,триллер', 'драма,детектив,криминал',\n",
       "       'фэнтези,приключения,комедия', 'комедия,спорт',\n",
       "       'мюзикл,фэнтези,мелодрама', 'мультфильм,фэнтези,приключения',\n",
       "       'фантастика,фэнтези,приключения', 'фэнтези',\n",
       "       'фэнтези,приключения,боевик', 'фантастика,боевик,драма',\n",
       "       'криминал,драма', 'криминал,триллер,драма',\n",
       "       'драма,мелодрама,приключения', 'детский,комедия',\n",
       "       'фантастика,драма,боевик', 'мультфильм,семейный,фэнтези',\n",
       "       'концерт,музыка,документальный', 'ужасы,комедия,приключения',\n",
       "       'драма,мелодрама,криминал', 'ужасы,фантастика,фэнтези',\n",
       "       'боевик,комедия', 'мультфильм,фантастика,комедия', 'триллер,ужасы',\n",
       "       'мультфильм,мюзикл,комедия', 'мелодрама,фэнтези,триллер',\n",
       "       'детский,приключения,комедия', 'комедия,детектив',\n",
       "       'аниме,мультфильм,мелодрама', 'документальный,драма,семейный',\n",
       "       'документальный,биография,история', 'военный,боевик,драма',\n",
       "       'ужасы,комедия', 'комедия,приключения,семейный',\n",
       "       'приключения,биография,история', 'детский,приключения,семейный',\n",
       "       'спорт,драма,биография', 'аниме,мультфильм,ужасы',\n",
       "       'фантастика,боевик,криминал', 'мюзикл,драма',\n",
       "       'драма,криминал,детектив', 'аниме,мультфильм,драма',\n",
       "       'драма,триллер,приключения', 'триллер,криминал,драма',\n",
       "       'фэнтези,комедия,драма', 'мультфильм,комедия',\n",
       "       'драма,комедия,история', 'комедия,биография,история',\n",
       "       'мультфильм,фантастика,приключения', 'аниме,мультфильм,фантастика',\n",
       "       'мультфильм,фэнтези,семейный', 'мультфильм,боевик,комедия',\n",
       "       'комедия,криминал,спорт', 'документальный,мюзикл',\n",
       "       'мелодрама,комедия,музыка', 'биография',\n",
       "       'триллер,криминал,комедия', 'фантастика,драма,комедия',\n",
       "       'комедия,драма,мелодрама', 'фантастика,приключения,боевик',\n",
       "       'мультфильм,фэнтези,драма', 'триллер,комедия',\n",
       "       'драма,приключения,биография', 'фантастика,комедия',\n",
       "       'мелодрама,драма,комедия', 'боевик,криминал',\n",
       "       'драма,криминал,боевик', 'мультфильм,мюзикл,детский',\n",
       "       'драма,фэнтези', 'документальный,семейный',\n",
       "       'фэнтези,драма,приключения', 'ужасы,комедия,фантастика',\n",
       "       'драма,мелодрама,музыка', 'фэнтези,драма,семейный',\n",
       "       'триллер,мелодрама,драма', 'вестерн,боевик,драма',\n",
       "       'мультфильм,короткометражка,комедия', 'триллер,драма,история',\n",
       "       'ужасы,фантастика', 'ужасы,мелодрама,комедия',\n",
       "       'фэнтези,приключения', 'фантастика,триллер',\n",
       "       'ужасы,боевик,фэнтези', 'мультфильм,комедия,детский',\n",
       "       'триллер,драма,биография', 'мультфильм,ужасы,фэнтези',\n",
       "       'мультфильм,ужасы,фантастика', 'ужасы,боевик,комедия',\n",
       "       'драма,биография,спорт', 'мультфильм', 'мелодрама,комедия,драма',\n",
       "       'приключения,фантастика,семейный', 'комедия,криминал,детектив',\n",
       "       'ужасы,триллер,комедия', 'криминал,комедия,триллер',\n",
       "       'семейный,приключения,комедия', 'мультфильм,драма,приключения',\n",
       "       'ужасы,драма,детектив', 'драма,приключения,фэнтези',\n",
       "       'фантастика,мультфильм,драма', 'драма,триллер,детектив',\n",
       "       'драма,история,музыка', 'детский', 'триллер,боевик,криминал',\n",
       "       'драма,фантастика', 'комедия,драма,семейный',\n",
       "       'боевик,драма,комедия', 'комедия,ужасы',\n",
       "       'драма,фантастика,триллер', 'фантастика,драма,триллер',\n",
       "       'история,спорт,драма', 'документальный,биография',\n",
       "       'биография,история', 'спорт,драма', 'боевик,фэнтези',\n",
       "       'мультфильм,фэнтези', 'документальный,комедия,история',\n",
       "       'криминал,комедия,боевик', 'фэнтези,приключения,драма',\n",
       "       'музыка,концерт', 'триллер,драма,боевик',\n",
       "       'комедия,криминал,боевик', 'комедия,фантастика,боевик',\n",
       "       'вестерн,приключения,боевик', 'аниме,мультфильм,комедия',\n",
       "       'детектив,криминал,триллер', 'мультфильм,комедия,криминал',\n",
       "       'комедия,приключения,детектив', 'мелодрама,фантастика,драма',\n",
       "       'драма,комедия,семейный', 'приключения,фантастика',\n",
       "       'триллер,детектив,ужасы', 'комедия,приключения,фэнтези',\n",
       "       'фэнтези,триллер,драма', 'мелодрама,приключения,боевик',\n",
       "       'детектив,триллер,криминал', 'фэнтези,семейный,мелодрама',\n",
       "       'военный,драма', 'документальный,приключения,семейный',\n",
       "       'криминал,комедия,драма', 'комедия,фантастика',\n",
       "       'история,биография,драма', 'мелодрама,драма,музыка',\n",
       "       'боевик,мелодрама', 'комедия,криминал,триллер',\n",
       "       'детектив,триллер,боевик', 'комедия,боевик,криминал',\n",
       "       'комедия,вестерн', 'детский,мелодрама,семейный',\n",
       "       'короткометражка,мультфильм', 'комедия,фэнтези',\n",
       "       'фантастика,драма,ужасы', 'триллер,драма,ужасы',\n",
       "       'драма,фэнтези,история', 'комедия,драма,короткометражка',\n",
       "       'фэнтези,триллер,приключения', 'семейный',\n",
       "       'комедия,криминал,драма', 'комедия,фэнтези,ужасы',\n",
       "       'короткометражка,комедия,криминал', 'фантастика',\n",
       "       'триллер,ужасы,драма', 'мелодрама,драма,фэнтези',\n",
       "       'фантастика,приключения,драма', 'боевик,детектив',\n",
       "       'военный,драма,боевик', 'комедия,мелодрама,фэнтези',\n",
       "       'вестерн,криминал,триллер', 'драма,история,триллер',\n",
       "       'мультфильм,фантастика,боевик', 'детектив,драма,криминал',\n",
       "       'приключения,история,драма', 'мультфильм,семейный,детский',\n",
       "       'биография,драма,история', 'триллер,криминал,боевик',\n",
       "       'история,мелодрама', 'приключения,детский',\n",
       "       'музыка,приключения,концерт', 'военный,драма,комедия',\n",
       "       'фэнтези,боевик,военный', 'фантастика,детектив,боевик',\n",
       "       'мультфильм,фэнтези,история', 'биография,мелодрама,драма',\n",
       "       'документальный,биография,спорт', 'фантастика,комедия,детектив',\n",
       "       'музыка,концерт,документальный', 'триллер,боевик,приключения',\n",
       "       'триллер,драма,комедия', 'детектив,криминал',\n",
       "       'мультфильм,приключения,фэнтези', 'мелодрама,приключения',\n",
       "       'комедия,музыка', 'мелодрама,комедия,ужасы',\n",
       "       'драма,криминал,приключения', 'приключения,детектив,мелодрама',\n",
       "       'драма,криминал,фантастика', 'фэнтези,драма,биография',\n",
       "       'детектив,фантастика,криминал', 'триллер,драма,фантастика',\n",
       "       'ужасы,комедия,боевик', 'мелодрама,история', 'триллер,боевик',\n",
       "       'фильм-нуар,триллер,детектив', 'комедия,криминал,приключения',\n",
       "       'ужасы,триллер,мелодрама', 'военный,драма,история',\n",
       "       'драма,спорт,история', 'документальный,драма,история',\n",
       "       'триллер,мелодрама,детектив', 'детский,семейный',\n",
       "       'мюзикл,семейный,драма', 'биография,военный,драма',\n",
       "       'мультфильм,детский', 'боевик,криминал,драма',\n",
       "       'детектив,фэнтези,триллер', 'драма,боевик,приключения',\n",
       "       'драма,мелодрама,фэнтези', 'детектив,история,драма',\n",
       "       'фэнтези,боевик,ужасы', 'ужасы,фэнтези,мелодрама',\n",
       "       'ужасы,приключения', 'боевик,фантастика',\n",
       "       'ужасы,мелодрама,детектив', 'фантастика,триллер,приключения',\n",
       "       'боевик,приключения,история', 'приключения,боевик,триллер',\n",
       "       'детектив,ужасы,криминал', 'семейный,фэнтези', 'мюзикл,мелодрама',\n",
       "       'драма,военный,приключения', 'фантастика,драма,приключения',\n",
       "       'приключения,семейный,драма', 'история,драма,боевик',\n",
       "       'мультфильм,приключения,комедия', 'криминал,драма,комедия',\n",
       "       'ужасы,комедия,драма', 'комедия,семейный,приключения',\n",
       "       'мюзикл,фэнтези,драма', 'драма,вестерн,боевик',\n",
       "       'фантастика,триллер,детектив', 'драма,история,детектив',\n",
       "       'короткометражка,биография', 'мультфильм,приключения,фантастика',\n",
       "       'комедия,триллер', 'мультфильм,приключения,детектив',\n",
       "       'драма,триллер', 'ужасы,триллер,криминал',\n",
       "       'документальный,криминал,военный', 'ужасы,фэнтези,драма',\n",
       "       'фэнтези,комедия', 'ужасы,фэнтези,комедия', 'комедия,музыка,драма',\n",
       "       'мультфильм,приключения,военный', 'мюзикл,фэнтези,комедия',\n",
       "       'боевик,фантастика,приключения', 'триллер,ужасы,криминал',\n",
       "       'ужасы,фантастика,драма', 'фантастика,приключения,семейный',\n",
       "       'короткометражка,музыка', 'мелодрама,детектив,комедия',\n",
       "       'документальный,триллер,биография', 'боевик,фантастика,триллер',\n",
       "       'спорт,драма,комедия', 'фэнтези,мелодрама,приключения',\n",
       "       'триллер,детектив,криминал', 'короткометражка,мелодрама',\n",
       "       'мультфильм,семейный,спорт', 'комедия,фэнтези,мелодрама',\n",
       "       'драма,спорт,комедия', 'история,драма,мелодрама',\n",
       "       'драма,боевик,криминал', 'драма,комедия,триллер',\n",
       "       'аниме,мультфильм', 'документальный,ужасы',\n",
       "       'мультфильм,короткометражка', 'драма,история,военный',\n",
       "       'мультфильм,короткометражка,фэнтези', 'комедия,военный,музыка',\n",
       "       'биография,история,драма', 'ужасы,драма,мелодрама',\n",
       "       'драма,комедия,детектив', 'комедия,семейный,фантастика',\n",
       "       'мультфильм,семейный,комедия', 'история,детектив',\n",
       "       'приключения,мелодрама,детектив', 'мюзикл,комедия,мелодрама',\n",
       "       'драма,фантастика,ужасы', 'мультфильм,ужасы,комедия',\n",
       "       'для взрослых,драма,комедия', 'ужасы,комедия,музыка',\n",
       "       'комедия,история,драма', 'семейный,детектив,детский',\n",
       "       'короткометражка,драма', 'документальный,новости,драма',\n",
       "       'триллер,мелодрама', 'ужасы,драма,вестерн',\n",
       "       'мюзикл,фэнтези,семейный', 'вестерн,драма,триллер',\n",
       "       'приключения,вестерн,боевик', 'семейный,комедия,музыка',\n",
       "       'боевик,драма,вестерн', 'ужасы,драма,триллер',\n",
       "       'фантастика,мелодрама', 'комедия,криминал,биография',\n",
       "       'семейный,мультфильм,комедия', 'комедия,драма,криминал',\n",
       "       'фантастика,боевик,военный', 'приключения,биография,драма',\n",
       "       'приключения,триллер,биография', 'криминал,боевик,триллер',\n",
       "       'боевик,вестерн,приключения', 'история,драма',\n",
       "       'фантастика,фэнтези,комедия', 'мультфильм,детский,комедия',\n",
       "       'мелодрама,комедия,триллер', 'документальный,боевик,приключения',\n",
       "       'драма,приключения', 'мелодрама,военный,драма', 'триллер,фэнтези',\n",
       "       'драма,триллер,биография', 'фэнтези,боевик,семейный',\n",
       "       'фантастика,триллер,комедия', 'документальный,фэнтези',\n",
       "       'комедия,мультфильм,фантастика', 'криминал,биография,комедия',\n",
       "       'биография,спорт,драма', 'приключения,военный',\n",
       "       'мультфильм,семейный,драма', 'документальный,фэнтези,драма',\n",
       "       'комедия,боевик,фантастика', 'семейный,приключения,военный',\n",
       "       'триллер,ужасы,детектив', 'короткометражка',\n",
       "       'мелодрама,триллер,история', 'документальный,история',\n",
       "       'мультфильм,приключения,детский', 'драма,комедия,мультфильм',\n",
       "       'военный,детектив', 'семейный,приключения,документальный',\n",
       "       'детский,фэнтези', 'документальный,комедия', 'комедия,биография',\n",
       "       'криминал,комедия', 'спорт,мелодрама,криминал',\n",
       "       'фантастика,комедия,боевик', 'боевик,приключения,детектив',\n",
       "       'детектив,триллер,драма', 'документальный,фантастика',\n",
       "       'мелодрама,комедия,семейный', 'мультфильм,мелодрама,комедия',\n",
       "       'драма,спорт,семейный', 'фантастика,мелодрама,фэнтези',\n",
       "       'мюзикл,комедия,музыка', 'фантастика,триллер,мелодрама',\n",
       "       'приключения,комедия,фэнтези', 'фэнтези,боевик,детектив',\n",
       "       'фэнтези,боевик,мелодрама', 'комедия,военный',\n",
       "       'драма,спорт,боевик', 'мультфильм,боевик,триллер',\n",
       "       'мелодрама,семейный', 'фантастика,боевик,детектив',\n",
       "       'драма,приключения,история', 'документальный,драма,музыка',\n",
       "       'фантастика,триллер,боевик', 'фэнтези,боевик,вестерн',\n",
       "       'драма,комедия,мелодрама', 'ужасы,фэнтези,приключения',\n",
       "       'триллер,фэнтези,драма', 'мультфильм,мюзикл,мелодрама',\n",
       "       'ужасы,триллер,фантастика', 'триллер,мелодрама,комедия',\n",
       "       'ужасы,комедия,семейный', 'комедия,приключения,музыка',\n",
       "       'документальный,комедия,криминал', 'мелодрама,детектив',\n",
       "       'детский,приключения,фантастика', 'короткометражка,боевик,драма',\n",
       "       'боевик,комедия,семейный', 'фантастика,боевик,мелодрама',\n",
       "       'фэнтези,триллер,мелодрама', 'драма,детектив,история',\n",
       "       'боевик,криминал,детектив', 'мультфильм,фэнтези,мелодрама',\n",
       "       'мелодрама,драма,боевик', 'драма,вестерн,приключения',\n",
       "       'драма,приключения,мелодрама', 'фэнтези,боевик,криминал',\n",
       "       'фантастика,комедия,семейный', 'детский,фэнтези,приключения',\n",
       "       'ужасы,боевик', 'фантастика,мелодрама,комедия',\n",
       "       'семейный,спорт,боевик', 'триллер,биография,драма',\n",
       "       'ужасы,драма,комедия', 'мультфильм,фэнтези,триллер', 'мюзикл',\n",
       "       'боевик,спорт,драма', 'комедия,приключения,вестерн',\n",
       "       'документальный,ужасы,боевик', 'фантастика,боевик,семейный',\n",
       "       'военный,история', 'ужасы,боевик,криминал', 'детектив,триллер',\n",
       "       'драма,семейный,комедия', 'драма,детектив,приключения',\n",
       "       'драма,криминал,история', 'приключения,триллер',\n",
       "       'боевик,драма,биография', 'драма,приключения,триллер',\n",
       "       'комедия,фэнтези,приключения', 'фантастика,боевик,ужасы',\n",
       "       'драма,комедия,фантастика', 'детектив,криминал,драма',\n",
       "       'боевик,триллер,фэнтези', 'приключения,детектив,семейный',\n",
       "       'ужасы,комедия,криминал', 'мультфильм,биография,драма',\n",
       "       'история,боевик,фэнтези', 'детектив,криминал,боевик',\n",
       "       'приключения,фэнтези', 'комедия,приключения,спорт',\n",
       "       'драма,биография,мюзикл', 'комедия,семейный,фэнтези',\n",
       "       'детектив,драма,триллер', 'боевик,приключения,семейный',\n",
       "       'биография,спорт,комедия', 'фантастика,приключения,военный',\n",
       "       'документальный,драма,биография', 'детектив,приключения,драма',\n",
       "       'аниме,мультфильм,приключения', 'семейный,приключения',\n",
       "       'ужасы,фэнтези,детектив', 'семейный,документальный',\n",
       "       'драма,приключения,семейный', 'приключения,история,военный',\n",
       "       'фэнтези,мелодрама', 'фэнтези,триллер,детектив',\n",
       "       'документальный,спорт,биография', 'комедия,триллер,драма',\n",
       "       'драма,ужасы', 'биография,музыка,драма', 'фэнтези,ужасы',\n",
       "       'детектив,мелодрама,фэнтези', 'боевик,военный,история',\n",
       "       'биография,драма,криминал', 'триллер,мелодрама,криминал',\n",
       "       'семейный,мелодрама', 'биография,драма', 'военный,история,драма',\n",
       "       'фантастика,детектив,фэнтези', 'детектив,приключения,триллер',\n",
       "       'фантастика,приключения', 'мультфильм,короткометражка,мюзикл',\n",
       "       'мультфильм,детский,семейный', 'документальный,драма,комедия',\n",
       "       'комедия,приключения,криминал', 'документальный,семейный,музыка',\n",
       "       'мелодрама,музыка,драма', 'детектив,фантастика,триллер',\n",
       "       'драма,мелодрама,триллер', 'биография,драма,военный',\n",
       "       'приключения,фантастика,драма', 'детектив,фильм-нуар,комедия',\n",
       "       'документальный,спорт', 'триллер,фантастика,драма',\n",
       "       'биография,документальный', 'ужасы,фантастика,мелодрама',\n",
       "       'детектив,комедия', 'история,биография,военный',\n",
       "       'криминал,мелодрама', 'драма,криминал,вестерн',\n",
       "       'мелодрама,семейный,приключения', 'триллер,ужасы,мелодрама',\n",
       "       'фэнтези,драма,фильм-нуар', 'детектив,мелодрама',\n",
       "       'комедия,драма,биография', 'драма,военный,боевик',\n",
       "       'драма,комедия,ужасы', 'фантастика,драма,криминал',\n",
       "       'документальный,музыка,биография', 'мультфильм,боевик,приключения',\n",
       "       'короткометражка,фантастика', 'мультфильм,мелодрама,драма',\n",
       "       'боевик,военный,драма', 'фэнтези,семейный,приключения',\n",
       "       'детский,мультфильм,приключения', 'семейный,фэнтези,комедия',\n",
       "       'фэнтези,ужасы,триллер', 'ужасы,триллер,приключения',\n",
       "       'драма,боевик,история', 'фэнтези,комедия,детектив',\n",
       "       'история,приключения', 'аниме,мультфильм,короткометражка',\n",
       "       'драма,военный,триллер', 'биография,криминал,триллер',\n",
       "       'фантастика,фэнтези,детектив', 'вестерн,биография,драма',\n",
       "       'биография,музыка,мюзикл', 'драма,история,биография',\n",
       "       'приключения,драма,фантастика', 'комедия,фэнтези,криминал',\n",
       "       'биография,спорт,история', 'драма,криминал,семейный',\n",
       "       'детектив,боевик,история', 'ужасы,комедия,детектив',\n",
       "       'триллер,приключения,драма', 'фэнтези,комедия,криминал',\n",
       "       'триллер,криминал,приключения', 'комедия,детектив,приключения',\n",
       "       'фэнтези,драма,ужасы', 'ужасы,драма,военный', 'реальное ТВ',\n",
       "       'аниме,мультфильм,детектив', 'приключения,фэнтези,семейный',\n",
       "       'драма,биография,комедия', 'триллер,комедия,ужасы',\n",
       "       'музыка,мелодрама,фэнтези', 'мультфильм,история',\n",
       "       'мультфильм,комедия,фантастика', 'биография,криминал,драма',\n",
       "       'комедия,мелодрама,фантастика', 'криминал,боевик,комедия',\n",
       "       'история,криминал', 'детектив,комедия,драма',\n",
       "       'триллер,фантастика,боевик', 'криминал,боевик',\n",
       "       'комедия,драма,военный', 'драма,триллер,криминал',\n",
       "       'мультфильм,мелодрама,приключения', 'фантастика,фэнтези,триллер',\n",
       "       'короткометражка,драма,триллер', 'военный,боевик,история',\n",
       "       'боевик,драма,триллер', 'документальный,военный,драма',\n",
       "       'драма,криминал,фильм-нуар', 'мультфильм,детский,приключения',\n",
       "       'мелодрама,история,драма'], dtype=object)"
      ]
     },
     "execution_count": 76,
     "metadata": {},
     "output_type": "execute_result"
    }
   ],
   "source": [
    "data['genres'].unique()"
   ]
  },
  {
   "cell_type": "code",
   "execution_count": 77,
   "metadata": {},
   "outputs": [
    {
     "data": {
      "text/plain": [
       "743"
      ]
     },
     "execution_count": 77,
     "metadata": {},
     "output_type": "execute_result"
    }
   ],
   "source": [
    "data['genres'].nunique()"
   ]
  },
  {
   "cell_type": "markdown",
   "metadata": {},
   "source": [
    "Для категории *жанр* также сразу не наблюдается особых проблем. Бросается в глаза составные жанры, т.е. когда один и тот же фильм относится к нескольким жанрам одновременно. Это необходимо учиывать при анализе. Если потребуется найти какую-то зависимость отжанра, то потребуется анализировать само название жанра."
   ]
  },
  {
   "cell_type": "markdown",
   "metadata": {},
   "source": [
    "<div class=\"alert alert-success\">\n",
    "    \n",
    "<b> Комментарий от ревьюера ✔️</b>\n",
    "    \n",
    "> Для категории жанр также сразу не наблюдается особых проблем. Бросается в глаза составные жанры, т.е. когда один и тот же фильм относится к нескольким жанрам одновременно\n",
    "    \n",
    "Ты прав. Проблемой тут можно считать большое число уникальных значений. Ниже мы попробуем обойти эту проблему, когда будем выделять главного режиссера/жанр\n",
    "</div>"
   ]
  },
  {
   "cell_type": "markdown",
   "metadata": {
    "id": "XFSN5lrEgFyR"
   },
   "source": [
    "#### Шаг 2.5. Проверьте количественные значения\n",
    "\n",
    "- Проверьте, обнаружились ли в таких столбцах подозрительные данные. Как с такими данными лучше поступить?\n",
    "\n",
    "<div id=\"accordion\">\n",
    "    <div class=\"card\">\n",
    "        <div class=\"card-header\" id=\"headingThree\">\n",
    "            <button class=\"btn btn-link collapsed\" data-toggle=\"collapse\" data-target=\"#collapseHint_budget\" aria-expanded=\"false\" aria-controls=\"collapseHint_budget\">Подсказка</button>\n",
    "        </div>\n",
    "        <div id=\"collapseHint_budget\" class=\"collapse\" aria-labelledby=\"headingThree\" data-parent=\"#accordion\">\n",
    "            <div class=\"card-body\">\n",
    "Обратите внимание на описание столбца <code>budget</code>. Как этот столбец соотносится с двумя другими: <code>refundable_support</code> и <code>nonrefundable_support</code>?\n",
    "            </div>\n",
    "        </div>\n",
    "    </div>\n",
    "</div>"
   ]
  },
  {
   "cell_type": "markdown",
   "metadata": {
    "id": "YbzClBxagFyS"
   },
   "source": [
    "Проанализируем данные столбцов, которые относятся к государственному финансированию. \n",
    "\n",
    "Есть ли строки, где сумма бюджета равна *0*"
   ]
  },
  {
   "cell_type": "code",
   "execution_count": 78,
   "metadata": {},
   "outputs": [
    {
     "data": {
      "text/html": [
       "<div>\n",
       "<style scoped>\n",
       "    .dataframe tbody tr th:only-of-type {\n",
       "        vertical-align: middle;\n",
       "    }\n",
       "\n",
       "    .dataframe tbody tr th {\n",
       "        vertical-align: top;\n",
       "    }\n",
       "\n",
       "    .dataframe thead th {\n",
       "        text-align: right;\n",
       "    }\n",
       "</style>\n",
       "<table border=\"1\" class=\"dataframe\">\n",
       "  <thead>\n",
       "    <tr style=\"text-align: right;\">\n",
       "      <th></th>\n",
       "      <th>title</th>\n",
       "      <th>puNumber</th>\n",
       "      <th>refundable_support</th>\n",
       "      <th>nonrefundable_support</th>\n",
       "      <th>budget</th>\n",
       "      <th>box_office</th>\n",
       "    </tr>\n",
       "  </thead>\n",
       "  <tbody>\n",
       "    <tr>\n",
       "      <th>2052</th>\n",
       "      <td>14+</td>\n",
       "      <td>111023614</td>\n",
       "      <td>0.0</td>\n",
       "      <td>23000000.0</td>\n",
       "      <td>0.0</td>\n",
       "      <td>1.023402e+07</td>\n",
       "    </tr>\n",
       "    <tr>\n",
       "      <th>2057</th>\n",
       "      <td>Дуxless 2</td>\n",
       "      <td>111000415</td>\n",
       "      <td>0.0</td>\n",
       "      <td>75000000.0</td>\n",
       "      <td>0.0</td>\n",
       "      <td>4.461635e+08</td>\n",
       "    </tr>\n",
       "    <tr>\n",
       "      <th>2471</th>\n",
       "      <td>Воин (2015)</td>\n",
       "      <td>111017315</td>\n",
       "      <td>10000000.0</td>\n",
       "      <td>70000000.0</td>\n",
       "      <td>0.0</td>\n",
       "      <td>1.965724e+08</td>\n",
       "    </tr>\n",
       "    <tr>\n",
       "      <th>2531</th>\n",
       "      <td>Бармен.</td>\n",
       "      <td>111009615</td>\n",
       "      <td>20000000.0</td>\n",
       "      <td>0.0</td>\n",
       "      <td>0.0</td>\n",
       "      <td>6.741897e+07</td>\n",
       "    </tr>\n",
       "    <tr>\n",
       "      <th>2614</th>\n",
       "      <td>Савва. Сердце воина</td>\n",
       "      <td>114001715</td>\n",
       "      <td>60000000.0</td>\n",
       "      <td>100000000.0</td>\n",
       "      <td>0.0</td>\n",
       "      <td>1.844876e+08</td>\n",
       "    </tr>\n",
       "    <tr>\n",
       "      <th>2683</th>\n",
       "      <td>Тряпичный союз</td>\n",
       "      <td>111010215</td>\n",
       "      <td>0.0</td>\n",
       "      <td>59000000.0</td>\n",
       "      <td>0.0</td>\n",
       "      <td>1.957739e+06</td>\n",
       "    </tr>\n",
       "    <tr>\n",
       "      <th>2787</th>\n",
       "      <td>Срочно выйду замуж</td>\n",
       "      <td>111017115</td>\n",
       "      <td>0.0</td>\n",
       "      <td>35000000.0</td>\n",
       "      <td>0.0</td>\n",
       "      <td>7.293778e+07</td>\n",
       "    </tr>\n",
       "    <tr>\n",
       "      <th>2873</th>\n",
       "      <td>Помню - не помню!</td>\n",
       "      <td>111004916</td>\n",
       "      <td>0.0</td>\n",
       "      <td>6000000.0</td>\n",
       "      <td>0.0</td>\n",
       "      <td>1.536293e+07</td>\n",
       "    </tr>\n",
       "    <tr>\n",
       "      <th>3046</th>\n",
       "      <td>Любовь с ограничениями</td>\n",
       "      <td>111008216</td>\n",
       "      <td>19000000.0</td>\n",
       "      <td>51000000.0</td>\n",
       "      <td>0.0</td>\n",
       "      <td>7.029905e+07</td>\n",
       "    </tr>\n",
       "    <tr>\n",
       "      <th>3564</th>\n",
       "      <td>Притяжение (2016)</td>\n",
       "      <td>111018116</td>\n",
       "      <td>0.0</td>\n",
       "      <td>250000000.0</td>\n",
       "      <td>0.0</td>\n",
       "      <td>1.038321e+09</td>\n",
       "    </tr>\n",
       "    <tr>\n",
       "      <th>3674</th>\n",
       "      <td>Чудо-юдо</td>\n",
       "      <td>114001817</td>\n",
       "      <td>20000000.0</td>\n",
       "      <td>20000000.0</td>\n",
       "      <td>0.0</td>\n",
       "      <td>5.510801e+07</td>\n",
       "    </tr>\n",
       "    <tr>\n",
       "      <th>3738</th>\n",
       "      <td>Мифы</td>\n",
       "      <td>111004317</td>\n",
       "      <td>25000000.0</td>\n",
       "      <td>20000000.0</td>\n",
       "      <td>0.0</td>\n",
       "      <td>5.045195e+07</td>\n",
       "    </tr>\n",
       "    <tr>\n",
       "      <th>5672</th>\n",
       "      <td>Селфи</td>\n",
       "      <td>111012117</td>\n",
       "      <td>20000000.0</td>\n",
       "      <td>40000000.0</td>\n",
       "      <td>0.0</td>\n",
       "      <td>2.251964e+08</td>\n",
       "    </tr>\n",
       "    <tr>\n",
       "      <th>5805</th>\n",
       "      <td>Два хвоста</td>\n",
       "      <td>114001018</td>\n",
       "      <td>10000000.0</td>\n",
       "      <td>60000000.0</td>\n",
       "      <td>0.0</td>\n",
       "      <td>1.065143e+08</td>\n",
       "    </tr>\n",
       "    <tr>\n",
       "      <th>6007</th>\n",
       "      <td>Принцесса и дракон</td>\n",
       "      <td>114003018</td>\n",
       "      <td>40000000.0</td>\n",
       "      <td>40000000.0</td>\n",
       "      <td>0.0</td>\n",
       "      <td>8.336633e+07</td>\n",
       "    </tr>\n",
       "    <tr>\n",
       "      <th>6322</th>\n",
       "      <td>Баба Яга</td>\n",
       "      <td>114006518</td>\n",
       "      <td>0.0</td>\n",
       "      <td>138969465.0</td>\n",
       "      <td>0.0</td>\n",
       "      <td>1.334699e+06</td>\n",
       "    </tr>\n",
       "    <tr>\n",
       "      <th>6822</th>\n",
       "      <td>Большое путешествие</td>\n",
       "      <td>114002419</td>\n",
       "      <td>60000000.0</td>\n",
       "      <td>120000000.0</td>\n",
       "      <td>0.0</td>\n",
       "      <td>1.476068e+08</td>\n",
       "    </tr>\n",
       "  </tbody>\n",
       "</table>\n",
       "</div>"
      ],
      "text/plain": [
       "                       title   puNumber  refundable_support  \\\n",
       "2052                     14+  111023614                 0.0   \n",
       "2057               Дуxless 2  111000415                 0.0   \n",
       "2471             Воин (2015)  111017315          10000000.0   \n",
       "2531                 Бармен.  111009615          20000000.0   \n",
       "2614     Савва. Сердце воина  114001715          60000000.0   \n",
       "2683          Тряпичный союз  111010215                 0.0   \n",
       "2787      Срочно выйду замуж  111017115                 0.0   \n",
       "2873       Помню - не помню!  111004916                 0.0   \n",
       "3046  Любовь с ограничениями  111008216          19000000.0   \n",
       "3564       Притяжение (2016)  111018116                 0.0   \n",
       "3674                Чудо-юдо  114001817          20000000.0   \n",
       "3738                    Мифы  111004317          25000000.0   \n",
       "5672                   Селфи  111012117          20000000.0   \n",
       "5805              Два хвоста  114001018          10000000.0   \n",
       "6007      Принцесса и дракон  114003018          40000000.0   \n",
       "6322                Баба Яга  114006518                 0.0   \n",
       "6822     Большое путешествие  114002419          60000000.0   \n",
       "\n",
       "      nonrefundable_support  budget    box_office  \n",
       "2052             23000000.0     0.0  1.023402e+07  \n",
       "2057             75000000.0     0.0  4.461635e+08  \n",
       "2471             70000000.0     0.0  1.965724e+08  \n",
       "2531                    0.0     0.0  6.741897e+07  \n",
       "2614            100000000.0     0.0  1.844876e+08  \n",
       "2683             59000000.0     0.0  1.957739e+06  \n",
       "2787             35000000.0     0.0  7.293778e+07  \n",
       "2873              6000000.0     0.0  1.536293e+07  \n",
       "3046             51000000.0     0.0  7.029905e+07  \n",
       "3564            250000000.0     0.0  1.038321e+09  \n",
       "3674             20000000.0     0.0  5.510801e+07  \n",
       "3738             20000000.0     0.0  5.045195e+07  \n",
       "5672             40000000.0     0.0  2.251964e+08  \n",
       "5805             60000000.0     0.0  1.065143e+08  \n",
       "6007             40000000.0     0.0  8.336633e+07  \n",
       "6322            138969465.0     0.0  1.334699e+06  \n",
       "6822            120000000.0     0.0  1.476068e+08  "
      ]
     },
     "execution_count": 78,
     "metadata": {},
     "output_type": "execute_result"
    }
   ],
   "source": [
    "data[data['financing_source'].notna()].query('budget == 0')\\\n",
    "           .loc[:,['title','puNumber','refundable_support','nonrefundable_support','budget', 'box_office']]"
   ]
  },
  {
   "cell_type": "markdown",
   "metadata": {},
   "source": [
    "Видно, что 17 фильмов имеют незаполненное поле бюджета фильма. Возможно это связано с тем, что полный бюджет фильма составляет господдержка и другие источники финансирования отсутствую. Тогда отсутствующие значения можно заполнить суммой возвратных и невозвратных средств.\n",
    "\n",
    "Посмотрим, есть ли записи, где объем возвратных и невозвратных средств одновременно равны нулю."
   ]
  },
  {
   "cell_type": "code",
   "execution_count": 79,
   "metadata": {},
   "outputs": [
    {
     "data": {
      "text/html": [
       "<div>\n",
       "<style scoped>\n",
       "    .dataframe tbody tr th:only-of-type {\n",
       "        vertical-align: middle;\n",
       "    }\n",
       "\n",
       "    .dataframe tbody tr th {\n",
       "        vertical-align: top;\n",
       "    }\n",
       "\n",
       "    .dataframe thead th {\n",
       "        text-align: right;\n",
       "    }\n",
       "</style>\n",
       "<table border=\"1\" class=\"dataframe\">\n",
       "  <thead>\n",
       "    <tr style=\"text-align: right;\">\n",
       "      <th></th>\n",
       "      <th>title</th>\n",
       "      <th>puNumber</th>\n",
       "      <th>refundable_support</th>\n",
       "      <th>nonrefundable_support</th>\n",
       "      <th>budget</th>\n",
       "      <th>box_office</th>\n",
       "    </tr>\n",
       "  </thead>\n",
       "  <tbody>\n",
       "  </tbody>\n",
       "</table>\n",
       "</div>"
      ],
      "text/plain": [
       "Empty DataFrame\n",
       "Columns: [title, puNumber, refundable_support, nonrefundable_support, budget, box_office]\n",
       "Index: []"
      ]
     },
     "execution_count": 79,
     "metadata": {},
     "output_type": "execute_result"
    }
   ],
   "source": [
    "data[data['financing_source'].notna()].query('refundable_support == 0').query('nonrefundable_support == 0')\\\n",
    "                       .loc[:,['title','puNumber','refundable_support','nonrefundable_support','budget', 'box_office']]"
   ]
  },
  {
   "cell_type": "markdown",
   "metadata": {},
   "source": [
    "Таких записей нет. Посмотрим, нет ли записей, где общий бюджет фильма меньше, чем общее государственное финансирование."
   ]
  },
  {
   "cell_type": "code",
   "execution_count": 80,
   "metadata": {},
   "outputs": [],
   "source": [
    "rez = data[data['budget'] > 0].loc[:,['title','puNumber','refundable_support','nonrefundable_support','budget', 'box_office']]"
   ]
  },
  {
   "cell_type": "code",
   "execution_count": 81,
   "metadata": {},
   "outputs": [
    {
     "data": {
      "text/plain": [
       "0"
      ]
     },
     "execution_count": 81,
     "metadata": {},
     "output_type": "execute_result"
    }
   ],
   "source": [
    "((rez['budget'] - rez['refundable_support'] - rez['nonrefundable_support']) < 0).sum()"
   ]
  },
  {
   "cell_type": "markdown",
   "metadata": {},
   "source": [
    "Таким образом у нас есть записи, где общий бюджет указан равным *0*. Для таких записей значение бюджета можно взять равным сумме возвратных и невозвратных средств господдержки.\n",
    "\n",
    "Ситуации, когда величина бюджета меньше чем общая сумма господдержки, не существует.\n",
    "\n",
    "Также нет такого, где указанный бюджет был в точности равен бюджету господдержки (что косвенно подтверждает нашу гипотезу о происходении записей с нулевм бюджетом)\n"
   ]
  },
  {
   "cell_type": "code",
   "execution_count": 82,
   "metadata": {},
   "outputs": [],
   "source": [
    "data.loc[(data['financing_source'].notna()) & (data['budget'].eq(0)),'budget'] = \\\n",
    "   data[(data['financing_source'].notna()) & (data['budget'].eq(0))]['refundable_support'] + \\\n",
    "        data[(data['financing_source'].notna()) & (data['budget'].eq(0))]['nonrefundable_support']"
   ]
  },
  {
   "cell_type": "code",
   "execution_count": 83,
   "metadata": {},
   "outputs": [
    {
     "data": {
      "text/html": [
       "<div>\n",
       "<style scoped>\n",
       "    .dataframe tbody tr th:only-of-type {\n",
       "        vertical-align: middle;\n",
       "    }\n",
       "\n",
       "    .dataframe tbody tr th {\n",
       "        vertical-align: top;\n",
       "    }\n",
       "\n",
       "    .dataframe thead th {\n",
       "        text-align: right;\n",
       "    }\n",
       "</style>\n",
       "<table border=\"1\" class=\"dataframe\">\n",
       "  <thead>\n",
       "    <tr style=\"text-align: right;\">\n",
       "      <th></th>\n",
       "      <th>title</th>\n",
       "      <th>puNumber</th>\n",
       "      <th>show_start_date</th>\n",
       "      <th>type</th>\n",
       "      <th>film_studio</th>\n",
       "      <th>production_country</th>\n",
       "      <th>director</th>\n",
       "      <th>producer</th>\n",
       "      <th>age_restriction</th>\n",
       "      <th>refundable_support</th>\n",
       "      <th>nonrefundable_support</th>\n",
       "      <th>budget</th>\n",
       "      <th>financing_source</th>\n",
       "      <th>ratings</th>\n",
       "      <th>genres</th>\n",
       "      <th>box_office</th>\n",
       "      <th>age_restr</th>\n",
       "    </tr>\n",
       "  </thead>\n",
       "  <tbody>\n",
       "  </tbody>\n",
       "</table>\n",
       "</div>"
      ],
      "text/plain": [
       "Empty DataFrame\n",
       "Columns: [title, puNumber, show_start_date, type, film_studio, production_country, director, producer, age_restriction, refundable_support, nonrefundable_support, budget, financing_source, ratings, genres, box_office, age_restr]\n",
       "Index: []"
      ]
     },
     "execution_count": 83,
     "metadata": {},
     "output_type": "execute_result"
    }
   ],
   "source": [
    "data[(data['financing_source'].notna()) & (data['budget'].eq(0))]"
   ]
  },
  {
   "cell_type": "markdown",
   "metadata": {},
   "source": [
    "Посмотрим как выглядит \"ящие с усами\" для столбца *бюджет фильма*"
   ]
  },
  {
   "cell_type": "code",
   "execution_count": 84,
   "metadata": {},
   "outputs": [
    {
     "data": {
      "text/plain": [
       "count    3.320000e+02\n",
       "mean     1.314224e+08\n",
       "std      1.871482e+08\n",
       "min      6.000000e+06\n",
       "25%      4.552480e+07\n",
       "50%      7.119690e+07\n",
       "75%      1.500000e+08\n",
       "max      2.305074e+09\n",
       "Name: budget, dtype: float64"
      ]
     },
     "execution_count": 84,
     "metadata": {},
     "output_type": "execute_result"
    }
   ],
   "source": [
    "data[data['financing_source'].notna()]['budget'].describe()"
   ]
  },
  {
   "cell_type": "code",
   "execution_count": 85,
   "metadata": {},
   "outputs": [
    {
     "data": {
      "image/png": "[encoded data removed]",
      "text/plain": [
       "<Figure size 432x288 with 1 Axes>"
      ]
     },
     "metadata": {
      "needs_background": "light"
     },
     "output_type": "display_data"
    }
   ],
   "source": [
    "data[data['financing_source'].notna()].boxplot(column='budget')\n",
    "None"
   ]
  },
  {
   "cell_type": "code",
   "execution_count": 86,
   "metadata": {},
   "outputs": [
    {
     "data": {
      "image/png": "[encoded data removed]",
      "text/plain": [
       "<Figure size 432x288 with 1 Axes>"
      ]
     },
     "metadata": {
      "needs_background": "light"
     },
     "output_type": "display_data"
    }
   ],
   "source": [
    "plt.ylim(0,3.1e+08)\n",
    "data[data['financing_source'].notna()].boxplot(column='budget')\n",
    "None"
   ]
  },
  {
   "cell_type": "code",
   "execution_count": 87,
   "metadata": {},
   "outputs": [
    {
     "data": {
      "text/plain": [
       "28"
      ]
     },
     "execution_count": 87,
     "metadata": {},
     "output_type": "execute_result"
    }
   ],
   "source": [
    "data[data['budget'] > 3e+08]['title'].count()"
   ]
  },
  {
   "cell_type": "markdown",
   "metadata": {},
   "source": [
    "Всего в нашем наборе данных 28 фильмов, выходящих за верхнюю границу. Возможно эти фильмы надо рассматривать отдельно.\n",
    "\n",
    "Посмотрим на фильмы с особенно большим бюджетом."
   ]
  },
  {
   "cell_type": "code",
   "execution_count": 88,
   "metadata": {},
   "outputs": [
    {
     "data": {
      "text/html": [
       "<div>\n",
       "<style scoped>\n",
       "    .dataframe tbody tr th:only-of-type {\n",
       "        vertical-align: middle;\n",
       "    }\n",
       "\n",
       "    .dataframe tbody tr th {\n",
       "        vertical-align: top;\n",
       "    }\n",
       "\n",
       "    .dataframe thead th {\n",
       "        text-align: right;\n",
       "    }\n",
       "</style>\n",
       "<table border=\"1\" class=\"dataframe\">\n",
       "  <thead>\n",
       "    <tr style=\"text-align: right;\">\n",
       "      <th></th>\n",
       "      <th>title</th>\n",
       "      <th>puNumber</th>\n",
       "      <th>show_start_date</th>\n",
       "      <th>type</th>\n",
       "      <th>film_studio</th>\n",
       "      <th>production_country</th>\n",
       "      <th>director</th>\n",
       "      <th>producer</th>\n",
       "      <th>age_restriction</th>\n",
       "      <th>refundable_support</th>\n",
       "      <th>nonrefundable_support</th>\n",
       "      <th>budget</th>\n",
       "      <th>financing_source</th>\n",
       "      <th>ratings</th>\n",
       "      <th>genres</th>\n",
       "      <th>box_office</th>\n",
       "      <th>age_restr</th>\n",
       "    </tr>\n",
       "  </thead>\n",
       "  <tbody>\n",
       "    <tr>\n",
       "      <th>5436</th>\n",
       "      <td>Матильда</td>\n",
       "      <td>111005717</td>\n",
       "      <td>2017-08-17 12:00:00+00:00</td>\n",
       "      <td>Художественный</td>\n",
       "      <td>ООО \"ТПО \"РОК\", ООО \"Матильда\"</td>\n",
       "      <td>Россия</td>\n",
       "      <td>А.Учитель</td>\n",
       "      <td>А.Учитель, А.Достман, В.Винокур</td>\n",
       "      <td>«16+» - для детей старше 16 лет</td>\n",
       "      <td>110000000.0</td>\n",
       "      <td>190000000.0</td>\n",
       "      <td>1.032906e+09</td>\n",
       "      <td>Фонд кино</td>\n",
       "      <td>7.7</td>\n",
       "      <td>фэнтези,комедия,семейный</td>\n",
       "      <td>5.117755e+08</td>\n",
       "      <td>16</td>\n",
       "    </tr>\n",
       "    <tr>\n",
       "      <th>7113</th>\n",
       "      <td>Тайна Печати Дракона</td>\n",
       "      <td>111012819</td>\n",
       "      <td>2019-09-12 12:00:00+00:00</td>\n",
       "      <td>Художественный</td>\n",
       "      <td>ООО \"Кинокомпания \"СТВ\"; ООО \"РФГ Корп\"; ООО \"...</td>\n",
       "      <td>Россия-Китай</td>\n",
       "      <td>О.Степченко</td>\n",
       "      <td>С.Сельянов, А.Петрухин</td>\n",
       "      <td>«6+» - для детей старше 6 лет</td>\n",
       "      <td>180000000.0</td>\n",
       "      <td>90000000.0</td>\n",
       "      <td>2.305074e+09</td>\n",
       "      <td>Фонд кино</td>\n",
       "      <td>5.8</td>\n",
       "      <td>приключения,фэнтези</td>\n",
       "      <td>3.335971e+08</td>\n",
       "      <td>6</td>\n",
       "    </tr>\n",
       "    <tr>\n",
       "      <th>7170</th>\n",
       "      <td>Грех</td>\n",
       "      <td>111014419</td>\n",
       "      <td>2019-08-31 12:00:00+00:00</td>\n",
       "      <td>Художественный</td>\n",
       "      <td>НО Фонд Андрея Кончаловского по поддержке кино...</td>\n",
       "      <td>Россия-Италия</td>\n",
       "      <td>А.Михалков (псевдоним А.Кончаловский)</td>\n",
       "      <td>НО Фонд Андрея Кончаловского по поддержке кино...</td>\n",
       "      <td>«16+» - для детей старше 16 лет</td>\n",
       "      <td>0.0</td>\n",
       "      <td>60000000.0</td>\n",
       "      <td>7.799420e+08</td>\n",
       "      <td>Министерство культуры</td>\n",
       "      <td>6.9</td>\n",
       "      <td>драма,биография,история</td>\n",
       "      <td>5.424320e+07</td>\n",
       "      <td>16</td>\n",
       "    </tr>\n",
       "    <tr>\n",
       "      <th>7463</th>\n",
       "      <td>Союз спасения</td>\n",
       "      <td>111022019</td>\n",
       "      <td>2019-12-26 12:00:00+00:00</td>\n",
       "      <td>Художественный</td>\n",
       "      <td>ЗАО \"Дирекция кино\"</td>\n",
       "      <td>Россия</td>\n",
       "      <td>А.Кравчук</td>\n",
       "      <td>А.Максимов, К.Эрнст</td>\n",
       "      <td>«12+» - для детей старше 12 лет</td>\n",
       "      <td>100000000.0</td>\n",
       "      <td>400000000.0</td>\n",
       "      <td>9.800000e+08</td>\n",
       "      <td>Фонд кино</td>\n",
       "      <td>6.0</td>\n",
       "      <td>история,биография,драма</td>\n",
       "      <td>7.177032e+08</td>\n",
       "      <td>12</td>\n",
       "    </tr>\n",
       "    <tr>\n",
       "      <th>7473</th>\n",
       "      <td>Вторжение</td>\n",
       "      <td>111022519</td>\n",
       "      <td>2019-12-23 12:00:00+00:00</td>\n",
       "      <td>Художественный</td>\n",
       "      <td>ООО \"Арт Пикчерс Студия\", ООО \"Водород 2011\"</td>\n",
       "      <td>Россия</td>\n",
       "      <td>Ф.Бондарчук</td>\n",
       "      <td>Ф.Бондарчук, М.Врубель, А.Андрющенко, Д.Рудовский</td>\n",
       "      <td>«12+» - для детей старше 12 лет</td>\n",
       "      <td>100000000.0</td>\n",
       "      <td>400000000.0</td>\n",
       "      <td>9.440000e+08</td>\n",
       "      <td>Фонд кино</td>\n",
       "      <td>5.7</td>\n",
       "      <td>фантастика,боевик</td>\n",
       "      <td>0.000000e+00</td>\n",
       "      <td>12</td>\n",
       "    </tr>\n",
       "  </tbody>\n",
       "</table>\n",
       "</div>"
      ],
      "text/plain": [
       "                     title   puNumber           show_start_date  \\\n",
       "5436              Матильда  111005717 2017-08-17 12:00:00+00:00   \n",
       "7113  Тайна Печати Дракона  111012819 2019-09-12 12:00:00+00:00   \n",
       "7170                  Грех  111014419 2019-08-31 12:00:00+00:00   \n",
       "7463         Союз спасения  111022019 2019-12-26 12:00:00+00:00   \n",
       "7473             Вторжение  111022519 2019-12-23 12:00:00+00:00   \n",
       "\n",
       "                type                                        film_studio  \\\n",
       "5436  Художественный                     ООО \"ТПО \"РОК\", ООО \"Матильда\"   \n",
       "7113  Художественный  ООО \"Кинокомпания \"СТВ\"; ООО \"РФГ Корп\"; ООО \"...   \n",
       "7170  Художественный  НО Фонд Андрея Кончаловского по поддержке кино...   \n",
       "7463  Художественный                                ЗАО \"Дирекция кино\"   \n",
       "7473  Художественный       ООО \"Арт Пикчерс Студия\", ООО \"Водород 2011\"   \n",
       "\n",
       "     production_country                               director  \\\n",
       "5436             Россия                              А.Учитель   \n",
       "7113       Россия-Китай                            О.Степченко   \n",
       "7170      Россия-Италия  А.Михалков (псевдоним А.Кончаловский)   \n",
       "7463             Россия                              А.Кравчук   \n",
       "7473             Россия                            Ф.Бондарчук   \n",
       "\n",
       "                                               producer  \\\n",
       "5436                    А.Учитель, А.Достман, В.Винокур   \n",
       "7113                             С.Сельянов, А.Петрухин   \n",
       "7170  НО Фонд Андрея Кончаловского по поддержке кино...   \n",
       "7463                                А.Максимов, К.Эрнст   \n",
       "7473  Ф.Бондарчук, М.Врубель, А.Андрющенко, Д.Рудовский   \n",
       "\n",
       "                      age_restriction  refundable_support  \\\n",
       "5436  «16+» - для детей старше 16 лет         110000000.0   \n",
       "7113    «6+» - для детей старше 6 лет         180000000.0   \n",
       "7170  «16+» - для детей старше 16 лет                 0.0   \n",
       "7463  «12+» - для детей старше 12 лет         100000000.0   \n",
       "7473  «12+» - для детей старше 12 лет         100000000.0   \n",
       "\n",
       "      nonrefundable_support        budget       financing_source  ratings  \\\n",
       "5436            190000000.0  1.032906e+09              Фонд кино      7.7   \n",
       "7113             90000000.0  2.305074e+09              Фонд кино      5.8   \n",
       "7170             60000000.0  7.799420e+08  Министерство культуры      6.9   \n",
       "7463            400000000.0  9.800000e+08              Фонд кино      6.0   \n",
       "7473            400000000.0  9.440000e+08              Фонд кино      5.7   \n",
       "\n",
       "                        genres    box_office  age_restr  \n",
       "5436  фэнтези,комедия,семейный  5.117755e+08         16  \n",
       "7113       приключения,фэнтези  3.335971e+08          6  \n",
       "7170   драма,биография,история  5.424320e+07         16  \n",
       "7463   история,биография,драма  7.177032e+08         12  \n",
       "7473         фантастика,боевик  0.000000e+00         12  "
      ]
     },
     "execution_count": 88,
     "metadata": {},
     "output_type": "execute_result"
    }
   ],
   "source": [
    "data[data['budget'] > 7e+08]"
   ]
  },
  {
   "cell_type": "markdown",
   "metadata": {},
   "source": [
    "Видно, что таких фильмов всего пять. Проверка по открытым источникам показывает, что приведенные значения правдивы. Поэтому удалять их е следует, но надо помнить, что подобные проекты не являются массовыми и их анализ необходимо проводить отдельно"
   ]
  },
  {
   "cell_type": "code",
   "execution_count": 89,
   "metadata": {},
   "outputs": [
    {
     "data": {
      "text/plain": [
       "19"
      ]
     },
     "execution_count": 89,
     "metadata": {},
     "output_type": "execute_result"
    }
   ],
   "source": [
    "((data[data['budget'] > 3e+08]['box_office'] / data[data['budget'] > 3e+08]['budget']) < 1).sum()"
   ]
  },
  {
   "cell_type": "markdown",
   "metadata": {},
   "source": [
    "При этом из 28-ми фильмов с очень большим бюджетом только 19 оказались финансово успешными"
   ]
  },
  {
   "cell_type": "markdown",
   "metadata": {},
   "source": [
    "<div class=\"alert alert-success\">\n",
    "    \n",
    "<b> Комментарий от ревьюера ✔️</b>\n",
    "    \n",
    "Здорово, что исправил ошибку с бюджетом фильмов\n",
    "\n",
    "</div>"
   ]
  },
  {
   "cell_type": "markdown",
   "metadata": {
    "id": "Eu6oWp2CgFyS"
   },
   "source": [
    "#### Шаг 2.6. Добавьте новые столбцы\n",
    "\n",
    "\n",
    "\n"
   ]
  },
  {
   "cell_type": "markdown",
   "metadata": {
    "id": "7GgW-UpAgFyS"
   },
   "source": [
    "- Создайте столбец с информацией о годе проката. Выделите год из даты премьеры фильма."
   ]
  },
  {
   "cell_type": "markdown",
   "metadata": {
    "id": "I-yd1DkWgFyT"
   },
   "source": [
    "Добавим столбец, куда добавим год проката"
   ]
  },
  {
   "cell_type": "code",
   "execution_count": 90,
   "metadata": {},
   "outputs": [],
   "source": [
    "data['year_show'] = data['show_start_date'].dt.year"
   ]
  },
  {
   "cell_type": "markdown",
   "metadata": {
    "id": "nFTDLDYOgFyT"
   },
   "source": [
    "- Создайте два столбца: с именем и фамилией главного режиссёра и основным жанром фильма. В столбцы войдут первые значения из списка режиссёров и жанров соответственно.\n",
    "\n",
    "<div id=\"accordion\">\n",
    "    <div class=\"card\">\n",
    "        <div class=\"card-header\" id=\"headingThree\">\n",
    "            <button class=\"btn btn-link collapsed\" data-toggle=\"collapse\" data-target=\"#collapseHint_2\" aria-expanded=\"false\" aria-controls=\"collapseHint_2\">Подсказка</button>\n",
    "        </div>\n",
    "        <div id=\"collapseHint_2\" class=\"collapse\" aria-labelledby=\"headingThree\" data-parent=\"#accordion\">\n",
    "            <div class=\"card-body\">\n",
    "Чтобы создать такие столбцы, лучше всего использовать собственную функцию. Эту функцию можно применить к двум столбцам сразу. \n",
    "            </div>\n",
    "        </div>\n",
    "    </div>\n",
    "</div>"
   ]
  },
  {
   "cell_type": "markdown",
   "metadata": {
    "id": "LSbRZKbMgFyU"
   },
   "source": [
    "Выделим для каждого фильма главного режиссера и главный жанр. Для этого создадим функцию, которая выделяет из соответствующих столбцов первы элемент, и применим эту функцию к нашему набору данных.\n",
    "\n",
    "**комментарий для ревьювера** - честно говоря не очень понимаю необходимоть в данном разделе использовать применение функции, поскольку задача решается в две строчки. Соответствующие строки не стал удалять, чтобы было понятно о чем я говорю. Единственный плюс это лучшее понимание как работает применение функций к DataFrame."
   ]
  },
  {
   "cell_type": "code",
   "execution_count": 91,
   "metadata": {},
   "outputs": [],
   "source": [
    "def main_highlight (row):\n",
    "    return row['director'].partition(',')[0], row['genres'].partition(',')[0]"
   ]
  },
  {
   "cell_type": "code",
   "execution_count": 92,
   "metadata": {},
   "outputs": [],
   "source": [
    "data[['main_director','main_genre']] = data.apply(main_highlight, axis=1, result_type ='expand')"
   ]
  },
  {
   "cell_type": "code",
   "execution_count": 93,
   "metadata": {},
   "outputs": [],
   "source": [
    "#data['main_director'] = data['director'].str.partition(',').loc[:,0]"
   ]
  },
  {
   "cell_type": "code",
   "execution_count": 94,
   "metadata": {},
   "outputs": [],
   "source": [
    "#data['main_genre'] = data['genres'].str.partition(',').loc[:,0]"
   ]
  },
  {
   "cell_type": "markdown",
   "metadata": {
    "id": "1FsCXHwdgFyU"
   },
   "source": [
    "- Посчитайте, какую долю от общего бюджета фильма составляет государственная поддержка."
   ]
  },
  {
   "cell_type": "code",
   "execution_count": 95,
   "metadata": {
    "id": "LV6qFuZLgFyV"
   },
   "outputs": [],
   "source": [
    "data.loc[(data['financing_source'].notna()), 'share_of_gov'] = \\\n",
    "                          (data[(data['financing_source'].notna())]['refundable_support'] + \\\n",
    "                           data[(data['financing_source'].notna())]['nonrefundable_support']) / \\\n",
    "                           data[(data['financing_source'].notna())]['budget']"
   ]
  },
  {
   "cell_type": "markdown",
   "metadata": {},
   "source": [
    "посмотрим, какие значения у нас получились"
   ]
  },
  {
   "cell_type": "code",
   "execution_count": 96,
   "metadata": {},
   "outputs": [
    {
     "data": {
      "text/plain": [
       "count    332.000000\n",
       "mean       0.542098\n",
       "std        0.196925\n",
       "min        0.044043\n",
       "25%        0.384615\n",
       "50%        0.614038\n",
       "75%        0.661412\n",
       "max        1.000000\n",
       "Name: share_of_gov, dtype: float64"
      ]
     },
     "execution_count": 96,
     "metadata": {},
     "output_type": "execute_result"
    }
   ],
   "source": [
    "data['share_of_gov'].describe()"
   ]
  },
  {
   "cell_type": "code",
   "execution_count": 97,
   "metadata": {},
   "outputs": [
    {
     "data": {
      "image/png": "[encoded data removed]",
      "text/plain": [
       "<Figure size 432x288 with 1 Axes>"
      ]
     },
     "metadata": {
      "needs_background": "light"
     },
     "output_type": "display_data"
    }
   ],
   "source": [
    "data[data['financing_source'].notna()].boxplot(column='share_of_gov')\n",
    "None"
   ]
  },
  {
   "cell_type": "markdown",
   "metadata": {},
   "source": [
    "В полученных данных у нас нет ни экстремально малых, ни экстремально больших значений."
   ]
  },
  {
   "cell_type": "markdown",
   "metadata": {},
   "source": [
    "<div class=\"alert alert-success\">\n",
    "    \n",
    "<b> Комментарий от ревьюера ✔️</b>\n",
    "    \n",
    "Ты отлично справился с добавлением новых признаков.\n",
    "    \n",
    "В плане главного режиссера/жанра подойдет любое из двух решений.\n",
    "\n",
    "</div>"
   ]
  },
  {
   "cell_type": "markdown",
   "metadata": {
    "id": "6t4EukPLgFyV"
   },
   "source": [
    "### Шаг 3. Проведите исследовательский анализ данных\n"
   ]
  },
  {
   "cell_type": "markdown",
   "metadata": {
    "id": "vAH8WCzugFyV"
   },
   "source": [
    "- Посмотрите, сколько фильмов выходило в прокат каждый год. Обратите внимание, что данные о прокате в кинотеатрах известны не для всех фильмов. Посчитайте, какую долю составляют фильмы с указанной информацией о прокате в кинотеатрах."
   ]
  },
  {
   "cell_type": "markdown",
   "metadata": {},
   "source": [
    "Для фильмов, про которые известна информация о прокате (поле *сборы в кинотеатрах* больше нуля) посмотрим информацию о годах проката. Сперва посмотрим информацию об этих полях в целом, потом посмотрим распределение фильмов по годам.\n",
    "\n",
    "Сперва помотрим, какая доля фильмов с информацией о прокате в кинотеатрах"
   ]
  },
  {
   "cell_type": "code",
   "execution_count": 98,
   "metadata": {},
   "outputs": [
    {
     "data": {
      "text/plain": [
       "0.4187040748162993"
      ]
     },
     "execution_count": 98,
     "metadata": {},
     "output_type": "execute_result"
    }
   ],
   "source": [
    "data[data['box_office'] > 0]['title'].count() / data['title'].count()"
   ]
  },
  {
   "cell_type": "code",
   "execution_count": 99,
   "metadata": {
    "id": "ABeV47y7gFyW"
   },
   "outputs": [
    {
     "data": {
      "text/plain": [
       "count    3134.000000\n",
       "mean     2015.907147\n",
       "std         2.429601\n",
       "min      2010.000000\n",
       "25%      2014.000000\n",
       "50%      2016.000000\n",
       "75%      2018.000000\n",
       "max      2019.000000\n",
       "Name: show_start_date, dtype: float64"
      ]
     },
     "execution_count": 99,
     "metadata": {},
     "output_type": "execute_result"
    }
   ],
   "source": [
    "data[data['box_office'] > 0]['show_start_date'].dt.year.describe()"
   ]
  },
  {
   "cell_type": "code",
   "execution_count": 100,
   "metadata": {},
   "outputs": [
    {
     "data": {
      "image/png": "[encoded data removed]",
      "text/plain": [
       "<Figure size 432x288 with 1 Axes>"
      ]
     },
     "metadata": {
      "needs_background": "light"
     },
     "output_type": "display_data"
    }
   ],
   "source": [
    "data[data['box_office'] > 0]['year_show'].hist(bins=10)\n",
    "None"
   ]
  },
  {
   "cell_type": "code",
   "execution_count": 101,
   "metadata": {},
   "outputs": [
    {
     "data": {
      "image/png": "[encoded data removed]",
      "text/plain": [
       "<Figure size 432x288 with 1 Axes>"
      ]
     },
     "metadata": {
      "needs_background": "light"
     },
     "output_type": "display_data"
    }
   ],
   "source": [
    "data[data['box_office'] > 0].pivot_table(index='year_show', values='title', aggfunc='count')\\\n",
    "                           .plot(title = \"Количество фильмов в прокате\", legend = False, xlabel=\"год проката\",\\\n",
    "                                                                               ylabel=\"количество\", kind=\"bar\", grid=True)\n",
    "None"
   ]
  },
  {
   "cell_type": "markdown",
   "metadata": {},
   "source": [
    "<div class=\"alert alert-warning\">\n",
    "    \n",
    "<b> Комментарий от ревьюера ⚠️</b>\n",
    "    \n",
    "1. Добавь, пожалуйста, на все графики названия, подписи осей и легенду ((если рассматриваешь несколько наборов данных). Можешь посмотреть [тут](https://matplotlib.org/stable/tutorials/introductory/usage.html), как их добавлять\n",
    "    \n",
    "1. Гистограммы удобно использовать, когда изучаешь распределение данных, но тут несколько лет могут попасть в одну \"корзину\". Чтобы не думать о параметре bins, для изучения динамики лучше использовать линейный график или столбчатую диаграмму\n",
    "</div>"
   ]
  },
  {
   "cell_type": "markdown",
   "metadata": {},
   "source": [
    "<div class=\"alert alert-info\">\n",
    "\n",
    "Согласен, что с гистограммой надо думать о количестве корзин, но поскольку сперва все равно хорошо бы посмотреть на описание данных, то большой проблемы в этом не увидел. Для столбчатой диаграммы, как мне кажется, надо делать дополнительное вычисление в виде формирования сводной таблицы. Собственно поэтому не хотел сперва испольховать другой инструмент.  Хотя, конечно, внешний вид столбчатой диаграммы гроздо приятнее чем гистограммы.\n",
    "\n",
    "</div>"
   ]
  },
  {
   "cell_type": "markdown",
   "metadata": {},
   "source": [
    "<div class=\"alert alert-success\">\n",
    "    \n",
    "<b> Комментарий от ревьюера 2 ✔️</b>\n",
    "\n",
    "👍\n",
    "\n",
    "</div>"
   ]
  },
  {
   "cell_type": "markdown",
   "metadata": {
    "id": "BEOdcIrIgFyW"
   },
   "source": [
    "- Изучите, как менялась динамика проката по годам. В каком году сумма сборов была минимальной? А максимальной?"
   ]
  },
  {
   "cell_type": "markdown",
   "metadata": {
    "id": "tfEhofYvgFyX"
   },
   "source": [
    "Из графика видно, что минимальное количество фильмов было в 2010 году, а максимальное - в 2016 и 2019 годах. Нарастание количества фильмов от 2010 до 2015 годов, на мой взгляд, может быть связана с отсутствием данных, когда по каким-то причинам не все данные о прокате попали в статистику. \n",
    "\n",
    "посмотрим, в каком году количество фильмов было наибольшим и сколько фильмов учттено за 2010 год."
   ]
  },
  {
   "cell_type": "code",
   "execution_count": 102,
   "metadata": {},
   "outputs": [
    {
     "data": {
      "text/plain": [
       "101"
      ]
     },
     "execution_count": 102,
     "metadata": {},
     "output_type": "execute_result"
    }
   ],
   "source": [
    "data[(data['box_office'] > 0) & (data['year_show'] == 2010)]['title'].count()"
   ]
  },
  {
   "cell_type": "code",
   "execution_count": 103,
   "metadata": {},
   "outputs": [
    {
     "data": {
      "text/plain": [
       "525"
      ]
     },
     "execution_count": 103,
     "metadata": {},
     "output_type": "execute_result"
    }
   ],
   "source": [
    "data[(data['box_office'] > 0) & (data['year_show'] == 2016)]['title'].count()"
   ]
  },
  {
   "cell_type": "code",
   "execution_count": 104,
   "metadata": {},
   "outputs": [
    {
     "data": {
      "text/plain": [
       "530"
      ]
     },
     "execution_count": 104,
     "metadata": {},
     "output_type": "execute_result"
    }
   ],
   "source": [
    "data[(data['box_office'] > 0) & (data['year_show'] == 2019)]['title'].count()"
   ]
  },
  {
   "cell_type": "raw",
   "metadata": {},
   "source": [
    "Таким образом в 2019 году количество фильмов, демонстрируемых в кинотеатрах, были немного больше, чем в 2016. "
   ]
  },
  {
   "cell_type": "markdown",
   "metadata": {},
   "source": [
    "<div class=\"alert alert-danger\">\n",
    "    \n",
    "<b> Комментарий от ревьюера ❗</b>\n",
    "    \n",
    "Ты все правильно написал, но не ответил на вопросы задания. \n",
    "    \n",
    "Давай сгруппируем таблицу по year_show и посчитаем суммарные сборы (box_office), чтобы определить *в каком году сумма сборов была минимальной? А максимальной?*\n",
    "</div>"
   ]
  },
  {
   "cell_type": "markdown",
   "metadata": {},
   "source": [
    "<div class=\"alert alert-info\">\n",
    "\n",
    "В этом месте я делаю первый шаг - смотрю количество фильмов. Анализ кассовых сборов делаю дальше.\n",
    "    \n",
    "Хотя, конечно, распределения общей суммы кассовых сборов по годам я забыл сделать. Сейчас добавлю в качестве первого графика следующей части\n",
    "\n",
    "</div>"
   ]
  },
  {
   "cell_type": "markdown",
   "metadata": {},
   "source": [
    "Посмотрим как распределяются кассовые сборы по годам. Для этого построим сводную таблицу и столбчатую диаграмму на ее основе."
   ]
  },
  {
   "cell_type": "code",
   "execution_count": 105,
   "metadata": {},
   "outputs": [
    {
     "data": {
      "text/html": [
       "<style  type=\"text/css\" >\n",
       "</style><table id=\"T_2da17_\" ><thead>    <tr>        <th class=\"blank level0\" ></th>        <th class=\"col_heading level0 col0\" >box_office</th>    </tr>    <tr>        <th class=\"index_name level0\" >year_show</th>        <th class=\"blank\" ></th>    </tr></thead><tbody>\n",
       "                <tr>\n",
       "                        <th id=\"T_2da17_level0_row0\" class=\"row_heading level0 row0\" >2010</th>\n",
       "                        <td id=\"T_2da17_row0_col0\" class=\"data row0 col0\" >2,428,654.00</td>\n",
       "            </tr>\n",
       "            <tr>\n",
       "                        <th id=\"T_2da17_level0_row1\" class=\"row_heading level0 row1\" >2011</th>\n",
       "                        <td id=\"T_2da17_row1_col0\" class=\"data row1 col0\" >14,102,765.00</td>\n",
       "            </tr>\n",
       "            <tr>\n",
       "                        <th id=\"T_2da17_level0_row2\" class=\"row_heading level0 row2\" >2012</th>\n",
       "                        <td id=\"T_2da17_row2_col0\" class=\"data row2 col0\" >6,955,423.00</td>\n",
       "            </tr>\n",
       "            <tr>\n",
       "                        <th id=\"T_2da17_level0_row3\" class=\"row_heading level0 row3\" >2013</th>\n",
       "                        <td id=\"T_2da17_row3_col0\" class=\"data row3 col0\" >29,799,706.20</td>\n",
       "            </tr>\n",
       "            <tr>\n",
       "                        <th id=\"T_2da17_level0_row4\" class=\"row_heading level0 row4\" >2014</th>\n",
       "                        <td id=\"T_2da17_row4_col0\" class=\"data row4 col0\" >7,444,951,859.20</td>\n",
       "            </tr>\n",
       "            <tr>\n",
       "                        <th id=\"T_2da17_level0_row5\" class=\"row_heading level0 row5\" >2015</th>\n",
       "                        <td id=\"T_2da17_row5_col0\" class=\"data row5 col0\" >39,497,365,196.40</td>\n",
       "            </tr>\n",
       "            <tr>\n",
       "                        <th id=\"T_2da17_level0_row6\" class=\"row_heading level0 row6\" >2016</th>\n",
       "                        <td id=\"T_2da17_row6_col0\" class=\"data row6 col0\" >47,866,299,741.91</td>\n",
       "            </tr>\n",
       "            <tr>\n",
       "                        <th id=\"T_2da17_level0_row7\" class=\"row_heading level0 row7\" >2017</th>\n",
       "                        <td id=\"T_2da17_row7_col0\" class=\"data row7 col0\" >48,563,707,217.51</td>\n",
       "            </tr>\n",
       "            <tr>\n",
       "                        <th id=\"T_2da17_level0_row8\" class=\"row_heading level0 row8\" >2018</th>\n",
       "                        <td id=\"T_2da17_row8_col0\" class=\"data row8 col0\" >49,668,403,134.32</td>\n",
       "            </tr>\n",
       "            <tr>\n",
       "                        <th id=\"T_2da17_level0_row9\" class=\"row_heading level0 row9\" >2019</th>\n",
       "                        <td id=\"T_2da17_row9_col0\" class=\"data row9 col0\" >48,425,708,779.59</td>\n",
       "            </tr>\n",
       "    </tbody></table>"
      ],
      "text/plain": [
       "<pandas.io.formats.style.Styler at 0x7f75d7011940>"
      ]
     },
     "execution_count": 105,
     "metadata": {},
     "output_type": "execute_result"
    }
   ],
   "source": [
    "data.pivot_table(index='year_show', values='box_office', aggfunc='sum').style.format(formatter='{:,.2f}')"
   ]
  },
  {
   "cell_type": "code",
   "execution_count": 106,
   "metadata": {},
   "outputs": [
    {
     "data": {
      "image/png": "[encoded data removed]",
      "text/plain": [
       "<Figure size 432x288 with 1 Axes>"
      ]
     },
     "metadata": {
      "needs_background": "light"
     },
     "output_type": "display_data"
    }
   ],
   "source": [
    "data.pivot_table(index='year_show', values='box_office', aggfunc='sum').\\\n",
    "          plot(title = \"Сумма кассовых сборов]\", legend = False, xlabel=\"год проката\",\\\n",
    "                                                   ylabel=\"Сумма сборов, руб.\", kind=\"bar\", grid=True)\n",
    "None"
   ]
  },
  {
   "cell_type": "markdown",
   "metadata": {},
   "source": [
    "Как мы уже отметили ранее, до 2015 года данные явно не полные и рассматривать их при дальнейшем анализе надо крайне осторожно с оговорками, что данные не полны и могут быть не корректными.\n",
    "\n",
    "Кроме того данные за 2015 год также выглядят все еще не полными, но по крайней мере качество этих данных выглядит гораздо лучше, чем за 2014 год.\n",
    "\n",
    "Далее посмотрим среднее и медианное значение кассовых сборов за каждый год."
   ]
  },
  {
   "cell_type": "markdown",
   "metadata": {},
   "source": [
    "<div class=\"alert alert-success\">\n",
    "    \n",
    "<b> Комментарий от ревьюера 2 ✔️</b>\n",
    "\n",
    "Супер!\n",
    "</div>"
   ]
  },
  {
   "cell_type": "markdown",
   "metadata": {
    "id": "G-7qS-N-gFyY"
   },
   "source": [
    "- С помощью сводной таблицы посчитайте среднюю и медианную сумму сборов для каждого года."
   ]
  },
  {
   "cell_type": "code",
   "execution_count": 107,
   "metadata": {
    "id": "jmp-rgg9gFyY"
   },
   "outputs": [
    {
     "data": {
      "text/html": [
       "<style  type=\"text/css\" >\n",
       "</style><table id=\"T_c5f0b_\" ><thead>    <tr>        <th class=\"blank level0\" ></th>        <th class=\"col_heading level0 col0\" >mean</th>        <th class=\"col_heading level0 col1\" >median</th>    </tr>    <tr>        <th class=\"blank level1\" ></th>        <th class=\"col_heading level1 col0\" >box_office</th>        <th class=\"col_heading level1 col1\" >box_office</th>    </tr>    <tr>        <th class=\"index_name level0\" >year_show</th>        <th class=\"blank\" ></th>        <th class=\"blank\" ></th>    </tr></thead><tbody>\n",
       "                <tr>\n",
       "                        <th id=\"T_c5f0b_level0_row0\" class=\"row_heading level0 row0\" >2010</th>\n",
       "                        <td id=\"T_c5f0b_row0_col0\" class=\"data row0 col0\" >24,046.08</td>\n",
       "                        <td id=\"T_c5f0b_row0_col1\" class=\"data row0 col1\" >1,710.00</td>\n",
       "            </tr>\n",
       "            <tr>\n",
       "                        <th id=\"T_c5f0b_level0_row1\" class=\"row_heading level0 row1\" >2011</th>\n",
       "                        <td id=\"T_c5f0b_row1_col0\" class=\"data row1 col0\" >129,383.17</td>\n",
       "                        <td id=\"T_c5f0b_row1_col1\" class=\"data row1 col1\" >3,000.00</td>\n",
       "            </tr>\n",
       "            <tr>\n",
       "                        <th id=\"T_c5f0b_level0_row2\" class=\"row_heading level0 row2\" >2012</th>\n",
       "                        <td id=\"T_c5f0b_row2_col0\" class=\"data row2 col0\" >56,548.15</td>\n",
       "                        <td id=\"T_c5f0b_row2_col1\" class=\"data row2 col1\" >6,220.00</td>\n",
       "            </tr>\n",
       "            <tr>\n",
       "                        <th id=\"T_c5f0b_level0_row3\" class=\"row_heading level0 row3\" >2013</th>\n",
       "                        <td id=\"T_c5f0b_row3_col0\" class=\"data row3 col0\" >166,478.81</td>\n",
       "                        <td id=\"T_c5f0b_row3_col1\" class=\"data row3 col1\" >3,580.00</td>\n",
       "            </tr>\n",
       "            <tr>\n",
       "                        <th id=\"T_c5f0b_level0_row4\" class=\"row_heading level0 row4\" >2014</th>\n",
       "                        <td id=\"T_c5f0b_row4_col0\" class=\"data row4 col0\" >27,270,885.93</td>\n",
       "                        <td id=\"T_c5f0b_row4_col1\" class=\"data row4 col1\" >20,400.00</td>\n",
       "            </tr>\n",
       "            <tr>\n",
       "                        <th id=\"T_c5f0b_level0_row5\" class=\"row_heading level0 row5\" >2015</th>\n",
       "                        <td id=\"T_c5f0b_row5_col0\" class=\"data row5 col0\" >85,492,132.46</td>\n",
       "                        <td id=\"T_c5f0b_row5_col1\" class=\"data row5 col1\" >5,003,450.15</td>\n",
       "            </tr>\n",
       "            <tr>\n",
       "                        <th id=\"T_c5f0b_level0_row6\" class=\"row_heading level0 row6\" >2016</th>\n",
       "                        <td id=\"T_c5f0b_row6_col0\" class=\"data row6 col0\" >91,173,904.27</td>\n",
       "                        <td id=\"T_c5f0b_row6_col1\" class=\"data row6 col1\" >3,915,041.02</td>\n",
       "            </tr>\n",
       "            <tr>\n",
       "                        <th id=\"T_c5f0b_level0_row7\" class=\"row_heading level0 row7\" >2017</th>\n",
       "                        <td id=\"T_c5f0b_row7_col0\" class=\"data row7 col0\" >136,032,793.33</td>\n",
       "                        <td id=\"T_c5f0b_row7_col1\" class=\"data row7 col1\" >9,968,340.00</td>\n",
       "            </tr>\n",
       "            <tr>\n",
       "                        <th id=\"T_c5f0b_level0_row8\" class=\"row_heading level0 row8\" >2018</th>\n",
       "                        <td id=\"T_c5f0b_row8_col0\" class=\"data row8 col0\" >104,565,059.23</td>\n",
       "                        <td id=\"T_c5f0b_row8_col1\" class=\"data row8 col1\" >8,891,102.21</td>\n",
       "            </tr>\n",
       "            <tr>\n",
       "                        <th id=\"T_c5f0b_level0_row9\" class=\"row_heading level0 row9\" >2019</th>\n",
       "                        <td id=\"T_c5f0b_row9_col0\" class=\"data row9 col0\" >91,369,261.85</td>\n",
       "                        <td id=\"T_c5f0b_row9_col1\" class=\"data row9 col1\" >4,627,798.34</td>\n",
       "            </tr>\n",
       "    </tbody></table>"
      ],
      "text/plain": [
       "<pandas.io.formats.style.Styler at 0x7f75d6a49bb0>"
      ]
     },
     "execution_count": 107,
     "metadata": {},
     "output_type": "execute_result"
    }
   ],
   "source": [
    "data[data['box_office'] > 0].pivot_table(index='year_show', values='box_office', aggfunc=['mean','median'] ).\\\n",
    "                                                                       style.format(formatter='{:,.2f}')"
   ]
  },
  {
   "cell_type": "markdown",
   "metadata": {},
   "source": [
    "Среднее значение очень сильно отличается от медианного, что указывает на сильное смещение данных в сторону верхней границы. \n",
    "\n",
    "Наличие в выборке фильмов, с кассовыми сборами по всей России в размере нескольких тысяч, или даже десятков тысяч, наводит на мысль, что такие данные явно не полные. Т.е. данными с 2010 по 2015 года пользоваться для дальнейшего анализа нельзя.\n",
    "\n",
    "Кроме того обращает внимание, что до 2015 года значения очень маленькие для суммы проката всех кинотеатров России. Скорее всего за эти года у нас не все данные."
   ]
  },
  {
   "cell_type": "markdown",
   "metadata": {},
   "source": [
    "<div class=\"alert alert-success\">\n",
    "    \n",
    "<b> Комментарий от ревьюера ✔️</b>\n",
    "    \n",
    "Хороший комментарий \n",
    "\n",
    "</div>\n"
   ]
  },
  {
   "cell_type": "markdown",
   "metadata": {
    "id": "Ok89WFwJgFyZ"
   },
   "source": [
    "- Определите, влияет ли возрастное ограничение аудитории («6+», «12+», «16+», «18+» и т. д.) на сборы фильма в прокате в период с 2015 по 2019 год? Фильмы с каким возрастным ограничением собрали больше всего денег в прокате? Меняется ли картина в зависимости от года? Если да, предположите, с чем это может быть связано."
   ]
  },
  {
   "cell_type": "code",
   "execution_count": 108,
   "metadata": {},
   "outputs": [
    {
     "data": {
      "text/html": [
       "<style  type=\"text/css\" >\n",
       "</style><table id=\"T_d99e7_\" ><thead>    <tr>        <th class=\"index_name level0\" >year_show</th>        <th class=\"col_heading level0 col0\" >2015</th>        <th class=\"col_heading level0 col1\" >2016</th>        <th class=\"col_heading level0 col2\" >2017</th>        <th class=\"col_heading level0 col3\" >2018</th>        <th class=\"col_heading level0 col4\" >2019</th>        <th class=\"col_heading level0 col5\" >All</th>    </tr>    <tr>        <th class=\"index_name level0\" >age_restr</th>        <th class=\"blank\" ></th>        <th class=\"blank\" ></th>        <th class=\"blank\" ></th>        <th class=\"blank\" ></th>        <th class=\"blank\" ></th>        <th class=\"blank\" ></th>    </tr></thead><tbody>\n",
       "                <tr>\n",
       "                        <th id=\"T_d99e7_level0_row0\" class=\"row_heading level0 row0\" >0</th>\n",
       "                        <td id=\"T_d99e7_row0_col0\" class=\"data row0 col0\" >379,054,578.37</td>\n",
       "                        <td id=\"T_d99e7_row0_col1\" class=\"data row0 col1\" >150,228,848.67</td>\n",
       "                        <td id=\"T_d99e7_row0_col2\" class=\"data row0 col2\" >229,598,930.00</td>\n",
       "                        <td id=\"T_d99e7_row0_col3\" class=\"data row0 col3\" >32,449,002.11</td>\n",
       "                        <td id=\"T_d99e7_row0_col4\" class=\"data row0 col4\" >17,746,066.82</td>\n",
       "                        <td id=\"T_d99e7_row0_col5\" class=\"data row0 col5\" >809,077,425.97</td>\n",
       "            </tr>\n",
       "            <tr>\n",
       "                        <th id=\"T_d99e7_level0_row1\" class=\"row_heading level0 row1\" >6</th>\n",
       "                        <td id=\"T_d99e7_row1_col0\" class=\"data row1 col0\" >8,701,799,371.41</td>\n",
       "                        <td id=\"T_d99e7_row1_col1\" class=\"data row1 col1\" >12,053,146,008.24</td>\n",
       "                        <td id=\"T_d99e7_row1_col2\" class=\"data row1 col2\" >12,086,142,145.76</td>\n",
       "                        <td id=\"T_d99e7_row1_col3\" class=\"data row1 col3\" >10,104,974,623.41</td>\n",
       "                        <td id=\"T_d99e7_row1_col4\" class=\"data row1 col4\" >12,852,548,650.86</td>\n",
       "                        <td id=\"T_d99e7_row1_col5\" class=\"data row1 col5\" >55,798,610,799.68</td>\n",
       "            </tr>\n",
       "            <tr>\n",
       "                        <th id=\"T_d99e7_level0_row2\" class=\"row_heading level0 row2\" >12</th>\n",
       "                        <td id=\"T_d99e7_row2_col0\" class=\"data row2 col0\" >13,616,082,008.91</td>\n",
       "                        <td id=\"T_d99e7_row2_col1\" class=\"data row2 col1\" >12,204,446,524.39</td>\n",
       "                        <td id=\"T_d99e7_row2_col2\" class=\"data row2 col2\" >7,851,427,660.67</td>\n",
       "                        <td id=\"T_d99e7_row2_col3\" class=\"data row2 col3\" >14,267,291,660.69</td>\n",
       "                        <td id=\"T_d99e7_row2_col4\" class=\"data row2 col4\" >12,680,198,773.67</td>\n",
       "                        <td id=\"T_d99e7_row2_col5\" class=\"data row2 col5\" >60,619,446,628.33</td>\n",
       "            </tr>\n",
       "            <tr>\n",
       "                        <th id=\"T_d99e7_level0_row3\" class=\"row_heading level0 row3\" >16</th>\n",
       "                        <td id=\"T_d99e7_row3_col0\" class=\"data row3 col0\" >11,368,120,870.27</td>\n",
       "                        <td id=\"T_d99e7_row3_col1\" class=\"data row3 col1\" >16,664,548,541.74</td>\n",
       "                        <td id=\"T_d99e7_row3_col2\" class=\"data row3 col2\" >18,745,042,900.06</td>\n",
       "                        <td id=\"T_d99e7_row3_col3\" class=\"data row3 col3\" >16,503,602,346.96</td>\n",
       "                        <td id=\"T_d99e7_row3_col4\" class=\"data row3 col4\" >12,753,418,984.60</td>\n",
       "                        <td id=\"T_d99e7_row3_col5\" class=\"data row3 col5\" >76,034,733,643.63</td>\n",
       "            </tr>\n",
       "            <tr>\n",
       "                        <th id=\"T_d99e7_level0_row4\" class=\"row_heading level0 row4\" >18</th>\n",
       "                        <td id=\"T_d99e7_row4_col0\" class=\"data row4 col0\" >5,432,308,367.44</td>\n",
       "                        <td id=\"T_d99e7_row4_col1\" class=\"data row4 col1\" >6,793,929,818.87</td>\n",
       "                        <td id=\"T_d99e7_row4_col2\" class=\"data row4 col2\" >9,651,495,581.02</td>\n",
       "                        <td id=\"T_d99e7_row4_col3\" class=\"data row4 col3\" >8,760,085,501.15</td>\n",
       "                        <td id=\"T_d99e7_row4_col4\" class=\"data row4 col4\" >10,121,796,303.64</td>\n",
       "                        <td id=\"T_d99e7_row4_col5\" class=\"data row4 col5\" >40,759,615,572.12</td>\n",
       "            </tr>\n",
       "            <tr>\n",
       "                        <th id=\"T_d99e7_level0_row5\" class=\"row_heading level0 row5\" >All</th>\n",
       "                        <td id=\"T_d99e7_row5_col0\" class=\"data row5 col0\" >39,497,365,196.40</td>\n",
       "                        <td id=\"T_d99e7_row5_col1\" class=\"data row5 col1\" >47,866,299,741.91</td>\n",
       "                        <td id=\"T_d99e7_row5_col2\" class=\"data row5 col2\" >48,563,707,217.51</td>\n",
       "                        <td id=\"T_d99e7_row5_col3\" class=\"data row5 col3\" >49,668,403,134.32</td>\n",
       "                        <td id=\"T_d99e7_row5_col4\" class=\"data row5 col4\" >48,425,708,779.59</td>\n",
       "                        <td id=\"T_d99e7_row5_col5\" class=\"data row5 col5\" >234,021,484,069.73</td>\n",
       "            </tr>\n",
       "    </tbody></table>"
      ],
      "text/plain": [
       "<pandas.io.formats.style.Styler at 0x7f75d6c8e940>"
      ]
     },
     "execution_count": 108,
     "metadata": {},
     "output_type": "execute_result"
    }
   ],
   "source": [
    "data[(data['box_office'] > 0) & (data['year_show'].gt(2014))]\\\n",
    "         .pivot_table(index = 'age_restr', columns='year_show', values='box_office', aggfunc='sum', margins=True ).\\\n",
    "                                                         style.format(formatter='{:,.2f}')"
   ]
  },
  {
   "cell_type": "markdown",
   "metadata": {},
   "source": [
    "Видно, что есть различие от того, какая категория фильма. Самые кассовые фильмы *12+* и *16+*. Наименее кассовые фильмы *0+*, а следующая за ними категория - *18+*. Причем общие сборы, начиная с 2016 года, не сильно отличаются друг от друга. \n",
    "\n",
    "Возможно это связано с тем, что до с детьми до 6 лет в основном предпочитают смотреть фильмы дома. Другая гипотеза, что на фильмы для самых маленьких чаще устраивают акции, поскольку часто такие фильмы идут утром, когда наполняемость залов не очень высокая. Для проверки этой гипотезы нужны донные по общему количеству проданных билетов.\n",
    "\n",
    "Категория \"взрослых\" фильмов также не является самой массовой аудиторией. \n",
    "\n",
    "Самая массовая аудитория - это семьи с уже подросшими детьми (категрия *6+* и *12+*) и подростки (категории *12+* и *16+*).\n",
    "\n",
    "В основном по кассовым сборам фильмы *16+* на первом месте, фильмы *12+* - на втором и *6+* - на третьем. Только в 2017 году фильмы категрии *6+* сильно обогнали по кассовым сборам фильмы категории *12+*. Возможно это связано с проблемами категоризации фильмов."
   ]
  },
  {
   "cell_type": "code",
   "execution_count": 109,
   "metadata": {},
   "outputs": [
    {
     "data": {
      "text/html": [
       "<div>\n",
       "<style scoped>\n",
       "    .dataframe tbody tr th:only-of-type {\n",
       "        vertical-align: middle;\n",
       "    }\n",
       "\n",
       "    .dataframe tbody tr th {\n",
       "        vertical-align: top;\n",
       "    }\n",
       "\n",
       "    .dataframe thead th {\n",
       "        text-align: right;\n",
       "    }\n",
       "</style>\n",
       "<table border=\"1\" class=\"dataframe\">\n",
       "  <thead>\n",
       "    <tr style=\"text-align: right;\">\n",
       "      <th></th>\n",
       "      <th>title</th>\n",
       "      <th>puNumber</th>\n",
       "      <th>show_start_date</th>\n",
       "      <th>type</th>\n",
       "      <th>box_office</th>\n",
       "      <th>age_restr</th>\n",
       "      <th>main_genre</th>\n",
       "    </tr>\n",
       "  </thead>\n",
       "  <tbody>\n",
       "    <tr>\n",
       "      <th>5652</th>\n",
       "      <td>Движение вверх</td>\n",
       "      <td>111011817</td>\n",
       "      <td>2017-12-21 12:00:00+00:00</td>\n",
       "      <td>Художественный</td>\n",
       "      <td>2.779686e+09</td>\n",
       "      <td>6</td>\n",
       "      <td>спорт</td>\n",
       "    </tr>\n",
       "    <tr>\n",
       "      <th>3741</th>\n",
       "      <td>Гадкий я 3</td>\n",
       "      <td>124001617</td>\n",
       "      <td>2017-06-15 12:00:00+00:00</td>\n",
       "      <td>Анимационный</td>\n",
       "      <td>1.390393e+09</td>\n",
       "      <td>6</td>\n",
       "      <td>мультфильм</td>\n",
       "    </tr>\n",
       "    <tr>\n",
       "      <th>3234</th>\n",
       "      <td>Босс-Молокосос</td>\n",
       "      <td>124000317</td>\n",
       "      <td>2017-02-09 12:00:00+00:00</td>\n",
       "      <td>Анимационный</td>\n",
       "      <td>1.376727e+09</td>\n",
       "      <td>6</td>\n",
       "      <td>мультфильм</td>\n",
       "    </tr>\n",
       "    <tr>\n",
       "      <th>3636</th>\n",
       "      <td>Зверопой</td>\n",
       "      <td>124000217</td>\n",
       "      <td>2017-02-03 12:00:00+00:00</td>\n",
       "      <td>Анимационный</td>\n",
       "      <td>8.866141e+08</td>\n",
       "      <td>6</td>\n",
       "      <td>мультфильм</td>\n",
       "    </tr>\n",
       "    <tr>\n",
       "      <th>5640</th>\n",
       "      <td>Ёлки Новые</td>\n",
       "      <td>111011617</td>\n",
       "      <td>2017-12-21 12:00:00+00:00</td>\n",
       "      <td>Художественный</td>\n",
       "      <td>8.554511e+08</td>\n",
       "      <td>6</td>\n",
       "      <td>комедия</td>\n",
       "    </tr>\n",
       "  </tbody>\n",
       "</table>\n",
       "</div>"
      ],
      "text/plain": [
       "               title   puNumber           show_start_date            type  \\\n",
       "5652  Движение вверх  111011817 2017-12-21 12:00:00+00:00  Художественный   \n",
       "3741      Гадкий я 3  124001617 2017-06-15 12:00:00+00:00    Анимационный   \n",
       "3234  Босс-Молокосос  124000317 2017-02-09 12:00:00+00:00    Анимационный   \n",
       "3636        Зверопой  124000217 2017-02-03 12:00:00+00:00    Анимационный   \n",
       "5640      Ёлки Новые  111011617 2017-12-21 12:00:00+00:00  Художественный   \n",
       "\n",
       "        box_office  age_restr  main_genre  \n",
       "5652  2.779686e+09          6       спорт  \n",
       "3741  1.390393e+09          6  мультфильм  \n",
       "3234  1.376727e+09          6  мультфильм  \n",
       "3636  8.866141e+08          6  мультфильм  \n",
       "5640  8.554511e+08          6     комедия  "
      ]
     },
     "execution_count": 109,
     "metadata": {},
     "output_type": "execute_result"
    }
   ],
   "source": [
    "data[(data['box_office'] > 0) & (data['year_show'].eq(2017)) &(data['age_restr'] == 6)]\\\n",
    "         .sort_values(by='box_office', ascending=False)\\\n",
    "                 [['title','puNumber','show_start_date','type', 'box_office','age_restr','main_genre' ]].head()"
   ]
  },
  {
   "cell_type": "code",
   "execution_count": 110,
   "metadata": {},
   "outputs": [
    {
     "data": {
      "text/html": [
       "<div>\n",
       "<style scoped>\n",
       "    .dataframe tbody tr th:only-of-type {\n",
       "        vertical-align: middle;\n",
       "    }\n",
       "\n",
       "    .dataframe tbody tr th {\n",
       "        vertical-align: top;\n",
       "    }\n",
       "\n",
       "    .dataframe thead th {\n",
       "        text-align: right;\n",
       "    }\n",
       "</style>\n",
       "<table border=\"1\" class=\"dataframe\">\n",
       "  <thead>\n",
       "    <tr style=\"text-align: right;\">\n",
       "      <th></th>\n",
       "      <th>title</th>\n",
       "      <th>puNumber</th>\n",
       "      <th>show_start_date</th>\n",
       "      <th>type</th>\n",
       "      <th>box_office</th>\n",
       "      <th>age_restr</th>\n",
       "      <th>main_genre</th>\n",
       "    </tr>\n",
       "  </thead>\n",
       "  <tbody>\n",
       "    <tr>\n",
       "      <th>5504</th>\n",
       "      <td>Последний богатырь</td>\n",
       "      <td>111007017</td>\n",
       "      <td>2017-10-19 12:00:00+00:00</td>\n",
       "      <td>Художественный</td>\n",
       "      <td>1.655038e+09</td>\n",
       "      <td>12</td>\n",
       "      <td>комедия</td>\n",
       "    </tr>\n",
       "    <tr>\n",
       "      <th>3370</th>\n",
       "      <td>Форсаж 8</td>\n",
       "      <td>121005617</td>\n",
       "      <td>2017-04-03 12:00:00+00:00</td>\n",
       "      <td>Художественный</td>\n",
       "      <td>1.429977e+09</td>\n",
       "      <td>12</td>\n",
       "      <td>боевик</td>\n",
       "    </tr>\n",
       "    <tr>\n",
       "      <th>3342</th>\n",
       "      <td>Трансформеры: Последний рыцарь</td>\n",
       "      <td>121011517</td>\n",
       "      <td>2017-06-16 12:00:00+00:00</td>\n",
       "      <td>Художественный</td>\n",
       "      <td>8.760342e+08</td>\n",
       "      <td>12</td>\n",
       "      <td>фантастика</td>\n",
       "    </tr>\n",
       "    <tr>\n",
       "      <th>5431</th>\n",
       "      <td>Валериан и город тысячи планет</td>\n",
       "      <td>121014917</td>\n",
       "      <td>2017-08-10 12:00:00+00:00</td>\n",
       "      <td>Художественный</td>\n",
       "      <td>7.936557e+08</td>\n",
       "      <td>12</td>\n",
       "      <td>фантастика</td>\n",
       "    </tr>\n",
       "    <tr>\n",
       "      <th>5501</th>\n",
       "      <td>Салют-7</td>\n",
       "      <td>111006917</td>\n",
       "      <td>2017-10-01 12:00:00+00:00</td>\n",
       "      <td>Художественный</td>\n",
       "      <td>7.526798e+08</td>\n",
       "      <td>12</td>\n",
       "      <td>драма</td>\n",
       "    </tr>\n",
       "  </tbody>\n",
       "</table>\n",
       "</div>"
      ],
      "text/plain": [
       "                               title   puNumber           show_start_date  \\\n",
       "5504              Последний богатырь  111007017 2017-10-19 12:00:00+00:00   \n",
       "3370                        Форсаж 8  121005617 2017-04-03 12:00:00+00:00   \n",
       "3342  Трансформеры: Последний рыцарь  121011517 2017-06-16 12:00:00+00:00   \n",
       "5431  Валериан и город тысячи планет  121014917 2017-08-10 12:00:00+00:00   \n",
       "5501                         Салют-7  111006917 2017-10-01 12:00:00+00:00   \n",
       "\n",
       "                type    box_office  age_restr  main_genre  \n",
       "5504  Художественный  1.655038e+09         12     комедия  \n",
       "3370  Художественный  1.429977e+09         12      боевик  \n",
       "3342  Художественный  8.760342e+08         12  фантастика  \n",
       "5431  Художественный  7.936557e+08         12  фантастика  \n",
       "5501  Художественный  7.526798e+08         12       драма  "
      ]
     },
     "execution_count": 110,
     "metadata": {},
     "output_type": "execute_result"
    }
   ],
   "source": [
    "data[(data['box_office'] > 0) & (data['year_show'].eq(2017)) &(data['age_restr'] == 12)]\\\n",
    "                         .sort_values(by='box_office', ascending=False)\\\n",
    "                            [['title','puNumber','show_start_date','type', 'box_office','age_restr','main_genre' ]].head()"
   ]
  },
  {
   "cell_type": "markdown",
   "metadata": {},
   "source": [
    "<div class=\"alert alert-danger\">\n",
    "    \n",
    "<b> Комментарий от ревьюера ❗</b>\n",
    "    \n",
    "Нормальная гипотеза, но давай посмотрим на данные под другим углом.\n",
    "\n",
    "Давай посчитаем количество фильмов в каждой возрастной категории. Если значения будут сильно различаться, то нужно смотреть не на суммарные сборы, а на медианные. Сейчас мы не можем точно сказать с чем связаны высокие сборы категории 16+: с популярностью фильмов или с их количеством. \n",
    "</div>"
   ]
  },
  {
   "cell_type": "markdown",
   "metadata": {},
   "source": [
    "<div class=\"alert alert-info\">\n",
    "\n",
    "Да, действительно, надо посмотреть на количество, медианные и средние значения. Получаются любопытные зависимости. Хотя для данного кейса меня немного смущает, что в конечном счете интересна именно финальная выручка. Популярность тех или иных возрастных категрий все-таки определяется качеством контента а не простым отнесением к той или иной категрии. Хотя и можно сделать заключение, что в категории *\"0+\"* конкуренция меньше, и если мы будем делать фильм для данной категории, то проще добиться успеха. Но в реальности на входе в кинотеатр фильтрация зрителей по возрасту практически не производится (ну может только в каких-то совсем очевидных случаях и скорее для фильмов с категорией 18+), поэтому конкурировать приходится со всеми фильмами категорий от 0 до 16 лет включительно.\n",
    "    \n",
    "С другой стороны кейс очень учебный и прямо реально заказчика на эти данные мне сложно представить. Вывод скорее, что \"иногда удается спонсировать хорошие фильмы. давайте придумаем, как увеличить этот процент\". :) Но для этого нужны совсем другие данные. Да и работа скорее будет анализ смыслов а не данных. \n",
    "\n",
    "</div>"
   ]
  },
  {
   "cell_type": "markdown",
   "metadata": {},
   "source": [
    "Посмотрим, как отличается количество фильмов, выпущенных для каждой возрастной категории в разные годы"
   ]
  },
  {
   "cell_type": "code",
   "execution_count": 111,
   "metadata": {},
   "outputs": [
    {
     "data": {
      "text/html": [
       "<style  type=\"text/css\" >\n",
       "</style><table id=\"T_f6bb1_\" ><thead>    <tr>        <th class=\"index_name level0\" >year_show</th>        <th class=\"col_heading level0 col0\" >2015</th>        <th class=\"col_heading level0 col1\" >2016</th>        <th class=\"col_heading level0 col2\" >2017</th>        <th class=\"col_heading level0 col3\" >2018</th>        <th class=\"col_heading level0 col4\" >2019</th>        <th class=\"col_heading level0 col5\" >All</th>    </tr>    <tr>        <th class=\"index_name level0\" >age_restr</th>        <th class=\"blank\" ></th>        <th class=\"blank\" ></th>        <th class=\"blank\" ></th>        <th class=\"blank\" ></th>        <th class=\"blank\" ></th>        <th class=\"blank\" ></th>    </tr></thead><tbody>\n",
       "                <tr>\n",
       "                        <th id=\"T_f6bb1_level0_row0\" class=\"row_heading level0 row0\" >0</th>\n",
       "                        <td id=\"T_f6bb1_row0_col0\" class=\"data row0 col0\" >38</td>\n",
       "                        <td id=\"T_f6bb1_row0_col1\" class=\"data row0 col1\" >41</td>\n",
       "                        <td id=\"T_f6bb1_row0_col2\" class=\"data row0 col2\" >3</td>\n",
       "                        <td id=\"T_f6bb1_row0_col3\" class=\"data row0 col3\" >5</td>\n",
       "                        <td id=\"T_f6bb1_row0_col4\" class=\"data row0 col4\" >3</td>\n",
       "                        <td id=\"T_f6bb1_row0_col5\" class=\"data row0 col5\" >90</td>\n",
       "            </tr>\n",
       "            <tr>\n",
       "                        <th id=\"T_f6bb1_level0_row1\" class=\"row_heading level0 row1\" >6</th>\n",
       "                        <td id=\"T_f6bb1_row1_col0\" class=\"data row1 col0\" >53</td>\n",
       "                        <td id=\"T_f6bb1_row1_col1\" class=\"data row1 col1\" >70</td>\n",
       "                        <td id=\"T_f6bb1_row1_col2\" class=\"data row1 col2\" >45</td>\n",
       "                        <td id=\"T_f6bb1_row1_col3\" class=\"data row1 col3\" >68</td>\n",
       "                        <td id=\"T_f6bb1_row1_col4\" class=\"data row1 col4\" >81</td>\n",
       "                        <td id=\"T_f6bb1_row1_col5\" class=\"data row1 col5\" >317</td>\n",
       "            </tr>\n",
       "            <tr>\n",
       "                        <th id=\"T_f6bb1_level0_row2\" class=\"row_heading level0 row2\" >12</th>\n",
       "                        <td id=\"T_f6bb1_row2_col0\" class=\"data row2 col0\" >72</td>\n",
       "                        <td id=\"T_f6bb1_row2_col1\" class=\"data row2 col1\" >82</td>\n",
       "                        <td id=\"T_f6bb1_row2_col2\" class=\"data row2 col2\" >41</td>\n",
       "                        <td id=\"T_f6bb1_row2_col3\" class=\"data row2 col3\" >67</td>\n",
       "                        <td id=\"T_f6bb1_row2_col4\" class=\"data row2 col4\" >85</td>\n",
       "                        <td id=\"T_f6bb1_row2_col5\" class=\"data row2 col5\" >347</td>\n",
       "            </tr>\n",
       "            <tr>\n",
       "                        <th id=\"T_f6bb1_level0_row3\" class=\"row_heading level0 row3\" >16</th>\n",
       "                        <td id=\"T_f6bb1_row3_col0\" class=\"data row3 col0\" >167</td>\n",
       "                        <td id=\"T_f6bb1_row3_col1\" class=\"data row3 col1\" >181</td>\n",
       "                        <td id=\"T_f6bb1_row3_col2\" class=\"data row3 col2\" >121</td>\n",
       "                        <td id=\"T_f6bb1_row3_col3\" class=\"data row3 col3\" >156</td>\n",
       "                        <td id=\"T_f6bb1_row3_col4\" class=\"data row3 col4\" >178</td>\n",
       "                        <td id=\"T_f6bb1_row3_col5\" class=\"data row3 col5\" >803</td>\n",
       "            </tr>\n",
       "            <tr>\n",
       "                        <th id=\"T_f6bb1_level0_row4\" class=\"row_heading level0 row4\" >18</th>\n",
       "                        <td id=\"T_f6bb1_row4_col0\" class=\"data row4 col0\" >132</td>\n",
       "                        <td id=\"T_f6bb1_row4_col1\" class=\"data row4 col1\" >151</td>\n",
       "                        <td id=\"T_f6bb1_row4_col2\" class=\"data row4 col2\" >147</td>\n",
       "                        <td id=\"T_f6bb1_row4_col3\" class=\"data row4 col3\" >179</td>\n",
       "                        <td id=\"T_f6bb1_row4_col4\" class=\"data row4 col4\" >183</td>\n",
       "                        <td id=\"T_f6bb1_row4_col5\" class=\"data row4 col5\" >792</td>\n",
       "            </tr>\n",
       "            <tr>\n",
       "                        <th id=\"T_f6bb1_level0_row5\" class=\"row_heading level0 row5\" >All</th>\n",
       "                        <td id=\"T_f6bb1_row5_col0\" class=\"data row5 col0\" >462</td>\n",
       "                        <td id=\"T_f6bb1_row5_col1\" class=\"data row5 col1\" >525</td>\n",
       "                        <td id=\"T_f6bb1_row5_col2\" class=\"data row5 col2\" >357</td>\n",
       "                        <td id=\"T_f6bb1_row5_col3\" class=\"data row5 col3\" >475</td>\n",
       "                        <td id=\"T_f6bb1_row5_col4\" class=\"data row5 col4\" >530</td>\n",
       "                        <td id=\"T_f6bb1_row5_col5\" class=\"data row5 col5\" >2,349</td>\n",
       "            </tr>\n",
       "    </tbody></table>"
      ],
      "text/plain": [
       "<pandas.io.formats.style.Styler at 0x7f75d6cae3d0>"
      ]
     },
     "execution_count": 111,
     "metadata": {},
     "output_type": "execute_result"
    }
   ],
   "source": [
    "data[(data['box_office'] > 0) & (data['year_show'].gt(2014))]\\\n",
    "         .pivot_table(index = 'age_restr', columns='year_show', values='title', aggfunc='count', margins=True ).\\\n",
    "                                                         style.format(formatter='{:,.0f}')"
   ]
  },
  {
   "cell_type": "markdown",
   "metadata": {},
   "source": [
    "Видно, что фильмов для аудитории *\"0+\"* выпускается значительно меньше, чем для всех остальных аудиторий. Поэтому это еще один фактор малых суммарных кассовых сборов в данной категории фильмов.\n",
    "\n",
    "Количество фильмов для категорий *\"6+\"* и *\"12+\"* примерно одинаково (назовем условно объединение этих категорий *\"подростковые фильмы\"*), так же как и для категорий *\"16+\"* и *\"18+\"* (назовем условно объединение этих категорий *\"фильмы для старших\"*).\n",
    "\n",
    "Посмотрим, как изменяются распределения между возрастными категориями для медианных и средних значений."
   ]
  },
  {
   "cell_type": "code",
   "execution_count": 112,
   "metadata": {},
   "outputs": [
    {
     "data": {
      "text/html": [
       "<style  type=\"text/css\" >\n",
       "</style><table id=\"T_d0b17_\" ><thead>    <tr>        <th class=\"index_name level0\" >year_show</th>        <th class=\"col_heading level0 col0\" >2015</th>        <th class=\"col_heading level0 col1\" >2016</th>        <th class=\"col_heading level0 col2\" >2017</th>        <th class=\"col_heading level0 col3\" >2018</th>        <th class=\"col_heading level0 col4\" >2019</th>        <th class=\"col_heading level0 col5\" >All</th>    </tr>    <tr>        <th class=\"index_name level0\" >age_restr</th>        <th class=\"blank\" ></th>        <th class=\"blank\" ></th>        <th class=\"blank\" ></th>        <th class=\"blank\" ></th>        <th class=\"blank\" ></th>        <th class=\"blank\" ></th>    </tr></thead><tbody>\n",
       "                <tr>\n",
       "                        <th id=\"T_d0b17_level0_row0\" class=\"row_heading level0 row0\" >0</th>\n",
       "                        <td id=\"T_d0b17_row0_col0\" class=\"data row0 col0\" >2,949,808.55</td>\n",
       "                        <td id=\"T_d0b17_row0_col1\" class=\"data row0 col1\" >2,571,294.10</td>\n",
       "                        <td id=\"T_d0b17_row0_col2\" class=\"data row0 col2\" >22,178,956.00</td>\n",
       "                        <td id=\"T_d0b17_row0_col3\" class=\"data row0 col3\" >3,616,937.28</td>\n",
       "                        <td id=\"T_d0b17_row0_col4\" class=\"data row0 col4\" >3,885,434.50</td>\n",
       "                        <td id=\"T_d0b17_row0_col5\" class=\"data row0 col5\" >2,949,626.65</td>\n",
       "            </tr>\n",
       "            <tr>\n",
       "                        <th id=\"T_d0b17_level0_row1\" class=\"row_heading level0 row1\" >6</th>\n",
       "                        <td id=\"T_d0b17_row1_col0\" class=\"data row1 col0\" >20,380,982.20</td>\n",
       "                        <td id=\"T_d0b17_row1_col1\" class=\"data row1 col1\" >3,026,256.15</td>\n",
       "                        <td id=\"T_d0b17_row1_col2\" class=\"data row1 col2\" >51,992,103.00</td>\n",
       "                        <td id=\"T_d0b17_row1_col3\" class=\"data row1 col3\" >14,688,850.32</td>\n",
       "                        <td id=\"T_d0b17_row1_col4\" class=\"data row1 col4\" >12,875,350.34</td>\n",
       "                        <td id=\"T_d0b17_row1_col5\" class=\"data row1 col5\" >13,736,207.98</td>\n",
       "            </tr>\n",
       "            <tr>\n",
       "                        <th id=\"T_d0b17_level0_row2\" class=\"row_heading level0 row2\" >12</th>\n",
       "                        <td id=\"T_d0b17_row2_col0\" class=\"data row2 col0\" >15,959,668.30</td>\n",
       "                        <td id=\"T_d0b17_row2_col1\" class=\"data row2 col1\" >4,690,635.25</td>\n",
       "                        <td id=\"T_d0b17_row2_col2\" class=\"data row2 col2\" >9,010,548.00</td>\n",
       "                        <td id=\"T_d0b17_row2_col3\" class=\"data row2 col3\" >8,931,965.66</td>\n",
       "                        <td id=\"T_d0b17_row2_col4\" class=\"data row2 col4\" >3,405,545.76</td>\n",
       "                        <td id=\"T_d0b17_row2_col5\" class=\"data row2 col5\" >5,175,580.50</td>\n",
       "            </tr>\n",
       "            <tr>\n",
       "                        <th id=\"T_d0b17_level0_row3\" class=\"row_heading level0 row3\" >16</th>\n",
       "                        <td id=\"T_d0b17_row3_col0\" class=\"data row3 col0\" >4,784,781.50</td>\n",
       "                        <td id=\"T_d0b17_row3_col1\" class=\"data row3 col1\" >5,180,850.50</td>\n",
       "                        <td id=\"T_d0b17_row3_col2\" class=\"data row3 col2\" >9,702,077.00</td>\n",
       "                        <td id=\"T_d0b17_row3_col3\" class=\"data row3 col3\" >9,010,638.62</td>\n",
       "                        <td id=\"T_d0b17_row3_col4\" class=\"data row3 col4\" >3,210,717.81</td>\n",
       "                        <td id=\"T_d0b17_row3_col5\" class=\"data row3 col5\" >5,604,702.00</td>\n",
       "            </tr>\n",
       "            <tr>\n",
       "                        <th id=\"T_d0b17_level0_row4\" class=\"row_heading level0 row4\" >18</th>\n",
       "                        <td id=\"T_d0b17_row4_col0\" class=\"data row4 col0\" >4,616,614.70</td>\n",
       "                        <td id=\"T_d0b17_row4_col1\" class=\"data row4 col1\" >6,107,001.74</td>\n",
       "                        <td id=\"T_d0b17_row4_col2\" class=\"data row4 col2\" >8,212,677.00</td>\n",
       "                        <td id=\"T_d0b17_row4_col3\" class=\"data row4 col3\" >7,179,466.00</td>\n",
       "                        <td id=\"T_d0b17_row4_col4\" class=\"data row4 col4\" >5,603,216.55</td>\n",
       "                        <td id=\"T_d0b17_row4_col5\" class=\"data row4 col5\" >6,154,439.17</td>\n",
       "            </tr>\n",
       "            <tr>\n",
       "                        <th id=\"T_d0b17_level0_row5\" class=\"row_heading level0 row5\" >All</th>\n",
       "                        <td id=\"T_d0b17_row5_col0\" class=\"data row5 col0\" >5,003,450.15</td>\n",
       "                        <td id=\"T_d0b17_row5_col1\" class=\"data row5 col1\" >3,915,041.02</td>\n",
       "                        <td id=\"T_d0b17_row5_col2\" class=\"data row5 col2\" >9,968,340.00</td>\n",
       "                        <td id=\"T_d0b17_row5_col3\" class=\"data row5 col3\" >8,891,102.21</td>\n",
       "                        <td id=\"T_d0b17_row5_col4\" class=\"data row5 col4\" >4,627,798.34</td>\n",
       "                        <td id=\"T_d0b17_row5_col5\" class=\"data row5 col5\" >5,872,718.30</td>\n",
       "            </tr>\n",
       "    </tbody></table>"
      ],
      "text/plain": [
       "<pandas.io.formats.style.Styler at 0x7f75d6fb1f40>"
      ]
     },
     "execution_count": 112,
     "metadata": {},
     "output_type": "execute_result"
    }
   ],
   "source": [
    "data[(data['box_office'] > 0) & (data['year_show'].gt(2014))]\\\n",
    "         .pivot_table(index = 'age_restr', columns='year_show', values='box_office', aggfunc='median', margins=True ).\\\n",
    "                                                         style.format(formatter='{:,.2f}')"
   ]
  },
  {
   "cell_type": "code",
   "execution_count": 113,
   "metadata": {},
   "outputs": [
    {
     "data": {
      "text/html": [
       "<style  type=\"text/css\" >\n",
       "</style><table id=\"T_1612e_\" ><thead>    <tr>        <th class=\"index_name level0\" >year_show</th>        <th class=\"col_heading level0 col0\" >2015</th>        <th class=\"col_heading level0 col1\" >2016</th>        <th class=\"col_heading level0 col2\" >2017</th>        <th class=\"col_heading level0 col3\" >2018</th>        <th class=\"col_heading level0 col4\" >2019</th>        <th class=\"col_heading level0 col5\" >All</th>    </tr>    <tr>        <th class=\"index_name level0\" >age_restr</th>        <th class=\"blank\" ></th>        <th class=\"blank\" ></th>        <th class=\"blank\" ></th>        <th class=\"blank\" ></th>        <th class=\"blank\" ></th>        <th class=\"blank\" ></th>    </tr></thead><tbody>\n",
       "                <tr>\n",
       "                        <th id=\"T_1612e_level0_row0\" class=\"row_heading level0 row0\" >0</th>\n",
       "                        <td id=\"T_1612e_row0_col0\" class=\"data row0 col0\" >9,975,120.48</td>\n",
       "                        <td id=\"T_1612e_row0_col1\" class=\"data row0 col1\" >3,664,118.26</td>\n",
       "                        <td id=\"T_1612e_row0_col2\" class=\"data row0 col2\" >76,532,976.67</td>\n",
       "                        <td id=\"T_1612e_row0_col3\" class=\"data row0 col3\" >6,489,800.42</td>\n",
       "                        <td id=\"T_1612e_row0_col4\" class=\"data row0 col4\" >5,915,355.61</td>\n",
       "                        <td id=\"T_1612e_row0_col5\" class=\"data row0 col5\" >8,989,749.18</td>\n",
       "            </tr>\n",
       "            <tr>\n",
       "                        <th id=\"T_1612e_level0_row1\" class=\"row_heading level0 row1\" >6</th>\n",
       "                        <td id=\"T_1612e_row1_col0\" class=\"data row1 col0\" >164,184,893.80</td>\n",
       "                        <td id=\"T_1612e_row1_col1\" class=\"data row1 col1\" >172,187,800.12</td>\n",
       "                        <td id=\"T_1612e_row1_col2\" class=\"data row1 col2\" >268,580,936.57</td>\n",
       "                        <td id=\"T_1612e_row1_col3\" class=\"data row1 col3\" >148,602,567.99</td>\n",
       "                        <td id=\"T_1612e_row1_col4\" class=\"data row1 col4\" >158,673,440.13</td>\n",
       "                        <td id=\"T_1612e_row1_col5\" class=\"data row1 col5\" >176,020,854.26</td>\n",
       "            </tr>\n",
       "            <tr>\n",
       "                        <th id=\"T_1612e_level0_row2\" class=\"row_heading level0 row2\" >12</th>\n",
       "                        <td id=\"T_1612e_row2_col0\" class=\"data row2 col0\" >189,112,250.12</td>\n",
       "                        <td id=\"T_1612e_row2_col1\" class=\"data row2 col1\" >148,834,713.71</td>\n",
       "                        <td id=\"T_1612e_row2_col2\" class=\"data row2 col2\" >191,498,235.63</td>\n",
       "                        <td id=\"T_1612e_row2_col3\" class=\"data row2 col3\" >212,944,651.65</td>\n",
       "                        <td id=\"T_1612e_row2_col4\" class=\"data row2 col4\" >149,178,809.10</td>\n",
       "                        <td id=\"T_1612e_row2_col5\" class=\"data row2 col5\" >174,695,811.61</td>\n",
       "            </tr>\n",
       "            <tr>\n",
       "                        <th id=\"T_1612e_level0_row3\" class=\"row_heading level0 row3\" >16</th>\n",
       "                        <td id=\"T_1612e_row3_col0\" class=\"data row3 col0\" >68,072,580.06</td>\n",
       "                        <td id=\"T_1612e_row3_col1\" class=\"data row3 col1\" >92,069,328.96</td>\n",
       "                        <td id=\"T_1612e_row3_col2\" class=\"data row3 col2\" >154,917,709.92</td>\n",
       "                        <td id=\"T_1612e_row3_col3\" class=\"data row3 col3\" >105,792,322.74</td>\n",
       "                        <td id=\"T_1612e_row3_col4\" class=\"data row3 col4\" >71,648,421.26</td>\n",
       "                        <td id=\"T_1612e_row3_col5\" class=\"data row3 col5\" >94,688,335.80</td>\n",
       "            </tr>\n",
       "            <tr>\n",
       "                        <th id=\"T_1612e_level0_row4\" class=\"row_heading level0 row4\" >18</th>\n",
       "                        <td id=\"T_1612e_row4_col0\" class=\"data row4 col0\" >41,153,851.27</td>\n",
       "                        <td id=\"T_1612e_row4_col1\" class=\"data row4 col1\" >44,992,912.71</td>\n",
       "                        <td id=\"T_1612e_row4_col2\" class=\"data row4 col2\" >65,656,432.52</td>\n",
       "                        <td id=\"T_1612e_row4_col3\" class=\"data row4 col3\" >48,939,025.15</td>\n",
       "                        <td id=\"T_1612e_row4_col4\" class=\"data row4 col4\" >55,310,362.31</td>\n",
       "                        <td id=\"T_1612e_row4_col5\" class=\"data row4 col5\" >51,464,161.08</td>\n",
       "            </tr>\n",
       "            <tr>\n",
       "                        <th id=\"T_1612e_level0_row5\" class=\"row_heading level0 row5\" >All</th>\n",
       "                        <td id=\"T_1612e_row5_col0\" class=\"data row5 col0\" >85,492,132.46</td>\n",
       "                        <td id=\"T_1612e_row5_col1\" class=\"data row5 col1\" >91,173,904.27</td>\n",
       "                        <td id=\"T_1612e_row5_col2\" class=\"data row5 col2\" >136,032,793.33</td>\n",
       "                        <td id=\"T_1612e_row5_col3\" class=\"data row5 col3\" >104,565,059.23</td>\n",
       "                        <td id=\"T_1612e_row5_col4\" class=\"data row5 col4\" >91,369,261.85</td>\n",
       "                        <td id=\"T_1612e_row5_col5\" class=\"data row5 col5\" >99,626,004.29</td>\n",
       "            </tr>\n",
       "    </tbody></table>"
      ],
      "text/plain": [
       "<pandas.io.formats.style.Styler at 0x7f75d6fab700>"
      ]
     },
     "execution_count": 113,
     "metadata": {},
     "output_type": "execute_result"
    }
   ],
   "source": [
    "data[(data['box_office'] > 0) & (data['year_show'].gt(2014))]\\\n",
    "         .pivot_table(index = 'age_restr', columns='year_show', values='box_office', aggfunc='mean', margins=True ).\\\n",
    "                                                         style.format(formatter='{:,.2f}')"
   ]
  },
  {
   "cell_type": "markdown",
   "metadata": {},
   "source": [
    "Если смотреть на медианные значения, то, во-первых, мы получаем гораздо большие колебания от года к году (суммарные и средние сборы за каждый год с 2016 по 2019 примерно одинаковые, а медианные значения сильно отличаются). \n",
    "\n",
    "Видно, что медианные значения у нас для всех категорий значительно ниже средних значений, что говорит о большом количестве фильмов с небольшой величиной кассовых сборов и относительно небольшом количестве действительно популярных фильмов. \n",
    "\n",
    "Для медианных значений сильно выделяются фильмы для аудитории *\"6+\"*. При этом для средних значений категории *\"6+\"* и *\"12+\"* примерно одинаковы. Т.е. можно говорить, что фильмы категории *\"6+\"* в среднем более популярны, что представляется логичным, поскольку на мультфильмы (самый популярный жанр для категории *\"6+\"*) любят ходить зрители всех возрастных категорий.\n",
    "\n",
    "исключением можно считать 2017 год, когда медианное значение кассовых сборов для аудитории *\"0+\"* значительно превысило кассовые сборы для категорий *\"12+\"* и выше. Хотя такая популярность фильмов в этой категории не сильно отразилась на общих кассовых сборах из-за очень малого количества фильмов этой категории."
   ]
  },
  {
   "cell_type": "markdown",
   "metadata": {},
   "source": [
    "<div class=\"alert alert-success\">\n",
    "    \n",
    "<b> Комментарий от ревьюера 2 ✔️</b>\n",
    "\n",
    "Тут все замечательно!\n",
    "</div>"
   ]
  },
  {
   "cell_type": "markdown",
   "metadata": {},
   "source": [
    "**Посмотрим, как в каждой категории фильмы распределяются по жанрам**"
   ]
  },
  {
   "cell_type": "code",
   "execution_count": 114,
   "metadata": {},
   "outputs": [
    {
     "data": {
      "text/html": [
       "<style  type=\"text/css\" >\n",
       "</style><table id=\"T_104af_\" ><thead>    <tr>        <th class=\"blank level0\" ></th>        <th class=\"col_heading level0 col0\" >box_office</th>    </tr>    <tr>        <th class=\"index_name level0\" >main_genre</th>        <th class=\"blank\" ></th>    </tr></thead><tbody>\n",
       "                <tr>\n",
       "                        <th id=\"T_104af_level0_row0\" class=\"row_heading level0 row0\" >фантастика</th>\n",
       "                        <td id=\"T_104af_row0_col0\" class=\"data row0 col0\" >50,929,368,088.90</td>\n",
       "            </tr>\n",
       "            <tr>\n",
       "                        <th id=\"T_104af_level0_row1\" class=\"row_heading level0 row1\" >мультфильм</th>\n",
       "                        <td id=\"T_104af_row1_col0\" class=\"data row1 col0\" >36,611,316,134.38</td>\n",
       "            </tr>\n",
       "            <tr>\n",
       "                        <th id=\"T_104af_level0_row2\" class=\"row_heading level0 row2\" >боевик</th>\n",
       "                        <td id=\"T_104af_row2_col0\" class=\"data row2 col0\" >26,555,031,223.18</td>\n",
       "            </tr>\n",
       "            <tr>\n",
       "                        <th id=\"T_104af_level0_row3\" class=\"row_heading level0 row3\" >фэнтези</th>\n",
       "                        <td id=\"T_104af_row3_col0\" class=\"data row3 col0\" >23,753,553,492.60</td>\n",
       "            </tr>\n",
       "            <tr>\n",
       "                        <th id=\"T_104af_level0_row4\" class=\"row_heading level0 row4\" >комедия</th>\n",
       "                        <td id=\"T_104af_row4_col0\" class=\"data row4 col0\" >23,372,750,429.73</td>\n",
       "            </tr>\n",
       "    </tbody></table>"
      ],
      "text/plain": [
       "<pandas.io.formats.style.Styler at 0x7f75d6f9a2e0>"
      ]
     },
     "execution_count": 114,
     "metadata": {},
     "output_type": "execute_result"
    }
   ],
   "source": [
    "data[(data['box_office'] > 0) &(data['year_show'].gt(2014))]\\\n",
    "        .pivot_table(index='main_genre', values='box_office', aggfunc='sum')\\\n",
    "        .sort_values(by='box_office',ascending=False).head()\\\n",
    "        .style.format(formatter='{:,.2f}')"
   ]
  },
  {
   "cell_type": "code",
   "execution_count": 115,
   "metadata": {},
   "outputs": [
    {
     "data": {
      "text/html": [
       "<style  type=\"text/css\" >\n",
       "</style><table id=\"T_40c3a_\" ><thead>    <tr>        <th class=\"index_name level0\" >year_show</th>        <th class=\"col_heading level0 col0\" >2015</th>        <th class=\"col_heading level0 col1\" >2016</th>        <th class=\"col_heading level0 col2\" >2017</th>        <th class=\"col_heading level0 col3\" >2018</th>        <th class=\"col_heading level0 col4\" >2019</th>    </tr>    <tr>        <th class=\"index_name level0\" >main_genre</th>        <th class=\"blank\" ></th>        <th class=\"blank\" ></th>        <th class=\"blank\" ></th>        <th class=\"blank\" ></th>        <th class=\"blank\" ></th>    </tr></thead><tbody>\n",
       "                <tr>\n",
       "                        <th id=\"T_40c3a_level0_row0\" class=\"row_heading level0 row0\" >аниме</th>\n",
       "                        <td id=\"T_40c3a_row0_col0\" class=\"data row0 col0\" >nan</td>\n",
       "                        <td id=\"T_40c3a_row0_col1\" class=\"data row0 col1\" >nan</td>\n",
       "                        <td id=\"T_40c3a_row0_col2\" class=\"data row0 col2\" >nan</td>\n",
       "                        <td id=\"T_40c3a_row0_col3\" class=\"data row0 col3\" >1,222,633,374.73</td>\n",
       "                        <td id=\"T_40c3a_row0_col4\" class=\"data row0 col4\" >25,112,571.72</td>\n",
       "            </tr>\n",
       "            <tr>\n",
       "                        <th id=\"T_40c3a_level0_row1\" class=\"row_heading level0 row1\" >биография</th>\n",
       "                        <td id=\"T_40c3a_row1_col0\" class=\"data row1 col0\" >nan</td>\n",
       "                        <td id=\"T_40c3a_row1_col1\" class=\"data row1 col1\" >nan</td>\n",
       "                        <td id=\"T_40c3a_row1_col2\" class=\"data row1 col2\" >nan</td>\n",
       "                        <td id=\"T_40c3a_row1_col3\" class=\"data row1 col3\" >nan</td>\n",
       "                        <td id=\"T_40c3a_row1_col4\" class=\"data row1 col4\" >114,090,162.74</td>\n",
       "            </tr>\n",
       "            <tr>\n",
       "                        <th id=\"T_40c3a_level0_row2\" class=\"row_heading level0 row2\" >боевик</th>\n",
       "                        <td id=\"T_40c3a_row2_col0\" class=\"data row2 col0\" >nan</td>\n",
       "                        <td id=\"T_40c3a_row2_col1\" class=\"data row2 col1\" >19,100.00</td>\n",
       "                        <td id=\"T_40c3a_row2_col2\" class=\"data row2 col2\" >1,773,807.00</td>\n",
       "                        <td id=\"T_40c3a_row2_col3\" class=\"data row2 col3\" >nan</td>\n",
       "                        <td id=\"T_40c3a_row2_col4\" class=\"data row2 col4\" >690,431,188.11</td>\n",
       "            </tr>\n",
       "            <tr>\n",
       "                        <th id=\"T_40c3a_level0_row3\" class=\"row_heading level0 row3\" >военный</th>\n",
       "                        <td id=\"T_40c3a_row3_col0\" class=\"data row3 col0\" >nan</td>\n",
       "                        <td id=\"T_40c3a_row3_col1\" class=\"data row3 col1\" >nan</td>\n",
       "                        <td id=\"T_40c3a_row3_col2\" class=\"data row3 col2\" >nan</td>\n",
       "                        <td id=\"T_40c3a_row3_col3\" class=\"data row3 col3\" >5,539,973.15</td>\n",
       "                        <td id=\"T_40c3a_row3_col4\" class=\"data row3 col4\" >nan</td>\n",
       "            </tr>\n",
       "            <tr>\n",
       "                        <th id=\"T_40c3a_level0_row4\" class=\"row_heading level0 row4\" >детектив</th>\n",
       "                        <td id=\"T_40c3a_row4_col0\" class=\"data row4 col0\" >nan</td>\n",
       "                        <td id=\"T_40c3a_row4_col1\" class=\"data row4 col1\" >nan</td>\n",
       "                        <td id=\"T_40c3a_row4_col2\" class=\"data row4 col2\" >nan</td>\n",
       "                        <td id=\"T_40c3a_row4_col3\" class=\"data row4 col3\" >nan</td>\n",
       "                        <td id=\"T_40c3a_row4_col4\" class=\"data row4 col4\" >1,626,889.00</td>\n",
       "            </tr>\n",
       "            <tr>\n",
       "                        <th id=\"T_40c3a_level0_row5\" class=\"row_heading level0 row5\" >детский</th>\n",
       "                        <td id=\"T_40c3a_row5_col0\" class=\"data row5 col0\" >977,480.00</td>\n",
       "                        <td id=\"T_40c3a_row5_col1\" class=\"data row5 col1\" >1,977,132.00</td>\n",
       "                        <td id=\"T_40c3a_row5_col2\" class=\"data row5 col2\" >nan</td>\n",
       "                        <td id=\"T_40c3a_row5_col3\" class=\"data row5 col3\" >nan</td>\n",
       "                        <td id=\"T_40c3a_row5_col4\" class=\"data row5 col4\" >nan</td>\n",
       "            </tr>\n",
       "            <tr>\n",
       "                        <th id=\"T_40c3a_level0_row6\" class=\"row_heading level0 row6\" >документальный</th>\n",
       "                        <td id=\"T_40c3a_row6_col0\" class=\"data row6 col0\" >nan</td>\n",
       "                        <td id=\"T_40c3a_row6_col1\" class=\"data row6 col1\" >3,526,247.60</td>\n",
       "                        <td id=\"T_40c3a_row6_col2\" class=\"data row6 col2\" >7,804,623.00</td>\n",
       "                        <td id=\"T_40c3a_row6_col3\" class=\"data row6 col3\" >5,429,649.55</td>\n",
       "                        <td id=\"T_40c3a_row6_col4\" class=\"data row6 col4\" >3,640,718.00</td>\n",
       "            </tr>\n",
       "            <tr>\n",
       "                        <th id=\"T_40c3a_level0_row7\" class=\"row_heading level0 row7\" >драма</th>\n",
       "                        <td id=\"T_40c3a_row7_col0\" class=\"data row7 col0\" >3,236,600.10</td>\n",
       "                        <td id=\"T_40c3a_row7_col1\" class=\"data row7 col1\" >1,403,164,984.00</td>\n",
       "                        <td id=\"T_40c3a_row7_col2\" class=\"data row7 col2\" >407,968.00</td>\n",
       "                        <td id=\"T_40c3a_row7_col3\" class=\"data row7 col3\" >63,997,149.77</td>\n",
       "                        <td id=\"T_40c3a_row7_col4\" class=\"data row7 col4\" >29,348,341.73</td>\n",
       "            </tr>\n",
       "            <tr>\n",
       "                        <th id=\"T_40c3a_level0_row8\" class=\"row_heading level0 row8\" >другое</th>\n",
       "                        <td id=\"T_40c3a_row8_col0\" class=\"data row8 col0\" >835,997,492.30</td>\n",
       "                        <td id=\"T_40c3a_row8_col1\" class=\"data row8 col1\" >1,241,331,845.40</td>\n",
       "                        <td id=\"T_40c3a_row8_col2\" class=\"data row8 col2\" >1,007,579,959.00</td>\n",
       "                        <td id=\"T_40c3a_row8_col3\" class=\"data row8 col3\" >7,109,137.35</td>\n",
       "                        <td id=\"T_40c3a_row8_col4\" class=\"data row8 col4\" >28,344,641.29</td>\n",
       "            </tr>\n",
       "            <tr>\n",
       "                        <th id=\"T_40c3a_level0_row9\" class=\"row_heading level0 row9\" >комедия</th>\n",
       "                        <td id=\"T_40c3a_row9_col0\" class=\"data row9 col0\" >1,061,951,126.95</td>\n",
       "                        <td id=\"T_40c3a_row9_col1\" class=\"data row9 col1\" >15,926,432.18</td>\n",
       "                        <td id=\"T_40c3a_row9_col2\" class=\"data row9 col2\" >866,660,983.00</td>\n",
       "                        <td id=\"T_40c3a_row9_col3\" class=\"data row9 col3\" >762,210,206.17</td>\n",
       "                        <td id=\"T_40c3a_row9_col4\" class=\"data row9 col4\" >142,652,201.37</td>\n",
       "            </tr>\n",
       "            <tr>\n",
       "                        <th id=\"T_40c3a_level0_row10\" class=\"row_heading level0 row10\" >короткометражка</th>\n",
       "                        <td id=\"T_40c3a_row10_col0\" class=\"data row10 col0\" >73,610.00</td>\n",
       "                        <td id=\"T_40c3a_row10_col1\" class=\"data row10 col1\" >nan</td>\n",
       "                        <td id=\"T_40c3a_row10_col2\" class=\"data row10 col2\" >nan</td>\n",
       "                        <td id=\"T_40c3a_row10_col3\" class=\"data row10 col3\" >nan</td>\n",
       "                        <td id=\"T_40c3a_row10_col4\" class=\"data row10 col4\" >nan</td>\n",
       "            </tr>\n",
       "            <tr>\n",
       "                        <th id=\"T_40c3a_level0_row11\" class=\"row_heading level0 row11\" >мелодрама</th>\n",
       "                        <td id=\"T_40c3a_row11_col0\" class=\"data row11 col0\" >nan</td>\n",
       "                        <td id=\"T_40c3a_row11_col1\" class=\"data row11 col1\" >360.00</td>\n",
       "                        <td id=\"T_40c3a_row11_col2\" class=\"data row11 col2\" >nan</td>\n",
       "                        <td id=\"T_40c3a_row11_col3\" class=\"data row11 col3\" >2,959,639.23</td>\n",
       "                        <td id=\"T_40c3a_row11_col4\" class=\"data row11 col4\" >158,961,239.08</td>\n",
       "            </tr>\n",
       "            <tr>\n",
       "                        <th id=\"T_40c3a_level0_row12\" class=\"row_heading level0 row12\" >мультфильм</th>\n",
       "                        <td id=\"T_40c3a_row12_col0\" class=\"data row12 col0\" >5,117,672,761.50</td>\n",
       "                        <td id=\"T_40c3a_row12_col1\" class=\"data row12 col1\" >8,501,770,279.81</td>\n",
       "                        <td id=\"T_40c3a_row12_col2\" class=\"data row12 col2\" >6,748,916,201.76</td>\n",
       "                        <td id=\"T_40c3a_row12_col3\" class=\"data row12 col3\" >5,927,344,530.26</td>\n",
       "                        <td id=\"T_40c3a_row12_col4\" class=\"data row12 col4\" >8,292,844,381.63</td>\n",
       "            </tr>\n",
       "            <tr>\n",
       "                        <th id=\"T_40c3a_level0_row13\" class=\"row_heading level0 row13\" >мюзикл</th>\n",
       "                        <td id=\"T_40c3a_row13_col0\" class=\"data row13 col0\" >574,683,143.06</td>\n",
       "                        <td id=\"T_40c3a_row13_col1\" class=\"data row13 col1\" >nan</td>\n",
       "                        <td id=\"T_40c3a_row13_col2\" class=\"data row13 col2\" >nan</td>\n",
       "                        <td id=\"T_40c3a_row13_col3\" class=\"data row13 col3\" >3,020,987.50</td>\n",
       "                        <td id=\"T_40c3a_row13_col4\" class=\"data row13 col4\" >224,851,164.51</td>\n",
       "            </tr>\n",
       "            <tr>\n",
       "                        <th id=\"T_40c3a_level0_row14\" class=\"row_heading level0 row14\" >приключения</th>\n",
       "                        <td id=\"T_40c3a_row14_col0\" class=\"data row14 col0\" >nan</td>\n",
       "                        <td id=\"T_40c3a_row14_col1\" class=\"data row14 col1\" >435,132.00</td>\n",
       "                        <td id=\"T_40c3a_row14_col2\" class=\"data row14 col2\" >550,529,035.00</td>\n",
       "                        <td id=\"T_40c3a_row14_col3\" class=\"data row14 col3\" >22,255,555.22</td>\n",
       "                        <td id=\"T_40c3a_row14_col4\" class=\"data row14 col4\" >444,092,444.68</td>\n",
       "            </tr>\n",
       "            <tr>\n",
       "                        <th id=\"T_40c3a_level0_row15\" class=\"row_heading level0 row15\" >реальное ТВ</th>\n",
       "                        <td id=\"T_40c3a_row15_col0\" class=\"data row15 col0\" >nan</td>\n",
       "                        <td id=\"T_40c3a_row15_col1\" class=\"data row15 col1\" >nan</td>\n",
       "                        <td id=\"T_40c3a_row15_col2\" class=\"data row15 col2\" >nan</td>\n",
       "                        <td id=\"T_40c3a_row15_col3\" class=\"data row15 col3\" >nan</td>\n",
       "                        <td id=\"T_40c3a_row15_col4\" class=\"data row15 col4\" >32,721,103.43</td>\n",
       "            </tr>\n",
       "            <tr>\n",
       "                        <th id=\"T_40c3a_level0_row16\" class=\"row_heading level0 row16\" >семейный</th>\n",
       "                        <td id=\"T_40c3a_row16_col0\" class=\"data row16 col0\" >216,000,243.90</td>\n",
       "                        <td id=\"T_40c3a_row16_col1\" class=\"data row16 col1\" >315,706,208.10</td>\n",
       "                        <td id=\"T_40c3a_row16_col2\" class=\"data row16 col2\" >22,128,515.00</td>\n",
       "                        <td id=\"T_40c3a_row16_col3\" class=\"data row16 col3\" >7,516,909.50</td>\n",
       "                        <td id=\"T_40c3a_row16_col4\" class=\"data row16 col4\" >120,312,828.55</td>\n",
       "            </tr>\n",
       "            <tr>\n",
       "                        <th id=\"T_40c3a_level0_row17\" class=\"row_heading level0 row17\" >спорт</th>\n",
       "                        <td id=\"T_40c3a_row17_col0\" class=\"data row17 col0\" >168,688,859.10</td>\n",
       "                        <td id=\"T_40c3a_row17_col1\" class=\"data row17 col1\" >nan</td>\n",
       "                        <td id=\"T_40c3a_row17_col2\" class=\"data row17 col2\" >2,779,686,144.00</td>\n",
       "                        <td id=\"T_40c3a_row17_col3\" class=\"data row17 col3\" >nan</td>\n",
       "                        <td id=\"T_40c3a_row17_col4\" class=\"data row17 col4\" >nan</td>\n",
       "            </tr>\n",
       "            <tr>\n",
       "                        <th id=\"T_40c3a_level0_row18\" class=\"row_heading level0 row18\" >триллер</th>\n",
       "                        <td id=\"T_40c3a_row18_col0\" class=\"data row18 col0\" >352,804,320.40</td>\n",
       "                        <td id=\"T_40c3a_row18_col1\" class=\"data row18 col1\" >nan</td>\n",
       "                        <td id=\"T_40c3a_row18_col2\" class=\"data row18 col2\" >nan</td>\n",
       "                        <td id=\"T_40c3a_row18_col3\" class=\"data row18 col3\" >nan</td>\n",
       "                        <td id=\"T_40c3a_row18_col4\" class=\"data row18 col4\" >1,384,241.00</td>\n",
       "            </tr>\n",
       "            <tr>\n",
       "                        <th id=\"T_40c3a_level0_row19\" class=\"row_heading level0 row19\" >ужасы</th>\n",
       "                        <td id=\"T_40c3a_row19_col0\" class=\"data row19 col0\" >nan</td>\n",
       "                        <td id=\"T_40c3a_row19_col1\" class=\"data row19 col1\" >638,342.00</td>\n",
       "                        <td id=\"T_40c3a_row19_col2\" class=\"data row19 col2\" >nan</td>\n",
       "                        <td id=\"T_40c3a_row19_col3\" class=\"data row19 col3\" >185,921,616.56</td>\n",
       "                        <td id=\"T_40c3a_row19_col4\" class=\"data row19 col4\" >nan</td>\n",
       "            </tr>\n",
       "            <tr>\n",
       "                        <th id=\"T_40c3a_level0_row20\" class=\"row_heading level0 row20\" >фантастика</th>\n",
       "                        <td id=\"T_40c3a_row20_col0\" class=\"data row20 col0\" >334,750.00</td>\n",
       "                        <td id=\"T_40c3a_row20_col1\" class=\"data row20 col1\" >241,406,432.00</td>\n",
       "                        <td id=\"T_40c3a_row20_col2\" class=\"data row20 col2\" >nan</td>\n",
       "                        <td id=\"T_40c3a_row20_col3\" class=\"data row20 col3\" >785,758,806.00</td>\n",
       "                        <td id=\"T_40c3a_row20_col4\" class=\"data row20 col4\" >78,526,248.52</td>\n",
       "            </tr>\n",
       "            <tr>\n",
       "                        <th id=\"T_40c3a_level0_row21\" class=\"row_heading level0 row21\" >фэнтези</th>\n",
       "                        <td id=\"T_40c3a_row21_col0\" class=\"data row21 col0\" >369,378,984.10</td>\n",
       "                        <td id=\"T_40c3a_row21_col1\" class=\"data row21 col1\" >327,243,513.15</td>\n",
       "                        <td id=\"T_40c3a_row21_col2\" class=\"data row21 col2\" >100,654,910.00</td>\n",
       "                        <td id=\"T_40c3a_row21_col3\" class=\"data row21 col3\" >1,103,277,088.42</td>\n",
       "                        <td id=\"T_40c3a_row21_col4\" class=\"data row21 col4\" >2,463,608,285.50</td>\n",
       "            </tr>\n",
       "    </tbody></table>"
      ],
      "text/plain": [
       "<pandas.io.formats.style.Styler at 0x7f75d6f3f040>"
      ]
     },
     "execution_count": 115,
     "metadata": {},
     "output_type": "execute_result"
    }
   ],
   "source": [
    "data[(data['box_office'] > 0) &(data['year_show'].gt(2014)) & (data['age_restr'] == 6)]\\\n",
    "                                    .pivot_table(index='main_genre', columns='year_show', values='box_office', aggfunc='sum').\\\n",
    "                                     style.format(formatter='{:,.2f}')"
   ]
  },
  {
   "cell_type": "code",
   "execution_count": 116,
   "metadata": {},
   "outputs": [
    {
     "data": {
      "text/html": [
       "<style  type=\"text/css\" >\n",
       "</style><table id=\"T_de881_\" ><thead>    <tr>        <th class=\"index_name level0\" >year_show</th>        <th class=\"col_heading level0 col0\" >2015</th>        <th class=\"col_heading level0 col1\" >2016</th>        <th class=\"col_heading level0 col2\" >2017</th>        <th class=\"col_heading level0 col3\" >2018</th>        <th class=\"col_heading level0 col4\" >2019</th>    </tr>    <tr>        <th class=\"index_name level0\" >main_genre</th>        <th class=\"blank\" ></th>        <th class=\"blank\" ></th>        <th class=\"blank\" ></th>        <th class=\"blank\" ></th>        <th class=\"blank\" ></th>    </tr></thead><tbody>\n",
       "                <tr>\n",
       "                        <th id=\"T_de881_level0_row0\" class=\"row_heading level0 row0\" >аниме</th>\n",
       "                        <td id=\"T_de881_row0_col0\" class=\"data row0 col0\" >22,438,188.50</td>\n",
       "                        <td id=\"T_de881_row0_col1\" class=\"data row0 col1\" >nan</td>\n",
       "                        <td id=\"T_de881_row0_col2\" class=\"data row0 col2\" >34,163,829.00</td>\n",
       "                        <td id=\"T_de881_row0_col3\" class=\"data row0 col3\" >21,709,311.46</td>\n",
       "                        <td id=\"T_de881_row0_col4\" class=\"data row0 col4\" >55,137,330.20</td>\n",
       "            </tr>\n",
       "            <tr>\n",
       "                        <th id=\"T_de881_level0_row1\" class=\"row_heading level0 row1\" >биография</th>\n",
       "                        <td id=\"T_de881_row1_col0\" class=\"data row1 col0\" >401,804,461.90</td>\n",
       "                        <td id=\"T_de881_row1_col1\" class=\"data row1 col1\" >3,915,041.02</td>\n",
       "                        <td id=\"T_de881_row1_col2\" class=\"data row1 col2\" >nan</td>\n",
       "                        <td id=\"T_de881_row1_col3\" class=\"data row1 col3\" >988,413.00</td>\n",
       "                        <td id=\"T_de881_row1_col4\" class=\"data row1 col4\" >39,992,751.16</td>\n",
       "            </tr>\n",
       "            <tr>\n",
       "                        <th id=\"T_de881_level0_row2\" class=\"row_heading level0 row2\" >боевик</th>\n",
       "                        <td id=\"T_de881_row2_col0\" class=\"data row2 col0\" >2,558,107,221.40</td>\n",
       "                        <td id=\"T_de881_row2_col1\" class=\"data row2 col1\" >1,021,510,492.00</td>\n",
       "                        <td id=\"T_de881_row2_col2\" class=\"data row2 col2\" >1,429,976,813.00</td>\n",
       "                        <td id=\"T_de881_row2_col3\" class=\"data row2 col3\" >723,927,269.21</td>\n",
       "                        <td id=\"T_de881_row2_col4\" class=\"data row2 col4\" >1,332,958,813.63</td>\n",
       "            </tr>\n",
       "            <tr>\n",
       "                        <th id=\"T_de881_level0_row3\" class=\"row_heading level0 row3\" >военный</th>\n",
       "                        <td id=\"T_de881_row3_col0\" class=\"data row3 col0\" >35,305,095.61</td>\n",
       "                        <td id=\"T_de881_row3_col1\" class=\"data row3 col1\" >363,622,804.90</td>\n",
       "                        <td id=\"T_de881_row3_col2\" class=\"data row3 col2\" >8,667,192.00</td>\n",
       "                        <td id=\"T_de881_row3_col3\" class=\"data row3 col3\" >558,968,888.65</td>\n",
       "                        <td id=\"T_de881_row3_col4\" class=\"data row3 col4\" >281,553,186.66</td>\n",
       "            </tr>\n",
       "            <tr>\n",
       "                        <th id=\"T_de881_level0_row4\" class=\"row_heading level0 row4\" >детектив</th>\n",
       "                        <td id=\"T_de881_row4_col0\" class=\"data row4 col0\" >72,618,367.40</td>\n",
       "                        <td id=\"T_de881_row4_col1\" class=\"data row4 col1\" >nan</td>\n",
       "                        <td id=\"T_de881_row4_col2\" class=\"data row4 col2\" >nan</td>\n",
       "                        <td id=\"T_de881_row4_col3\" class=\"data row4 col3\" >8,425,367.60</td>\n",
       "                        <td id=\"T_de881_row4_col4\" class=\"data row4 col4\" >nan</td>\n",
       "            </tr>\n",
       "            <tr>\n",
       "                        <th id=\"T_de881_level0_row5\" class=\"row_heading level0 row5\" >документальный</th>\n",
       "                        <td id=\"T_de881_row5_col0\" class=\"data row5 col0\" >11,042,098.50</td>\n",
       "                        <td id=\"T_de881_row5_col1\" class=\"data row5 col1\" >2,325,017.51</td>\n",
       "                        <td id=\"T_de881_row5_col2\" class=\"data row5 col2\" >415,565.00</td>\n",
       "                        <td id=\"T_de881_row5_col3\" class=\"data row5 col3\" >5,127,402.52</td>\n",
       "                        <td id=\"T_de881_row5_col4\" class=\"data row5 col4\" >58,516,854.97</td>\n",
       "            </tr>\n",
       "            <tr>\n",
       "                        <th id=\"T_de881_level0_row6\" class=\"row_heading level0 row6\" >драма</th>\n",
       "                        <td id=\"T_de881_row6_col0\" class=\"data row6 col0\" >780,504,809.00</td>\n",
       "                        <td id=\"T_de881_row6_col1\" class=\"data row6 col1\" >665,990,962.74</td>\n",
       "                        <td id=\"T_de881_row6_col2\" class=\"data row6 col2\" >862,703,166.54</td>\n",
       "                        <td id=\"T_de881_row6_col3\" class=\"data row6 col3\" >3,744,476,824.68</td>\n",
       "                        <td id=\"T_de881_row6_col4\" class=\"data row6 col4\" >525,680,855.21</td>\n",
       "            </tr>\n",
       "            <tr>\n",
       "                        <th id=\"T_de881_level0_row7\" class=\"row_heading level0 row7\" >другое</th>\n",
       "                        <td id=\"T_de881_row7_col0\" class=\"data row7 col0\" >567,223.00</td>\n",
       "                        <td id=\"T_de881_row7_col1\" class=\"data row7 col1\" >16,720,730.84</td>\n",
       "                        <td id=\"T_de881_row7_col2\" class=\"data row7 col2\" >501,374,652.01</td>\n",
       "                        <td id=\"T_de881_row7_col3\" class=\"data row7 col3\" >1,795,666,748.05</td>\n",
       "                        <td id=\"T_de881_row7_col4\" class=\"data row7 col4\" >14,060,350.39</td>\n",
       "            </tr>\n",
       "            <tr>\n",
       "                        <th id=\"T_de881_level0_row8\" class=\"row_heading level0 row8\" >история</th>\n",
       "                        <td id=\"T_de881_row8_col0\" class=\"data row8 col0\" >3,792,050.52</td>\n",
       "                        <td id=\"T_de881_row8_col1\" class=\"data row8 col1\" >56,352,248.93</td>\n",
       "                        <td id=\"T_de881_row8_col2\" class=\"data row8 col2\" >590,405,065.00</td>\n",
       "                        <td id=\"T_de881_row8_col3\" class=\"data row8 col3\" >nan</td>\n",
       "                        <td id=\"T_de881_row8_col4\" class=\"data row8 col4\" >717,703,185.53</td>\n",
       "            </tr>\n",
       "            <tr>\n",
       "                        <th id=\"T_de881_level0_row9\" class=\"row_heading level0 row9\" >комедия</th>\n",
       "                        <td id=\"T_de881_row9_col0\" class=\"data row9 col0\" >844,531,943.18</td>\n",
       "                        <td id=\"T_de881_row9_col1\" class=\"data row9 col1\" >1,089,680,620.24</td>\n",
       "                        <td id=\"T_de881_row9_col2\" class=\"data row9 col2\" >2,328,247,615.00</td>\n",
       "                        <td id=\"T_de881_row9_col3\" class=\"data row9 col3\" >293,134,571.52</td>\n",
       "                        <td id=\"T_de881_row9_col4\" class=\"data row9 col4\" >4,376,863,874.90</td>\n",
       "            </tr>\n",
       "            <tr>\n",
       "                        <th id=\"T_de881_level0_row10\" class=\"row_heading level0 row10\" >криминал</th>\n",
       "                        <td id=\"T_de881_row10_col0\" class=\"data row10 col0\" >nan</td>\n",
       "                        <td id=\"T_de881_row10_col1\" class=\"data row10 col1\" >228,578,204.00</td>\n",
       "                        <td id=\"T_de881_row10_col2\" class=\"data row10 col2\" >nan</td>\n",
       "                        <td id=\"T_de881_row10_col3\" class=\"data row10 col3\" >nan</td>\n",
       "                        <td id=\"T_de881_row10_col4\" class=\"data row10 col4\" >nan</td>\n",
       "            </tr>\n",
       "            <tr>\n",
       "                        <th id=\"T_de881_level0_row11\" class=\"row_heading level0 row11\" >мелодрама</th>\n",
       "                        <td id=\"T_de881_row11_col0\" class=\"data row11 col0\" >55,271,697.60</td>\n",
       "                        <td id=\"T_de881_row11_col1\" class=\"data row11 col1\" >1,192,313.00</td>\n",
       "                        <td id=\"T_de881_row11_col2\" class=\"data row11 col2\" >nan</td>\n",
       "                        <td id=\"T_de881_row11_col3\" class=\"data row11 col3\" >4,527,554.70</td>\n",
       "                        <td id=\"T_de881_row11_col4\" class=\"data row11 col4\" >2,488,435.51</td>\n",
       "            </tr>\n",
       "            <tr>\n",
       "                        <th id=\"T_de881_level0_row12\" class=\"row_heading level0 row12\" >музыка</th>\n",
       "                        <td id=\"T_de881_row12_col0\" class=\"data row12 col0\" >2,009,311.00</td>\n",
       "                        <td id=\"T_de881_row12_col1\" class=\"data row12 col1\" >nan</td>\n",
       "                        <td id=\"T_de881_row12_col2\" class=\"data row12 col2\" >nan</td>\n",
       "                        <td id=\"T_de881_row12_col3\" class=\"data row12 col3\" >nan</td>\n",
       "                        <td id=\"T_de881_row12_col4\" class=\"data row12 col4\" >46,769,961.08</td>\n",
       "            </tr>\n",
       "            <tr>\n",
       "                        <th id=\"T_de881_level0_row13\" class=\"row_heading level0 row13\" >мультфильм</th>\n",
       "                        <td id=\"T_de881_row13_col0\" class=\"data row13 col0\" >317,410,803.80</td>\n",
       "                        <td id=\"T_de881_row13_col1\" class=\"data row13 col1\" >25,133,847.38</td>\n",
       "                        <td id=\"T_de881_row13_col2\" class=\"data row13 col2\" >nan</td>\n",
       "                        <td id=\"T_de881_row13_col3\" class=\"data row13 col3\" >10,913,132.30</td>\n",
       "                        <td id=\"T_de881_row13_col4\" class=\"data row13 col4\" >797,727,111.47</td>\n",
       "            </tr>\n",
       "            <tr>\n",
       "                        <th id=\"T_de881_level0_row14\" class=\"row_heading level0 row14\" >мюзикл</th>\n",
       "                        <td id=\"T_de881_row14_col0\" class=\"data row14 col0\" >nan</td>\n",
       "                        <td id=\"T_de881_row14_col1\" class=\"data row14 col1\" >81,430,626.82</td>\n",
       "                        <td id=\"T_de881_row14_col2\" class=\"data row14 col2\" >nan</td>\n",
       "                        <td id=\"T_de881_row14_col3\" class=\"data row14 col3\" >nan</td>\n",
       "                        <td id=\"T_de881_row14_col4\" class=\"data row14 col4\" >15,807,297.81</td>\n",
       "            </tr>\n",
       "            <tr>\n",
       "                        <th id=\"T_de881_level0_row15\" class=\"row_heading level0 row15\" >приключения</th>\n",
       "                        <td id=\"T_de881_row15_col0\" class=\"data row15 col0\" >783,851.00</td>\n",
       "                        <td id=\"T_de881_row15_col1\" class=\"data row15 col1\" >387,231.00</td>\n",
       "                        <td id=\"T_de881_row15_col2\" class=\"data row15 col2\" >126,713,450.16</td>\n",
       "                        <td id=\"T_de881_row15_col3\" class=\"data row15 col3\" >109,283,532.50</td>\n",
       "                        <td id=\"T_de881_row15_col4\" class=\"data row15 col4\" >4,765,559.50</td>\n",
       "            </tr>\n",
       "            <tr>\n",
       "                        <th id=\"T_de881_level0_row16\" class=\"row_heading level0 row16\" >семейный</th>\n",
       "                        <td id=\"T_de881_row16_col0\" class=\"data row16 col0\" >42,176.00</td>\n",
       "                        <td id=\"T_de881_row16_col1\" class=\"data row16 col1\" >483,403.00</td>\n",
       "                        <td id=\"T_de881_row16_col2\" class=\"data row16 col2\" >nan</td>\n",
       "                        <td id=\"T_de881_row16_col3\" class=\"data row16 col3\" >nan</td>\n",
       "                        <td id=\"T_de881_row16_col4\" class=\"data row16 col4\" >nan</td>\n",
       "            </tr>\n",
       "            <tr>\n",
       "                        <th id=\"T_de881_level0_row17\" class=\"row_heading level0 row17\" >спорт</th>\n",
       "                        <td id=\"T_de881_row17_col0\" class=\"data row17 col0\" >nan</td>\n",
       "                        <td id=\"T_de881_row17_col1\" class=\"data row17 col1\" >19,393,384.34</td>\n",
       "                        <td id=\"T_de881_row17_col2\" class=\"data row17 col2\" >nan</td>\n",
       "                        <td id=\"T_de881_row17_col3\" class=\"data row17 col3\" >nan</td>\n",
       "                        <td id=\"T_de881_row17_col4\" class=\"data row17 col4\" >nan</td>\n",
       "            </tr>\n",
       "            <tr>\n",
       "                        <th id=\"T_de881_level0_row18\" class=\"row_heading level0 row18\" >триллер</th>\n",
       "                        <td id=\"T_de881_row18_col0\" class=\"data row18 col0\" >nan</td>\n",
       "                        <td id=\"T_de881_row18_col1\" class=\"data row18 col1\" >112,868,798.48</td>\n",
       "                        <td id=\"T_de881_row18_col2\" class=\"data row18 col2\" >24,310.00</td>\n",
       "                        <td id=\"T_de881_row18_col3\" class=\"data row18 col3\" >nan</td>\n",
       "                        <td id=\"T_de881_row18_col4\" class=\"data row18 col4\" >421,571.50</td>\n",
       "            </tr>\n",
       "            <tr>\n",
       "                        <th id=\"T_de881_level0_row19\" class=\"row_heading level0 row19\" >ужасы</th>\n",
       "                        <td id=\"T_de881_row19_col0\" class=\"data row19 col0\" >294,590,750.60</td>\n",
       "                        <td id=\"T_de881_row19_col1\" class=\"data row19 col1\" >nan</td>\n",
       "                        <td id=\"T_de881_row19_col2\" class=\"data row19 col2\" >nan</td>\n",
       "                        <td id=\"T_de881_row19_col3\" class=\"data row19 col3\" >nan</td>\n",
       "                        <td id=\"T_de881_row19_col4\" class=\"data row19 col4\" >4,101,781.00</td>\n",
       "            </tr>\n",
       "            <tr>\n",
       "                        <th id=\"T_de881_level0_row20\" class=\"row_heading level0 row20\" >фантастика</th>\n",
       "                        <td id=\"T_de881_row20_col0\" class=\"data row20 col0\" >8,055,941,471.30</td>\n",
       "                        <td id=\"T_de881_row20_col1\" class=\"data row20 col1\" >2,490,055,700.70</td>\n",
       "                        <td id=\"T_de881_row20_col2\" class=\"data row20 col2\" >1,931,730,194.00</td>\n",
       "                        <td id=\"T_de881_row20_col3\" class=\"data row20 col3\" >5,441,881,794.71</td>\n",
       "                        <td id=\"T_de881_row20_col4\" class=\"data row20 col4\" >2,280,639,487.28</td>\n",
       "            </tr>\n",
       "            <tr>\n",
       "                        <th id=\"T_de881_level0_row21\" class=\"row_heading level0 row21\" >фэнтези</th>\n",
       "                        <td id=\"T_de881_row21_col0\" class=\"data row21 col0\" >159,320,488.60</td>\n",
       "                        <td id=\"T_de881_row21_col1\" class=\"data row21 col1\" >6,024,805,097.49</td>\n",
       "                        <td id=\"T_de881_row21_col2\" class=\"data row21 col2\" >37,005,808.96</td>\n",
       "                        <td id=\"T_de881_row21_col3\" class=\"data row21 col3\" >1,548,260,849.79</td>\n",
       "                        <td id=\"T_de881_row21_col4\" class=\"data row21 col4\" >2,125,010,365.87</td>\n",
       "            </tr>\n",
       "    </tbody></table>"
      ],
      "text/plain": [
       "<pandas.io.formats.style.Styler at 0x7f75d6f35f70>"
      ]
     },
     "execution_count": 116,
     "metadata": {},
     "output_type": "execute_result"
    }
   ],
   "source": [
    "data[(data['box_office'] > 0) & (data['year_show'].gt(2014)) &(data['age_restr'] == 12)]\\\n",
    "                                    .pivot_table(index='main_genre', columns='year_show', values='box_office', aggfunc='sum').\\\n",
    "                                     style.format(formatter='{:,.2f}')"
   ]
  },
  {
   "cell_type": "markdown",
   "metadata": {},
   "source": [
    "Таким образом, самая популярная категория фильмов - *\"6+\"*. при этом количество фильмов для категорий *\"16+\"* более чем в 2 раза больше. Поэтому, хотя по суммарным сборам лидируют фильмы категрии *\"16+\"*, но это происходит в основном за счет большей массовости. \n",
    "\n",
    "По жанрам либируют категории *\"фантастика\"* (если в эту категорию также отнести фильмы жанра *\"фэнтези\"*, то перевес будет значительный), мультфильмы и боевики. При этом фильмы категории *\"6+\"* выигрывают за счет мультфильмов.\n",
    "\n",
    "И для всех категорий фильмов выделяется небольшое количество кассово успешных фильмов на фоне большого количества фильмов с относительно небольшими кассовыми сборами."
   ]
  },
  {
   "cell_type": "markdown",
   "metadata": {
    "id": "l_Kg6Ku4gFya"
   },
   "source": [
    "### Шаг 4. Исследуйте фильмы, которые получили государственную поддержку\n",
    "\n",
    "На этом этапе нет конкретных инструкций и заданий — поищите интересные закономерности в данных. Посмотрите, сколько выделяют средств на поддержку кино. Проверьте, хорошо ли окупаются такие фильмы, какой у них рейтинг."
   ]
  },
  {
   "cell_type": "markdown",
   "metadata": {
    "id": "W9QKpjUdgFyb"
   },
   "source": [
    "Посмотрим как относится выручка от проката к общей сумме госфинансирования и к сумме возвратного бюджета."
   ]
  },
  {
   "cell_type": "code",
   "execution_count": 117,
   "metadata": {},
   "outputs": [],
   "source": [
    "data.loc[(data['financing_source'].notna()), 'share_of_return_all'] = \\\n",
    "                           data[(data['financing_source'].notna())]['box_office'] / \\\n",
    "                          (data[(data['financing_source'].notna())]['refundable_support'] + \\\n",
    "                           data[(data['financing_source'].notna())]['nonrefundable_support'])\n",
    "                              "
   ]
  },
  {
   "cell_type": "code",
   "execution_count": 118,
   "metadata": {},
   "outputs": [],
   "source": [
    "data.loc[(data['financing_source'].notna()), 'share_of_return_refundable'] = \\\n",
    "                           data[(data['financing_source'].notna())]['box_office'] / \\\n",
    "                          (data[(data['financing_source'].notna())]['refundable_support'] )\n",
    "                              "
   ]
  },
  {
   "cell_type": "markdown",
   "metadata": {},
   "source": [
    "Посмотрим, какая часть фильмов окупилась, как с учетом всех частей государственного финансирования, так и с учетом только возвратных средств. (всего фильмов с государственным участием в нашем наборе данных 332)"
   ]
  },
  {
   "cell_type": "code",
   "execution_count": 119,
   "metadata": {},
   "outputs": [
    {
     "data": {
      "text/plain": [
       "0.35542168674698793"
      ]
     },
     "execution_count": 119,
     "metadata": {},
     "output_type": "execute_result"
    }
   ],
   "source": [
    "data[(data['financing_source'].notna()) & (data['share_of_return_all'].gt(1))]['title'].count() / 332"
   ]
  },
  {
   "cell_type": "code",
   "execution_count": 120,
   "metadata": {},
   "outputs": [
    {
     "data": {
      "text/plain": [
       "0.8795180722891566"
      ]
     },
     "execution_count": 120,
     "metadata": {},
     "output_type": "execute_result"
    }
   ],
   "source": [
    "data[(data['financing_source'].notna()) & (data['share_of_return_refundable'].gt(1))]['title'].count() / 332"
   ]
  },
  {
   "cell_type": "markdown",
   "metadata": {},
   "source": [
    "Всего 35,5% фильмов окупились полностью, при этом свои обязательства по возврату денег выполнили 87,95% \n",
    "\n",
    "Посмотрим как соотносится доля государственного финансирования и рейтинг фильма. Для этого построим диаграмму рассеяния."
   ]
  },
  {
   "cell_type": "code",
   "execution_count": 121,
   "metadata": {},
   "outputs": [
    {
     "data": {
      "image/png": "[encoded data removed]",
      "text/plain": [
       "<Figure size 432x288 with 1 Axes>"
      ]
     },
     "metadata": {
      "needs_background": "light"
     },
     "output_type": "display_data"
    }
   ],
   "source": [
    "data[(data['financing_source'].notna())].plot(x='share_of_gov', y='ratings', \\\n",
    "                                              title='зависимость рейтинга от доли госфинансирования', kind='scatter')\n",
    "None"
   ]
  },
  {
   "cell_type": "code",
   "execution_count": 122,
   "metadata": {},
   "outputs": [
    {
     "data": {
      "text/plain": [
       "-0.1350477597822836"
      ]
     },
     "execution_count": 122,
     "metadata": {},
     "output_type": "execute_result"
    }
   ],
   "source": [
    "data[(data['financing_source'].notna())]['share_of_gov'].corr(data[(data['financing_source'].notna())]['ratings'])"
   ]
  },
  {
   "cell_type": "markdown",
   "metadata": {},
   "source": [
    "Очевидно, что явной зависимости нет. Как значительное, так и не значительное участие в производстве фильмов может привести к совершенно разной популярности фильма.\n",
    "\n",
    "Посмотрим, как соотносятся рейтинг фильма и доля возвращаемости денежных средств. Построим диаграммы рассеяния сперва для доли возврата всех средств и потом доля возвратных средств."
   ]
  },
  {
   "cell_type": "code",
   "execution_count": 123,
   "metadata": {},
   "outputs": [
    {
     "data": {
      "image/png": "[encoded data removed]",
      "text/plain": [
       "<Figure size 432x288 with 1 Axes>"
      ]
     },
     "metadata": {
      "needs_background": "light"
     },
     "output_type": "display_data"
    }
   ],
   "source": [
    "data[(data['financing_source'].notna())].plot(x='share_of_return_all', y='ratings',  \\\n",
    "                                              title='зависимость рейтинга от доли окупаемости',kind='scatter')\n",
    "None"
   ]
  },
  {
   "cell_type": "code",
   "execution_count": 124,
   "metadata": {},
   "outputs": [
    {
     "data": {
      "text/plain": [
       "0.06626578875981481"
      ]
     },
     "execution_count": 124,
     "metadata": {},
     "output_type": "execute_result"
    }
   ],
   "source": [
    "data[(data['financing_source'].notna())]['share_of_return_all'].corr(data[(data['financing_source'].notna())]['ratings'])"
   ]
  },
  {
   "cell_type": "code",
   "execution_count": 125,
   "metadata": {},
   "outputs": [
    {
     "data": {
      "image/png": "[encoded data removed]",
      "text/plain": [
       "<Figure size 432x288 with 1 Axes>"
      ]
     },
     "metadata": {
      "needs_background": "light"
     },
     "output_type": "display_data"
    }
   ],
   "source": [
    "data[(data['financing_source'].notna())].plot(x='share_of_return_refundable', y='ratings',  \\\n",
    "                                              title='зависимость рейтинга от доли исполнения возрата средств',kind='scatter')\n",
    "None"
   ]
  },
  {
   "cell_type": "code",
   "execution_count": 126,
   "metadata": {},
   "outputs": [
    {
     "data": {
      "text/plain": [
       "nan"
      ]
     },
     "execution_count": 126,
     "metadata": {},
     "output_type": "execute_result"
    }
   ],
   "source": [
    "data[(data['financing_source'].notna())]['share_of_return_refundable'].corr(data[(data['financing_source'].notna())]['ratings'])"
   ]
  },
  {
   "cell_type": "code",
   "execution_count": 127,
   "metadata": {},
   "outputs": [
    {
     "data": {
      "image/png": "[encoded data removed]",
      "text/plain": [
       "<Figure size 432x288 with 1 Axes>"
      ]
     },
     "metadata": {
      "needs_background": "light"
     },
     "output_type": "display_data"
    }
   ],
   "source": [
    "data[(data['financing_source'].notna())].plot(x='nonrefundable_support', y='ratings',  \\\n",
    "                                              title='зависимость рейтинга от доли невозвратного финансирования',kind='scatter')\n",
    "None"
   ]
  },
  {
   "cell_type": "code",
   "execution_count": 128,
   "metadata": {},
   "outputs": [
    {
     "data": {
      "text/plain": [
       "0.11107873982324702"
      ]
     },
     "execution_count": 128,
     "metadata": {},
     "output_type": "execute_result"
    }
   ],
   "source": [
    "data[(data['financing_source'].notna())]['nonrefundable_support'].corr(data[(data['financing_source'].notna())]['ratings'])"
   ]
  },
  {
   "cell_type": "markdown",
   "metadata": {},
   "source": [
    " Есть некоторая тенденция, что для хорошей окупаемости рейтинг фильма не очень низкий. Хотя есть исключение. А также есть фильмы с довольно высоким рейтингом, но очень низкой окупаемостью. Но однозначной зависимости не наблюдается.\n",
    " \n",
    " Также нет явной зависимостью между невозвратной частью госфинансирования и рейтингом фильма.\n",
    " \n",
    "Посмотрим еще как соотносится финансовая успешность фильма с долей государственного участия."
   ]
  },
  {
   "cell_type": "code",
   "execution_count": 129,
   "metadata": {},
   "outputs": [
    {
     "data": {
      "image/png": "[encoded data removed]",
      "text/plain": [
       "<Figure size 432x288 with 1 Axes>"
      ]
     },
     "metadata": {
      "needs_background": "light"
     },
     "output_type": "display_data"
    }
   ],
   "source": [
    "data[(data['financing_source'].notna())].plot(x='share_of_gov', y='box_office',  \\\n",
    "                                              title='зависимость кассовых сборов от доли госфинансирования',kind='scatter')\n",
    "None"
   ]
  },
  {
   "cell_type": "code",
   "execution_count": 130,
   "metadata": {},
   "outputs": [
    {
     "data": {
      "text/plain": [
       "-0.08190908267681707"
      ]
     },
     "execution_count": 130,
     "metadata": {},
     "output_type": "execute_result"
    }
   ],
   "source": [
    "data[(data['financing_source'].notna())]['share_of_gov'].corr(data[(data['financing_source'].notna())]['box_office'])"
   ]
  },
  {
   "cell_type": "markdown",
   "metadata": {},
   "source": [
    "Явной зависимости также не наблюдается. Хотя тревожной тенденцией я бы считал, что выручка большого количества фильмов находится около нуля, не смотря на весьма внушительное государственное участие в некоторых проектах. Хотя есть фильмы с весьма значительной выручкой. \n",
    "\n",
    "Можно сделать вывод, что как во всяком венчурном инвестировании, заранее спргнозировать успешность фильма. \n",
    "\n",
    "Посмотрим есть ли возврат всех государственных средств, потраченных за это время, чтобы оценить насколько выгодно в целом инвестировать в фильмы."
   ]
  },
  {
   "cell_type": "code",
   "execution_count": 131,
   "metadata": {},
   "outputs": [
    {
     "data": {
      "text/plain": [
       "'21,912,821,262.78'"
      ]
     },
     "execution_count": 131,
     "metadata": {},
     "output_type": "execute_result"
    }
   ],
   "source": [
    "\n",
    "'{:,.2f}'.format((data[(data['financing_source'].notna())]['box_office'].sum() -\\\n",
    "                            data[(data['financing_source'].notna())]['refundable_support'].sum() - \\\n",
    "                            data[(data['financing_source'].notna())]['nonrefundable_support'].sum()))"
   ]
  },
  {
   "cell_type": "code",
   "execution_count": 132,
   "metadata": {},
   "outputs": [
    {
     "data": {
      "text/plain": [
       "'108.48%'"
      ]
     },
     "execution_count": 132,
     "metadata": {},
     "output_type": "execute_result"
    }
   ],
   "source": [
    "'{:,.2%}'.format((data[(data['financing_source'].notna())]['box_office'].sum() -\\\n",
    "                        data[(data['financing_source'].notna())]['refundable_support'].sum() - \\\n",
    "                        data[(data['financing_source'].notna())]['nonrefundable_support'].sum()) / \\\n",
    "                                      (data[(data['financing_source'].notna())]['refundable_support'].sum() + \\\n",
    "                                       data[(data['financing_source'].notna())]['nonrefundable_support'].sum()))"
   ]
  },
  {
   "cell_type": "markdown",
   "metadata": {},
   "source": [
    "В целом финансирование фильмов является выгодным делом. Средняя прибыльность составляет *8,5%* Возможно требуеются дополнительные критерии в момент принятия решения о финансировании, чтобы уменьшить количество неудачных проектов (с низким рейтингом и малой выручкой).\n",
    "\n",
    "В конце еще посмотрим, как зависит рейтинг фильма от его финансовой успешности и  посмотрим, как изменятся диаграммы рассеяния, если взять данные только с 2015 по 2019 года, когда данные наиболее релевантные"
   ]
  },
  {
   "cell_type": "code",
   "execution_count": 133,
   "metadata": {},
   "outputs": [
    {
     "data": {
      "image/png": "[encoded data removed]",
      "text/plain": [
       "<Figure size 432x288 with 1 Axes>"
      ]
     },
     "metadata": {
      "needs_background": "light"
     },
     "output_type": "display_data"
    }
   ],
   "source": [
    "data[(data['financing_source'].notna())].plot(x='ratings', y='box_office', kind='scatter')\n",
    "None"
   ]
  },
  {
   "cell_type": "code",
   "execution_count": 134,
   "metadata": {},
   "outputs": [
    {
     "data": {
      "image/png": "[encoded data removed]",
      "text/plain": [
       "<Figure size 432x288 with 1 Axes>"
      ]
     },
     "metadata": {
      "needs_background": "light"
     },
     "output_type": "display_data"
    }
   ],
   "source": [
    "data[(data['financing_source'].notna()) & (data['year_show'].gt(2014))]\\\n",
    "                                               .plot(x='share_of_gov', y='ratings', kind='scatter')\n",
    "None"
   ]
  },
  {
   "cell_type": "code",
   "execution_count": 135,
   "metadata": {},
   "outputs": [
    {
     "data": {
      "image/png": "[encoded data removed]",
      "text/plain": [
       "<Figure size 432x288 with 1 Axes>"
      ]
     },
     "metadata": {
      "needs_background": "light"
     },
     "output_type": "display_data"
    }
   ],
   "source": [
    "data[(data['financing_source'].notna()) & (data['year_show'].gt(2014))]\\\n",
    "                                               .plot(x='share_of_return_all', y='ratings', kind='scatter')\n",
    "None"
   ]
  },
  {
   "cell_type": "code",
   "execution_count": 136,
   "metadata": {},
   "outputs": [
    {
     "data": {
      "image/png": "[encoded data removed]",
      "text/plain": [
       "<Figure size 432x288 with 1 Axes>"
      ]
     },
     "metadata": {
      "needs_background": "light"
     },
     "output_type": "display_data"
    }
   ],
   "source": [
    "data[(data['financing_source'].notna()) & (data['year_show'].gt(2014))]\\\n",
    "                                               .plot(x='share_of_return_refundable', y='ratings', kind='scatter')\n",
    "None"
   ]
  },
  {
   "cell_type": "code",
   "execution_count": 137,
   "metadata": {},
   "outputs": [
    {
     "data": {
      "image/png": "[encoded data removed]",
      "text/plain": [
       "<Figure size 432x288 with 1 Axes>"
      ]
     },
     "metadata": {
      "needs_background": "light"
     },
     "output_type": "display_data"
    }
   ],
   "source": [
    "data[(data['financing_source'].notna()) & (data['year_show'].gt(2014))]\\\n",
    "                                               .plot(x='share_of_gov', y='box_office', kind='scatter')\n",
    "None"
   ]
  },
  {
   "cell_type": "code",
   "execution_count": 138,
   "metadata": {},
   "outputs": [
    {
     "data": {
      "image/png": "[encoded data removed]",
      "text/plain": [
       "<Figure size 432x288 with 1 Axes>"
      ]
     },
     "metadata": {
      "needs_background": "light"
     },
     "output_type": "display_data"
    }
   ],
   "source": [
    "data[(data['financing_source'].notna()) & (data['year_show'].gt(2014))]\\\n",
    "                                               .plot(x='ratings', y='box_office', kind='scatter')\n",
    "None"
   ]
  },
  {
   "cell_type": "markdown",
   "metadata": {},
   "source": [
    "Можно видеть, что если ограничить года проката фильмов, то общая картина не меняется. Пожалуй еще стоит обратить внимание на отсутствие явной корреляции между кассовым успехом фильма и его рейтингом. Явно существует некая проблема в присвоении рейтинга фильму, что не помогает получать адекватную обратную связь по госучастию в производстве фильмов."
   ]
  },
  {
   "cell_type": "markdown",
   "metadata": {},
   "source": [
    "<div class=\"alert alert-success\">\n",
    "    \n",
    "<b> Комментарий от ревьюера ✔️</b>\n",
    "    \n",
    "Интересное исследование, но если смотришь на связь количественных признаков, то можно еще посчитать корреляцию, чтобы определить силу линейной зависимости.\n",
    "    \n",
    "Думаю, тут было бы интересно чуть подробнее изучить сами фильмы. Например, можно посмотреть в каких жанрах выходили фильмы с гос.поддержкой, отличается ли рейтинг фильмов с гос.поддержкой и без нее или еще что-нибудь в таком духе.\n",
    "\n",
    "</div>"
   ]
  },
  {
   "cell_type": "markdown",
   "metadata": {
    "id": "V2gYwMcPgFyd"
   },
   "source": [
    "### Шаг 5. Напишите общий вывод"
   ]
  },
  {
   "cell_type": "markdown",
   "metadata": {
    "id": "AYRg3dzXgFye"
   },
   "source": [
    "Для анализа были получены два набора данных. В первом указана информация о названии фильма, его прокатном удостоверении, объеме государственной поддержки, бюджете фильма и т.п. Во втором наборе приведены данные об объеме кассовых сборов и номерах прокатных удостоверений.\n",
    "\n",
    "Сразу было обнаружено, что в первом наборе данных есть дублирующиеся значения в поле `puNumber`. С другой стороны в наборе данных о кассовых сборах в кинотеатрах дублирующийся номер прокатного удостоверения не встречается, поэтому проблем при объединении не должно быть и эти дубликаты не удалялись.\n",
    "\n",
    "Также сразу было обнаружено, что данные о прокате в кинотеатрах охватывает чуть менее половины всех фильмов, указанных в первом наборе данных.\n",
    "\n",
    "Также было видно что количество фильмов, имеющих господдержку и имеющих информацию о кассовых сборах, всего **10 %**.\n",
    "\n",
    "В рамках предобработки данных были произведены изменения в полях: \n",
    "- *рейтинг* (все данные приведены к числам от 0 до 10, пропуски заменены на *0*)\n",
    "- *дата начала проката* (данные приведены к формату `datetime`\n",
    "- *название студии* (пропуски заменены на значение `другое`)\n",
    "- *страна производитель* (пропуски заменены на значение `другое`, удалены пробелы в нименованиях, для стран, перечисленных через запятую, запятую заменили на дефис, как для большинства таких перечислений)\n",
    "- *тип фильма* (удалены пробелы в значениях полей)\n",
    "- *режиссер* (пропуски заменены на значение `другое`)\n",
    "- *продюсер* (пропуски заменены на значение `другое`)\n",
    "- *жанры* (пропуски заменены на значение `другое`)\n",
    "- *кассовые сборы* (пропуски заменены на значение `0`)\n",
    "- *возвратная часть господдержки* (пропуски заменены на значение `0`)\n",
    "- *невозвратная часть господдержки* (пропуски заменены на значение `0`)\n",
    "- *бюджет фильма* (значения приведены только для фильмов с господдержкой, значение *0* было заменено на сумму полей *возвратная часть господдержки* и *невозвратная часть господдержки*)\n",
    "\n",
    "\n",
    "Были выявлено, что есть фильмы, для которых указано несколько разных прокатных удостоверений. Соответственно при анализе общих кассовых сборов конкретного фильма необходимо учитывать, что информация о кассовых сборах может указываться в разных строках. Два фильма, где указано госфинансирование и при этом указано несколько прокатных удостоверений, (*Успех* и *Вторжение*) финансовые показатели указаны только для одной из дублирующихся записей.\n",
    "\n",
    "Для дальнейшего анализа были добавлены следующие столбцы:\n",
    "- *год начала проката фильма* (`year_show`)\n",
    "- *основной режиссер* (`main_director`, первый режиссер, указанный в списке режиссеров фильма)\n",
    "- *основной жанр* (`main_genre`, первый жанр, указанный в списке жанров фильма)\n",
    "- *доля государственного участия в производстве фильма* (`share_of_gov`, сумма занчений возвратной и невозвратной частей господдержки разделить на общий бюджет фильма)\n",
    "- *величина окупаемости фильма для общей суммы госфинансирования* (`share_of_return_all`, отношение кассовых сборов фильма к общей сумме господдержки)\n",
    "- *величина окупаемости фильма для везвратной части суммы госфинансирования* (`share_of_return_refundable`, отношение кассовых сборов к возвратной части господдержки)\n",
    "\n",
    "Анализ имеющихся данных выявил, что до 2015 года данные очень незначительны и их значения вызывают вопросы. Начиная с 2015 года данные становятся более-менее полными и релевантными.\n",
    "\n",
    "При анализе кассового успеха фильмов, выяснилось, что в основном самыми кассовыми фильмами являются фильмы для аудитории *\"16+\"*, а следующей по популярности являются фильмы *\"12+\"*, что может объясняться тем, что самой массовой аудиторией кинотеатров являются подростки, для которых кино становится недорогой возможностью общения. Кроме того фильмы этой категории еще интересны и взрослым, например для семейного просмотра лучше подойдет фильм этих возрастных категорий, чем категории *\"18+\"*. Наименьший кассовый успех у фильмов *\"0+\"*. Это можно объяснить как тем, что фильмы этой категории в основном демонстируют в первой половине дня, когда наполняемость залов не очень высокая и билеты в это время дешевле так и весьма незначительным количеством таких фильмов. Чтобы сделать дополнительные гипотезы, не хватает информации о проданных билетах.\n",
    "\n",
    "В *2017* году наблюдается существенное превышение выручки в категории *\"6+\"* над категорией *\"12+\"*. Дополнительный анализ по жанрам показал, что в этом году был существенный рост для жанра *\"мультфильм\"* в категории *\"6+\"* и сильная просадка выручки в категориях *\"фантастика\"* и *\"фэнтези\"* для категории *\"12+\"*.\n",
    "\n",
    "Самая популярная категория фильмов - *\"6+\". при этом количество фильмов для категорий *\"16+\" более чем в 2 раза больше. Поэтому, хотя по суммарным сборам лидируют фильмы категрии *\"16+\"*, но это происходит в основном за счет большей массовости.\n",
    "\n",
    "По жанрам либируют категории *\"фантастика\"* (если в эту категорию также отнести фильмы жанра *\"фэнтези\", то перевес будет значительный), мультфильмы и боевики. При этом фильмы категории *\"6+\" выигрывают за счет мультфильмов.\n",
    "\n",
    "И для всех категорий фильмов выделяется небольшое количество кассово успешных фильмов на фоне большого количества фильмов с относительно небольшими кассовыми сборами.\n",
    "\n",
    "**Анализ фильмов, получивших государственную поддержку**, явной зависимости рейтинга, выручки, окупаемости фильмов от величины государственной поддержки, не выявлено. Средний рейтинг фильмов, получивших госфинансирование, около 6. Однако не было выялено и зависимости кассового успеха фильма от рейтинга, что наводит на мысль, что принцип определения рейтинга может быть не совсем корректным и объективным.\n",
    "\n",
    "Анализ общей окупаемость госфинансирования показывает, что в совокупности по всем фильмам участие в проектах по производству фильмов дает прибыль *8,5%*.\n"
   ]
  },
  {
   "cell_type": "markdown",
   "metadata": {},
   "source": [
    "<div class=\"alert alert-success\">\n",
    "    \n",
    "<b> Комментарий от ревьюера ✔️</b>\n",
    "    \n",
    "Хороший вывод\n",
    "\n",
    "</div>"
   ]
  },
  {
   "cell_type": "markdown",
   "metadata": {},
   "source": [
    "<div class=\"alert alert-success\">\n",
    "    \n",
    "<b> Комментарий от ревьюера ✔️</b>\n",
    "    \n",
    "Спасибо за твою работу! Ты хорошо справился с подготовкой и анализом данных.\n",
    "    \n",
    "Осталось немного дополнить проект:\n",
    "    \n",
    "- дополнить анализ дублей в puNumber\n",
    "- определить в каком году были максимальные и минимальные сборы\n",
    "- дополнить анализ возрастных рейтингов\n",
    "\n",
    "Задавай вопросы к моим комментариям, если есть. Жду твои исправления :)\n",
    "</div>"
   ]
  },
  {
   "cell_type": "markdown",
   "metadata": {},
   "source": [
    "<div class=\"alert alert-info\">\n",
    "\n",
    "Спасибо за комментарии и дополнения. Это помогает лучше освоить инструментарий. \n",
    "    \n",
    "Знаю, что в интерфейсе тетради можно открыть слева панель навигации по тетради, но как это сделать не соображу. тогда просто очень наглядно видно, где именно находится курсор и какая часть тетради выполняется (удобно, когда запускаешь операцию \"выполнить все\").\n",
    "\n",
    "</div>"
   ]
  },
  {
   "cell_type": "markdown",
   "metadata": {},
   "source": [
    "<div class=\"alert alert-success\">\n",
    "<b> Комментарий от ревьюера 2 ✔️</b>\n",
    "\n",
    "Про навигацию посмотрии в тренажере \"Полезные инструкции для учёбы\" - \"Оформление проекта\" - \"Изменения в Jupyter: автоматическое оглавление и горячие клавиши\"\n",
    "    \n",
    "Спасибо, что учел мои комментарии. Надеюсь, эта работа была полезна для тебя. Я принимаю проект и желаю удачи в прохождении курса!\n",
    "\n",
    "</div>"
   ]
  }
 ],
 "metadata": {
  "ExecuteTimeLog": [
   {
    "duration": 537,
    "start_time": "2021-07-07T10:12:08.634Z"
   },
   {
    "duration": 206,
    "start_time": "2021-07-07T10:12:30.191Z"
   },
   {
    "duration": 227,
    "start_time": "2021-07-07T10:12:33.078Z"
   },
   {
    "duration": 153,
    "start_time": "2021-07-07T10:13:42.146Z"
   },
   {
    "duration": 233,
    "start_time": "2021-07-07T10:30:09.252Z"
   },
   {
    "duration": 19,
    "start_time": "2021-07-07T10:30:15.577Z"
   },
   {
    "duration": 18,
    "start_time": "2021-07-07T10:30:57.348Z"
   },
   {
    "duration": 19,
    "start_time": "2021-07-07T10:31:17.452Z"
   },
   {
    "duration": 21,
    "start_time": "2021-07-07T10:31:32.227Z"
   },
   {
    "duration": 27,
    "start_time": "2021-07-07T10:32:06.588Z"
   },
   {
    "duration": 23,
    "start_time": "2021-07-07T10:32:43.645Z"
   },
   {
    "duration": 24,
    "start_time": "2021-07-07T10:33:06.948Z"
   },
   {
    "duration": 7,
    "start_time": "2021-07-07T10:33:28.558Z"
   },
   {
    "duration": 23,
    "start_time": "2021-07-07T10:33:43.761Z"
   },
   {
    "duration": 28,
    "start_time": "2021-07-07T10:34:13.466Z"
   },
   {
    "duration": 23,
    "start_time": "2021-07-07T10:35:56.187Z"
   },
   {
    "duration": 6,
    "start_time": "2021-07-07T10:36:48.182Z"
   },
   {
    "duration": 14,
    "start_time": "2021-07-07T10:37:49.641Z"
   },
   {
    "duration": 6,
    "start_time": "2021-07-07T10:38:06.694Z"
   },
   {
    "duration": 6,
    "start_time": "2021-07-07T10:38:13.493Z"
   },
   {
    "duration": 19,
    "start_time": "2021-07-07T10:38:44.056Z"
   },
   {
    "duration": 186,
    "start_time": "2021-07-07T10:48:35.618Z"
   },
   {
    "duration": 24,
    "start_time": "2021-07-07T10:48:51.498Z"
   },
   {
    "duration": 20,
    "start_time": "2021-07-07T10:48:59.415Z"
   },
   {
    "duration": 20,
    "start_time": "2021-07-07T10:53:02.195Z"
   },
   {
    "duration": 188,
    "start_time": "2021-07-07T10:54:40.486Z"
   },
   {
    "duration": 115,
    "start_time": "2021-07-07T10:54:52.552Z"
   },
   {
    "duration": 214,
    "start_time": "2021-07-07T10:54:56.354Z"
   },
   {
    "duration": 47,
    "start_time": "2021-07-07T10:54:58.282Z"
   },
   {
    "duration": 217,
    "start_time": "2021-07-07T10:59:16.075Z"
   },
   {
    "duration": 51,
    "start_time": "2021-07-07T10:59:16.243Z"
   },
   {
    "duration": 578,
    "start_time": "2021-07-07T10:59:18.774Z"
   },
   {
    "duration": 161,
    "start_time": "2021-07-07T10:59:21.238Z"
   },
   {
    "duration": 59,
    "start_time": "2021-07-07T10:59:21.453Z"
   },
   {
    "duration": 3,
    "start_time": "2021-07-07T11:02:10.786Z"
   },
   {
    "duration": 13,
    "start_time": "2021-07-07T11:07:07.722Z"
   },
   {
    "duration": 26,
    "start_time": "2021-07-07T11:07:17.958Z"
   },
   {
    "duration": 22,
    "start_time": "2021-07-07T11:08:17.939Z"
   },
   {
    "duration": 212,
    "start_time": "2021-07-07T11:08:19.665Z"
   },
   {
    "duration": 21,
    "start_time": "2021-07-07T11:08:29.945Z"
   },
   {
    "duration": 31,
    "start_time": "2021-07-07T11:08:38.899Z"
   },
   {
    "duration": 23,
    "start_time": "2021-07-07T11:08:54.527Z"
   },
   {
    "duration": 8,
    "start_time": "2021-07-07T11:18:55.974Z"
   },
   {
    "duration": 7,
    "start_time": "2021-07-07T11:19:03.639Z"
   },
   {
    "duration": 7,
    "start_time": "2021-07-07T11:19:06.444Z"
   },
   {
    "duration": 578,
    "start_time": "2021-07-07T12:09:59.576Z"
   },
   {
    "duration": 195,
    "start_time": "2021-07-07T12:10:00.156Z"
   },
   {
    "duration": 115,
    "start_time": "2021-07-07T12:10:00.353Z"
   },
   {
    "duration": 3,
    "start_time": "2021-07-07T12:10:00.470Z"
   },
   {
    "duration": 32,
    "start_time": "2021-07-07T12:10:00.474Z"
   },
   {
    "duration": 23,
    "start_time": "2021-07-07T12:10:00.508Z"
   },
   {
    "duration": 19,
    "start_time": "2021-07-07T12:10:00.533Z"
   },
   {
    "duration": 44,
    "start_time": "2021-07-07T12:10:00.553Z"
   },
   {
    "duration": 7,
    "start_time": "2021-07-07T12:10:00.600Z"
   },
   {
    "duration": 7,
    "start_time": "2021-07-07T12:19:45.761Z"
   },
   {
    "duration": 21,
    "start_time": "2021-07-07T12:21:35.482Z"
   },
   {
    "duration": 21,
    "start_time": "2021-07-07T12:29:23.569Z"
   },
   {
    "duration": 525,
    "start_time": "2021-07-07T12:29:44.542Z"
   },
   {
    "duration": 214,
    "start_time": "2021-07-07T12:29:45.069Z"
   },
   {
    "duration": 92,
    "start_time": "2021-07-07T12:29:45.285Z"
   },
   {
    "duration": 3,
    "start_time": "2021-07-07T12:29:45.379Z"
   },
   {
    "duration": 28,
    "start_time": "2021-07-07T12:29:45.384Z"
   },
   {
    "duration": 23,
    "start_time": "2021-07-07T12:29:45.413Z"
   },
   {
    "duration": 21,
    "start_time": "2021-07-07T12:29:45.437Z"
   },
   {
    "duration": 41,
    "start_time": "2021-07-07T12:29:45.460Z"
   },
   {
    "duration": 7,
    "start_time": "2021-07-07T12:29:45.502Z"
   },
   {
    "duration": 20,
    "start_time": "2021-07-07T12:29:45.511Z"
   },
   {
    "duration": 12,
    "start_time": "2021-07-07T12:34:02.800Z"
   },
   {
    "duration": 7,
    "start_time": "2021-07-07T12:35:10.479Z"
   },
   {
    "duration": 8,
    "start_time": "2021-07-07T12:35:22.440Z"
   },
   {
    "duration": 6,
    "start_time": "2021-07-07T12:35:35.649Z"
   },
   {
    "duration": 6,
    "start_time": "2021-07-07T12:35:43.107Z"
   },
   {
    "duration": 22,
    "start_time": "2021-07-07T12:38:03.029Z"
   },
   {
    "duration": 10,
    "start_time": "2021-07-07T12:38:06.592Z"
   },
   {
    "duration": 563,
    "start_time": "2021-07-07T12:38:46.493Z"
   },
   {
    "duration": 265,
    "start_time": "2021-07-07T12:38:47.058Z"
   },
   {
    "duration": 94,
    "start_time": "2021-07-07T12:38:47.325Z"
   },
   {
    "duration": 3,
    "start_time": "2021-07-07T12:38:47.422Z"
   },
   {
    "duration": 30,
    "start_time": "2021-07-07T12:38:47.427Z"
   },
   {
    "duration": 16,
    "start_time": "2021-07-07T12:38:53.305Z"
   },
   {
    "duration": 10,
    "start_time": "2021-07-07T12:38:53.499Z"
   },
   {
    "duration": 8,
    "start_time": "2021-07-07T12:39:48.161Z"
   },
   {
    "duration": 27,
    "start_time": "2021-07-07T12:41:17.629Z"
   },
   {
    "duration": 17,
    "start_time": "2021-07-07T12:41:17.867Z"
   },
   {
    "duration": 21,
    "start_time": "2021-07-07T12:41:19.310Z"
   },
   {
    "duration": 7,
    "start_time": "2021-07-07T12:41:19.544Z"
   },
   {
    "duration": 20,
    "start_time": "2021-07-07T12:41:20.504Z"
   },
   {
    "duration": 554,
    "start_time": "2021-07-07T12:56:23.696Z"
   },
   {
    "duration": 200,
    "start_time": "2021-07-07T12:56:25.234Z"
   },
   {
    "duration": 119,
    "start_time": "2021-07-07T12:56:25.480Z"
   },
   {
    "duration": 4,
    "start_time": "2021-07-07T12:56:25.762Z"
   },
   {
    "duration": 26,
    "start_time": "2021-07-07T12:56:27.172Z"
   },
   {
    "duration": 12,
    "start_time": "2021-07-07T12:56:29.051Z"
   },
   {
    "duration": 10,
    "start_time": "2021-07-07T12:56:29.291Z"
   },
   {
    "duration": 8,
    "start_time": "2021-07-07T12:56:29.623Z"
   },
   {
    "duration": 28,
    "start_time": "2021-07-07T12:56:32.137Z"
   },
   {
    "duration": 19,
    "start_time": "2021-07-07T12:56:39.785Z"
   },
   {
    "duration": 20,
    "start_time": "2021-07-07T12:56:44.297Z"
   },
   {
    "duration": 7,
    "start_time": "2021-07-07T12:56:45.392Z"
   },
   {
    "duration": 23,
    "start_time": "2021-07-07T12:56:46.615Z"
   },
   {
    "duration": 4,
    "start_time": "2021-07-07T12:57:06.625Z"
   },
   {
    "duration": 32,
    "start_time": "2021-07-07T12:57:36.690Z"
   },
   {
    "duration": 18,
    "start_time": "2021-07-07T12:58:00.149Z"
   },
   {
    "duration": 15,
    "start_time": "2021-07-07T12:59:16.793Z"
   },
   {
    "duration": 7,
    "start_time": "2021-07-07T13:19:22.624Z"
   },
   {
    "duration": 6,
    "start_time": "2021-07-07T14:17:33.527Z"
   },
   {
    "duration": 9,
    "start_time": "2021-07-07T14:17:48.409Z"
   },
   {
    "duration": 8,
    "start_time": "2021-07-07T14:20:13.060Z"
   },
   {
    "duration": 8,
    "start_time": "2021-07-07T14:20:37.957Z"
   },
   {
    "duration": 8,
    "start_time": "2021-07-07T14:20:47.470Z"
   },
   {
    "duration": 9,
    "start_time": "2021-07-07T14:20:54.503Z"
   },
   {
    "duration": 10,
    "start_time": "2021-07-07T14:28:57.763Z"
   },
   {
    "duration": 3,
    "start_time": "2021-07-07T14:30:23.377Z"
   },
   {
    "duration": 3,
    "start_time": "2021-07-07T14:30:36.489Z"
   },
   {
    "duration": 103,
    "start_time": "2021-07-07T14:30:52.351Z"
   },
   {
    "duration": 8,
    "start_time": "2021-07-07T14:30:54.763Z"
   },
   {
    "duration": 8,
    "start_time": "2021-07-07T14:31:29.301Z"
   },
   {
    "duration": 13,
    "start_time": "2021-07-07T14:31:44.516Z"
   },
   {
    "duration": 7,
    "start_time": "2021-07-07T14:33:10.972Z"
   },
   {
    "duration": 11,
    "start_time": "2021-07-07T14:33:27.780Z"
   },
   {
    "duration": 8,
    "start_time": "2021-07-07T14:34:44.588Z"
   },
   {
    "duration": 57,
    "start_time": "2021-07-07T14:35:59.042Z"
   },
   {
    "duration": 3,
    "start_time": "2021-07-07T14:36:28.168Z"
   },
   {
    "duration": 5,
    "start_time": "2021-07-07T14:36:46.254Z"
   },
   {
    "duration": 4,
    "start_time": "2021-07-07T14:36:52.714Z"
   },
   {
    "duration": 3,
    "start_time": "2021-07-07T14:36:56.612Z"
   },
   {
    "duration": 4,
    "start_time": "2021-07-07T14:36:57.049Z"
   },
   {
    "duration": 3,
    "start_time": "2021-07-07T14:39:21.214Z"
   },
   {
    "duration": 7,
    "start_time": "2021-07-07T14:39:52.406Z"
   },
   {
    "duration": 11,
    "start_time": "2021-07-07T14:39:58.576Z"
   },
   {
    "duration": 9,
    "start_time": "2021-07-07T14:40:26.301Z"
   },
   {
    "duration": 10,
    "start_time": "2021-07-07T14:40:31.704Z"
   },
   {
    "duration": 11,
    "start_time": "2021-07-07T14:40:36.249Z"
   },
   {
    "duration": 10,
    "start_time": "2021-07-07T14:40:39.783Z"
   },
   {
    "duration": 9,
    "start_time": "2021-07-07T14:40:48.558Z"
   },
   {
    "duration": 10,
    "start_time": "2021-07-07T14:40:57.143Z"
   },
   {
    "duration": 9,
    "start_time": "2021-07-07T14:41:06.074Z"
   },
   {
    "duration": 4324,
    "start_time": "2021-07-07T14:41:22.004Z"
   },
   {
    "duration": 11,
    "start_time": "2021-07-07T14:41:33.392Z"
   },
   {
    "duration": 9,
    "start_time": "2021-07-07T14:41:39.288Z"
   },
   {
    "duration": 569,
    "start_time": "2021-07-07T14:42:14.387Z"
   },
   {
    "duration": 197,
    "start_time": "2021-07-07T14:42:14.959Z"
   },
   {
    "duration": 84,
    "start_time": "2021-07-07T14:42:16.052Z"
   },
   {
    "duration": 4,
    "start_time": "2021-07-07T14:42:16.900Z"
   },
   {
    "duration": 27,
    "start_time": "2021-07-07T14:42:19.898Z"
   },
   {
    "duration": 12,
    "start_time": "2021-07-07T14:42:21.577Z"
   },
   {
    "duration": 9,
    "start_time": "2021-07-07T14:42:21.813Z"
   },
   {
    "duration": 9,
    "start_time": "2021-07-07T14:42:22.569Z"
   },
   {
    "duration": 29,
    "start_time": "2021-07-07T14:42:25.837Z"
   },
   {
    "duration": 20,
    "start_time": "2021-07-07T14:42:27.003Z"
   },
   {
    "duration": 21,
    "start_time": "2021-07-07T14:42:28.767Z"
   },
   {
    "duration": 7,
    "start_time": "2021-07-07T14:42:29.838Z"
   },
   {
    "duration": 4,
    "start_time": "2021-07-07T14:43:25.493Z"
   },
   {
    "duration": 7,
    "start_time": "2021-07-07T14:43:26.573Z"
   },
   {
    "duration": 10,
    "start_time": "2021-07-07T14:43:31.639Z"
   },
   {
    "duration": 9,
    "start_time": "2021-07-07T14:43:32.046Z"
   },
   {
    "duration": 10,
    "start_time": "2021-07-07T14:43:33.301Z"
   },
   {
    "duration": 12,
    "start_time": "2021-07-07T14:43:33.658Z"
   },
   {
    "duration": 8,
    "start_time": "2021-07-07T14:43:34.552Z"
   },
   {
    "duration": 9,
    "start_time": "2021-07-07T14:43:35.058Z"
   },
   {
    "duration": 12,
    "start_time": "2021-07-07T14:43:35.914Z"
   },
   {
    "duration": 17,
    "start_time": "2021-07-07T14:45:34.368Z"
   },
   {
    "duration": 512,
    "start_time": "2021-07-07T14:51:58.236Z"
   },
   {
    "duration": 223,
    "start_time": "2021-07-07T14:51:58.750Z"
   },
   {
    "duration": 93,
    "start_time": "2021-07-07T14:51:58.977Z"
   },
   {
    "duration": 4,
    "start_time": "2021-07-07T14:51:59.071Z"
   },
   {
    "duration": 37,
    "start_time": "2021-07-07T14:51:59.077Z"
   },
   {
    "duration": 18,
    "start_time": "2021-07-07T14:51:59.116Z"
   },
   {
    "duration": 10,
    "start_time": "2021-07-07T14:51:59.137Z"
   },
   {
    "duration": 8,
    "start_time": "2021-07-07T14:51:59.149Z"
   },
   {
    "duration": 54,
    "start_time": "2021-07-07T14:51:59.158Z"
   },
   {
    "duration": 18,
    "start_time": "2021-07-07T14:51:59.213Z"
   },
   {
    "duration": 22,
    "start_time": "2021-07-07T14:51:59.232Z"
   },
   {
    "duration": 36,
    "start_time": "2021-07-07T14:51:59.255Z"
   },
   {
    "duration": 7,
    "start_time": "2021-07-07T14:51:59.293Z"
   },
   {
    "duration": 10,
    "start_time": "2021-07-07T14:51:59.302Z"
   },
   {
    "duration": 9,
    "start_time": "2021-07-07T14:51:59.313Z"
   },
   {
    "duration": 11,
    "start_time": "2021-07-07T14:51:59.324Z"
   },
   {
    "duration": 8,
    "start_time": "2021-07-07T14:51:59.337Z"
   },
   {
    "duration": 46,
    "start_time": "2021-07-07T14:51:59.347Z"
   },
   {
    "duration": 22,
    "start_time": "2021-07-07T14:51:59.395Z"
   },
   {
    "duration": 24,
    "start_time": "2021-07-07T14:57:32.911Z"
   },
   {
    "duration": 7,
    "start_time": "2021-07-07T14:58:22.070Z"
   },
   {
    "duration": 4,
    "start_time": "2021-07-07T14:59:11.239Z"
   },
   {
    "duration": 25,
    "start_time": "2021-07-07T15:07:22.208Z"
   },
   {
    "duration": 16,
    "start_time": "2021-07-07T15:08:25.560Z"
   },
   {
    "duration": 15,
    "start_time": "2021-07-07T15:08:40.647Z"
   },
   {
    "duration": 14,
    "start_time": "2021-07-07T15:08:46.669Z"
   },
   {
    "duration": 533,
    "start_time": "2021-07-07T15:18:07.440Z"
   },
   {
    "duration": 173,
    "start_time": "2021-07-07T15:18:07.974Z"
   },
   {
    "duration": 84,
    "start_time": "2021-07-07T15:18:08.149Z"
   },
   {
    "duration": 3,
    "start_time": "2021-07-07T15:18:08.235Z"
   },
   {
    "duration": 30,
    "start_time": "2021-07-07T15:18:08.240Z"
   },
   {
    "duration": 22,
    "start_time": "2021-07-07T15:18:08.272Z"
   },
   {
    "duration": 11,
    "start_time": "2021-07-07T15:18:08.295Z"
   },
   {
    "duration": 11,
    "start_time": "2021-07-07T15:18:08.309Z"
   },
   {
    "duration": 40,
    "start_time": "2021-07-07T15:18:08.322Z"
   },
   {
    "duration": 42,
    "start_time": "2021-07-07T15:18:08.364Z"
   },
   {
    "duration": 22,
    "start_time": "2021-07-07T15:18:08.408Z"
   },
   {
    "duration": 5,
    "start_time": "2021-07-07T15:18:08.432Z"
   },
   {
    "duration": 13,
    "start_time": "2021-07-07T15:18:08.439Z"
   },
   {
    "duration": 9,
    "start_time": "2021-07-07T15:18:08.454Z"
   },
   {
    "duration": 32,
    "start_time": "2021-07-07T15:18:08.465Z"
   },
   {
    "duration": 10,
    "start_time": "2021-07-07T15:18:08.501Z"
   },
   {
    "duration": 7,
    "start_time": "2021-07-07T15:18:08.513Z"
   },
   {
    "duration": 11,
    "start_time": "2021-07-07T15:18:08.521Z"
   },
   {
    "duration": 17,
    "start_time": "2021-07-07T15:18:08.534Z"
   },
   {
    "duration": 44,
    "start_time": "2021-07-07T15:18:08.553Z"
   },
   {
    "duration": 22,
    "start_time": "2021-07-07T15:18:08.599Z"
   },
   {
    "duration": 61,
    "start_time": "2021-07-07T15:18:08.622Z"
   },
   {
    "duration": 7,
    "start_time": "2021-07-07T15:18:39.457Z"
   },
   {
    "duration": 5,
    "start_time": "2021-07-07T16:05:17.020Z"
   },
   {
    "duration": 5,
    "start_time": "2021-07-07T16:51:28.794Z"
   },
   {
    "duration": 546,
    "start_time": "2021-07-07T16:52:26.306Z"
   },
   {
    "duration": 203,
    "start_time": "2021-07-07T16:52:27.523Z"
   },
   {
    "duration": 85,
    "start_time": "2021-07-07T16:52:27.736Z"
   },
   {
    "duration": 4,
    "start_time": "2021-07-07T16:52:27.899Z"
   },
   {
    "duration": 25,
    "start_time": "2021-07-07T16:52:28.674Z"
   },
   {
    "duration": 8,
    "start_time": "2021-07-07T16:52:32.956Z"
   },
   {
    "duration": 18,
    "start_time": "2021-07-07T16:52:35.616Z"
   },
   {
    "duration": 6,
    "start_time": "2021-07-07T16:52:36.913Z"
   },
   {
    "duration": 11,
    "start_time": "2021-07-07T16:52:40.258Z"
   },
   {
    "duration": 10,
    "start_time": "2021-07-07T16:52:46.251Z"
   },
   {
    "duration": 8,
    "start_time": "2021-07-07T16:52:47.182Z"
   },
   {
    "duration": 27,
    "start_time": "2021-07-07T16:53:20.391Z"
   },
   {
    "duration": 20,
    "start_time": "2021-07-07T16:53:22.022Z"
   },
   {
    "duration": 23,
    "start_time": "2021-07-07T16:53:23.690Z"
   },
   {
    "duration": 8,
    "start_time": "2021-07-07T16:53:24.261Z"
   },
   {
    "duration": 4,
    "start_time": "2021-07-07T16:53:38.733Z"
   },
   {
    "duration": 7,
    "start_time": "2021-07-07T16:53:40.445Z"
   },
   {
    "duration": 11,
    "start_time": "2021-07-07T16:53:41.348Z"
   },
   {
    "duration": 13,
    "start_time": "2021-07-07T16:53:45.250Z"
   },
   {
    "duration": 12,
    "start_time": "2021-07-07T16:53:45.467Z"
   },
   {
    "duration": 4,
    "start_time": "2021-07-07T16:55:32.704Z"
   },
   {
    "duration": 12,
    "start_time": "2021-07-07T16:55:49.012Z"
   },
   {
    "duration": 18,
    "start_time": "2021-07-07T16:55:49.547Z"
   },
   {
    "duration": 611,
    "start_time": "2021-07-07T16:58:35.156Z"
   },
   {
    "duration": 200,
    "start_time": "2021-07-07T16:58:35.770Z"
   },
   {
    "duration": 86,
    "start_time": "2021-07-07T16:58:35.972Z"
   },
   {
    "duration": 3,
    "start_time": "2021-07-07T16:58:36.060Z"
   },
   {
    "duration": 27,
    "start_time": "2021-07-07T16:58:36.065Z"
   },
   {
    "duration": 8,
    "start_time": "2021-07-07T16:58:36.094Z"
   },
   {
    "duration": 17,
    "start_time": "2021-07-07T16:58:36.103Z"
   },
   {
    "duration": 5,
    "start_time": "2021-07-07T16:58:36.123Z"
   },
   {
    "duration": 11,
    "start_time": "2021-07-07T16:58:36.130Z"
   },
   {
    "duration": 7,
    "start_time": "2021-07-07T16:58:36.143Z"
   },
   {
    "duration": 37,
    "start_time": "2021-07-07T16:58:36.152Z"
   },
   {
    "duration": 27,
    "start_time": "2021-07-07T16:58:36.191Z"
   },
   {
    "duration": 19,
    "start_time": "2021-07-07T16:58:36.219Z"
   },
   {
    "duration": 49,
    "start_time": "2021-07-07T16:58:36.240Z"
   },
   {
    "duration": 6,
    "start_time": "2021-07-07T16:58:36.291Z"
   },
   {
    "duration": 3,
    "start_time": "2021-07-07T16:58:36.299Z"
   },
   {
    "duration": 13,
    "start_time": "2021-07-07T16:58:36.304Z"
   },
   {
    "duration": 10,
    "start_time": "2021-07-07T16:58:36.319Z"
   },
   {
    "duration": 10,
    "start_time": "2021-07-07T16:58:36.331Z"
   },
   {
    "duration": 44,
    "start_time": "2021-07-07T16:58:36.343Z"
   },
   {
    "duration": 4,
    "start_time": "2021-07-07T16:58:36.388Z"
   },
   {
    "duration": 13,
    "start_time": "2021-07-07T16:58:36.394Z"
   },
   {
    "duration": 16,
    "start_time": "2021-07-07T16:58:36.410Z"
   },
   {
    "duration": 8,
    "start_time": "2021-07-07T17:02:31.629Z"
   },
   {
    "duration": 8,
    "start_time": "2021-07-07T17:02:34.308Z"
   },
   {
    "duration": 6,
    "start_time": "2021-07-07T17:05:13.483Z"
   },
   {
    "duration": 17,
    "start_time": "2021-07-07T17:05:20.606Z"
   },
   {
    "duration": 7,
    "start_time": "2021-07-07T17:05:34.638Z"
   },
   {
    "duration": 3,
    "start_time": "2021-07-07T17:06:31.883Z"
   },
   {
    "duration": 570,
    "start_time": "2021-07-07T17:06:37.165Z"
   },
   {
    "duration": 174,
    "start_time": "2021-07-07T17:06:37.737Z"
   },
   {
    "duration": 47,
    "start_time": "2021-07-07T17:06:37.913Z"
   },
   {
    "duration": 3,
    "start_time": "2021-07-07T17:06:37.962Z"
   },
   {
    "duration": 27,
    "start_time": "2021-07-07T17:06:37.967Z"
   },
   {
    "duration": 7,
    "start_time": "2021-07-07T17:06:37.996Z"
   },
   {
    "duration": 16,
    "start_time": "2021-07-07T17:06:38.005Z"
   },
   {
    "duration": 6,
    "start_time": "2021-07-07T17:06:38.024Z"
   },
   {
    "duration": 12,
    "start_time": "2021-07-07T17:06:38.031Z"
   },
   {
    "duration": 41,
    "start_time": "2021-07-07T17:06:38.045Z"
   },
   {
    "duration": 8,
    "start_time": "2021-07-07T17:06:38.088Z"
   },
   {
    "duration": 26,
    "start_time": "2021-07-07T17:06:38.098Z"
   },
   {
    "duration": 17,
    "start_time": "2021-07-07T17:06:38.126Z"
   },
   {
    "duration": 43,
    "start_time": "2021-07-07T17:06:38.144Z"
   },
   {
    "duration": 6,
    "start_time": "2021-07-07T17:06:38.188Z"
   },
   {
    "duration": 5,
    "start_time": "2021-07-07T17:06:38.195Z"
   },
   {
    "duration": 9,
    "start_time": "2021-07-07T17:06:38.201Z"
   },
   {
    "duration": 12,
    "start_time": "2021-07-07T17:06:38.212Z"
   },
   {
    "duration": 11,
    "start_time": "2021-07-07T17:06:38.226Z"
   },
   {
    "duration": 47,
    "start_time": "2021-07-07T17:06:38.239Z"
   },
   {
    "duration": 4,
    "start_time": "2021-07-07T17:06:38.288Z"
   },
   {
    "duration": 13,
    "start_time": "2021-07-07T17:06:38.293Z"
   },
   {
    "duration": 5,
    "start_time": "2021-07-07T17:06:38.309Z"
   },
   {
    "duration": 18,
    "start_time": "2021-07-07T17:06:38.325Z"
   },
   {
    "duration": 20,
    "start_time": "2021-07-07T17:07:02.805Z"
   },
   {
    "duration": 19,
    "start_time": "2021-07-07T17:07:08.527Z"
   },
   {
    "duration": 19,
    "start_time": "2021-07-07T17:07:12.758Z"
   },
   {
    "duration": 22,
    "start_time": "2021-07-07T17:07:17.497Z"
   },
   {
    "duration": 19,
    "start_time": "2021-07-07T17:07:19.645Z"
   },
   {
    "duration": 10,
    "start_time": "2021-07-07T17:07:34.239Z"
   },
   {
    "duration": 17,
    "start_time": "2021-07-07T17:07:54.144Z"
   },
   {
    "duration": 14,
    "start_time": "2021-07-07T17:08:14.357Z"
   },
   {
    "duration": 616,
    "start_time": "2021-07-07T17:08:45.254Z"
   },
   {
    "duration": 178,
    "start_time": "2021-07-07T17:08:45.872Z"
   },
   {
    "duration": 60,
    "start_time": "2021-07-07T17:08:46.054Z"
   },
   {
    "duration": 3,
    "start_time": "2021-07-07T17:08:46.116Z"
   },
   {
    "duration": 26,
    "start_time": "2021-07-07T17:08:46.121Z"
   },
   {
    "duration": 7,
    "start_time": "2021-07-07T17:08:46.149Z"
   },
   {
    "duration": 17,
    "start_time": "2021-07-07T17:08:46.158Z"
   },
   {
    "duration": 14,
    "start_time": "2021-07-07T17:08:46.176Z"
   },
   {
    "duration": 17,
    "start_time": "2021-07-07T17:08:46.193Z"
   },
   {
    "duration": 9,
    "start_time": "2021-07-07T17:08:46.211Z"
   },
   {
    "duration": 21,
    "start_time": "2021-07-07T17:08:46.221Z"
   },
   {
    "duration": 49,
    "start_time": "2021-07-07T17:08:46.244Z"
   },
   {
    "duration": 24,
    "start_time": "2021-07-07T17:08:46.295Z"
   },
   {
    "duration": 22,
    "start_time": "2021-07-07T17:08:46.321Z"
   },
   {
    "duration": 6,
    "start_time": "2021-07-07T17:08:46.345Z"
   },
   {
    "duration": 5,
    "start_time": "2021-07-07T17:08:46.353Z"
   },
   {
    "duration": 13,
    "start_time": "2021-07-07T17:08:46.386Z"
   },
   {
    "duration": 12,
    "start_time": "2021-07-07T17:08:46.402Z"
   },
   {
    "duration": 10,
    "start_time": "2021-07-07T17:08:46.415Z"
   },
   {
    "duration": 7,
    "start_time": "2021-07-07T17:08:46.427Z"
   },
   {
    "duration": 8,
    "start_time": "2021-07-07T17:08:46.435Z"
   },
   {
    "duration": 68,
    "start_time": "2021-07-07T17:08:46.446Z"
   },
   {
    "duration": 13,
    "start_time": "2021-07-07T17:08:46.516Z"
   },
   {
    "duration": 78,
    "start_time": "2021-07-07T17:08:46.530Z"
   },
   {
    "duration": 40,
    "start_time": "2021-07-07T17:09:08.185Z"
   },
   {
    "duration": 16,
    "start_time": "2021-07-07T17:09:19.324Z"
   },
   {
    "duration": 21,
    "start_time": "2021-07-07T17:09:23.290Z"
   },
   {
    "duration": 13,
    "start_time": "2021-07-07T17:09:54.812Z"
   },
   {
    "duration": 13,
    "start_time": "2021-07-07T17:10:02.039Z"
   },
   {
    "duration": 10,
    "start_time": "2021-07-07T17:10:29.632Z"
   },
   {
    "duration": 13,
    "start_time": "2021-07-07T17:10:52.372Z"
   },
   {
    "duration": 13,
    "start_time": "2021-07-07T17:11:17.270Z"
   },
   {
    "duration": 13,
    "start_time": "2021-07-07T17:14:59.284Z"
   },
   {
    "duration": 547,
    "start_time": "2021-07-07T17:18:52.403Z"
   },
   {
    "duration": 163,
    "start_time": "2021-07-07T17:18:52.952Z"
   },
   {
    "duration": 44,
    "start_time": "2021-07-07T17:18:53.117Z"
   },
   {
    "duration": 3,
    "start_time": "2021-07-07T17:18:53.162Z"
   },
   {
    "duration": 26,
    "start_time": "2021-07-07T17:18:53.167Z"
   },
   {
    "duration": 6,
    "start_time": "2021-07-07T17:18:53.195Z"
   },
   {
    "duration": 15,
    "start_time": "2021-07-07T17:18:53.203Z"
   },
   {
    "duration": 5,
    "start_time": "2021-07-07T17:18:53.220Z"
   },
   {
    "duration": 11,
    "start_time": "2021-07-07T17:18:53.228Z"
   },
   {
    "duration": 9,
    "start_time": "2021-07-07T17:18:53.241Z"
   },
   {
    "duration": 41,
    "start_time": "2021-07-07T17:18:53.252Z"
   },
   {
    "duration": 33,
    "start_time": "2021-07-07T17:18:53.295Z"
   },
   {
    "duration": 19,
    "start_time": "2021-07-07T17:18:53.330Z"
   },
   {
    "duration": 49,
    "start_time": "2021-07-07T17:18:53.350Z"
   },
   {
    "duration": 5,
    "start_time": "2021-07-07T17:18:53.401Z"
   },
   {
    "duration": 5,
    "start_time": "2021-07-07T17:18:53.408Z"
   },
   {
    "duration": 11,
    "start_time": "2021-07-07T17:18:53.414Z"
   },
   {
    "duration": 9,
    "start_time": "2021-07-07T17:18:53.427Z"
   },
   {
    "duration": 10,
    "start_time": "2021-07-07T17:18:53.437Z"
   },
   {
    "duration": 39,
    "start_time": "2021-07-07T17:18:53.448Z"
   },
   {
    "duration": 26,
    "start_time": "2021-07-07T17:18:55.799Z"
   },
   {
    "duration": 598,
    "start_time": "2021-07-07T17:20:17.862Z"
   },
   {
    "duration": 161,
    "start_time": "2021-07-07T17:20:18.462Z"
   },
   {
    "duration": 45,
    "start_time": "2021-07-07T17:20:18.626Z"
   },
   {
    "duration": 4,
    "start_time": "2021-07-07T17:20:18.673Z"
   },
   {
    "duration": 38,
    "start_time": "2021-07-07T17:20:26.877Z"
   },
   {
    "duration": 7,
    "start_time": "2021-07-07T17:20:37.405Z"
   },
   {
    "duration": 19,
    "start_time": "2021-07-07T17:20:51.534Z"
   },
   {
    "duration": 5,
    "start_time": "2021-07-07T17:20:57.228Z"
   },
   {
    "duration": 7,
    "start_time": "2021-07-07T17:21:08.235Z"
   },
   {
    "duration": 19,
    "start_time": "2021-07-07T17:21:42.158Z"
   },
   {
    "duration": 14,
    "start_time": "2021-07-07T17:21:50.225Z"
   },
   {
    "duration": 22,
    "start_time": "2021-07-07T17:22:54.104Z"
   },
   {
    "duration": 5,
    "start_time": "2021-07-07T17:22:56.371Z"
   },
   {
    "duration": 14,
    "start_time": "2021-07-07T17:22:58.316Z"
   },
   {
    "duration": 5,
    "start_time": "2021-07-07T17:22:58.493Z"
   },
   {
    "duration": 35,
    "start_time": "2021-07-07T17:22:59.666Z"
   },
   {
    "duration": 6,
    "start_time": "2021-07-07T17:23:02.410Z"
   },
   {
    "duration": 611,
    "start_time": "2021-07-07T17:24:59.664Z"
   },
   {
    "duration": 178,
    "start_time": "2021-07-07T17:25:01.945Z"
   },
   {
    "duration": 47,
    "start_time": "2021-07-07T17:25:02.125Z"
   },
   {
    "duration": 2,
    "start_time": "2021-07-07T17:25:07.903Z"
   },
   {
    "duration": 254,
    "start_time": "2021-07-07T17:25:08.232Z"
   },
   {
    "duration": 182,
    "start_time": "2021-07-07T17:25:08.671Z"
   },
   {
    "duration": 6,
    "start_time": "2021-07-07T17:25:13.104Z"
   },
   {
    "duration": 36,
    "start_time": "2021-07-07T17:25:13.662Z"
   },
   {
    "duration": 7,
    "start_time": "2021-07-07T17:25:14.528Z"
   },
   {
    "duration": 24,
    "start_time": "2021-07-07T17:25:27.982Z"
   },
   {
    "duration": 3,
    "start_time": "2021-07-07T17:25:48.982Z"
   },
   {
    "duration": 165,
    "start_time": "2021-07-07T17:25:48.987Z"
   },
   {
    "duration": 50,
    "start_time": "2021-07-07T17:25:49.154Z"
   },
   {
    "duration": 4,
    "start_time": "2021-07-07T17:25:49.206Z"
   },
   {
    "duration": 26,
    "start_time": "2021-07-07T17:25:49.212Z"
   },
   {
    "duration": 7,
    "start_time": "2021-07-07T17:25:49.240Z"
   },
   {
    "duration": 16,
    "start_time": "2021-07-07T17:25:49.249Z"
   },
   {
    "duration": 22,
    "start_time": "2021-07-07T17:25:49.266Z"
   },
   {
    "duration": 16,
    "start_time": "2021-07-07T17:25:49.291Z"
   },
   {
    "duration": 9,
    "start_time": "2021-07-07T17:25:49.309Z"
   },
   {
    "duration": 7,
    "start_time": "2021-07-07T17:25:49.319Z"
   },
   {
    "duration": 28,
    "start_time": "2021-07-07T17:25:49.328Z"
   },
   {
    "duration": 44,
    "start_time": "2021-07-07T17:25:49.357Z"
   },
   {
    "duration": 22,
    "start_time": "2021-07-07T17:25:49.403Z"
   },
   {
    "duration": 7,
    "start_time": "2021-07-07T17:25:49.427Z"
   },
   {
    "duration": 3,
    "start_time": "2021-07-07T17:25:49.436Z"
   },
   {
    "duration": 44,
    "start_time": "2021-07-07T17:25:49.441Z"
   },
   {
    "duration": 12,
    "start_time": "2021-07-07T17:25:49.488Z"
   },
   {
    "duration": 13,
    "start_time": "2021-07-07T17:25:49.502Z"
   },
   {
    "duration": 10,
    "start_time": "2021-07-07T17:25:49.516Z"
   },
   {
    "duration": 62,
    "start_time": "2021-07-07T17:25:49.527Z"
   },
   {
    "duration": 26,
    "start_time": "2021-07-07T17:26:51.809Z"
   },
   {
    "duration": 26,
    "start_time": "2021-07-07T17:26:55.759Z"
   },
   {
    "duration": 26,
    "start_time": "2021-07-07T17:27:04.501Z"
   },
   {
    "duration": 25,
    "start_time": "2021-07-07T17:28:24.859Z"
   },
   {
    "duration": 21,
    "start_time": "2021-07-07T17:28:55.250Z"
   },
   {
    "duration": 21,
    "start_time": "2021-07-07T17:28:58.885Z"
   },
   {
    "duration": 7,
    "start_time": "2021-07-07T17:45:40.972Z"
   },
   {
    "duration": 13,
    "start_time": "2021-07-07T17:45:42.529Z"
   },
   {
    "duration": 27,
    "start_time": "2021-07-07T17:45:51.026Z"
   },
   {
    "duration": 518,
    "start_time": "2021-07-07T17:46:15.532Z"
   },
   {
    "duration": 235,
    "start_time": "2021-07-07T17:46:16.053Z"
   },
   {
    "duration": 80,
    "start_time": "2021-07-07T17:46:16.292Z"
   },
   {
    "duration": 5,
    "start_time": "2021-07-07T17:46:16.373Z"
   },
   {
    "duration": 26,
    "start_time": "2021-07-07T17:46:16.380Z"
   },
   {
    "duration": 7,
    "start_time": "2021-07-07T17:46:16.408Z"
   },
   {
    "duration": 16,
    "start_time": "2021-07-07T17:46:16.418Z"
   },
   {
    "duration": 5,
    "start_time": "2021-07-07T17:46:16.436Z"
   },
   {
    "duration": 13,
    "start_time": "2021-07-07T17:46:16.442Z"
   },
   {
    "duration": 35,
    "start_time": "2021-07-07T17:46:16.456Z"
   },
   {
    "duration": 8,
    "start_time": "2021-07-07T17:46:16.493Z"
   },
   {
    "duration": 28,
    "start_time": "2021-07-07T17:46:16.502Z"
   },
   {
    "duration": 17,
    "start_time": "2021-07-07T17:46:16.532Z"
   },
   {
    "duration": 44,
    "start_time": "2021-07-07T17:46:16.551Z"
   },
   {
    "duration": 6,
    "start_time": "2021-07-07T17:46:16.597Z"
   },
   {
    "duration": 4,
    "start_time": "2021-07-07T17:46:16.605Z"
   },
   {
    "duration": 9,
    "start_time": "2021-07-07T17:46:16.610Z"
   },
   {
    "duration": 9,
    "start_time": "2021-07-07T17:46:16.621Z"
   },
   {
    "duration": 10,
    "start_time": "2021-07-07T17:46:16.632Z"
   },
   {
    "duration": 43,
    "start_time": "2021-07-07T17:46:16.644Z"
   },
   {
    "duration": 26,
    "start_time": "2021-07-07T17:46:16.689Z"
   },
   {
    "duration": 19,
    "start_time": "2021-07-07T17:46:16.718Z"
   },
   {
    "duration": 8,
    "start_time": "2021-07-07T17:46:16.738Z"
   },
   {
    "duration": 43,
    "start_time": "2021-07-07T17:46:16.747Z"
   },
   {
    "duration": 19,
    "start_time": "2021-07-07T17:46:16.791Z"
   },
   {
    "duration": 9,
    "start_time": "2021-07-07T17:46:16.812Z"
   },
   {
    "duration": 60,
    "start_time": "2021-07-07T17:46:16.822Z"
   },
   {
    "duration": -8,
    "start_time": "2021-07-07T17:46:16.892Z"
   },
   {
    "duration": 12,
    "start_time": "2021-07-07T17:48:47.707Z"
   },
   {
    "duration": 553,
    "start_time": "2021-07-07T18:10:09.350Z"
   },
   {
    "duration": 230,
    "start_time": "2021-07-07T18:10:09.905Z"
   },
   {
    "duration": 97,
    "start_time": "2021-07-07T18:10:10.137Z"
   },
   {
    "duration": 5,
    "start_time": "2021-07-07T18:10:10.236Z"
   },
   {
    "duration": 29,
    "start_time": "2021-07-07T18:10:10.242Z"
   },
   {
    "duration": 7,
    "start_time": "2021-07-07T18:10:10.272Z"
   },
   {
    "duration": 15,
    "start_time": "2021-07-07T18:10:10.281Z"
   },
   {
    "duration": 4,
    "start_time": "2021-07-07T18:10:10.299Z"
   },
   {
    "duration": 14,
    "start_time": "2021-07-07T18:10:10.305Z"
   },
   {
    "duration": 8,
    "start_time": "2021-07-07T18:10:10.321Z"
   },
   {
    "duration": 8,
    "start_time": "2021-07-07T18:10:10.331Z"
   },
   {
    "duration": 56,
    "start_time": "2021-07-07T18:10:10.341Z"
   },
   {
    "duration": 19,
    "start_time": "2021-07-07T18:10:10.399Z"
   },
   {
    "duration": 23,
    "start_time": "2021-07-07T18:10:10.419Z"
   },
   {
    "duration": 6,
    "start_time": "2021-07-07T18:10:10.444Z"
   },
   {
    "duration": 9,
    "start_time": "2021-07-07T18:10:10.451Z"
   },
   {
    "duration": 30,
    "start_time": "2021-07-07T18:10:10.462Z"
   },
   {
    "duration": 9,
    "start_time": "2021-07-07T18:10:10.494Z"
   },
   {
    "duration": 14,
    "start_time": "2021-07-07T18:10:10.505Z"
   },
   {
    "duration": 7,
    "start_time": "2021-07-07T18:10:10.521Z"
   },
   {
    "duration": 26,
    "start_time": "2021-07-07T18:10:10.530Z"
   },
   {
    "duration": 44,
    "start_time": "2021-07-07T18:10:10.558Z"
   },
   {
    "duration": 7,
    "start_time": "2021-07-07T18:10:10.605Z"
   },
   {
    "duration": 11,
    "start_time": "2021-07-07T18:10:10.614Z"
   },
   {
    "duration": 19,
    "start_time": "2021-07-07T18:10:10.626Z"
   },
   {
    "duration": 44,
    "start_time": "2021-07-07T18:10:10.646Z"
   },
   {
    "duration": 516,
    "start_time": "2021-07-07T18:14:00.826Z"
   },
   {
    "duration": 230,
    "start_time": "2021-07-07T18:14:01.344Z"
   },
   {
    "duration": 105,
    "start_time": "2021-07-07T18:14:01.576Z"
   },
   {
    "duration": 5,
    "start_time": "2021-07-07T18:14:01.683Z"
   },
   {
    "duration": 46,
    "start_time": "2021-07-07T18:14:01.690Z"
   },
   {
    "duration": 7,
    "start_time": "2021-07-07T18:14:01.738Z"
   },
   {
    "duration": 20,
    "start_time": "2021-07-07T18:14:01.747Z"
   },
   {
    "duration": 16,
    "start_time": "2021-07-07T18:14:01.769Z"
   },
   {
    "duration": 14,
    "start_time": "2021-07-07T18:14:01.787Z"
   },
   {
    "duration": 15,
    "start_time": "2021-07-07T18:14:01.803Z"
   },
   {
    "duration": 12,
    "start_time": "2021-07-07T18:14:01.820Z"
   },
   {
    "duration": 35,
    "start_time": "2021-07-07T18:14:01.833Z"
   },
   {
    "duration": 31,
    "start_time": "2021-07-07T18:14:01.869Z"
   },
   {
    "duration": 37,
    "start_time": "2021-07-07T18:14:01.902Z"
   },
   {
    "duration": 8,
    "start_time": "2021-07-07T18:14:01.942Z"
   },
   {
    "duration": 16,
    "start_time": "2021-07-07T18:14:01.952Z"
   },
   {
    "duration": 13,
    "start_time": "2021-07-07T18:14:01.970Z"
   },
   {
    "duration": 32,
    "start_time": "2021-07-07T18:14:01.985Z"
   },
   {
    "duration": 11,
    "start_time": "2021-07-07T18:14:02.019Z"
   },
   {
    "duration": 22,
    "start_time": "2021-07-07T18:14:02.031Z"
   },
   {
    "duration": 27,
    "start_time": "2021-07-07T18:14:02.055Z"
   },
   {
    "duration": 18,
    "start_time": "2021-07-07T18:14:02.084Z"
   },
   {
    "duration": 18,
    "start_time": "2021-07-07T18:14:02.106Z"
   },
   {
    "duration": 11,
    "start_time": "2021-07-07T18:14:02.126Z"
   },
   {
    "duration": 21,
    "start_time": "2021-07-07T18:14:02.138Z"
   },
   {
    "duration": 32,
    "start_time": "2021-07-07T18:14:02.161Z"
   },
   {
    "duration": 28,
    "start_time": "2021-07-07T18:14:44.295Z"
   },
   {
    "duration": 6,
    "start_time": "2021-07-07T18:15:05.834Z"
   },
   {
    "duration": 511,
    "start_time": "2021-07-07T18:15:41.541Z"
   },
   {
    "duration": 183,
    "start_time": "2021-07-07T18:15:42.054Z"
   },
   {
    "duration": 50,
    "start_time": "2021-07-07T18:15:42.239Z"
   },
   {
    "duration": 5,
    "start_time": "2021-07-07T18:15:42.291Z"
   },
   {
    "duration": 48,
    "start_time": "2021-07-07T18:15:42.297Z"
   },
   {
    "duration": 8,
    "start_time": "2021-07-07T18:15:42.346Z"
   },
   {
    "duration": 17,
    "start_time": "2021-07-07T18:15:42.356Z"
   },
   {
    "duration": 15,
    "start_time": "2021-07-07T18:15:42.375Z"
   },
   {
    "duration": 12,
    "start_time": "2021-07-07T18:15:42.392Z"
   },
   {
    "duration": 7,
    "start_time": "2021-07-07T18:15:42.406Z"
   },
   {
    "duration": 7,
    "start_time": "2021-07-07T18:15:42.415Z"
   },
   {
    "duration": 29,
    "start_time": "2021-07-07T18:15:42.423Z"
   },
   {
    "duration": 43,
    "start_time": "2021-07-07T18:15:42.453Z"
   },
   {
    "duration": 18,
    "start_time": "2021-07-07T18:15:42.497Z"
   },
   {
    "duration": 6,
    "start_time": "2021-07-07T18:15:42.516Z"
   },
   {
    "duration": 3,
    "start_time": "2021-07-07T18:15:42.523Z"
   },
   {
    "duration": 18,
    "start_time": "2021-07-07T18:15:42.528Z"
   },
   {
    "duration": 10,
    "start_time": "2021-07-07T18:15:42.547Z"
   },
   {
    "duration": 36,
    "start_time": "2021-07-07T18:15:42.559Z"
   },
   {
    "duration": 8,
    "start_time": "2021-07-07T18:15:42.597Z"
   },
   {
    "duration": 28,
    "start_time": "2021-07-07T18:15:42.606Z"
   },
   {
    "duration": 52,
    "start_time": "2021-07-07T18:15:42.635Z"
   },
   {
    "duration": 7,
    "start_time": "2021-07-07T18:15:42.690Z"
   },
   {
    "duration": 10,
    "start_time": "2021-07-07T18:15:42.699Z"
   },
   {
    "duration": 19,
    "start_time": "2021-07-07T18:15:42.711Z"
   },
   {
    "duration": 9,
    "start_time": "2021-07-07T18:15:42.732Z"
   },
   {
    "duration": 5,
    "start_time": "2021-07-07T18:15:42.743Z"
   },
   {
    "duration": 1450,
    "start_time": "2021-07-07T18:15:51.984Z"
   },
   {
    "duration": 161,
    "start_time": "2021-07-07T18:15:53.435Z"
   },
   {
    "duration": 124,
    "start_time": "2021-07-07T18:15:53.598Z"
   },
   {
    "duration": 5,
    "start_time": "2021-07-07T18:15:53.724Z"
   },
   {
    "duration": 34,
    "start_time": "2021-07-07T18:15:53.730Z"
   },
   {
    "duration": 7,
    "start_time": "2021-07-07T18:15:53.765Z"
   },
   {
    "duration": 15,
    "start_time": "2021-07-07T18:15:53.773Z"
   },
   {
    "duration": 5,
    "start_time": "2021-07-07T18:15:53.791Z"
   },
   {
    "duration": 19,
    "start_time": "2021-07-07T18:15:53.798Z"
   },
   {
    "duration": 9,
    "start_time": "2021-07-07T18:15:53.818Z"
   },
   {
    "duration": 19,
    "start_time": "2021-07-07T18:15:53.828Z"
   },
   {
    "duration": 27,
    "start_time": "2021-07-07T18:15:53.848Z"
   },
   {
    "duration": 16,
    "start_time": "2021-07-07T18:15:53.884Z"
   },
   {
    "duration": 29,
    "start_time": "2021-07-07T18:15:53.901Z"
   },
   {
    "duration": 5,
    "start_time": "2021-07-07T18:15:53.932Z"
   },
   {
    "duration": 15,
    "start_time": "2021-07-07T18:15:53.939Z"
   },
   {
    "duration": 13,
    "start_time": "2021-07-07T18:15:53.956Z"
   },
   {
    "duration": 20,
    "start_time": "2021-07-07T18:15:53.971Z"
   },
   {
    "duration": 14,
    "start_time": "2021-07-07T18:15:53.992Z"
   },
   {
    "duration": 9,
    "start_time": "2021-07-07T18:15:54.009Z"
   },
   {
    "duration": 28,
    "start_time": "2021-07-07T18:15:54.020Z"
   },
   {
    "duration": 50,
    "start_time": "2021-07-07T18:15:54.051Z"
   },
   {
    "duration": 8,
    "start_time": "2021-07-07T18:15:54.105Z"
   },
   {
    "duration": 11,
    "start_time": "2021-07-07T18:15:54.115Z"
   },
   {
    "duration": 20,
    "start_time": "2021-07-07T18:15:54.128Z"
   },
   {
    "duration": 13,
    "start_time": "2021-07-07T18:15:54.184Z"
   },
   {
    "duration": 7,
    "start_time": "2021-07-07T18:15:54.199Z"
   },
   {
    "duration": 7,
    "start_time": "2021-07-07T18:17:08.042Z"
   },
   {
    "duration": 8,
    "start_time": "2021-07-07T18:17:21.008Z"
   },
   {
    "duration": 7,
    "start_time": "2021-07-07T18:17:29.003Z"
   },
   {
    "duration": 8,
    "start_time": "2021-07-07T18:17:32.492Z"
   },
   {
    "duration": 9,
    "start_time": "2021-07-07T18:17:41.758Z"
   },
   {
    "duration": 255,
    "start_time": "2021-07-07T18:20:20.897Z"
   },
   {
    "duration": 173,
    "start_time": "2021-07-07T18:20:26.636Z"
   },
   {
    "duration": 7,
    "start_time": "2021-07-07T18:21:47.164Z"
   },
   {
    "duration": 254,
    "start_time": "2021-07-07T18:23:08.703Z"
   },
   {
    "duration": 21,
    "start_time": "2021-07-07T18:23:22.506Z"
   },
   {
    "duration": 315,
    "start_time": "2021-07-07T18:25:54.801Z"
   },
   {
    "duration": 34,
    "start_time": "2021-07-07T18:26:51.817Z"
   },
   {
    "duration": 327,
    "start_time": "2021-07-07T18:26:56.147Z"
   },
   {
    "duration": 342,
    "start_time": "2021-07-07T18:27:15.887Z"
   },
   {
    "duration": 302,
    "start_time": "2021-07-07T18:28:18.569Z"
   },
   {
    "duration": 226,
    "start_time": "2021-07-07T18:29:20.879Z"
   },
   {
    "duration": 207,
    "start_time": "2021-07-07T18:29:58.114Z"
   },
   {
    "duration": 140,
    "start_time": "2021-07-07T18:32:04.372Z"
   },
   {
    "duration": 158,
    "start_time": "2021-07-07T18:32:32.508Z"
   },
   {
    "duration": 145,
    "start_time": "2021-07-07T18:32:41.365Z"
   },
   {
    "duration": 132,
    "start_time": "2021-07-07T18:32:45.199Z"
   },
   {
    "duration": 11,
    "start_time": "2021-07-07T18:35:24.679Z"
   },
   {
    "duration": 268,
    "start_time": "2021-07-07T18:36:16.145Z"
   },
   {
    "duration": 227,
    "start_time": "2021-07-07T18:37:04.918Z"
   },
   {
    "duration": 3,
    "start_time": "2021-07-07T18:37:33.012Z"
   },
   {
    "duration": 671,
    "start_time": "2021-07-07T18:37:38.295Z"
   },
   {
    "duration": 54,
    "start_time": "2021-07-07T18:37:53.406Z"
   },
   {
    "duration": 631,
    "start_time": "2021-07-07T18:37:56.463Z"
   },
   {
    "duration": 19,
    "start_time": "2021-07-07T18:39:40.535Z"
   },
   {
    "duration": 20,
    "start_time": "2021-07-07T18:40:12.236Z"
   },
   {
    "duration": 633,
    "start_time": "2021-07-07T18:42:00.398Z"
   },
   {
    "duration": 218,
    "start_time": "2021-07-07T18:42:01.033Z"
   },
   {
    "duration": 49,
    "start_time": "2021-07-07T18:42:01.253Z"
   },
   {
    "duration": 5,
    "start_time": "2021-07-07T18:42:01.303Z"
   },
   {
    "duration": 27,
    "start_time": "2021-07-07T18:42:01.310Z"
   },
   {
    "duration": 8,
    "start_time": "2021-07-07T18:42:01.339Z"
   },
   {
    "duration": 20,
    "start_time": "2021-07-07T18:42:01.348Z"
   },
   {
    "duration": 6,
    "start_time": "2021-07-07T18:42:01.386Z"
   },
   {
    "duration": 16,
    "start_time": "2021-07-07T18:42:01.394Z"
   },
   {
    "duration": 9,
    "start_time": "2021-07-07T18:42:01.411Z"
   },
   {
    "duration": 11,
    "start_time": "2021-07-07T18:42:01.421Z"
   },
   {
    "duration": 31,
    "start_time": "2021-07-07T18:42:01.434Z"
   },
   {
    "duration": 18,
    "start_time": "2021-07-07T18:42:01.485Z"
   },
   {
    "duration": 23,
    "start_time": "2021-07-07T18:42:01.505Z"
   },
   {
    "duration": 6,
    "start_time": "2021-07-07T18:42:01.530Z"
   },
   {
    "duration": 10,
    "start_time": "2021-07-07T18:42:01.538Z"
   },
   {
    "duration": 13,
    "start_time": "2021-07-07T18:42:01.550Z"
   },
   {
    "duration": 24,
    "start_time": "2021-07-07T18:42:01.564Z"
   },
   {
    "duration": 20,
    "start_time": "2021-07-07T18:42:01.590Z"
   },
   {
    "duration": 8,
    "start_time": "2021-07-07T18:42:01.611Z"
   },
   {
    "duration": 31,
    "start_time": "2021-07-07T18:42:01.620Z"
   },
   {
    "duration": 39,
    "start_time": "2021-07-07T18:42:01.653Z"
   },
   {
    "duration": 8,
    "start_time": "2021-07-07T18:42:01.696Z"
   },
   {
    "duration": 13,
    "start_time": "2021-07-07T18:42:01.705Z"
   },
   {
    "duration": 20,
    "start_time": "2021-07-07T18:42:01.720Z"
   },
   {
    "duration": 12,
    "start_time": "2021-07-07T18:42:01.741Z"
   },
   {
    "duration": 35,
    "start_time": "2021-07-07T18:42:01.755Z"
   },
   {
    "duration": 14,
    "start_time": "2021-07-07T18:42:01.792Z"
   },
   {
    "duration": 188,
    "start_time": "2021-07-07T18:42:01.808Z"
   },
   {
    "duration": 19,
    "start_time": "2021-07-07T18:42:01.998Z"
   },
   {
    "duration": 175,
    "start_time": "2021-07-07T18:42:02.019Z"
   },
   {
    "duration": 134,
    "start_time": "2021-07-07T18:42:02.196Z"
   },
   {
    "duration": 10,
    "start_time": "2021-07-07T18:42:02.331Z"
   },
   {
    "duration": 19,
    "start_time": "2021-07-07T18:42:02.343Z"
   },
   {
    "duration": 628,
    "start_time": "2021-07-07T18:46:30.701Z"
   },
   {
    "duration": 183,
    "start_time": "2021-07-07T18:46:31.331Z"
   },
   {
    "duration": 48,
    "start_time": "2021-07-07T18:46:31.516Z"
   },
   {
    "duration": 5,
    "start_time": "2021-07-07T18:46:31.566Z"
   },
   {
    "duration": 28,
    "start_time": "2021-07-07T18:46:31.572Z"
   },
   {
    "duration": 8,
    "start_time": "2021-07-07T18:46:31.602Z"
   },
   {
    "duration": 19,
    "start_time": "2021-07-07T18:46:31.611Z"
   },
   {
    "duration": 6,
    "start_time": "2021-07-07T18:46:31.633Z"
   },
   {
    "duration": 17,
    "start_time": "2021-07-07T18:46:31.642Z"
   },
   {
    "duration": 10,
    "start_time": "2021-07-07T18:46:31.684Z"
   },
   {
    "duration": 9,
    "start_time": "2021-07-07T18:46:31.695Z"
   },
   {
    "duration": 28,
    "start_time": "2021-07-07T18:46:31.705Z"
   },
   {
    "duration": 18,
    "start_time": "2021-07-07T18:46:31.735Z"
   },
   {
    "duration": 48,
    "start_time": "2021-07-07T18:46:31.755Z"
   },
   {
    "duration": 6,
    "start_time": "2021-07-07T18:46:31.804Z"
   },
   {
    "duration": 4,
    "start_time": "2021-07-07T18:46:31.812Z"
   },
   {
    "duration": 9,
    "start_time": "2021-07-07T18:46:31.817Z"
   },
   {
    "duration": 10,
    "start_time": "2021-07-07T18:46:31.827Z"
   },
   {
    "duration": 12,
    "start_time": "2021-07-07T18:46:31.838Z"
   },
   {
    "duration": 39,
    "start_time": "2021-07-07T18:46:31.851Z"
   },
   {
    "duration": 24,
    "start_time": "2021-07-07T18:46:31.892Z"
   },
   {
    "duration": 15,
    "start_time": "2021-07-07T18:46:31.918Z"
   },
   {
    "duration": 7,
    "start_time": "2021-07-07T18:46:31.936Z"
   },
   {
    "duration": 8,
    "start_time": "2021-07-07T18:46:31.944Z"
   },
   {
    "duration": 19,
    "start_time": "2021-07-07T18:46:31.984Z"
   },
   {
    "duration": 10,
    "start_time": "2021-07-07T18:46:32.004Z"
   },
   {
    "duration": 5,
    "start_time": "2021-07-07T18:46:32.016Z"
   },
   {
    "duration": 9,
    "start_time": "2021-07-07T18:46:32.023Z"
   },
   {
    "duration": 199,
    "start_time": "2021-07-07T18:46:32.033Z"
   },
   {
    "duration": 19,
    "start_time": "2021-07-07T18:46:32.234Z"
   },
   {
    "duration": 159,
    "start_time": "2021-07-07T18:46:32.255Z"
   },
   {
    "duration": 134,
    "start_time": "2021-07-07T18:46:32.416Z"
   },
   {
    "duration": 10,
    "start_time": "2021-07-07T18:46:32.552Z"
   },
   {
    "duration": 34,
    "start_time": "2021-07-07T18:46:32.563Z"
   },
   {
    "duration": 1039,
    "start_time": "2021-07-08T08:41:09.419Z"
   },
   {
    "duration": 333,
    "start_time": "2021-07-08T08:41:10.459Z"
   },
   {
    "duration": 173,
    "start_time": "2021-07-08T08:41:10.794Z"
   },
   {
    "duration": 5,
    "start_time": "2021-07-08T08:41:10.968Z"
   },
   {
    "duration": 25,
    "start_time": "2021-07-08T08:41:10.975Z"
   },
   {
    "duration": 9,
    "start_time": "2021-07-08T08:41:11.002Z"
   },
   {
    "duration": 18,
    "start_time": "2021-07-08T08:41:11.013Z"
   },
   {
    "duration": 6,
    "start_time": "2021-07-08T08:41:11.033Z"
   },
   {
    "duration": 44,
    "start_time": "2021-07-08T08:41:11.042Z"
   },
   {
    "duration": 10,
    "start_time": "2021-07-08T08:41:11.088Z"
   },
   {
    "duration": 9,
    "start_time": "2021-07-08T08:41:11.100Z"
   },
   {
    "duration": 27,
    "start_time": "2021-07-08T08:41:11.111Z"
   },
   {
    "duration": 46,
    "start_time": "2021-07-08T08:41:11.140Z"
   },
   {
    "duration": 17,
    "start_time": "2021-07-08T08:41:11.187Z"
   },
   {
    "duration": 6,
    "start_time": "2021-07-08T08:41:11.206Z"
   },
   {
    "duration": 5,
    "start_time": "2021-07-08T08:41:11.213Z"
   },
   {
    "duration": 10,
    "start_time": "2021-07-08T08:41:11.219Z"
   },
   {
    "duration": 9,
    "start_time": "2021-07-08T08:41:11.230Z"
   },
   {
    "duration": 45,
    "start_time": "2021-07-08T08:41:11.241Z"
   },
   {
    "duration": 7,
    "start_time": "2021-07-08T08:41:11.287Z"
   },
   {
    "duration": 24,
    "start_time": "2021-07-08T08:41:11.296Z"
   },
   {
    "duration": 16,
    "start_time": "2021-07-08T08:41:11.322Z"
   },
   {
    "duration": 7,
    "start_time": "2021-07-08T08:41:11.341Z"
   },
   {
    "duration": 41,
    "start_time": "2021-07-08T08:41:11.349Z"
   },
   {
    "duration": 17,
    "start_time": "2021-07-08T08:41:11.391Z"
   },
   {
    "duration": 9,
    "start_time": "2021-07-08T08:41:11.410Z"
   },
   {
    "duration": 5,
    "start_time": "2021-07-08T08:41:11.421Z"
   },
   {
    "duration": 6,
    "start_time": "2021-07-08T08:41:11.428Z"
   },
   {
    "duration": 198,
    "start_time": "2021-07-08T08:41:11.435Z"
   },
   {
    "duration": 18,
    "start_time": "2021-07-08T08:41:11.635Z"
   },
   {
    "duration": 155,
    "start_time": "2021-07-08T08:41:11.655Z"
   },
   {
    "duration": 138,
    "start_time": "2021-07-08T08:41:11.811Z"
   },
   {
    "duration": 10,
    "start_time": "2021-07-08T08:41:11.950Z"
   },
   {
    "duration": 29,
    "start_time": "2021-07-08T08:41:11.961Z"
   },
   {
    "duration": 171,
    "start_time": "2021-07-08T08:47:44.522Z"
   },
   {
    "duration": 124,
    "start_time": "2021-07-08T08:47:46.872Z"
   },
   {
    "duration": 191,
    "start_time": "2021-07-08T08:47:58.148Z"
   },
   {
    "duration": 191,
    "start_time": "2021-07-08T08:48:07.412Z"
   },
   {
    "duration": 261,
    "start_time": "2021-07-08T08:48:10.385Z"
   },
   {
    "duration": 255,
    "start_time": "2021-07-08T08:48:14.494Z"
   },
   {
    "duration": 219,
    "start_time": "2021-07-08T08:48:22.752Z"
   },
   {
    "duration": 173,
    "start_time": "2021-07-08T08:49:06.395Z"
   },
   {
    "duration": 180,
    "start_time": "2021-07-08T08:49:21.011Z"
   },
   {
    "duration": 6,
    "start_time": "2021-07-08T08:50:31.697Z"
   },
   {
    "duration": 10,
    "start_time": "2021-07-08T08:50:47.394Z"
   },
   {
    "duration": 11,
    "start_time": "2021-07-08T08:53:49.332Z"
   },
   {
    "duration": 171,
    "start_time": "2021-07-08T08:54:28.408Z"
   },
   {
    "duration": 636,
    "start_time": "2021-07-08T09:02:48.385Z"
   },
   {
    "duration": 227,
    "start_time": "2021-07-08T09:02:49.023Z"
   },
   {
    "duration": 104,
    "start_time": "2021-07-08T09:02:49.252Z"
   },
   {
    "duration": 5,
    "start_time": "2021-07-08T09:02:49.358Z"
   },
   {
    "duration": 27,
    "start_time": "2021-07-08T09:02:49.365Z"
   },
   {
    "duration": 8,
    "start_time": "2021-07-08T09:02:49.394Z"
   },
   {
    "duration": 18,
    "start_time": "2021-07-08T09:02:49.404Z"
   },
   {
    "duration": 6,
    "start_time": "2021-07-08T09:02:49.424Z"
   },
   {
    "duration": 11,
    "start_time": "2021-07-08T09:02:49.433Z"
   },
   {
    "duration": 13,
    "start_time": "2021-07-08T09:02:49.485Z"
   },
   {
    "duration": 9,
    "start_time": "2021-07-08T09:02:49.500Z"
   },
   {
    "duration": 38,
    "start_time": "2021-07-08T09:02:49.511Z"
   },
   {
    "duration": 42,
    "start_time": "2021-07-08T09:02:49.551Z"
   },
   {
    "duration": 21,
    "start_time": "2021-07-08T09:02:49.594Z"
   },
   {
    "duration": 6,
    "start_time": "2021-07-08T09:02:49.616Z"
   },
   {
    "duration": 3,
    "start_time": "2021-07-08T09:02:49.623Z"
   },
   {
    "duration": 9,
    "start_time": "2021-07-08T09:02:49.628Z"
   },
   {
    "duration": 52,
    "start_time": "2021-07-08T09:02:49.638Z"
   },
   {
    "duration": 11,
    "start_time": "2021-07-08T09:02:49.692Z"
   },
   {
    "duration": 8,
    "start_time": "2021-07-08T09:02:49.704Z"
   },
   {
    "duration": 27,
    "start_time": "2021-07-08T09:02:49.713Z"
   },
   {
    "duration": 59,
    "start_time": "2021-07-08T09:02:49.741Z"
   },
   {
    "duration": 8,
    "start_time": "2021-07-08T09:02:49.803Z"
   },
   {
    "duration": 14,
    "start_time": "2021-07-08T09:02:49.813Z"
   },
   {
    "duration": 20,
    "start_time": "2021-07-08T09:02:49.829Z"
   },
   {
    "duration": 44,
    "start_time": "2021-07-08T09:02:49.851Z"
   },
   {
    "duration": 14,
    "start_time": "2021-07-08T09:02:49.896Z"
   },
   {
    "duration": 221,
    "start_time": "2021-07-08T09:02:49.912Z"
   },
   {
    "duration": 6,
    "start_time": "2021-07-08T09:02:50.134Z"
   },
   {
    "duration": 206,
    "start_time": "2021-07-08T09:02:50.142Z"
   },
   {
    "duration": 19,
    "start_time": "2021-07-08T09:02:50.350Z"
   },
   {
    "duration": 21,
    "start_time": "2021-07-08T09:02:50.370Z"
   },
   {
    "duration": 20,
    "start_time": "2021-07-08T09:02:50.393Z"
   },
   {
    "duration": 5,
    "start_time": "2021-07-08T09:02:50.414Z"
   },
   {
    "duration": 5,
    "start_time": "2021-07-08T09:03:34.173Z"
   },
   {
    "duration": 6,
    "start_time": "2021-07-08T09:04:49.062Z"
   },
   {
    "duration": 9,
    "start_time": "2021-07-08T09:04:50.118Z"
   },
   {
    "duration": 14,
    "start_time": "2021-07-08T09:04:58.512Z"
   },
   {
    "duration": 9,
    "start_time": "2021-07-08T09:05:10.988Z"
   },
   {
    "duration": 11,
    "start_time": "2021-07-08T09:05:11.743Z"
   },
   {
    "duration": 7,
    "start_time": "2021-07-08T09:05:25.677Z"
   },
   {
    "duration": 13,
    "start_time": "2021-07-08T09:05:47.189Z"
   },
   {
    "duration": 13,
    "start_time": "2021-07-08T09:05:54.755Z"
   },
   {
    "duration": 4,
    "start_time": "2021-07-08T09:06:29.189Z"
   },
   {
    "duration": 244,
    "start_time": "2021-07-08T09:06:29.195Z"
   },
   {
    "duration": 91,
    "start_time": "2021-07-08T09:06:29.441Z"
   },
   {
    "duration": 4,
    "start_time": "2021-07-08T09:06:29.534Z"
   },
   {
    "duration": 28,
    "start_time": "2021-07-08T09:06:29.540Z"
   },
   {
    "duration": 6,
    "start_time": "2021-07-08T09:06:29.570Z"
   },
   {
    "duration": 18,
    "start_time": "2021-07-08T09:06:29.578Z"
   },
   {
    "duration": 5,
    "start_time": "2021-07-08T09:06:29.597Z"
   },
   {
    "duration": 13,
    "start_time": "2021-07-08T09:06:29.605Z"
   },
   {
    "duration": 8,
    "start_time": "2021-07-08T09:06:29.620Z"
   },
   {
    "duration": 7,
    "start_time": "2021-07-08T09:06:29.630Z"
   },
   {
    "duration": 63,
    "start_time": "2021-07-08T09:06:29.639Z"
   },
   {
    "duration": 17,
    "start_time": "2021-07-08T09:06:29.704Z"
   },
   {
    "duration": 20,
    "start_time": "2021-07-08T09:06:29.723Z"
   },
   {
    "duration": 6,
    "start_time": "2021-07-08T09:06:29.745Z"
   },
   {
    "duration": 3,
    "start_time": "2021-07-08T09:06:29.752Z"
   },
   {
    "duration": 7,
    "start_time": "2021-07-08T09:06:29.785Z"
   },
   {
    "duration": 11,
    "start_time": "2021-07-08T09:06:29.794Z"
   },
   {
    "duration": 15,
    "start_time": "2021-07-08T09:06:29.807Z"
   },
   {
    "duration": 8,
    "start_time": "2021-07-08T09:06:29.823Z"
   },
   {
    "duration": 70,
    "start_time": "2021-07-08T09:06:29.832Z"
   },
   {
    "duration": 17,
    "start_time": "2021-07-08T09:06:29.903Z"
   },
   {
    "duration": 9,
    "start_time": "2021-07-08T09:06:29.921Z"
   },
   {
    "duration": 9,
    "start_time": "2021-07-08T09:06:29.932Z"
   },
   {
    "duration": 57,
    "start_time": "2021-07-08T09:06:29.942Z"
   },
   {
    "duration": 11,
    "start_time": "2021-07-08T09:06:30.001Z"
   },
   {
    "duration": 19,
    "start_time": "2021-07-08T09:06:30.016Z"
   },
   {
    "duration": 217,
    "start_time": "2021-07-08T09:06:30.037Z"
   },
   {
    "duration": 6,
    "start_time": "2021-07-08T09:06:30.255Z"
   },
   {
    "duration": 205,
    "start_time": "2021-07-08T09:06:30.263Z"
   },
   {
    "duration": 27,
    "start_time": "2021-07-08T09:06:30.470Z"
   },
   {
    "duration": 11,
    "start_time": "2021-07-08T09:06:30.500Z"
   },
   {
    "duration": 31,
    "start_time": "2021-07-08T09:06:30.513Z"
   },
   {
    "duration": 18,
    "start_time": "2021-07-08T09:06:30.546Z"
   },
   {
    "duration": 11,
    "start_time": "2021-07-08T09:06:30.566Z"
   },
   {
    "duration": 19,
    "start_time": "2021-07-08T09:06:30.579Z"
   },
   {
    "duration": 20,
    "start_time": "2021-07-08T09:06:49.466Z"
   },
   {
    "duration": 9,
    "start_time": "2021-07-08T09:06:51.994Z"
   },
   {
    "duration": 20,
    "start_time": "2021-07-08T09:06:52.273Z"
   },
   {
    "duration": 246,
    "start_time": "2021-07-08T09:10:21.272Z"
   },
   {
    "duration": 84,
    "start_time": "2021-07-08T09:10:21.436Z"
   },
   {
    "duration": 7,
    "start_time": "2021-07-08T09:10:37.608Z"
   },
   {
    "duration": 189,
    "start_time": "2021-07-08T09:10:38.573Z"
   },
   {
    "duration": 185,
    "start_time": "2021-07-08T09:10:53.181Z"
   },
   {
    "duration": 11,
    "start_time": "2021-07-08T09:10:59.549Z"
   },
   {
    "duration": 42,
    "start_time": "2021-07-08T09:10:59.709Z"
   },
   {
    "duration": 12,
    "start_time": "2021-07-08T09:11:02.857Z"
   },
   {
    "duration": 28,
    "start_time": "2021-07-08T09:11:10.062Z"
   },
   {
    "duration": 249,
    "start_time": "2021-07-08T09:11:37.388Z"
   },
   {
    "duration": 232,
    "start_time": "2021-07-08T09:11:49.485Z"
   },
   {
    "duration": 453,
    "start_time": "2021-07-08T09:12:01.546Z"
   },
   {
    "duration": 440,
    "start_time": "2021-07-08T09:12:12.347Z"
   },
   {
    "duration": 213,
    "start_time": "2021-07-08T09:13:32.196Z"
   },
   {
    "duration": 172,
    "start_time": "2021-07-08T09:14:07.400Z"
   },
   {
    "duration": 185,
    "start_time": "2021-07-08T09:14:14.905Z"
   },
   {
    "duration": 209,
    "start_time": "2021-07-08T09:14:40.109Z"
   },
   {
    "duration": 201,
    "start_time": "2021-07-08T09:14:54.506Z"
   },
   {
    "duration": 622,
    "start_time": "2021-07-08T09:18:14.497Z"
   },
   {
    "duration": 220,
    "start_time": "2021-07-08T09:18:15.121Z"
   },
   {
    "duration": 79,
    "start_time": "2021-07-08T09:18:15.343Z"
   },
   {
    "duration": 4,
    "start_time": "2021-07-08T09:18:15.425Z"
   },
   {
    "duration": 24,
    "start_time": "2021-07-08T09:18:15.431Z"
   },
   {
    "duration": 8,
    "start_time": "2021-07-08T09:18:15.457Z"
   },
   {
    "duration": 16,
    "start_time": "2021-07-08T09:18:15.466Z"
   },
   {
    "duration": 5,
    "start_time": "2021-07-08T09:18:15.484Z"
   },
   {
    "duration": 10,
    "start_time": "2021-07-08T09:18:15.493Z"
   },
   {
    "duration": 8,
    "start_time": "2021-07-08T09:18:15.504Z"
   },
   {
    "duration": 7,
    "start_time": "2021-07-08T09:18:15.513Z"
   },
   {
    "duration": 26,
    "start_time": "2021-07-08T09:18:15.522Z"
   },
   {
    "duration": 49,
    "start_time": "2021-07-08T09:18:15.550Z"
   },
   {
    "duration": 21,
    "start_time": "2021-07-08T09:18:15.601Z"
   },
   {
    "duration": 8,
    "start_time": "2021-07-08T09:18:15.624Z"
   },
   {
    "duration": 3,
    "start_time": "2021-07-08T09:18:15.634Z"
   },
   {
    "duration": 8,
    "start_time": "2021-07-08T09:18:15.639Z"
   },
   {
    "duration": 45,
    "start_time": "2021-07-08T09:18:15.649Z"
   },
   {
    "duration": 13,
    "start_time": "2021-07-08T09:18:15.696Z"
   },
   {
    "duration": 10,
    "start_time": "2021-07-08T09:18:15.711Z"
   },
   {
    "duration": 64,
    "start_time": "2021-07-08T09:18:15.722Z"
   },
   {
    "duration": 19,
    "start_time": "2021-07-08T09:18:15.788Z"
   },
   {
    "duration": 9,
    "start_time": "2021-07-08T09:18:15.809Z"
   },
   {
    "duration": 9,
    "start_time": "2021-07-08T09:18:15.820Z"
   },
   {
    "duration": 18,
    "start_time": "2021-07-08T09:18:15.831Z"
   },
   {
    "duration": 43,
    "start_time": "2021-07-08T09:18:15.851Z"
   },
   {
    "duration": 12,
    "start_time": "2021-07-08T09:18:15.897Z"
   },
   {
    "duration": 219,
    "start_time": "2021-07-08T09:18:15.911Z"
   },
   {
    "duration": 8,
    "start_time": "2021-07-08T09:18:16.132Z"
   },
   {
    "duration": 199,
    "start_time": "2021-07-08T09:18:16.141Z"
   },
   {
    "duration": 18,
    "start_time": "2021-07-08T09:18:16.341Z"
   },
   {
    "duration": 24,
    "start_time": "2021-07-08T09:18:16.361Z"
   },
   {
    "duration": 24,
    "start_time": "2021-07-08T09:18:16.387Z"
   },
   {
    "duration": 211,
    "start_time": "2021-07-08T09:18:16.413Z"
   },
   {
    "duration": 18,
    "start_time": "2021-07-08T09:18:16.626Z"
   },
   {
    "duration": 596,
    "start_time": "2021-07-08T10:06:33.623Z"
   },
   {
    "duration": 181,
    "start_time": "2021-07-08T10:06:34.221Z"
   },
   {
    "duration": 176,
    "start_time": "2021-07-08T10:06:34.635Z"
   },
   {
    "duration": 239,
    "start_time": "2021-07-08T10:06:55.572Z"
   },
   {
    "duration": 6,
    "start_time": "2021-07-08T10:06:57.687Z"
   },
   {
    "duration": 4,
    "start_time": "2021-07-08T10:07:03.956Z"
   },
   {
    "duration": 4,
    "start_time": "2021-07-08T10:07:10.376Z"
   },
   {
    "duration": 4,
    "start_time": "2021-07-08T10:17:19.889Z"
   },
   {
    "duration": 3,
    "start_time": "2021-07-08T10:19:19.407Z"
   },
   {
    "duration": 197,
    "start_time": "2021-07-08T10:19:19.412Z"
   },
   {
    "duration": 127,
    "start_time": "2021-07-08T10:19:19.611Z"
   },
   {
    "duration": 4,
    "start_time": "2021-07-08T10:19:19.740Z"
   },
   {
    "duration": 27,
    "start_time": "2021-07-08T10:19:19.746Z"
   },
   {
    "duration": 7,
    "start_time": "2021-07-08T10:19:19.775Z"
   },
   {
    "duration": 30,
    "start_time": "2021-07-08T10:19:19.784Z"
   },
   {
    "duration": 7,
    "start_time": "2021-07-08T10:19:19.817Z"
   },
   {
    "duration": 26,
    "start_time": "2021-07-08T10:19:19.826Z"
   },
   {
    "duration": 18,
    "start_time": "2021-07-08T10:19:19.854Z"
   },
   {
    "duration": 14,
    "start_time": "2021-07-08T10:19:19.874Z"
   },
   {
    "duration": 48,
    "start_time": "2021-07-08T10:19:19.890Z"
   },
   {
    "duration": 17,
    "start_time": "2021-07-08T10:19:19.940Z"
   },
   {
    "duration": 38,
    "start_time": "2021-07-08T10:19:19.959Z"
   },
   {
    "duration": 8,
    "start_time": "2021-07-08T10:19:19.999Z"
   },
   {
    "duration": 15,
    "start_time": "2021-07-08T10:19:20.009Z"
   },
   {
    "duration": 22,
    "start_time": "2021-07-08T10:19:20.026Z"
   },
   {
    "duration": 10,
    "start_time": "2021-07-08T10:19:20.050Z"
   },
   {
    "duration": 10,
    "start_time": "2021-07-08T10:19:20.062Z"
   },
   {
    "duration": 20,
    "start_time": "2021-07-08T10:19:20.073Z"
   },
   {
    "duration": 29,
    "start_time": "2021-07-08T10:19:20.095Z"
   },
   {
    "duration": 17,
    "start_time": "2021-07-08T10:19:20.126Z"
   },
   {
    "duration": 40,
    "start_time": "2021-07-08T10:19:20.146Z"
   },
   {
    "duration": 15,
    "start_time": "2021-07-08T10:19:20.189Z"
   },
   {
    "duration": 19,
    "start_time": "2021-07-08T10:19:20.206Z"
   },
   {
    "duration": 10,
    "start_time": "2021-07-08T10:19:20.226Z"
   },
   {
    "duration": 11,
    "start_time": "2021-07-08T10:19:20.238Z"
   },
   {
    "duration": 297,
    "start_time": "2021-07-08T10:19:20.250Z"
   },
   {
    "duration": 6,
    "start_time": "2021-07-08T10:19:20.549Z"
   },
   {
    "duration": 191,
    "start_time": "2021-07-08T10:19:20.557Z"
   },
   {
    "duration": 19,
    "start_time": "2021-07-08T10:19:20.750Z"
   },
   {
    "duration": 20,
    "start_time": "2021-07-08T10:19:20.771Z"
   },
   {
    "duration": 15,
    "start_time": "2021-07-08T10:19:20.793Z"
   },
   {
    "duration": 222,
    "start_time": "2021-07-08T10:19:20.809Z"
   },
   {
    "duration": 20,
    "start_time": "2021-07-08T10:19:21.033Z"
   },
   {
    "duration": 27,
    "start_time": "2021-07-08T10:45:04.055Z"
   },
   {
    "duration": 8,
    "start_time": "2021-07-08T10:45:08.478Z"
   },
   {
    "duration": 8,
    "start_time": "2021-07-08T10:45:31.982Z"
   },
   {
    "duration": 10,
    "start_time": "2021-07-08T10:46:01.221Z"
   },
   {
    "duration": 17,
    "start_time": "2021-07-08T10:46:40.011Z"
   },
   {
    "duration": 193,
    "start_time": "2021-07-08T10:48:19.471Z"
   },
   {
    "duration": 225,
    "start_time": "2021-07-08T10:49:26.480Z"
   },
   {
    "duration": 204,
    "start_time": "2021-07-08T10:49:59.992Z"
   },
   {
    "duration": 435,
    "start_time": "2021-07-08T10:50:06.779Z"
   },
   {
    "duration": 199,
    "start_time": "2021-07-08T10:50:14.891Z"
   },
   {
    "duration": 204,
    "start_time": "2021-07-08T10:50:18.501Z"
   },
   {
    "duration": 244,
    "start_time": "2021-07-08T10:50:23.359Z"
   },
   {
    "duration": 192,
    "start_time": "2021-07-08T10:50:29.135Z"
   },
   {
    "duration": 218,
    "start_time": "2021-07-08T10:50:33.092Z"
   },
   {
    "duration": 207,
    "start_time": "2021-07-08T10:52:45.381Z"
   },
   {
    "duration": 5,
    "start_time": "2021-07-08T10:53:34.641Z"
   },
   {
    "duration": 196,
    "start_time": "2021-07-08T10:53:41.478Z"
   },
   {
    "duration": 43,
    "start_time": "2021-07-08T10:53:50.335Z"
   },
   {
    "duration": 32,
    "start_time": "2021-07-08T10:53:55.294Z"
   },
   {
    "duration": 55,
    "start_time": "2021-07-08T10:54:09.675Z"
   },
   {
    "duration": 16,
    "start_time": "2021-07-08T10:54:12.260Z"
   },
   {
    "duration": 15,
    "start_time": "2021-07-08T10:54:49.150Z"
   },
   {
    "duration": 20,
    "start_time": "2021-07-08T10:56:07.596Z"
   },
   {
    "duration": 16,
    "start_time": "2021-07-08T10:58:26.276Z"
   },
   {
    "duration": 22,
    "start_time": "2021-07-08T10:59:00.486Z"
   },
   {
    "duration": 18,
    "start_time": "2021-07-08T11:02:09.653Z"
   },
   {
    "duration": 10,
    "start_time": "2021-07-08T11:03:44.331Z"
   },
   {
    "duration": 10,
    "start_time": "2021-07-08T11:03:54.055Z"
   },
   {
    "duration": 12,
    "start_time": "2021-07-08T11:04:41.967Z"
   },
   {
    "duration": 24,
    "start_time": "2021-07-08T11:07:30.732Z"
   },
   {
    "duration": 6,
    "start_time": "2021-07-08T11:07:37.364Z"
   },
   {
    "duration": 16,
    "start_time": "2021-07-08T11:08:01.819Z"
   },
   {
    "duration": 17,
    "start_time": "2021-07-08T11:09:47.488Z"
   },
   {
    "duration": 246,
    "start_time": "2021-07-08T11:10:00.830Z"
   },
   {
    "duration": 18,
    "start_time": "2021-07-08T11:13:55.195Z"
   },
   {
    "duration": 204,
    "start_time": "2021-07-08T11:14:04.951Z"
   },
   {
    "duration": 19,
    "start_time": "2021-07-08T11:15:10.613Z"
   },
   {
    "duration": 680,
    "start_time": "2021-07-08T11:16:25.793Z"
   },
   {
    "duration": 451,
    "start_time": "2021-07-08T11:16:40.313Z"
   },
   {
    "duration": 469,
    "start_time": "2021-07-08T11:17:21.286Z"
   },
   {
    "duration": 20,
    "start_time": "2021-07-08T11:19:12.554Z"
   },
   {
    "duration": 35,
    "start_time": "2021-07-08T11:20:05.484Z"
   },
   {
    "duration": 53,
    "start_time": "2021-07-08T11:21:40.050Z"
   },
   {
    "duration": 13,
    "start_time": "2021-07-08T11:22:26.059Z"
   },
   {
    "duration": 19,
    "start_time": "2021-07-08T11:22:47.419Z"
   },
   {
    "duration": 25,
    "start_time": "2021-07-08T11:23:19.958Z"
   },
   {
    "duration": 29,
    "start_time": "2021-07-08T11:23:25.415Z"
   },
   {
    "duration": 10,
    "start_time": "2021-07-08T11:24:45.138Z"
   },
   {
    "duration": 19,
    "start_time": "2021-07-08T11:24:54.498Z"
   },
   {
    "duration": 12,
    "start_time": "2021-07-08T11:25:32.225Z"
   },
   {
    "duration": 19,
    "start_time": "2021-07-08T11:25:37.092Z"
   },
   {
    "duration": 17,
    "start_time": "2021-07-08T11:25:58.116Z"
   },
   {
    "duration": 15,
    "start_time": "2021-07-08T11:26:02.258Z"
   },
   {
    "duration": 8,
    "start_time": "2021-07-08T11:26:59.682Z"
   },
   {
    "duration": 184,
    "start_time": "2021-07-08T11:27:21.894Z"
   },
   {
    "duration": 8,
    "start_time": "2021-07-08T11:27:23.824Z"
   },
   {
    "duration": 202,
    "start_time": "2021-07-08T11:27:23.962Z"
   },
   {
    "duration": 360,
    "start_time": "2021-07-08T11:28:33.215Z"
   },
   {
    "duration": 231,
    "start_time": "2021-07-08T11:32:05.542Z"
   },
   {
    "duration": 607,
    "start_time": "2021-07-08T11:36:27.854Z"
   },
   {
    "duration": 241,
    "start_time": "2021-07-08T11:36:28.463Z"
   },
   {
    "duration": 67,
    "start_time": "2021-07-08T11:36:28.709Z"
   },
   {
    "duration": 5,
    "start_time": "2021-07-08T11:36:28.778Z"
   },
   {
    "duration": 32,
    "start_time": "2021-07-08T11:36:28.784Z"
   },
   {
    "duration": 11,
    "start_time": "2021-07-08T11:36:28.819Z"
   },
   {
    "duration": 20,
    "start_time": "2021-07-08T11:36:28.834Z"
   },
   {
    "duration": 36,
    "start_time": "2021-07-08T11:36:28.857Z"
   },
   {
    "duration": 16,
    "start_time": "2021-07-08T11:36:28.895Z"
   },
   {
    "duration": 14,
    "start_time": "2021-07-08T11:36:28.913Z"
   },
   {
    "duration": 9,
    "start_time": "2021-07-08T11:36:28.930Z"
   },
   {
    "duration": 55,
    "start_time": "2021-07-08T11:36:28.941Z"
   },
   {
    "duration": 27,
    "start_time": "2021-07-08T11:36:28.999Z"
   },
   {
    "duration": 30,
    "start_time": "2021-07-08T11:36:29.028Z"
   },
   {
    "duration": 31,
    "start_time": "2021-07-08T11:36:29.060Z"
   },
   {
    "duration": 3,
    "start_time": "2021-07-08T11:36:29.093Z"
   },
   {
    "duration": 12,
    "start_time": "2021-07-08T11:36:29.099Z"
   },
   {
    "duration": 11,
    "start_time": "2021-07-08T11:36:29.112Z"
   },
   {
    "duration": 12,
    "start_time": "2021-07-08T11:36:29.125Z"
   },
   {
    "duration": 9,
    "start_time": "2021-07-08T11:36:29.139Z"
   },
   {
    "duration": 31,
    "start_time": "2021-07-08T11:36:29.191Z"
   },
   {
    "duration": 17,
    "start_time": "2021-07-08T11:36:29.226Z"
   },
   {
    "duration": 7,
    "start_time": "2021-07-08T11:36:29.245Z"
   },
   {
    "duration": 10,
    "start_time": "2021-07-08T11:36:29.254Z"
   },
   {
    "duration": 30,
    "start_time": "2021-07-08T11:36:29.292Z"
   },
   {
    "duration": 11,
    "start_time": "2021-07-08T11:36:29.324Z"
   },
   {
    "duration": 11,
    "start_time": "2021-07-08T11:36:29.337Z"
   },
   {
    "duration": 230,
    "start_time": "2021-07-08T11:36:29.349Z"
   },
   {
    "duration": 13,
    "start_time": "2021-07-08T11:36:29.588Z"
   },
   {
    "duration": 205,
    "start_time": "2021-07-08T11:36:29.603Z"
   },
   {
    "duration": 20,
    "start_time": "2021-07-08T11:36:29.810Z"
   },
   {
    "duration": 9,
    "start_time": "2021-07-08T11:36:29.832Z"
   },
   {
    "duration": 16,
    "start_time": "2021-07-08T11:36:29.843Z"
   },
   {
    "duration": 283,
    "start_time": "2021-07-08T11:36:29.861Z"
   },
   {
    "duration": 50,
    "start_time": "2021-07-08T11:36:30.146Z"
   },
   {
    "duration": 14,
    "start_time": "2021-07-08T11:36:30.198Z"
   },
   {
    "duration": 11,
    "start_time": "2021-07-08T11:36:30.214Z"
   },
   {
    "duration": 245,
    "start_time": "2021-07-08T11:36:30.227Z"
   },
   {
    "duration": 439,
    "start_time": "2021-07-08T11:36:30.474Z"
   },
   {
    "duration": 210,
    "start_time": "2021-07-08T11:36:30.915Z"
   },
   {
    "duration": 15,
    "start_time": "2021-07-08T11:36:31.127Z"
   },
   {
    "duration": 17,
    "start_time": "2021-07-08T11:38:20.451Z"
   },
   {
    "duration": 642,
    "start_time": "2021-07-08T11:46:17.881Z"
   },
   {
    "duration": 210,
    "start_time": "2021-07-08T11:46:18.525Z"
   },
   {
    "duration": 104,
    "start_time": "2021-07-08T11:46:18.741Z"
   },
   {
    "duration": 8,
    "start_time": "2021-07-08T11:46:18.847Z"
   },
   {
    "duration": 25,
    "start_time": "2021-07-08T11:46:18.857Z"
   },
   {
    "duration": 14,
    "start_time": "2021-07-08T11:46:18.884Z"
   },
   {
    "duration": 22,
    "start_time": "2021-07-08T11:46:18.900Z"
   },
   {
    "duration": 5,
    "start_time": "2021-07-08T11:46:18.924Z"
   },
   {
    "duration": 13,
    "start_time": "2021-07-08T11:46:18.931Z"
   },
   {
    "duration": 45,
    "start_time": "2021-07-08T11:46:18.946Z"
   },
   {
    "duration": 12,
    "start_time": "2021-07-08T11:46:18.993Z"
   },
   {
    "duration": 38,
    "start_time": "2021-07-08T11:46:19.006Z"
   },
   {
    "duration": 50,
    "start_time": "2021-07-08T11:46:19.046Z"
   },
   {
    "duration": 29,
    "start_time": "2021-07-08T11:46:19.099Z"
   },
   {
    "duration": 7,
    "start_time": "2021-07-08T11:46:19.130Z"
   },
   {
    "duration": 3,
    "start_time": "2021-07-08T11:46:19.139Z"
   },
   {
    "duration": 11,
    "start_time": "2021-07-08T11:46:19.144Z"
   },
   {
    "duration": 40,
    "start_time": "2021-07-08T11:46:19.157Z"
   },
   {
    "duration": 15,
    "start_time": "2021-07-08T11:46:19.199Z"
   },
   {
    "duration": 10,
    "start_time": "2021-07-08T11:46:19.217Z"
   },
   {
    "duration": 68,
    "start_time": "2021-07-08T11:46:19.230Z"
   },
   {
    "duration": 17,
    "start_time": "2021-07-08T11:46:19.301Z"
   },
   {
    "duration": 7,
    "start_time": "2021-07-08T11:46:19.321Z"
   },
   {
    "duration": 11,
    "start_time": "2021-07-08T11:46:19.330Z"
   },
   {
    "duration": 59,
    "start_time": "2021-07-08T11:46:19.343Z"
   },
   {
    "duration": 17,
    "start_time": "2021-07-08T11:46:19.405Z"
   },
   {
    "duration": 16,
    "start_time": "2021-07-08T11:46:19.424Z"
   },
   {
    "duration": 252,
    "start_time": "2021-07-08T11:46:19.443Z"
   },
   {
    "duration": 9,
    "start_time": "2021-07-08T11:46:19.697Z"
   },
   {
    "duration": 224,
    "start_time": "2021-07-08T11:46:19.708Z"
   },
   {
    "duration": 21,
    "start_time": "2021-07-08T11:46:19.934Z"
   },
   {
    "duration": 9,
    "start_time": "2021-07-08T11:46:19.956Z"
   },
   {
    "duration": 32,
    "start_time": "2021-07-08T11:46:19.967Z"
   },
   {
    "duration": 288,
    "start_time": "2021-07-08T11:46:20.004Z"
   },
   {
    "duration": 23,
    "start_time": "2021-07-08T11:46:20.300Z"
   },
   {
    "duration": 11,
    "start_time": "2021-07-08T11:46:20.325Z"
   },
   {
    "duration": 11,
    "start_time": "2021-07-08T11:46:20.339Z"
   },
   {
    "duration": 259,
    "start_time": "2021-07-08T11:46:20.352Z"
   },
   {
    "duration": 438,
    "start_time": "2021-07-08T11:46:20.613Z"
   },
   {
    "duration": 207,
    "start_time": "2021-07-08T11:46:21.054Z"
   },
   {
    "duration": 27,
    "start_time": "2021-07-08T11:46:21.262Z"
   },
   {
    "duration": 19,
    "start_time": "2021-07-08T11:46:21.291Z"
   },
   {
    "duration": 820,
    "start_time": "2021-07-08T11:49:01.655Z"
   },
   {
    "duration": 372,
    "start_time": "2021-07-08T11:49:02.478Z"
   },
   {
    "duration": 98,
    "start_time": "2021-07-08T11:49:02.853Z"
   },
   {
    "duration": 6,
    "start_time": "2021-07-08T11:49:02.953Z"
   },
   {
    "duration": 39,
    "start_time": "2021-07-08T11:49:02.960Z"
   },
   {
    "duration": 9,
    "start_time": "2021-07-08T11:49:03.003Z"
   },
   {
    "duration": 23,
    "start_time": "2021-07-08T11:49:03.014Z"
   },
   {
    "duration": 6,
    "start_time": "2021-07-08T11:49:03.041Z"
   },
   {
    "duration": 20,
    "start_time": "2021-07-08T11:49:03.049Z"
   },
   {
    "duration": 18,
    "start_time": "2021-07-08T11:49:03.084Z"
   },
   {
    "duration": 14,
    "start_time": "2021-07-08T11:49:03.104Z"
   },
   {
    "duration": 39,
    "start_time": "2021-07-08T11:49:03.119Z"
   },
   {
    "duration": 38,
    "start_time": "2021-07-08T11:49:03.160Z"
   },
   {
    "duration": 26,
    "start_time": "2021-07-08T11:49:03.200Z"
   },
   {
    "duration": 7,
    "start_time": "2021-07-08T11:49:03.227Z"
   },
   {
    "duration": 4,
    "start_time": "2021-07-08T11:49:03.236Z"
   },
   {
    "duration": 15,
    "start_time": "2021-07-08T11:49:03.243Z"
   },
   {
    "duration": 21,
    "start_time": "2021-07-08T11:49:03.285Z"
   },
   {
    "duration": 17,
    "start_time": "2021-07-08T11:49:03.309Z"
   },
   {
    "duration": 10,
    "start_time": "2021-07-08T11:49:03.328Z"
   },
   {
    "duration": 65,
    "start_time": "2021-07-08T11:49:03.340Z"
   },
   {
    "duration": 18,
    "start_time": "2021-07-08T11:49:03.407Z"
   },
   {
    "duration": 8,
    "start_time": "2021-07-08T11:49:03.428Z"
   },
   {
    "duration": 15,
    "start_time": "2021-07-08T11:49:03.438Z"
   },
   {
    "duration": 40,
    "start_time": "2021-07-08T11:49:03.455Z"
   },
   {
    "duration": 12,
    "start_time": "2021-07-08T11:49:03.497Z"
   },
   {
    "duration": 29,
    "start_time": "2021-07-08T11:49:03.511Z"
   },
   {
    "duration": 285,
    "start_time": "2021-07-08T11:49:03.542Z"
   },
   {
    "duration": 8,
    "start_time": "2021-07-08T11:49:03.829Z"
   },
   {
    "duration": 227,
    "start_time": "2021-07-08T11:49:03.838Z"
   },
   {
    "duration": 40,
    "start_time": "2021-07-08T11:49:04.066Z"
   },
   {
    "duration": 10,
    "start_time": "2021-07-08T11:49:04.108Z"
   },
   {
    "duration": 26,
    "start_time": "2021-07-08T11:49:04.121Z"
   },
   {
    "duration": 290,
    "start_time": "2021-07-08T11:49:04.149Z"
   },
   {
    "duration": 26,
    "start_time": "2021-07-08T11:49:04.441Z"
   },
   {
    "duration": 31,
    "start_time": "2021-07-08T11:49:04.470Z"
   },
   {
    "duration": 14,
    "start_time": "2021-07-08T11:49:04.503Z"
   },
   {
    "duration": 259,
    "start_time": "2021-07-08T11:49:04.521Z"
   },
   {
    "duration": 480,
    "start_time": "2021-07-08T11:49:04.782Z"
   },
   {
    "duration": 225,
    "start_time": "2021-07-08T11:49:05.264Z"
   },
   {
    "duration": 22,
    "start_time": "2021-07-08T11:49:05.491Z"
   },
   {
    "duration": 24,
    "start_time": "2021-07-08T11:49:05.515Z"
   },
   {
    "duration": 634,
    "start_time": "2021-07-08T11:52:24.960Z"
   },
   {
    "duration": 199,
    "start_time": "2021-07-08T11:52:25.599Z"
   },
   {
    "duration": 106,
    "start_time": "2021-07-08T11:52:25.803Z"
   },
   {
    "duration": 7,
    "start_time": "2021-07-08T11:52:25.911Z"
   },
   {
    "duration": 29,
    "start_time": "2021-07-08T11:52:25.920Z"
   },
   {
    "duration": 7,
    "start_time": "2021-07-08T11:52:25.951Z"
   },
   {
    "duration": 26,
    "start_time": "2021-07-08T11:52:25.961Z"
   },
   {
    "duration": 11,
    "start_time": "2021-07-08T11:52:25.990Z"
   },
   {
    "duration": 29,
    "start_time": "2021-07-08T11:52:26.005Z"
   },
   {
    "duration": 9,
    "start_time": "2021-07-08T11:52:26.036Z"
   },
   {
    "duration": 8,
    "start_time": "2021-07-08T11:52:26.047Z"
   },
   {
    "duration": 63,
    "start_time": "2021-07-08T11:52:26.057Z"
   },
   {
    "duration": 17,
    "start_time": "2021-07-08T11:52:26.122Z"
   },
   {
    "duration": 43,
    "start_time": "2021-07-08T11:52:26.142Z"
   },
   {
    "duration": 17,
    "start_time": "2021-07-08T11:52:26.187Z"
   },
   {
    "duration": 5,
    "start_time": "2021-07-08T11:52:26.206Z"
   },
   {
    "duration": 12,
    "start_time": "2021-07-08T11:52:26.212Z"
   },
   {
    "duration": 11,
    "start_time": "2021-07-08T11:52:26.226Z"
   },
   {
    "duration": 12,
    "start_time": "2021-07-08T11:52:26.238Z"
   },
   {
    "duration": 38,
    "start_time": "2021-07-08T11:52:26.252Z"
   },
   {
    "duration": 40,
    "start_time": "2021-07-08T11:52:26.292Z"
   },
   {
    "duration": 17,
    "start_time": "2021-07-08T11:52:26.336Z"
   },
   {
    "duration": 39,
    "start_time": "2021-07-08T11:52:26.355Z"
   },
   {
    "duration": 11,
    "start_time": "2021-07-08T11:52:26.395Z"
   },
   {
    "duration": 23,
    "start_time": "2021-07-08T11:52:26.408Z"
   },
   {
    "duration": 12,
    "start_time": "2021-07-08T11:52:26.432Z"
   },
   {
    "duration": 41,
    "start_time": "2021-07-08T11:52:26.446Z"
   },
   {
    "duration": 215,
    "start_time": "2021-07-08T11:52:26.493Z"
   },
   {
    "duration": 8,
    "start_time": "2021-07-08T11:52:26.710Z"
   },
   {
    "duration": 228,
    "start_time": "2021-07-08T11:52:26.720Z"
   },
   {
    "duration": 18,
    "start_time": "2021-07-08T11:52:26.950Z"
   },
   {
    "duration": 35,
    "start_time": "2021-07-08T11:52:26.969Z"
   },
   {
    "duration": 23,
    "start_time": "2021-07-08T11:52:27.006Z"
   },
   {
    "duration": 258,
    "start_time": "2021-07-08T11:52:27.030Z"
   },
   {
    "duration": 24,
    "start_time": "2021-07-08T11:52:27.290Z"
   },
   {
    "duration": 12,
    "start_time": "2021-07-08T11:52:27.316Z"
   },
   {
    "duration": 10,
    "start_time": "2021-07-08T11:52:27.329Z"
   },
   {
    "duration": 298,
    "start_time": "2021-07-08T11:52:27.341Z"
   },
   {
    "duration": 436,
    "start_time": "2021-07-08T11:52:27.641Z"
   },
   {
    "duration": 216,
    "start_time": "2021-07-08T11:52:28.079Z"
   },
   {
    "duration": 20,
    "start_time": "2021-07-08T11:52:28.297Z"
   },
   {
    "duration": 17,
    "start_time": "2021-07-08T11:52:28.319Z"
   },
   {
    "duration": 48,
    "start_time": "2022-08-17T16:27:04.392Z"
   },
   {
    "duration": 6,
    "start_time": "2022-08-17T16:27:31.547Z"
   },
   {
    "duration": 785,
    "start_time": "2022-08-17T16:27:36.135Z"
   },
   {
    "duration": 199,
    "start_time": "2022-08-17T16:27:40.219Z"
   },
   {
    "duration": 82,
    "start_time": "2022-08-17T16:27:57.730Z"
   },
   {
    "duration": 666,
    "start_time": "2022-08-17T16:28:10.004Z"
   },
   {
    "duration": 98,
    "start_time": "2022-08-17T16:28:10.673Z"
   },
   {
    "duration": 22,
    "start_time": "2022-08-17T16:28:10.773Z"
   },
   {
    "duration": 19,
    "start_time": "2022-08-17T16:28:10.798Z"
   },
   {
    "duration": 39,
    "start_time": "2022-08-17T16:28:10.819Z"
   },
   {
    "duration": 7,
    "start_time": "2022-08-17T16:28:10.859Z"
   },
   {
    "duration": 15,
    "start_time": "2022-08-17T16:28:10.867Z"
   },
   {
    "duration": 13,
    "start_time": "2022-08-17T16:28:10.883Z"
   },
   {
    "duration": 6,
    "start_time": "2022-08-17T16:28:10.897Z"
   },
   {
    "duration": 3,
    "start_time": "2022-08-17T16:28:10.905Z"
   },
   {
    "duration": 7,
    "start_time": "2022-08-17T16:28:10.909Z"
   },
   {
    "duration": 13,
    "start_time": "2022-08-17T16:28:10.917Z"
   },
   {
    "duration": 14,
    "start_time": "2022-08-17T16:28:10.931Z"
   },
   {
    "duration": 9,
    "start_time": "2022-08-17T16:28:10.947Z"
   },
   {
    "duration": 12,
    "start_time": "2022-08-17T16:28:10.958Z"
   },
   {
    "duration": 16,
    "start_time": "2022-08-17T16:28:10.972Z"
   },
   {
    "duration": 5,
    "start_time": "2022-08-17T16:28:11.011Z"
   },
   {
    "duration": 7,
    "start_time": "2022-08-17T16:28:11.017Z"
   },
   {
    "duration": 7,
    "start_time": "2022-08-17T16:28:11.025Z"
   },
   {
    "duration": 5,
    "start_time": "2022-08-17T16:28:11.033Z"
   },
   {
    "duration": 9,
    "start_time": "2022-08-17T16:28:11.039Z"
   },
   {
    "duration": 4,
    "start_time": "2022-08-17T16:28:11.049Z"
   },
   {
    "duration": 10,
    "start_time": "2022-08-17T16:28:11.054Z"
   },
   {
    "duration": 11,
    "start_time": "2022-08-17T16:28:11.066Z"
   },
   {
    "duration": 35,
    "start_time": "2022-08-17T16:28:11.079Z"
   },
   {
    "duration": 5,
    "start_time": "2022-08-17T16:28:11.115Z"
   },
   {
    "duration": 16,
    "start_time": "2022-08-17T16:28:11.122Z"
   },
   {
    "duration": 15,
    "start_time": "2022-08-17T16:28:11.142Z"
   },
   {
    "duration": 15,
    "start_time": "2022-08-17T16:28:11.158Z"
   },
   {
    "duration": 44,
    "start_time": "2022-08-17T16:28:11.174Z"
   },
   {
    "duration": 13,
    "start_time": "2022-08-17T16:28:11.220Z"
   },
   {
    "duration": 3,
    "start_time": "2022-08-17T16:28:11.235Z"
   },
   {
    "duration": 6,
    "start_time": "2022-08-17T16:28:11.239Z"
   },
   {
    "duration": 13,
    "start_time": "2022-08-17T16:28:11.246Z"
   },
   {
    "duration": 6,
    "start_time": "2022-08-17T16:28:11.260Z"
   },
   {
    "duration": 6,
    "start_time": "2022-08-17T16:28:11.267Z"
   },
   {
    "duration": 38,
    "start_time": "2022-08-17T16:28:11.274Z"
   },
   {
    "duration": 7,
    "start_time": "2022-08-17T16:28:11.314Z"
   },
   {
    "duration": 5,
    "start_time": "2022-08-17T16:28:11.322Z"
   },
   {
    "duration": 5,
    "start_time": "2022-08-17T16:28:11.328Z"
   },
   {
    "duration": 9,
    "start_time": "2022-08-17T16:28:11.334Z"
   },
   {
    "duration": 15,
    "start_time": "2022-08-17T16:28:11.344Z"
   },
   {
    "duration": 13,
    "start_time": "2022-08-17T16:28:11.361Z"
   },
   {
    "duration": 19,
    "start_time": "2022-08-17T16:28:11.375Z"
   },
   {
    "duration": 33,
    "start_time": "2022-08-17T16:28:11.396Z"
   },
   {
    "duration": 6,
    "start_time": "2022-08-17T16:28:11.431Z"
   },
   {
    "duration": 28,
    "start_time": "2022-08-17T16:28:11.439Z"
   },
   {
    "duration": 19,
    "start_time": "2022-08-17T16:28:11.469Z"
   },
   {
    "duration": 34,
    "start_time": "2022-08-17T16:28:11.489Z"
   },
   {
    "duration": 7,
    "start_time": "2022-08-17T16:28:11.524Z"
   },
   {
    "duration": 15,
    "start_time": "2022-08-17T16:28:11.533Z"
   },
   {
    "duration": 12,
    "start_time": "2022-08-17T16:28:11.550Z"
   },
   {
    "duration": 20,
    "start_time": "2022-08-17T16:28:11.564Z"
   },
   {
    "duration": 17,
    "start_time": "2022-08-17T16:28:11.586Z"
   },
   {
    "duration": 19,
    "start_time": "2022-08-17T16:28:11.604Z"
   },
   {
    "duration": 19,
    "start_time": "2022-08-17T16:28:11.625Z"
   },
   {
    "duration": 10,
    "start_time": "2022-08-17T16:28:11.645Z"
   },
   {
    "duration": 28,
    "start_time": "2022-08-17T16:28:11.657Z"
   },
   {
    "duration": 38,
    "start_time": "2022-08-17T16:28:11.686Z"
   },
   {
    "duration": 20,
    "start_time": "2022-08-17T16:28:11.725Z"
   },
   {
    "duration": 13,
    "start_time": "2022-08-17T16:28:11.747Z"
   },
   {
    "duration": 21,
    "start_time": "2022-08-17T16:28:11.762Z"
   },
   {
    "duration": 37,
    "start_time": "2022-08-17T16:28:11.784Z"
   },
   {
    "duration": 13,
    "start_time": "2022-08-17T16:28:11.823Z"
   },
   {
    "duration": 9,
    "start_time": "2022-08-17T16:28:11.838Z"
   },
   {
    "duration": 13,
    "start_time": "2022-08-17T16:28:11.849Z"
   },
   {
    "duration": 16,
    "start_time": "2022-08-17T16:28:11.864Z"
   },
   {
    "duration": 6,
    "start_time": "2022-08-17T16:28:11.882Z"
   },
   {
    "duration": 18,
    "start_time": "2022-08-17T16:28:11.890Z"
   },
   {
    "duration": 14,
    "start_time": "2022-08-17T16:28:11.911Z"
   },
   {
    "duration": 15,
    "start_time": "2022-08-17T16:28:11.927Z"
   },
   {
    "duration": 19,
    "start_time": "2022-08-17T16:28:11.944Z"
   },
   {
    "duration": 9,
    "start_time": "2022-08-17T16:28:11.965Z"
   },
   {
    "duration": 19,
    "start_time": "2022-08-17T16:28:11.976Z"
   },
   {
    "duration": 21,
    "start_time": "2022-08-17T16:28:11.997Z"
   },
   {
    "duration": 14,
    "start_time": "2022-08-17T16:28:12.020Z"
   },
   {
    "duration": 28,
    "start_time": "2022-08-17T16:28:12.036Z"
   },
   {
    "duration": 16,
    "start_time": "2022-08-17T16:28:12.067Z"
   },
   {
    "duration": 11,
    "start_time": "2022-08-17T16:28:12.084Z"
   },
   {
    "duration": 45,
    "start_time": "2022-08-17T16:28:12.097Z"
   },
   {
    "duration": 13,
    "start_time": "2022-08-17T16:28:12.143Z"
   },
   {
    "duration": 14,
    "start_time": "2022-08-17T16:28:12.161Z"
   },
   {
    "duration": 19,
    "start_time": "2022-08-17T16:28:12.176Z"
   },
   {
    "duration": 94,
    "start_time": "2022-08-17T16:28:12.196Z"
   },
   {
    "duration": 88,
    "start_time": "2022-08-17T16:28:12.291Z"
   },
   {
    "duration": 6,
    "start_time": "2022-08-17T16:28:12.381Z"
   },
   {
    "duration": 29,
    "start_time": "2022-08-17T16:28:12.388Z"
   },
   {
    "duration": 15,
    "start_time": "2022-08-17T16:28:12.419Z"
   },
   {
    "duration": 16,
    "start_time": "2022-08-17T16:28:12.435Z"
   },
   {
    "duration": 16,
    "start_time": "2022-08-17T16:28:12.452Z"
   },
   {
    "duration": 566,
    "start_time": "2022-08-17T16:28:12.469Z"
   },
   {
    "duration": 3,
    "start_time": "2022-08-17T16:28:13.036Z"
   },
   {
    "duration": 29,
    "start_time": "2022-08-17T16:28:13.040Z"
   },
   {
    "duration": 45,
    "start_time": "2022-08-17T16:28:13.070Z"
   },
   {
    "duration": 13,
    "start_time": "2022-08-17T16:28:13.116Z"
   },
   {
    "duration": 98,
    "start_time": "2022-08-17T16:28:13.130Z"
   },
   {
    "duration": 7,
    "start_time": "2022-08-17T16:28:13.229Z"
   },
   {
    "duration": 8,
    "start_time": "2022-08-17T16:28:13.238Z"
   },
   {
    "duration": 114,
    "start_time": "2022-08-17T16:28:13.248Z"
   },
   {
    "duration": 6,
    "start_time": "2022-08-17T16:28:13.364Z"
   },
   {
    "duration": 19,
    "start_time": "2022-08-17T16:28:13.371Z"
   },
   {
    "duration": 22,
    "start_time": "2022-08-17T16:28:13.392Z"
   },
   {
    "duration": 138,
    "start_time": "2022-08-17T16:28:13.416Z"
   },
   {
    "duration": 0,
    "start_time": "2022-08-17T16:28:13.556Z"
   },
   {
    "duration": 0,
    "start_time": "2022-08-17T16:28:13.557Z"
   },
   {
    "duration": 0,
    "start_time": "2022-08-17T16:28:13.558Z"
   },
   {
    "duration": 0,
    "start_time": "2022-08-17T16:28:13.559Z"
   },
   {
    "duration": 0,
    "start_time": "2022-08-17T16:28:13.560Z"
   },
   {
    "duration": 0,
    "start_time": "2022-08-17T16:28:13.561Z"
   },
   {
    "duration": 0,
    "start_time": "2022-08-17T16:28:13.562Z"
   },
   {
    "duration": 0,
    "start_time": "2022-08-17T16:28:13.563Z"
   },
   {
    "duration": 0,
    "start_time": "2022-08-17T16:28:13.564Z"
   },
   {
    "duration": 0,
    "start_time": "2022-08-17T16:28:13.565Z"
   },
   {
    "duration": 0,
    "start_time": "2022-08-17T16:28:13.566Z"
   },
   {
    "duration": 0,
    "start_time": "2022-08-17T16:28:13.567Z"
   },
   {
    "duration": 0,
    "start_time": "2022-08-17T16:28:13.568Z"
   },
   {
    "duration": 0,
    "start_time": "2022-08-17T16:28:13.569Z"
   },
   {
    "duration": 0,
    "start_time": "2022-08-17T16:28:13.569Z"
   },
   {
    "duration": 0,
    "start_time": "2022-08-17T16:28:13.570Z"
   },
   {
    "duration": 0,
    "start_time": "2022-08-17T16:28:13.572Z"
   },
   {
    "duration": 0,
    "start_time": "2022-08-17T16:28:13.573Z"
   },
   {
    "duration": 0,
    "start_time": "2022-08-17T16:28:13.573Z"
   },
   {
    "duration": 0,
    "start_time": "2022-08-17T16:28:13.574Z"
   },
   {
    "duration": 0,
    "start_time": "2022-08-17T16:28:13.575Z"
   },
   {
    "duration": 0,
    "start_time": "2022-08-17T16:28:13.576Z"
   },
   {
    "duration": 19,
    "start_time": "2022-08-17T16:28:50.586Z"
   },
   {
    "duration": 41,
    "start_time": "2022-08-17T16:28:59.823Z"
   },
   {
    "duration": 14,
    "start_time": "2022-08-17T16:29:07.726Z"
   },
   {
    "duration": 19,
    "start_time": "2022-08-17T16:29:07.741Z"
   },
   {
    "duration": 19,
    "start_time": "2022-08-17T16:29:07.762Z"
   },
   {
    "duration": 0,
    "start_time": "2022-08-17T16:29:07.784Z"
   },
   {
    "duration": 0,
    "start_time": "2022-08-17T16:29:07.786Z"
   },
   {
    "duration": 0,
    "start_time": "2022-08-17T16:29:07.787Z"
   },
   {
    "duration": 0,
    "start_time": "2022-08-17T16:29:07.789Z"
   },
   {
    "duration": 0,
    "start_time": "2022-08-17T16:29:07.790Z"
   },
   {
    "duration": 0,
    "start_time": "2022-08-17T16:29:07.810Z"
   },
   {
    "duration": 0,
    "start_time": "2022-08-17T16:29:07.811Z"
   },
   {
    "duration": 0,
    "start_time": "2022-08-17T16:29:07.812Z"
   },
   {
    "duration": 0,
    "start_time": "2022-08-17T16:29:07.814Z"
   },
   {
    "duration": 0,
    "start_time": "2022-08-17T16:29:07.815Z"
   },
   {
    "duration": 0,
    "start_time": "2022-08-17T16:29:07.816Z"
   },
   {
    "duration": 0,
    "start_time": "2022-08-17T16:29:07.817Z"
   },
   {
    "duration": 1,
    "start_time": "2022-08-17T16:29:07.818Z"
   },
   {
    "duration": 0,
    "start_time": "2022-08-17T16:29:07.820Z"
   },
   {
    "duration": 0,
    "start_time": "2022-08-17T16:29:07.821Z"
   },
   {
    "duration": 0,
    "start_time": "2022-08-17T16:29:07.823Z"
   },
   {
    "duration": 0,
    "start_time": "2022-08-17T16:29:07.824Z"
   },
   {
    "duration": 0,
    "start_time": "2022-08-17T16:29:07.825Z"
   },
   {
    "duration": 20,
    "start_time": "2022-08-17T16:29:25.700Z"
   },
   {
    "duration": 22,
    "start_time": "2022-08-17T16:29:30.360Z"
   },
   {
    "duration": 10,
    "start_time": "2022-08-17T16:29:36.676Z"
   },
   {
    "duration": 18,
    "start_time": "2022-08-17T16:29:36.688Z"
   },
   {
    "duration": 14,
    "start_time": "2022-08-17T16:29:36.708Z"
   },
   {
    "duration": 15,
    "start_time": "2022-08-17T16:29:36.724Z"
   },
   {
    "duration": 120,
    "start_time": "2022-08-17T16:29:36.740Z"
   },
   {
    "duration": 115,
    "start_time": "2022-08-17T16:29:36.862Z"
   },
   {
    "duration": 113,
    "start_time": "2022-08-17T16:29:36.978Z"
   },
   {
    "duration": 133,
    "start_time": "2022-08-17T16:29:37.093Z"
   },
   {
    "duration": 118,
    "start_time": "2022-08-17T16:29:37.227Z"
   },
   {
    "duration": 8,
    "start_time": "2022-08-17T16:29:37.347Z"
   },
   {
    "duration": 12,
    "start_time": "2022-08-17T16:29:37.356Z"
   },
   {
    "duration": 127,
    "start_time": "2022-08-17T16:29:37.369Z"
   },
   {
    "duration": 114,
    "start_time": "2022-08-17T16:29:37.498Z"
   },
   {
    "duration": 160,
    "start_time": "2022-08-17T16:29:37.614Z"
   },
   {
    "duration": 120,
    "start_time": "2022-08-17T16:29:37.775Z"
   },
   {
    "duration": 121,
    "start_time": "2022-08-17T16:29:37.897Z"
   },
   {
    "duration": 123,
    "start_time": "2022-08-17T16:29:38.020Z"
   },
   {
    "duration": 634,
    "start_time": "2022-08-17T16:29:55.390Z"
   },
   {
    "duration": 93,
    "start_time": "2022-08-17T16:29:56.026Z"
   },
   {
    "duration": 16,
    "start_time": "2022-08-17T16:29:56.121Z"
   },
   {
    "duration": 14,
    "start_time": "2022-08-17T16:29:56.139Z"
   },
   {
    "duration": 37,
    "start_time": "2022-08-17T16:29:56.154Z"
   },
   {
    "duration": 7,
    "start_time": "2022-08-17T16:29:56.192Z"
   },
   {
    "duration": 11,
    "start_time": "2022-08-17T16:29:56.200Z"
   },
   {
    "duration": 14,
    "start_time": "2022-08-17T16:29:56.212Z"
   },
   {
    "duration": 6,
    "start_time": "2022-08-17T16:29:56.228Z"
   },
   {
    "duration": 2,
    "start_time": "2022-08-17T16:29:56.236Z"
   },
   {
    "duration": 7,
    "start_time": "2022-08-17T16:29:56.239Z"
   },
   {
    "duration": 13,
    "start_time": "2022-08-17T16:29:56.247Z"
   },
   {
    "duration": 6,
    "start_time": "2022-08-17T16:29:56.262Z"
   },
   {
    "duration": 10,
    "start_time": "2022-08-17T16:29:56.269Z"
   },
   {
    "duration": 32,
    "start_time": "2022-08-17T16:29:56.280Z"
   },
   {
    "duration": 15,
    "start_time": "2022-08-17T16:29:56.313Z"
   },
   {
    "duration": 4,
    "start_time": "2022-08-17T16:29:56.329Z"
   },
   {
    "duration": 10,
    "start_time": "2022-08-17T16:29:56.334Z"
   },
   {
    "duration": 7,
    "start_time": "2022-08-17T16:29:56.345Z"
   },
   {
    "duration": 5,
    "start_time": "2022-08-17T16:29:56.353Z"
   },
   {
    "duration": 9,
    "start_time": "2022-08-17T16:29:56.359Z"
   },
   {
    "duration": 5,
    "start_time": "2022-08-17T16:29:56.369Z"
   },
   {
    "duration": 5,
    "start_time": "2022-08-17T16:29:56.375Z"
   },
   {
    "duration": 35,
    "start_time": "2022-08-17T16:29:56.381Z"
   },
   {
    "duration": 5,
    "start_time": "2022-08-17T16:29:56.418Z"
   },
   {
    "duration": 8,
    "start_time": "2022-08-17T16:29:56.424Z"
   },
   {
    "duration": 16,
    "start_time": "2022-08-17T16:29:56.433Z"
   },
   {
    "duration": 15,
    "start_time": "2022-08-17T16:29:56.453Z"
   },
   {
    "duration": 14,
    "start_time": "2022-08-17T16:29:56.469Z"
   },
   {
    "duration": 37,
    "start_time": "2022-08-17T16:29:56.485Z"
   },
   {
    "duration": 15,
    "start_time": "2022-08-17T16:29:56.524Z"
   },
   {
    "duration": 3,
    "start_time": "2022-08-17T16:29:56.540Z"
   },
   {
    "duration": 5,
    "start_time": "2022-08-17T16:29:56.544Z"
   },
   {
    "duration": 12,
    "start_time": "2022-08-17T16:29:56.551Z"
   },
   {
    "duration": 4,
    "start_time": "2022-08-17T16:29:56.565Z"
   },
   {
    "duration": 5,
    "start_time": "2022-08-17T16:29:56.570Z"
   },
   {
    "duration": 35,
    "start_time": "2022-08-17T16:29:56.576Z"
   },
   {
    "duration": 6,
    "start_time": "2022-08-17T16:29:56.613Z"
   },
   {
    "duration": 6,
    "start_time": "2022-08-17T16:29:56.620Z"
   },
   {
    "duration": 6,
    "start_time": "2022-08-17T16:29:56.627Z"
   },
   {
    "duration": 3,
    "start_time": "2022-08-17T16:29:56.634Z"
   },
   {
    "duration": 5,
    "start_time": "2022-08-17T16:29:56.639Z"
   },
   {
    "duration": 7,
    "start_time": "2022-08-17T16:29:56.645Z"
   },
   {
    "duration": 8,
    "start_time": "2022-08-17T16:29:56.654Z"
   },
   {
    "duration": 7,
    "start_time": "2022-08-17T16:29:56.664Z"
   },
   {
    "duration": 9,
    "start_time": "2022-08-17T16:29:56.672Z"
   },
   {
    "duration": 9,
    "start_time": "2022-08-17T16:29:56.682Z"
   },
   {
    "duration": 4,
    "start_time": "2022-08-17T16:29:56.711Z"
   },
   {
    "duration": 25,
    "start_time": "2022-08-17T16:29:56.717Z"
   },
   {
    "duration": 6,
    "start_time": "2022-08-17T16:29:56.744Z"
   },
   {
    "duration": 9,
    "start_time": "2022-08-17T16:29:56.751Z"
   },
   {
    "duration": 8,
    "start_time": "2022-08-17T16:29:56.761Z"
   },
   {
    "duration": 41,
    "start_time": "2022-08-17T16:29:56.771Z"
   },
   {
    "duration": 18,
    "start_time": "2022-08-17T16:29:56.813Z"
   },
   {
    "duration": 17,
    "start_time": "2022-08-17T16:29:56.832Z"
   },
   {
    "duration": 14,
    "start_time": "2022-08-17T16:29:56.850Z"
   },
   {
    "duration": 10,
    "start_time": "2022-08-17T16:29:56.866Z"
   },
   {
    "duration": 47,
    "start_time": "2022-08-17T16:29:56.878Z"
   },
   {
    "duration": 29,
    "start_time": "2022-08-17T16:29:56.927Z"
   },
   {
    "duration": 19,
    "start_time": "2022-08-17T16:29:56.957Z"
   },
   {
    "duration": 9,
    "start_time": "2022-08-17T16:29:56.978Z"
   },
   {
    "duration": 16,
    "start_time": "2022-08-17T16:29:57.011Z"
   },
   {
    "duration": 14,
    "start_time": "2022-08-17T16:29:57.028Z"
   },
   {
    "duration": 5,
    "start_time": "2022-08-17T16:29:57.044Z"
   },
   {
    "duration": 8,
    "start_time": "2022-08-17T16:29:57.050Z"
   },
   {
    "duration": 15,
    "start_time": "2022-08-17T16:29:57.060Z"
   },
   {
    "duration": 14,
    "start_time": "2022-08-17T16:29:57.077Z"
   },
   {
    "duration": 19,
    "start_time": "2022-08-17T16:29:57.093Z"
   },
   {
    "duration": 6,
    "start_time": "2022-08-17T16:29:57.114Z"
   },
   {
    "duration": 11,
    "start_time": "2022-08-17T16:29:57.121Z"
   },
   {
    "duration": 18,
    "start_time": "2022-08-17T16:29:57.133Z"
   },
   {
    "duration": 20,
    "start_time": "2022-08-17T16:29:57.152Z"
   },
   {
    "duration": 7,
    "start_time": "2022-08-17T16:29:57.174Z"
   },
   {
    "duration": 18,
    "start_time": "2022-08-17T16:29:57.182Z"
   },
   {
    "duration": 30,
    "start_time": "2022-08-17T16:29:57.202Z"
   },
   {
    "duration": 22,
    "start_time": "2022-08-17T16:29:57.233Z"
   },
   {
    "duration": 23,
    "start_time": "2022-08-17T16:29:57.257Z"
   },
   {
    "duration": 13,
    "start_time": "2022-08-17T16:29:57.281Z"
   },
   {
    "duration": 13,
    "start_time": "2022-08-17T16:29:57.295Z"
   },
   {
    "duration": 5,
    "start_time": "2022-08-17T16:29:57.309Z"
   },
   {
    "duration": 27,
    "start_time": "2022-08-17T16:29:57.315Z"
   },
   {
    "duration": 25,
    "start_time": "2022-08-17T16:29:57.347Z"
   },
   {
    "duration": 9,
    "start_time": "2022-08-17T16:29:57.374Z"
   },
   {
    "duration": 121,
    "start_time": "2022-08-17T16:29:57.385Z"
   },
   {
    "duration": 87,
    "start_time": "2022-08-17T16:29:57.507Z"
   },
   {
    "duration": 17,
    "start_time": "2022-08-17T16:29:57.595Z"
   },
   {
    "duration": 29,
    "start_time": "2022-08-17T16:29:57.614Z"
   },
   {
    "duration": 12,
    "start_time": "2022-08-17T16:29:57.644Z"
   },
   {
    "duration": 18,
    "start_time": "2022-08-17T16:29:57.658Z"
   },
   {
    "duration": 11,
    "start_time": "2022-08-17T16:29:57.677Z"
   },
   {
    "duration": 472,
    "start_time": "2022-08-17T16:29:57.690Z"
   },
   {
    "duration": 2,
    "start_time": "2022-08-17T16:29:58.163Z"
   },
   {
    "duration": 7,
    "start_time": "2022-08-17T16:29:58.167Z"
   },
   {
    "duration": 14,
    "start_time": "2022-08-17T16:29:58.175Z"
   },
   {
    "duration": 8,
    "start_time": "2022-08-17T16:29:58.191Z"
   },
   {
    "duration": 91,
    "start_time": "2022-08-17T16:29:58.200Z"
   },
   {
    "duration": 7,
    "start_time": "2022-08-17T16:29:58.292Z"
   },
   {
    "duration": 9,
    "start_time": "2022-08-17T16:29:58.310Z"
   },
   {
    "duration": 109,
    "start_time": "2022-08-17T16:29:58.320Z"
   },
   {
    "duration": 6,
    "start_time": "2022-08-17T16:29:58.430Z"
   },
   {
    "duration": 8,
    "start_time": "2022-08-17T16:29:58.437Z"
   },
   {
    "duration": 5,
    "start_time": "2022-08-17T16:29:58.446Z"
   },
   {
    "duration": 68,
    "start_time": "2022-08-17T16:29:58.452Z"
   },
   {
    "duration": 32,
    "start_time": "2022-08-17T16:29:58.521Z"
   },
   {
    "duration": 13,
    "start_time": "2022-08-17T16:29:58.555Z"
   },
   {
    "duration": 12,
    "start_time": "2022-08-17T16:29:58.569Z"
   },
   {
    "duration": 44,
    "start_time": "2022-08-17T16:29:58.583Z"
   },
   {
    "duration": 20,
    "start_time": "2022-08-17T16:29:58.628Z"
   },
   {
    "duration": 9,
    "start_time": "2022-08-17T16:29:58.649Z"
   },
   {
    "duration": 8,
    "start_time": "2022-08-17T16:29:58.660Z"
   },
   {
    "duration": 6,
    "start_time": "2022-08-17T16:29:58.669Z"
   },
   {
    "duration": 34,
    "start_time": "2022-08-17T16:29:58.677Z"
   },
   {
    "duration": 115,
    "start_time": "2022-08-17T16:29:58.712Z"
   },
   {
    "duration": 113,
    "start_time": "2022-08-17T16:29:58.829Z"
   },
   {
    "duration": 122,
    "start_time": "2022-08-17T16:29:58.943Z"
   },
   {
    "duration": 132,
    "start_time": "2022-08-17T16:29:59.066Z"
   },
   {
    "duration": 130,
    "start_time": "2022-08-17T16:29:59.200Z"
   },
   {
    "duration": 8,
    "start_time": "2022-08-17T16:29:59.332Z"
   },
   {
    "duration": 10,
    "start_time": "2022-08-17T16:29:59.341Z"
   },
   {
    "duration": 139,
    "start_time": "2022-08-17T16:29:59.353Z"
   },
   {
    "duration": 125,
    "start_time": "2022-08-17T16:29:59.493Z"
   },
   {
    "duration": 168,
    "start_time": "2022-08-17T16:29:59.620Z"
   },
   {
    "duration": 124,
    "start_time": "2022-08-17T16:29:59.789Z"
   },
   {
    "duration": 141,
    "start_time": "2022-08-17T16:29:59.915Z"
   },
   {
    "duration": 127,
    "start_time": "2022-08-17T16:30:00.057Z"
   },
   {
    "duration": 744,
    "start_time": "2022-08-18T07:23:40.192Z"
   },
   {
    "duration": 185,
    "start_time": "2022-08-18T07:23:40.938Z"
   },
   {
    "duration": 15,
    "start_time": "2022-08-18T07:23:41.125Z"
   },
   {
    "duration": 13,
    "start_time": "2022-08-18T07:23:41.142Z"
   },
   {
    "duration": 80,
    "start_time": "2022-08-18T07:23:41.157Z"
   },
   {
    "duration": 6,
    "start_time": "2022-08-18T07:23:41.239Z"
   },
   {
    "duration": 12,
    "start_time": "2022-08-18T07:23:41.247Z"
   },
   {
    "duration": 19,
    "start_time": "2022-08-18T07:23:41.260Z"
   },
   {
    "duration": 8,
    "start_time": "2022-08-18T07:23:41.281Z"
   },
   {
    "duration": 3,
    "start_time": "2022-08-18T07:23:41.291Z"
   },
   {
    "duration": 7,
    "start_time": "2022-08-18T07:23:41.295Z"
   },
   {
    "duration": 14,
    "start_time": "2022-08-18T07:23:41.304Z"
   },
   {
    "duration": 6,
    "start_time": "2022-08-18T07:23:41.338Z"
   },
   {
    "duration": 10,
    "start_time": "2022-08-18T07:23:41.346Z"
   },
   {
    "duration": 12,
    "start_time": "2022-08-18T07:23:41.357Z"
   },
   {
    "duration": 14,
    "start_time": "2022-08-18T07:23:41.371Z"
   },
   {
    "duration": 4,
    "start_time": "2022-08-18T07:23:41.386Z"
   },
   {
    "duration": 7,
    "start_time": "2022-08-18T07:23:41.391Z"
   },
   {
    "duration": 7,
    "start_time": "2022-08-18T07:23:41.399Z"
   },
   {
    "duration": 12,
    "start_time": "2022-08-18T07:23:41.408Z"
   },
   {
    "duration": 12,
    "start_time": "2022-08-18T07:23:41.439Z"
   },
   {
    "duration": 4,
    "start_time": "2022-08-18T07:23:41.453Z"
   },
   {
    "duration": 10,
    "start_time": "2022-08-18T07:23:41.458Z"
   },
   {
    "duration": 9,
    "start_time": "2022-08-18T07:23:41.469Z"
   },
   {
    "duration": 5,
    "start_time": "2022-08-18T07:23:41.479Z"
   },
   {
    "duration": 9,
    "start_time": "2022-08-18T07:23:41.485Z"
   },
   {
    "duration": 18,
    "start_time": "2022-08-18T07:23:41.495Z"
   },
   {
    "duration": 30,
    "start_time": "2022-08-18T07:23:41.516Z"
   },
   {
    "duration": 14,
    "start_time": "2022-08-18T07:23:41.547Z"
   },
   {
    "duration": 14,
    "start_time": "2022-08-18T07:23:41.562Z"
   },
   {
    "duration": 13,
    "start_time": "2022-08-18T07:23:41.577Z"
   },
   {
    "duration": 3,
    "start_time": "2022-08-18T07:23:41.592Z"
   },
   {
    "duration": 6,
    "start_time": "2022-08-18T07:23:41.597Z"
   },
   {
    "duration": 43,
    "start_time": "2022-08-18T07:23:41.604Z"
   },
   {
    "duration": 7,
    "start_time": "2022-08-18T07:23:41.649Z"
   },
   {
    "duration": 10,
    "start_time": "2022-08-18T07:23:41.657Z"
   },
   {
    "duration": 8,
    "start_time": "2022-08-18T07:23:41.668Z"
   },
   {
    "duration": 9,
    "start_time": "2022-08-18T07:23:41.677Z"
   },
   {
    "duration": 7,
    "start_time": "2022-08-18T07:23:41.687Z"
   },
   {
    "duration": 8,
    "start_time": "2022-08-18T07:23:41.696Z"
   },
   {
    "duration": 7,
    "start_time": "2022-08-18T07:23:41.706Z"
   },
   {
    "duration": 25,
    "start_time": "2022-08-18T07:23:41.714Z"
   },
   {
    "duration": 5,
    "start_time": "2022-08-18T07:23:41.740Z"
   },
   {
    "duration": 7,
    "start_time": "2022-08-18T07:23:41.746Z"
   },
   {
    "duration": 6,
    "start_time": "2022-08-18T07:23:41.755Z"
   },
   {
    "duration": 5,
    "start_time": "2022-08-18T07:23:41.763Z"
   },
   {
    "duration": 8,
    "start_time": "2022-08-18T07:23:41.769Z"
   },
   {
    "duration": 7,
    "start_time": "2022-08-18T07:23:41.778Z"
   },
   {
    "duration": 25,
    "start_time": "2022-08-18T07:23:41.786Z"
   },
   {
    "duration": 5,
    "start_time": "2022-08-18T07:23:41.812Z"
   },
   {
    "duration": 7,
    "start_time": "2022-08-18T07:23:41.819Z"
   },
   {
    "duration": 17,
    "start_time": "2022-08-18T07:23:41.827Z"
   },
   {
    "duration": 15,
    "start_time": "2022-08-18T07:23:41.845Z"
   },
   {
    "duration": 17,
    "start_time": "2022-08-18T07:23:41.861Z"
   },
   {
    "duration": 20,
    "start_time": "2022-08-18T07:23:41.879Z"
   },
   {
    "duration": 16,
    "start_time": "2022-08-18T07:23:41.900Z"
   },
   {
    "duration": 24,
    "start_time": "2022-08-18T07:23:41.917Z"
   },
   {
    "duration": 18,
    "start_time": "2022-08-18T07:23:41.942Z"
   },
   {
    "duration": 27,
    "start_time": "2022-08-18T07:23:41.961Z"
   },
   {
    "duration": 17,
    "start_time": "2022-08-18T07:23:41.989Z"
   },
   {
    "duration": 36,
    "start_time": "2022-08-18T07:23:42.007Z"
   },
   {
    "duration": 15,
    "start_time": "2022-08-18T07:23:42.044Z"
   },
   {
    "duration": 15,
    "start_time": "2022-08-18T07:23:42.060Z"
   },
   {
    "duration": 10,
    "start_time": "2022-08-18T07:23:42.076Z"
   },
   {
    "duration": 9,
    "start_time": "2022-08-18T07:23:42.088Z"
   },
   {
    "duration": 6,
    "start_time": "2022-08-18T07:23:42.098Z"
   },
   {
    "duration": 9,
    "start_time": "2022-08-18T07:23:42.105Z"
   },
   {
    "duration": 26,
    "start_time": "2022-08-18T07:23:42.115Z"
   },
   {
    "duration": 6,
    "start_time": "2022-08-18T07:23:42.142Z"
   },
   {
    "duration": 9,
    "start_time": "2022-08-18T07:23:42.149Z"
   },
   {
    "duration": 12,
    "start_time": "2022-08-18T07:23:42.159Z"
   },
   {
    "duration": 13,
    "start_time": "2022-08-18T07:23:42.172Z"
   },
   {
    "duration": 5,
    "start_time": "2022-08-18T07:23:42.186Z"
   },
   {
    "duration": 9,
    "start_time": "2022-08-18T07:23:42.192Z"
   },
   {
    "duration": 9,
    "start_time": "2022-08-18T07:23:42.202Z"
   },
   {
    "duration": 27,
    "start_time": "2022-08-18T07:23:42.213Z"
   },
   {
    "duration": 22,
    "start_time": "2022-08-18T07:23:42.241Z"
   },
   {
    "duration": 19,
    "start_time": "2022-08-18T07:23:42.265Z"
   },
   {
    "duration": 9,
    "start_time": "2022-08-18T07:23:42.285Z"
   },
   {
    "duration": 9,
    "start_time": "2022-08-18T07:23:42.295Z"
   },
   {
    "duration": 12,
    "start_time": "2022-08-18T07:23:42.305Z"
   },
   {
    "duration": 10,
    "start_time": "2022-08-18T07:23:42.341Z"
   },
   {
    "duration": 12,
    "start_time": "2022-08-18T07:23:42.353Z"
   },
   {
    "duration": 129,
    "start_time": "2022-08-18T07:23:42.367Z"
   },
   {
    "duration": 85,
    "start_time": "2022-08-18T07:23:42.497Z"
   },
   {
    "duration": 6,
    "start_time": "2022-08-18T07:23:42.584Z"
   },
   {
    "duration": 19,
    "start_time": "2022-08-18T07:23:42.591Z"
   },
   {
    "duration": 7,
    "start_time": "2022-08-18T07:23:42.611Z"
   },
   {
    "duration": 21,
    "start_time": "2022-08-18T07:23:42.620Z"
   },
   {
    "duration": 5,
    "start_time": "2022-08-18T07:23:42.643Z"
   },
   {
    "duration": 412,
    "start_time": "2022-08-18T07:23:42.649Z"
   },
   {
    "duration": 3,
    "start_time": "2022-08-18T07:23:43.062Z"
   },
   {
    "duration": 5,
    "start_time": "2022-08-18T07:23:43.066Z"
   },
   {
    "duration": 10,
    "start_time": "2022-08-18T07:23:43.073Z"
   },
   {
    "duration": 6,
    "start_time": "2022-08-18T07:23:43.085Z"
   },
   {
    "duration": 97,
    "start_time": "2022-08-18T07:23:43.092Z"
   },
   {
    "duration": 7,
    "start_time": "2022-08-18T07:23:43.190Z"
   },
   {
    "duration": 11,
    "start_time": "2022-08-18T07:23:43.198Z"
   },
   {
    "duration": 111,
    "start_time": "2022-08-18T07:23:43.210Z"
   },
   {
    "duration": 5,
    "start_time": "2022-08-18T07:23:43.323Z"
   },
   {
    "duration": 11,
    "start_time": "2022-08-18T07:23:43.330Z"
   },
   {
    "duration": 7,
    "start_time": "2022-08-18T07:23:43.342Z"
   },
   {
    "duration": 48,
    "start_time": "2022-08-18T07:23:43.350Z"
   },
   {
    "duration": 44,
    "start_time": "2022-08-18T07:23:43.400Z"
   },
   {
    "duration": 13,
    "start_time": "2022-08-18T07:23:43.445Z"
   },
   {
    "duration": 16,
    "start_time": "2022-08-18T07:23:43.459Z"
   },
   {
    "duration": 17,
    "start_time": "2022-08-18T07:23:43.476Z"
   },
   {
    "duration": 18,
    "start_time": "2022-08-18T07:23:43.495Z"
   },
   {
    "duration": 31,
    "start_time": "2022-08-18T07:23:43.515Z"
   },
   {
    "duration": 7,
    "start_time": "2022-08-18T07:23:43.548Z"
   },
   {
    "duration": 5,
    "start_time": "2022-08-18T07:23:43.557Z"
   },
   {
    "duration": 11,
    "start_time": "2022-08-18T07:23:43.563Z"
   },
   {
    "duration": 151,
    "start_time": "2022-08-18T07:23:43.576Z"
   },
   {
    "duration": 117,
    "start_time": "2022-08-18T07:23:43.729Z"
   },
   {
    "duration": 123,
    "start_time": "2022-08-18T07:23:43.848Z"
   },
   {
    "duration": 129,
    "start_time": "2022-08-18T07:23:43.972Z"
   },
   {
    "duration": 123,
    "start_time": "2022-08-18T07:23:44.102Z"
   },
   {
    "duration": 18,
    "start_time": "2022-08-18T07:23:44.226Z"
   },
   {
    "duration": 13,
    "start_time": "2022-08-18T07:23:44.245Z"
   },
   {
    "duration": 134,
    "start_time": "2022-08-18T07:23:44.260Z"
   },
   {
    "duration": 119,
    "start_time": "2022-08-18T07:23:44.396Z"
   },
   {
    "duration": 159,
    "start_time": "2022-08-18T07:23:44.516Z"
   },
   {
    "duration": 114,
    "start_time": "2022-08-18T07:23:44.676Z"
   },
   {
    "duration": 125,
    "start_time": "2022-08-18T07:23:44.792Z"
   },
   {
    "duration": 121,
    "start_time": "2022-08-18T07:23:44.918Z"
   },
   {
    "duration": 10,
    "start_time": "2022-08-18T07:57:21.552Z"
   },
   {
    "duration": 4,
    "start_time": "2022-08-18T08:21:12.715Z"
   },
   {
    "duration": 4,
    "start_time": "2022-08-18T08:25:20.656Z"
   },
   {
    "duration": 19480,
    "start_time": "2022-08-18T08:25:32.960Z"
   },
   {
    "duration": 793,
    "start_time": "2022-08-18T16:54:43.413Z"
   },
   {
    "duration": 215,
    "start_time": "2022-08-18T16:54:44.208Z"
   },
   {
    "duration": 26,
    "start_time": "2022-08-18T16:54:44.426Z"
   },
   {
    "duration": 39,
    "start_time": "2022-08-18T16:54:44.455Z"
   },
   {
    "duration": 104,
    "start_time": "2022-08-18T16:54:44.502Z"
   },
   {
    "duration": 13,
    "start_time": "2022-08-18T16:54:44.608Z"
   },
   {
    "duration": 26,
    "start_time": "2022-08-18T16:54:44.623Z"
   },
   {
    "duration": 40,
    "start_time": "2022-08-18T16:54:44.651Z"
   },
   {
    "duration": 16,
    "start_time": "2022-08-18T16:54:44.695Z"
   },
   {
    "duration": 6,
    "start_time": "2022-08-18T16:54:44.714Z"
   },
   {
    "duration": 8,
    "start_time": "2022-08-18T16:54:44.722Z"
   },
   {
    "duration": 16,
    "start_time": "2022-08-18T16:54:44.732Z"
   },
   {
    "duration": 7,
    "start_time": "2022-08-18T16:54:50.401Z"
   },
   {
    "duration": 7,
    "start_time": "2022-08-18T16:55:18.750Z"
   },
   {
    "duration": 33,
    "start_time": "2022-08-18T16:56:32.782Z"
   },
   {
    "duration": 15,
    "start_time": "2022-08-18T16:56:36.200Z"
   },
   {
    "duration": 20,
    "start_time": "2022-08-18T16:58:40.476Z"
   },
   {
    "duration": 841,
    "start_time": "2022-08-19T10:21:50.492Z"
   },
   {
    "duration": 213,
    "start_time": "2022-08-19T10:21:51.335Z"
   },
   {
    "duration": 1665,
    "start_time": "2022-08-19T10:21:51.551Z"
   },
   {
    "duration": 17,
    "start_time": "2022-08-19T10:21:53.218Z"
   },
   {
    "duration": 92,
    "start_time": "2022-08-19T10:21:53.236Z"
   },
   {
    "duration": 8,
    "start_time": "2022-08-19T10:21:53.330Z"
   },
   {
    "duration": 16,
    "start_time": "2022-08-19T10:21:53.339Z"
   },
   {
    "duration": 19,
    "start_time": "2022-08-19T10:21:53.356Z"
   },
   {
    "duration": 15,
    "start_time": "2022-08-19T10:21:53.377Z"
   },
   {
    "duration": 12,
    "start_time": "2022-08-19T10:21:53.394Z"
   },
   {
    "duration": 11,
    "start_time": "2022-08-19T10:21:53.408Z"
   },
   {
    "duration": 17,
    "start_time": "2022-08-19T10:21:53.421Z"
   },
   {
    "duration": 9,
    "start_time": "2022-08-19T10:21:53.440Z"
   },
   {
    "duration": 10,
    "start_time": "2022-08-19T10:21:53.450Z"
   },
   {
    "duration": 24,
    "start_time": "2022-08-19T10:21:53.462Z"
   },
   {
    "duration": 14,
    "start_time": "2022-08-19T10:21:53.488Z"
   },
   {
    "duration": 17,
    "start_time": "2022-08-19T10:21:53.504Z"
   },
   {
    "duration": 4,
    "start_time": "2022-08-19T10:21:53.522Z"
   },
   {
    "duration": 8,
    "start_time": "2022-08-19T10:21:53.528Z"
   },
   {
    "duration": 11,
    "start_time": "2022-08-19T10:21:53.538Z"
   },
   {
    "duration": 7,
    "start_time": "2022-08-19T10:21:53.550Z"
   },
   {
    "duration": 12,
    "start_time": "2022-08-19T10:21:53.558Z"
   },
   {
    "duration": 7,
    "start_time": "2022-08-19T10:21:53.571Z"
   },
   {
    "duration": 23,
    "start_time": "2022-08-19T10:21:53.579Z"
   },
   {
    "duration": 26,
    "start_time": "2022-08-19T10:21:53.604Z"
   },
   {
    "duration": 6,
    "start_time": "2022-08-19T10:21:53.631Z"
   },
   {
    "duration": 9,
    "start_time": "2022-08-19T10:21:53.638Z"
   },
   {
    "duration": 17,
    "start_time": "2022-08-19T10:21:53.651Z"
   },
   {
    "duration": 15,
    "start_time": "2022-08-19T10:21:53.670Z"
   },
   {
    "duration": 27,
    "start_time": "2022-08-19T10:21:53.687Z"
   },
   {
    "duration": 15,
    "start_time": "2022-08-19T10:21:53.715Z"
   },
   {
    "duration": 15,
    "start_time": "2022-08-19T10:21:53.731Z"
   },
   {
    "duration": 4,
    "start_time": "2022-08-19T10:21:53.747Z"
   },
   {
    "duration": 10,
    "start_time": "2022-08-19T10:21:53.752Z"
   },
   {
    "duration": 40,
    "start_time": "2022-08-19T10:21:53.764Z"
   },
   {
    "duration": 7,
    "start_time": "2022-08-19T10:21:53.805Z"
   },
   {
    "duration": 12,
    "start_time": "2022-08-19T10:21:53.814Z"
   },
   {
    "duration": 10,
    "start_time": "2022-08-19T10:21:53.827Z"
   },
   {
    "duration": 12,
    "start_time": "2022-08-19T10:21:53.839Z"
   },
   {
    "duration": 13,
    "start_time": "2022-08-19T10:21:53.853Z"
   },
   {
    "duration": 20,
    "start_time": "2022-08-19T10:21:53.867Z"
   },
   {
    "duration": 12,
    "start_time": "2022-08-19T10:21:53.889Z"
   },
   {
    "duration": 6,
    "start_time": "2022-08-19T10:21:53.903Z"
   },
   {
    "duration": 16,
    "start_time": "2022-08-19T10:21:53.910Z"
   },
   {
    "duration": 12,
    "start_time": "2022-08-19T10:21:53.928Z"
   },
   {
    "duration": 10,
    "start_time": "2022-08-19T10:21:53.942Z"
   },
   {
    "duration": 13,
    "start_time": "2022-08-19T10:21:53.954Z"
   },
   {
    "duration": 12,
    "start_time": "2022-08-19T10:21:53.969Z"
   },
   {
    "duration": 21,
    "start_time": "2022-08-19T10:21:53.982Z"
   },
   {
    "duration": 28,
    "start_time": "2022-08-19T10:21:54.005Z"
   },
   {
    "duration": 8,
    "start_time": "2022-08-19T10:21:54.035Z"
   },
   {
    "duration": 11,
    "start_time": "2022-08-19T10:21:54.044Z"
   },
   {
    "duration": 11,
    "start_time": "2022-08-19T10:21:54.057Z"
   },
   {
    "duration": 18,
    "start_time": "2022-08-19T10:21:54.070Z"
   },
   {
    "duration": 16,
    "start_time": "2022-08-19T10:21:54.100Z"
   },
   {
    "duration": 21,
    "start_time": "2022-08-19T10:21:54.118Z"
   },
   {
    "duration": 19,
    "start_time": "2022-08-19T10:21:54.140Z"
   },
   {
    "duration": 16,
    "start_time": "2022-08-19T10:21:54.161Z"
   },
   {
    "duration": 37,
    "start_time": "2022-08-19T10:21:54.178Z"
   },
   {
    "duration": 32,
    "start_time": "2022-08-19T10:21:54.216Z"
   },
   {
    "duration": 22,
    "start_time": "2022-08-19T10:21:54.250Z"
   },
   {
    "duration": 58,
    "start_time": "2022-08-19T10:21:54.273Z"
   },
   {
    "duration": 60,
    "start_time": "2022-08-19T10:21:54.332Z"
   },
   {
    "duration": 29,
    "start_time": "2022-08-19T10:21:54.394Z"
   },
   {
    "duration": 18,
    "start_time": "2022-08-19T10:21:54.425Z"
   },
   {
    "duration": 18,
    "start_time": "2022-08-19T10:21:54.445Z"
   },
   {
    "duration": 14,
    "start_time": "2022-08-19T10:21:54.465Z"
   },
   {
    "duration": 17,
    "start_time": "2022-08-19T10:21:54.480Z"
   },
   {
    "duration": 18,
    "start_time": "2022-08-19T10:21:54.499Z"
   },
   {
    "duration": 15,
    "start_time": "2022-08-19T10:21:54.519Z"
   },
   {
    "duration": 19,
    "start_time": "2022-08-19T10:21:54.536Z"
   },
   {
    "duration": 27,
    "start_time": "2022-08-19T10:21:54.556Z"
   },
   {
    "duration": 23,
    "start_time": "2022-08-19T10:21:54.585Z"
   },
   {
    "duration": 23,
    "start_time": "2022-08-19T10:21:54.611Z"
   },
   {
    "duration": 25,
    "start_time": "2022-08-19T10:21:54.636Z"
   },
   {
    "duration": 19,
    "start_time": "2022-08-19T10:21:54.662Z"
   },
   {
    "duration": 7,
    "start_time": "2022-08-19T10:21:54.683Z"
   },
   {
    "duration": 42,
    "start_time": "2022-08-19T10:21:54.692Z"
   },
   {
    "duration": 19,
    "start_time": "2022-08-19T10:21:54.736Z"
   },
   {
    "duration": 10,
    "start_time": "2022-08-19T10:21:54.756Z"
   },
   {
    "duration": 12,
    "start_time": "2022-08-19T10:21:54.767Z"
   },
   {
    "duration": 10,
    "start_time": "2022-08-19T10:21:54.784Z"
   },
   {
    "duration": 17,
    "start_time": "2022-08-19T10:21:54.796Z"
   },
   {
    "duration": 13,
    "start_time": "2022-08-19T10:21:54.815Z"
   },
   {
    "duration": 105,
    "start_time": "2022-08-19T10:21:54.829Z"
   },
   {
    "duration": 105,
    "start_time": "2022-08-19T10:21:54.936Z"
   },
   {
    "duration": 6,
    "start_time": "2022-08-19T10:21:55.043Z"
   },
   {
    "duration": 27,
    "start_time": "2022-08-19T10:21:55.050Z"
   },
   {
    "duration": 11,
    "start_time": "2022-08-19T10:21:55.079Z"
   },
   {
    "duration": 12,
    "start_time": "2022-08-19T10:21:55.091Z"
   },
   {
    "duration": 6,
    "start_time": "2022-08-19T10:21:55.104Z"
   },
   {
    "duration": 449,
    "start_time": "2022-08-19T10:21:55.111Z"
   },
   {
    "duration": 3,
    "start_time": "2022-08-19T10:21:55.562Z"
   },
   {
    "duration": 8,
    "start_time": "2022-08-19T10:21:55.566Z"
   },
   {
    "duration": 19,
    "start_time": "2022-08-19T10:21:55.576Z"
   },
   {
    "duration": 8,
    "start_time": "2022-08-19T10:21:55.597Z"
   },
   {
    "duration": 97,
    "start_time": "2022-08-19T10:21:55.608Z"
   },
   {
    "duration": 7,
    "start_time": "2022-08-19T10:21:55.707Z"
   },
   {
    "duration": 12,
    "start_time": "2022-08-19T10:21:55.716Z"
   },
   {
    "duration": 143,
    "start_time": "2022-08-19T10:21:55.730Z"
   },
   {
    "duration": 37523,
    "start_time": "2022-08-19T10:23:06.997Z"
   },
   {
    "duration": 606,
    "start_time": "2022-08-19T10:27:48.644Z"
   },
   {
    "duration": 70,
    "start_time": "2022-08-19T10:28:12.234Z"
   },
   {
    "duration": 202,
    "start_time": "2022-08-19T10:28:18.598Z"
   },
   {
    "duration": 159,
    "start_time": "2022-08-19T10:28:34.857Z"
   },
   {
    "duration": 156,
    "start_time": "2022-08-19T10:28:52.025Z"
   },
   {
    "duration": 166,
    "start_time": "2022-08-19T10:29:16.964Z"
   },
   {
    "duration": 394,
    "start_time": "2022-08-19T10:29:25.720Z"
   },
   {
    "duration": 159,
    "start_time": "2022-08-19T10:33:39.400Z"
   },
   {
    "duration": 968,
    "start_time": "2022-08-19T10:34:39.176Z"
   },
   {
    "duration": 111,
    "start_time": "2022-08-19T10:35:39.234Z"
   },
   {
    "duration": 131,
    "start_time": "2022-08-19T10:35:40.871Z"
   },
   {
    "duration": 173,
    "start_time": "2022-08-19T10:38:05.919Z"
   },
   {
    "duration": 120,
    "start_time": "2022-08-19T10:39:34.908Z"
   },
   {
    "duration": 143,
    "start_time": "2022-08-19T10:40:04.300Z"
   },
   {
    "duration": 137,
    "start_time": "2022-08-19T10:40:32.700Z"
   },
   {
    "duration": 8,
    "start_time": "2022-08-19T10:45:28.196Z"
   },
   {
    "duration": 25,
    "start_time": "2022-08-19T10:45:28.206Z"
   },
   {
    "duration": 8,
    "start_time": "2022-08-19T10:45:28.232Z"
   },
   {
    "duration": 66,
    "start_time": "2022-08-19T10:45:28.242Z"
   },
   {
    "duration": 34,
    "start_time": "2022-08-19T10:45:28.309Z"
   },
   {
    "duration": 15,
    "start_time": "2022-08-19T10:45:28.344Z"
   },
   {
    "duration": 40,
    "start_time": "2022-08-19T10:45:28.360Z"
   },
   {
    "duration": 19,
    "start_time": "2022-08-19T10:45:28.401Z"
   },
   {
    "duration": 19,
    "start_time": "2022-08-19T10:45:28.422Z"
   },
   {
    "duration": 9,
    "start_time": "2022-08-19T10:45:28.442Z"
   },
   {
    "duration": 8,
    "start_time": "2022-08-19T10:45:28.452Z"
   },
   {
    "duration": 8,
    "start_time": "2022-08-19T10:45:28.461Z"
   },
   {
    "duration": 33,
    "start_time": "2022-08-19T10:45:28.470Z"
   },
   {
    "duration": 116,
    "start_time": "2022-08-19T10:45:28.505Z"
   },
   {
    "duration": 120,
    "start_time": "2022-08-19T10:45:28.622Z"
   },
   {
    "duration": 138,
    "start_time": "2022-08-19T10:45:28.744Z"
   },
   {
    "duration": 133,
    "start_time": "2022-08-19T10:45:28.884Z"
   },
   {
    "duration": 134,
    "start_time": "2022-08-19T10:45:29.019Z"
   },
   {
    "duration": 10,
    "start_time": "2022-08-19T10:45:29.155Z"
   },
   {
    "duration": 17,
    "start_time": "2022-08-19T10:45:29.167Z"
   },
   {
    "duration": 123,
    "start_time": "2022-08-19T10:45:29.200Z"
   },
   {
    "duration": 123,
    "start_time": "2022-08-19T10:45:29.325Z"
   },
   {
    "duration": 126,
    "start_time": "2022-08-19T10:45:29.451Z"
   },
   {
    "duration": 122,
    "start_time": "2022-08-19T10:45:29.580Z"
   },
   {
    "duration": 132,
    "start_time": "2022-08-19T10:45:29.704Z"
   },
   {
    "duration": 130,
    "start_time": "2022-08-19T10:45:29.837Z"
   },
   {
    "duration": 14,
    "start_time": "2022-08-19T10:52:36.499Z"
   },
   {
    "duration": 13,
    "start_time": "2022-08-19T10:53:06.422Z"
   },
   {
    "duration": 146,
    "start_time": "2022-08-19T10:54:20.165Z"
   },
   {
    "duration": 38,
    "start_time": "2022-08-19T11:31:49.873Z"
   },
   {
    "duration": 37,
    "start_time": "2022-08-19T11:33:19.030Z"
   },
   {
    "duration": 32,
    "start_time": "2022-08-19T11:35:42.545Z"
   },
   {
    "duration": 31,
    "start_time": "2022-08-19T11:45:49.447Z"
   },
   {
    "duration": 22,
    "start_time": "2022-08-19T12:11:39.766Z"
   },
   {
    "duration": 47,
    "start_time": "2022-08-19T12:13:21.553Z"
   },
   {
    "duration": 16,
    "start_time": "2022-08-19T12:14:03.980Z"
   },
   {
    "duration": 17,
    "start_time": "2022-08-19T12:15:32.444Z"
   },
   {
    "duration": 18,
    "start_time": "2022-08-19T12:15:56.159Z"
   },
   {
    "duration": 15,
    "start_time": "2022-08-19T12:16:59.691Z"
   },
   {
    "duration": 56,
    "start_time": "2022-08-19T12:17:17.900Z"
   },
   {
    "duration": 18,
    "start_time": "2022-08-19T12:17:31.180Z"
   },
   {
    "duration": 14,
    "start_time": "2022-08-19T12:18:02.383Z"
   },
   {
    "duration": 98,
    "start_time": "2022-08-19T12:39:11.217Z"
   },
   {
    "duration": 123,
    "start_time": "2022-08-19T12:39:19.377Z"
   },
   {
    "duration": 9,
    "start_time": "2022-08-19T12:42:30.144Z"
   },
   {
    "duration": 121,
    "start_time": "2022-08-19T12:43:48.273Z"
   },
   {
    "duration": 124,
    "start_time": "2022-08-19T12:44:27.981Z"
   },
   {
    "duration": 141,
    "start_time": "2022-08-19T12:45:12.464Z"
   },
   {
    "duration": 143,
    "start_time": "2022-08-19T12:45:39.296Z"
   },
   {
    "duration": 9,
    "start_time": "2022-08-19T12:46:19.523Z"
   },
   {
    "duration": 9,
    "start_time": "2022-08-19T12:46:43.056Z"
   },
   {
    "duration": 8,
    "start_time": "2022-08-19T12:47:37.520Z"
   },
   {
    "duration": 10,
    "start_time": "2022-08-19T12:48:08.422Z"
   },
   {
    "duration": 9,
    "start_time": "2022-08-19T12:49:10.835Z"
   },
   {
    "duration": 672,
    "start_time": "2022-08-19T12:50:00.188Z"
   },
   {
    "duration": 86,
    "start_time": "2022-08-19T12:50:00.861Z"
   },
   {
    "duration": 20,
    "start_time": "2022-08-19T12:50:00.949Z"
   },
   {
    "duration": 37,
    "start_time": "2022-08-19T12:50:00.971Z"
   },
   {
    "duration": 52,
    "start_time": "2022-08-19T12:50:01.011Z"
   },
   {
    "duration": 9,
    "start_time": "2022-08-19T12:50:01.065Z"
   },
   {
    "duration": 31,
    "start_time": "2022-08-19T12:50:01.075Z"
   },
   {
    "duration": 33,
    "start_time": "2022-08-19T12:50:01.107Z"
   },
   {
    "duration": 14,
    "start_time": "2022-08-19T12:50:01.142Z"
   },
   {
    "duration": 16,
    "start_time": "2022-08-19T12:50:01.159Z"
   },
   {
    "duration": 26,
    "start_time": "2022-08-19T12:50:01.177Z"
   },
   {
    "duration": 30,
    "start_time": "2022-08-19T12:50:01.205Z"
   },
   {
    "duration": 21,
    "start_time": "2022-08-19T12:50:01.237Z"
   },
   {
    "duration": 27,
    "start_time": "2022-08-19T12:50:01.260Z"
   },
   {
    "duration": 31,
    "start_time": "2022-08-19T12:50:01.289Z"
   },
   {
    "duration": 25,
    "start_time": "2022-08-19T12:50:01.322Z"
   },
   {
    "duration": 37,
    "start_time": "2022-08-19T12:50:01.349Z"
   },
   {
    "duration": 10,
    "start_time": "2022-08-19T12:50:01.388Z"
   },
   {
    "duration": 29,
    "start_time": "2022-08-19T12:50:01.400Z"
   },
   {
    "duration": 69,
    "start_time": "2022-08-19T12:50:01.431Z"
   },
   {
    "duration": 73,
    "start_time": "2022-08-19T12:50:01.503Z"
   },
   {
    "duration": 24,
    "start_time": "2022-08-19T12:50:01.578Z"
   },
   {
    "duration": 28,
    "start_time": "2022-08-19T12:50:01.604Z"
   },
   {
    "duration": 22,
    "start_time": "2022-08-19T12:50:01.635Z"
   },
   {
    "duration": 13,
    "start_time": "2022-08-19T12:50:01.659Z"
   },
   {
    "duration": 17,
    "start_time": "2022-08-19T12:50:01.673Z"
   },
   {
    "duration": 22,
    "start_time": "2022-08-19T12:50:01.691Z"
   },
   {
    "duration": 19,
    "start_time": "2022-08-19T12:50:01.717Z"
   },
   {
    "duration": 17,
    "start_time": "2022-08-19T12:50:01.738Z"
   },
   {
    "duration": 58,
    "start_time": "2022-08-19T12:50:01.756Z"
   },
   {
    "duration": 22,
    "start_time": "2022-08-19T12:50:01.815Z"
   },
   {
    "duration": 27,
    "start_time": "2022-08-19T12:50:01.839Z"
   },
   {
    "duration": 3,
    "start_time": "2022-08-19T12:50:01.868Z"
   },
   {
    "duration": 8,
    "start_time": "2022-08-19T12:50:01.872Z"
   },
   {
    "duration": 52,
    "start_time": "2022-08-19T12:50:01.882Z"
   },
   {
    "duration": 11,
    "start_time": "2022-08-19T12:50:01.936Z"
   },
   {
    "duration": 22,
    "start_time": "2022-08-19T12:50:01.949Z"
   },
   {
    "duration": 25,
    "start_time": "2022-08-19T12:50:01.972Z"
   },
   {
    "duration": 14,
    "start_time": "2022-08-19T12:50:01.999Z"
   },
   {
    "duration": 24,
    "start_time": "2022-08-19T12:50:02.015Z"
   },
   {
    "duration": 12,
    "start_time": "2022-08-19T12:50:02.040Z"
   },
   {
    "duration": 8,
    "start_time": "2022-08-19T12:50:02.053Z"
   },
   {
    "duration": 13,
    "start_time": "2022-08-19T12:50:02.063Z"
   },
   {
    "duration": 25,
    "start_time": "2022-08-19T12:50:02.077Z"
   },
   {
    "duration": 11,
    "start_time": "2022-08-19T12:50:02.104Z"
   },
   {
    "duration": 8,
    "start_time": "2022-08-19T12:50:02.117Z"
   },
   {
    "duration": 32,
    "start_time": "2022-08-19T12:50:02.126Z"
   },
   {
    "duration": 8,
    "start_time": "2022-08-19T12:50:02.160Z"
   },
   {
    "duration": 15,
    "start_time": "2022-08-19T12:50:02.169Z"
   },
   {
    "duration": 34,
    "start_time": "2022-08-19T12:50:02.185Z"
   },
   {
    "duration": 7,
    "start_time": "2022-08-19T12:50:02.220Z"
   },
   {
    "duration": 24,
    "start_time": "2022-08-19T12:50:02.228Z"
   },
   {
    "duration": 10,
    "start_time": "2022-08-19T12:50:02.254Z"
   },
   {
    "duration": 19,
    "start_time": "2022-08-19T12:50:02.266Z"
   },
   {
    "duration": 21,
    "start_time": "2022-08-19T12:50:02.287Z"
   },
   {
    "duration": 30,
    "start_time": "2022-08-19T12:50:02.309Z"
   },
   {
    "duration": 18,
    "start_time": "2022-08-19T12:50:02.340Z"
   },
   {
    "duration": 13,
    "start_time": "2022-08-19T12:50:02.360Z"
   },
   {
    "duration": 23,
    "start_time": "2022-08-19T12:50:02.375Z"
   },
   {
    "duration": 29,
    "start_time": "2022-08-19T12:50:02.400Z"
   },
   {
    "duration": 19,
    "start_time": "2022-08-19T12:50:02.430Z"
   },
   {
    "duration": 10,
    "start_time": "2022-08-19T12:50:02.451Z"
   },
   {
    "duration": 39,
    "start_time": "2022-08-19T12:50:02.462Z"
   },
   {
    "duration": 15,
    "start_time": "2022-08-19T12:50:02.502Z"
   },
   {
    "duration": 6,
    "start_time": "2022-08-19T12:50:02.519Z"
   },
   {
    "duration": 6,
    "start_time": "2022-08-19T12:50:02.527Z"
   },
   {
    "duration": 7,
    "start_time": "2022-08-19T12:50:02.534Z"
   },
   {
    "duration": 8,
    "start_time": "2022-08-19T12:50:02.543Z"
   },
   {
    "duration": 11,
    "start_time": "2022-08-19T12:50:02.553Z"
   },
   {
    "duration": 8,
    "start_time": "2022-08-19T12:50:02.565Z"
   },
   {
    "duration": 31,
    "start_time": "2022-08-19T12:50:02.575Z"
   },
   {
    "duration": 10,
    "start_time": "2022-08-19T12:50:02.607Z"
   },
   {
    "duration": 11,
    "start_time": "2022-08-19T12:50:02.618Z"
   },
   {
    "duration": 5,
    "start_time": "2022-08-19T12:50:02.630Z"
   },
   {
    "duration": 5,
    "start_time": "2022-08-19T12:50:02.637Z"
   },
   {
    "duration": 9,
    "start_time": "2022-08-19T12:50:02.643Z"
   },
   {
    "duration": 5,
    "start_time": "2022-08-19T12:50:02.654Z"
   },
   {
    "duration": 41,
    "start_time": "2022-08-19T12:50:02.660Z"
   },
   {
    "duration": 13,
    "start_time": "2022-08-19T12:50:02.702Z"
   },
   {
    "duration": 8,
    "start_time": "2022-08-19T12:50:02.716Z"
   },
   {
    "duration": 8,
    "start_time": "2022-08-19T12:50:02.725Z"
   },
   {
    "duration": 8,
    "start_time": "2022-08-19T12:50:02.739Z"
   },
   {
    "duration": 12,
    "start_time": "2022-08-19T12:50:02.748Z"
   },
   {
    "duration": 11,
    "start_time": "2022-08-19T12:50:02.762Z"
   },
   {
    "duration": 114,
    "start_time": "2022-08-19T12:50:02.774Z"
   },
   {
    "duration": 98,
    "start_time": "2022-08-19T12:50:02.889Z"
   },
   {
    "duration": 14,
    "start_time": "2022-08-19T12:50:02.989Z"
   },
   {
    "duration": 43,
    "start_time": "2022-08-19T12:50:03.005Z"
   },
   {
    "duration": 22,
    "start_time": "2022-08-19T12:50:03.049Z"
   },
   {
    "duration": 10,
    "start_time": "2022-08-19T12:50:03.072Z"
   },
   {
    "duration": 7,
    "start_time": "2022-08-19T12:50:03.084Z"
   },
   {
    "duration": 456,
    "start_time": "2022-08-19T12:50:03.092Z"
   },
   {
    "duration": 2,
    "start_time": "2022-08-19T12:50:03.549Z"
   },
   {
    "duration": 7,
    "start_time": "2022-08-19T12:50:03.553Z"
   },
   {
    "duration": 19,
    "start_time": "2022-08-19T12:50:03.562Z"
   },
   {
    "duration": 9,
    "start_time": "2022-08-19T12:50:03.583Z"
   },
   {
    "duration": 88,
    "start_time": "2022-08-19T12:50:03.600Z"
   },
   {
    "duration": 9,
    "start_time": "2022-08-19T12:50:03.700Z"
   },
   {
    "duration": 10,
    "start_time": "2022-08-19T12:50:03.711Z"
   },
   {
    "duration": 120,
    "start_time": "2022-08-19T12:50:03.723Z"
   },
   {
    "duration": 158,
    "start_time": "2022-08-19T12:50:03.846Z"
   },
   {
    "duration": 6,
    "start_time": "2022-08-19T12:50:04.006Z"
   },
   {
    "duration": 11,
    "start_time": "2022-08-19T12:50:04.014Z"
   },
   {
    "duration": 11,
    "start_time": "2022-08-19T12:50:04.026Z"
   },
   {
    "duration": 48,
    "start_time": "2022-08-19T12:50:04.038Z"
   },
   {
    "duration": 175,
    "start_time": "2022-08-19T12:50:04.087Z"
   },
   {
    "duration": 18,
    "start_time": "2022-08-19T12:50:04.264Z"
   },
   {
    "duration": 54,
    "start_time": "2022-08-19T12:50:04.284Z"
   },
   {
    "duration": 14,
    "start_time": "2022-08-19T12:50:04.340Z"
   },
   {
    "duration": 16,
    "start_time": "2022-08-19T12:50:04.356Z"
   },
   {
    "duration": 54,
    "start_time": "2022-08-19T12:50:04.373Z"
   },
   {
    "duration": 31,
    "start_time": "2022-08-19T12:50:04.429Z"
   },
   {
    "duration": 50,
    "start_time": "2022-08-19T12:50:04.462Z"
   },
   {
    "duration": 15,
    "start_time": "2022-08-19T12:50:04.513Z"
   },
   {
    "duration": 19,
    "start_time": "2022-08-19T12:50:04.530Z"
   },
   {
    "duration": 19,
    "start_time": "2022-08-19T12:50:04.551Z"
   },
   {
    "duration": 37,
    "start_time": "2022-08-19T12:50:04.572Z"
   },
   {
    "duration": 10,
    "start_time": "2022-08-19T12:50:04.612Z"
   },
   {
    "duration": 9,
    "start_time": "2022-08-19T12:50:04.623Z"
   },
   {
    "duration": 8,
    "start_time": "2022-08-19T12:50:04.634Z"
   },
   {
    "duration": 157,
    "start_time": "2022-08-19T12:50:04.644Z"
   },
   {
    "duration": 8,
    "start_time": "2022-08-19T12:50:04.803Z"
   },
   {
    "duration": 128,
    "start_time": "2022-08-19T12:50:04.813Z"
   },
   {
    "duration": 9,
    "start_time": "2022-08-19T12:50:04.942Z"
   },
   {
    "duration": 150,
    "start_time": "2022-08-19T12:50:04.952Z"
   },
   {
    "duration": 8,
    "start_time": "2022-08-19T12:50:05.104Z"
   },
   {
    "duration": 153,
    "start_time": "2022-08-19T12:50:05.114Z"
   },
   {
    "duration": 7,
    "start_time": "2022-08-19T12:50:05.268Z"
   },
   {
    "duration": 210,
    "start_time": "2022-08-19T12:50:05.277Z"
   },
   {
    "duration": 15,
    "start_time": "2022-08-19T12:50:05.488Z"
   },
   {
    "duration": 9,
    "start_time": "2022-08-19T12:50:05.505Z"
   },
   {
    "duration": 14,
    "start_time": "2022-08-19T12:50:05.515Z"
   },
   {
    "duration": 144,
    "start_time": "2022-08-19T12:50:05.530Z"
   },
   {
    "duration": 131,
    "start_time": "2022-08-19T12:50:05.676Z"
   },
   {
    "duration": 136,
    "start_time": "2022-08-19T12:50:05.809Z"
   },
   {
    "duration": 133,
    "start_time": "2022-08-19T12:50:05.946Z"
   },
   {
    "duration": 148,
    "start_time": "2022-08-19T12:50:06.081Z"
   },
   {
    "duration": 130,
    "start_time": "2022-08-19T12:50:06.230Z"
   },
   {
    "duration": 1110,
    "start_time": "2022-08-20T10:11:00.604Z"
   },
   {
    "duration": 393,
    "start_time": "2022-08-20T10:11:01.721Z"
   },
   {
    "duration": 21,
    "start_time": "2022-08-20T10:11:02.116Z"
   },
   {
    "duration": 18,
    "start_time": "2022-08-20T10:11:02.139Z"
   },
   {
    "duration": 142,
    "start_time": "2022-08-20T10:11:02.159Z"
   },
   {
    "duration": 12,
    "start_time": "2022-08-20T10:11:02.307Z"
   },
   {
    "duration": 16,
    "start_time": "2022-08-20T10:11:02.320Z"
   },
   {
    "duration": 22,
    "start_time": "2022-08-20T10:11:02.338Z"
   },
   {
    "duration": 15,
    "start_time": "2022-08-20T10:11:02.362Z"
   },
   {
    "duration": 36,
    "start_time": "2022-08-20T10:11:02.382Z"
   },
   {
    "duration": 13,
    "start_time": "2022-08-20T10:11:02.420Z"
   },
   {
    "duration": 18,
    "start_time": "2022-08-20T10:11:02.435Z"
   },
   {
    "duration": 8,
    "start_time": "2022-08-20T10:11:02.455Z"
   },
   {
    "duration": 62,
    "start_time": "2022-08-20T10:11:02.465Z"
   },
   {
    "duration": 26,
    "start_time": "2022-08-20T10:11:02.529Z"
   },
   {
    "duration": 20,
    "start_time": "2022-08-20T10:11:02.556Z"
   },
   {
    "duration": 57,
    "start_time": "2022-08-20T10:11:02.578Z"
   },
   {
    "duration": 8,
    "start_time": "2022-08-20T10:11:02.637Z"
   },
   {
    "duration": 11,
    "start_time": "2022-08-20T10:11:02.647Z"
   },
   {
    "duration": 7,
    "start_time": "2022-08-20T10:11:02.659Z"
   },
   {
    "duration": 35,
    "start_time": "2022-08-20T10:11:02.676Z"
   },
   {
    "duration": 13,
    "start_time": "2022-08-20T10:11:02.713Z"
   },
   {
    "duration": 10,
    "start_time": "2022-08-20T10:11:02.728Z"
   },
   {
    "duration": 9,
    "start_time": "2022-08-20T10:11:02.739Z"
   },
   {
    "duration": 11,
    "start_time": "2022-08-20T10:11:02.749Z"
   },
   {
    "duration": 13,
    "start_time": "2022-08-20T10:11:02.762Z"
   },
   {
    "duration": 45,
    "start_time": "2022-08-20T10:11:02.777Z"
   },
   {
    "duration": 20,
    "start_time": "2022-08-20T10:11:02.827Z"
   },
   {
    "duration": 31,
    "start_time": "2022-08-20T10:11:02.849Z"
   },
   {
    "duration": 31,
    "start_time": "2022-08-20T10:11:02.888Z"
   },
   {
    "duration": 20,
    "start_time": "2022-08-20T10:11:02.921Z"
   },
   {
    "duration": 42,
    "start_time": "2022-08-20T10:11:02.944Z"
   },
   {
    "duration": 4,
    "start_time": "2022-08-20T10:11:02.998Z"
   },
   {
    "duration": 11,
    "start_time": "2022-08-20T10:11:03.004Z"
   },
   {
    "duration": 20,
    "start_time": "2022-08-20T10:11:03.017Z"
   },
   {
    "duration": 8,
    "start_time": "2022-08-20T10:11:03.039Z"
   },
   {
    "duration": 9,
    "start_time": "2022-08-20T10:11:03.049Z"
   },
   {
    "duration": 6,
    "start_time": "2022-08-20T10:11:03.060Z"
   },
   {
    "duration": 54,
    "start_time": "2022-08-20T10:11:03.068Z"
   },
   {
    "duration": 9,
    "start_time": "2022-08-20T10:11:03.124Z"
   },
   {
    "duration": 8,
    "start_time": "2022-08-20T10:11:03.134Z"
   },
   {
    "duration": 5,
    "start_time": "2022-08-20T10:11:03.144Z"
   },
   {
    "duration": 7,
    "start_time": "2022-08-20T10:11:03.151Z"
   },
   {
    "duration": 15,
    "start_time": "2022-08-20T10:11:03.159Z"
   },
   {
    "duration": 42,
    "start_time": "2022-08-20T10:11:03.179Z"
   },
   {
    "duration": 6,
    "start_time": "2022-08-20T10:11:03.223Z"
   },
   {
    "duration": 7,
    "start_time": "2022-08-20T10:11:03.230Z"
   },
   {
    "duration": 6,
    "start_time": "2022-08-20T10:11:03.240Z"
   },
   {
    "duration": 7,
    "start_time": "2022-08-20T10:11:03.248Z"
   },
   {
    "duration": 57,
    "start_time": "2022-08-20T10:11:03.258Z"
   },
   {
    "duration": 8,
    "start_time": "2022-08-20T10:11:03.317Z"
   },
   {
    "duration": 7,
    "start_time": "2022-08-20T10:11:03.327Z"
   },
   {
    "duration": 12,
    "start_time": "2022-08-20T10:11:03.336Z"
   },
   {
    "duration": 51,
    "start_time": "2022-08-20T10:11:03.349Z"
   },
   {
    "duration": 31,
    "start_time": "2022-08-20T10:11:03.402Z"
   },
   {
    "duration": 19,
    "start_time": "2022-08-20T10:11:03.435Z"
   },
   {
    "duration": 22,
    "start_time": "2022-08-20T10:11:03.456Z"
   },
   {
    "duration": 53,
    "start_time": "2022-08-20T10:11:03.480Z"
   },
   {
    "duration": 25,
    "start_time": "2022-08-20T10:11:03.535Z"
   },
   {
    "duration": 59,
    "start_time": "2022-08-20T10:11:03.562Z"
   },
   {
    "duration": 23,
    "start_time": "2022-08-20T10:11:03.624Z"
   },
   {
    "duration": 21,
    "start_time": "2022-08-20T10:11:03.649Z"
   },
   {
    "duration": 31,
    "start_time": "2022-08-20T10:11:03.672Z"
   },
   {
    "duration": 32,
    "start_time": "2022-08-20T10:11:03.707Z"
   },
   {
    "duration": 6,
    "start_time": "2022-08-20T10:11:03.741Z"
   },
   {
    "duration": 7,
    "start_time": "2022-08-20T10:11:03.749Z"
   },
   {
    "duration": 7,
    "start_time": "2022-08-20T10:11:03.758Z"
   },
   {
    "duration": 45,
    "start_time": "2022-08-20T10:11:03.771Z"
   },
   {
    "duration": 6,
    "start_time": "2022-08-20T10:11:03.818Z"
   },
   {
    "duration": 6,
    "start_time": "2022-08-20T10:11:03.826Z"
   },
   {
    "duration": 11,
    "start_time": "2022-08-20T10:11:03.833Z"
   },
   {
    "duration": 6,
    "start_time": "2022-08-20T10:11:03.846Z"
   },
   {
    "duration": 12,
    "start_time": "2022-08-20T10:11:03.854Z"
   },
   {
    "duration": 54,
    "start_time": "2022-08-20T10:11:03.867Z"
   },
   {
    "duration": 5,
    "start_time": "2022-08-20T10:11:03.923Z"
   },
   {
    "duration": 10,
    "start_time": "2022-08-20T10:11:03.929Z"
   },
   {
    "duration": 9,
    "start_time": "2022-08-20T10:11:03.941Z"
   },
   {
    "duration": 46,
    "start_time": "2022-08-20T10:11:03.952Z"
   },
   {
    "duration": 33,
    "start_time": "2022-08-20T10:11:04.008Z"
   },
   {
    "duration": 6,
    "start_time": "2022-08-20T10:11:04.043Z"
   },
   {
    "duration": 11,
    "start_time": "2022-08-20T10:11:04.051Z"
   },
   {
    "duration": 12,
    "start_time": "2022-08-20T10:11:04.069Z"
   },
   {
    "duration": 46,
    "start_time": "2022-08-20T10:11:04.083Z"
   },
   {
    "duration": 13,
    "start_time": "2022-08-20T10:11:04.131Z"
   },
   {
    "duration": 135,
    "start_time": "2022-08-20T10:11:04.145Z"
   },
   {
    "duration": 141,
    "start_time": "2022-08-20T10:11:04.282Z"
   },
   {
    "duration": 6,
    "start_time": "2022-08-20T10:11:04.425Z"
   },
   {
    "duration": 22,
    "start_time": "2022-08-20T10:11:04.433Z"
   },
   {
    "duration": 40,
    "start_time": "2022-08-20T10:11:04.482Z"
   },
   {
    "duration": 7,
    "start_time": "2022-08-20T10:11:04.524Z"
   },
   {
    "duration": 4,
    "start_time": "2022-08-20T10:11:04.533Z"
   },
   {
    "duration": 632,
    "start_time": "2022-08-20T10:11:04.538Z"
   },
   {
    "duration": 6,
    "start_time": "2022-08-20T10:11:05.172Z"
   },
   {
    "duration": 11,
    "start_time": "2022-08-20T10:11:05.180Z"
   },
   {
    "duration": 34,
    "start_time": "2022-08-20T10:11:05.193Z"
   },
   {
    "duration": 8,
    "start_time": "2022-08-20T10:11:05.229Z"
   },
   {
    "duration": 113,
    "start_time": "2022-08-20T10:11:05.238Z"
   },
   {
    "duration": 45,
    "start_time": "2022-08-20T10:11:05.353Z"
   },
   {
    "duration": 30,
    "start_time": "2022-08-20T10:11:05.399Z"
   },
   {
    "duration": 155,
    "start_time": "2022-08-20T10:11:05.430Z"
   },
   {
    "duration": 198,
    "start_time": "2022-08-20T10:11:05.595Z"
   },
   {
    "duration": 12,
    "start_time": "2022-08-20T10:11:05.795Z"
   },
   {
    "duration": 19,
    "start_time": "2022-08-20T10:11:05.811Z"
   },
   {
    "duration": 7,
    "start_time": "2022-08-20T10:11:05.832Z"
   },
   {
    "duration": 67,
    "start_time": "2022-08-20T10:11:05.841Z"
   },
   {
    "duration": 209,
    "start_time": "2022-08-20T10:11:05.913Z"
   },
   {
    "duration": 24,
    "start_time": "2022-08-20T10:11:06.124Z"
   },
   {
    "duration": 71,
    "start_time": "2022-08-20T10:11:06.150Z"
   },
   {
    "duration": 18,
    "start_time": "2022-08-20T10:11:06.223Z"
   },
   {
    "duration": 40,
    "start_time": "2022-08-20T10:11:06.243Z"
   },
   {
    "duration": 64,
    "start_time": "2022-08-20T10:11:06.295Z"
   },
   {
    "duration": 52,
    "start_time": "2022-08-20T10:11:06.362Z"
   },
   {
    "duration": 42,
    "start_time": "2022-08-20T10:11:06.416Z"
   },
   {
    "duration": 19,
    "start_time": "2022-08-20T10:11:06.472Z"
   },
   {
    "duration": 89,
    "start_time": "2022-08-20T10:11:06.493Z"
   },
   {
    "duration": 68,
    "start_time": "2022-08-20T10:11:06.584Z"
   },
   {
    "duration": 12,
    "start_time": "2022-08-20T10:11:06.654Z"
   },
   {
    "duration": 69,
    "start_time": "2022-08-20T10:11:06.669Z"
   },
   {
    "duration": 29,
    "start_time": "2022-08-20T10:11:06.740Z"
   },
   {
    "duration": 38,
    "start_time": "2022-08-20T10:11:06.773Z"
   },
   {
    "duration": 194,
    "start_time": "2022-08-20T10:11:06.819Z"
   },
   {
    "duration": 14,
    "start_time": "2022-08-20T10:11:07.020Z"
   },
   {
    "duration": 191,
    "start_time": "2022-08-20T10:11:07.036Z"
   },
   {
    "duration": 12,
    "start_time": "2022-08-20T10:11:07.229Z"
   },
   {
    "duration": 179,
    "start_time": "2022-08-20T10:11:07.244Z"
   },
   {
    "duration": 9,
    "start_time": "2022-08-20T10:11:07.425Z"
   },
   {
    "duration": 211,
    "start_time": "2022-08-20T10:11:07.435Z"
   },
   {
    "duration": 8,
    "start_time": "2022-08-20T10:11:07.648Z"
   },
   {
    "duration": 193,
    "start_time": "2022-08-20T10:11:07.668Z"
   },
   {
    "duration": 29,
    "start_time": "2022-08-20T10:11:07.874Z"
   },
   {
    "duration": 21,
    "start_time": "2022-08-20T10:11:07.913Z"
   },
   {
    "duration": 20,
    "start_time": "2022-08-20T10:11:07.936Z"
   },
   {
    "duration": 276,
    "start_time": "2022-08-20T10:11:07.958Z"
   },
   {
    "duration": 183,
    "start_time": "2022-08-20T10:11:08.236Z"
   },
   {
    "duration": 165,
    "start_time": "2022-08-20T10:11:08.421Z"
   },
   {
    "duration": 162,
    "start_time": "2022-08-20T10:11:08.588Z"
   },
   {
    "duration": 180,
    "start_time": "2022-08-20T10:11:08.752Z"
   },
   {
    "duration": 183,
    "start_time": "2022-08-20T10:11:08.934Z"
   },
   {
    "duration": 5,
    "start_time": "2022-08-20T10:13:43.207Z"
   },
   {
    "duration": 6,
    "start_time": "2022-08-20T10:14:38.354Z"
   },
   {
    "duration": 49,
    "start_time": "2022-08-20T10:14:43.796Z"
   },
   {
    "duration": 97,
    "start_time": "2022-08-20T10:15:03.329Z"
   },
   {
    "duration": 373,
    "start_time": "2022-08-20T10:15:20.345Z"
   },
   {
    "duration": 13,
    "start_time": "2022-08-20T10:15:22.323Z"
   },
   {
    "duration": 54,
    "start_time": "2022-08-20T10:15:56.889Z"
   },
   {
    "duration": 346,
    "start_time": "2022-08-20T10:16:15.050Z"
   },
   {
    "duration": 57,
    "start_time": "2022-08-20T10:16:17.765Z"
   },
   {
    "duration": 14,
    "start_time": "2022-08-20T10:16:51.926Z"
   },
   {
    "duration": 18,
    "start_time": "2022-08-20T10:16:58.025Z"
   },
   {
    "duration": 35,
    "start_time": "2022-08-20T10:19:12.188Z"
   },
   {
    "duration": 16,
    "start_time": "2022-08-20T10:19:24.046Z"
   },
   {
    "duration": 30,
    "start_time": "2022-08-20T10:19:36.409Z"
   },
   {
    "duration": 26,
    "start_time": "2022-08-20T10:20:26.400Z"
   },
   {
    "duration": 27,
    "start_time": "2022-08-20T10:20:45.392Z"
   },
   {
    "duration": 13,
    "start_time": "2022-08-20T10:23:36.765Z"
   },
   {
    "duration": 68,
    "start_time": "2022-08-20T10:23:43.740Z"
   },
   {
    "duration": 23,
    "start_time": "2022-08-20T10:23:47.732Z"
   },
   {
    "duration": 5,
    "start_time": "2022-08-20T10:23:50.128Z"
   },
   {
    "duration": 24,
    "start_time": "2022-08-20T10:24:10.257Z"
   },
   {
    "duration": 45,
    "start_time": "2022-08-20T10:25:23.801Z"
   },
   {
    "duration": 26,
    "start_time": "2022-08-20T10:25:44.802Z"
   },
   {
    "duration": 29,
    "start_time": "2022-08-20T10:25:52.565Z"
   },
   {
    "duration": 30,
    "start_time": "2022-08-20T10:25:56.415Z"
   },
   {
    "duration": 22,
    "start_time": "2022-08-20T10:26:35.904Z"
   },
   {
    "duration": 41,
    "start_time": "2022-08-20T10:27:53.458Z"
   }
  ],
  "colab": {
   "name": "DA+. Сборный проект 1. Шаблон (1).ipynb",
   "provenance": []
  },
  "kernelspec": {
   "display_name": "Python 3 (ipykernel)",
   "language": "python",
   "name": "python3"
  },
  "language_info": {
   "codemirror_mode": {
    "name": "ipython",
    "version": 3
   },
   "file_extension": ".py",
   "mimetype": "text/x-python",
   "name": "python",
   "nbconvert_exporter": "python",
   "pygments_lexer": "ipython3",
   "version": "3.9.12"
  },
  "toc": {
   "base_numbering": 1,
   "nav_menu": {},
   "number_sections": true,
   "sideBar": true,
   "skip_h1_title": true,
   "title_cell": "Table of Contents",
   "title_sidebar": "Contents",
   "toc_cell": false,
   "toc_position": {
    "height": "calc(100% - 180px)",
    "left": "10px",
    "top": "150px",
    "width": "375.391px"
   },
   "toc_section_display": true,
   "toc_window_display": false
  }
 },
 "nbformat": 4,
 "nbformat_minor": 1
}
